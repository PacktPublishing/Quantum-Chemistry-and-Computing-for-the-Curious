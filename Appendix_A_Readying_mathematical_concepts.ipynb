{
  "nbformat": 4,
  "nbformat_minor": 0,
  "metadata": {
    "colab": {
      "name": "Appendix_A_Readying_mathematical_concepts.ipynb",
      "provenance": [],
      "collapsed_sections": [],
      "authorship_tag": "ABX9TyOcKCis6d+uK4pVb/8VnEew"
    },
    "kernelspec": {
      "name": "python3",
      "display_name": "Python 3"
    },
    "language_info": {
      "name": "python"
    }
  },
  "cells": [
    {
      "cell_type": "markdown",
      "source": [
        "$$\n",
        "\\text{This is the cutdown companion Jupyter Notebook of Appendix A. Readying mathematical concepts of the book titled:}$$\n",
        "$$\\text{ Quantum Chemistry and Computing for the Curious: Illustrated with Python and Qiskit® code and with ISBN: 978-1-80323-859-3.}$$"
      ],
      "metadata": {
        "id": "G5doYRQ5NEHX"
      }
    },
    {
      "cell_type": "markdown",
      "source": [
        "The following MIT license only applies to the code, and not to the text and images. The authors are not granting a license to replicate or reuse the text and images in the companion Jupyter notebook.\n",
        "\n",
        "# MIT License\n",
        "\n",
        "Copyright (c) 2022 Packt\n",
        "\n",
        "Permission is hereby granted, free of charge, to any person obtaining a copy\n",
        "of this software and associated documentation files (the \"Software\"), to deal\n",
        "in the Software without restriction, including without limitation the rights\n",
        "to use, copy, modify, merge, publish, distribute, sublicense, and/or sell\n",
        "copies of the Software, and to permit persons to whom the Software is\n",
        "furnished to do so, subject to the following conditions:\n",
        "\n",
        "The above copyright notice and this permission notice shall be included in all\n",
        "copies or substantial portions of the Software.\n",
        "\n",
        "THE SOFTWARE IS PROVIDED \"AS IS\", WITHOUT WARRANTY OF ANY KIND, EXPRESS OR\n",
        "IMPLIED, INCLUDING BUT NOT LIMITED TO THE WARRANTIES OF MERCHANTABILITY,\n",
        "FITNESS FOR A PARTICULAR PURPOSE AND NONINFRINGEMENT. IN NO EVENT SHALL THE\n",
        "AUTHORS OR COPYRIGHT HOLDERS BE LIABLE FOR ANY CLAIM, DAMAGES OR OTHER\n",
        "LIABILITY, WHETHER IN AN ACTION OF CONTRACT, TORT OR OTHERWISE, ARISING FROM,\n",
        "OUT OF OR IN CONNECTION WITH THE SOFTWARE OR THE USE OR OTHER DEALINGS IN THE\n",
        "SOFTWARE."
      ],
      "metadata": {
        "id": "zfvF0_5uIplY"
      }
    },
    {
      "cell_type": "markdown",
      "metadata": {
        "id": "zStRIEt49BvK"
      },
      "source": [
        "# Appendix A – Readying mathematical concepts\n"
      ]
    },
    {
      "cell_type": "markdown",
      "metadata": {
        "id": "uQbyEBeJ9H8z"
      },
      "source": [
        "## Installing NumPy, SimPy, and Qiskit and importing various modules\n",
        "Install NumPy with the following command:"
      ]
    },
    {
      "cell_type": "code",
      "metadata": {
        "id": "yOWQ7HRq9DrN"
      },
      "source": [
        "# pip install numpy"
      ],
      "execution_count": null,
      "outputs": []
    },
    {
      "cell_type": "markdown",
      "metadata": {
        "id": "GxYq2aAx9Vdp"
      },
      "source": [
        "Install SimPy with the following command:"
      ]
    },
    {
      "cell_type": "code",
      "metadata": {
        "id": "FdfxrSns9exg",
        "colab": {
          "base_uri": "https://localhost:8080/"
        },
        "outputId": "5f0dd34f-2c79-4e48-eb05-e6228df8346a"
      },
      "source": [
        "pip install simpy"
      ],
      "execution_count": null,
      "outputs": [
        {
          "output_type": "stream",
          "name": "stdout",
          "text": [
            "Collecting simpy\n",
            "  Downloading simpy-4.0.1-py2.py3-none-any.whl (29 kB)\n",
            "Installing collected packages: simpy\n",
            "Successfully installed simpy-4.0.1\n"
          ]
        }
      ]
    },
    {
      "cell_type": "markdown",
      "metadata": {
        "id": "OfYFpz7Z9RRI"
      },
      "source": [
        "Install Qiskit with the following command:"
      ]
    },
    {
      "cell_type": "code",
      "metadata": {
        "id": "GB3bBR-M9nau"
      },
      "source": [
        "pip install qiskit"
      ],
      "execution_count": null,
      "outputs": []
    },
    {
      "cell_type": "markdown",
      "metadata": {
        "id": "Yz9PY3139y8J"
      },
      "source": [
        "### Importing NumPy and a function which returns a LaTeX representation of a complex array\n",
        "Importing numPy"
      ]
    },
    {
      "cell_type": "code",
      "metadata": {
        "id": "hWJzdrJL92QD"
      },
      "source": [
        "import numpy as np"
      ],
      "execution_count": null,
      "outputs": []
    },
    {
      "cell_type": "markdown",
      "metadata": {
        "id": "iaQN7O7596eP"
      },
      "source": [
        "Importing array_to_latex function which returns a Latex representation of a complex array with dimension 1 or 2."
      ]
    },
    {
      "cell_type": "code",
      "metadata": {
        "id": "g6EqK_H898GO"
      },
      "source": [
        "from qiskit.visualization import array_to_latex"
      ],
      "execution_count": null,
      "outputs": []
    },
    {
      "cell_type": "markdown",
      "metadata": {
        "id": "vlpFQg2-uhDJ"
      },
      "source": [
        "# Linear algebra\n",
        "\n"
      ]
    },
    {
      "cell_type": "markdown",
      "metadata": {
        "id": "_Ado8GOL8xA2"
      },
      "source": [
        "## Complex numbers\n",
        "\n",
        "## Vector space"
      ]
    },
    {
      "cell_type": "code",
      "metadata": {
        "colab": {
          "base_uri": "https://localhost:8080/",
          "height": 57
        },
        "id": "Ah3xlqO986FZ",
        "outputId": "56aacc31-08bf-4b1c-f7ec-e6a80f9b26e7"
      },
      "source": [
        "x = np.array([[1j],\n",
        "             [2]])\n",
        "array_to_latex(x, prefix='x = ')"
      ],
      "execution_count": null,
      "outputs": [
        {
          "output_type": "execute_result",
          "data": {
            "text/plain": [
              "<IPython.core.display.Latex object>"
            ],
            "text/latex": "$$\nx = \n\\begin{bmatrix}\ni  \\\\\n 2  \\\\\n \\end{bmatrix}\n$$"
          },
          "metadata": {},
          "execution_count": 6
        }
      ]
    },
    {
      "cell_type": "code",
      "metadata": {
        "colab": {
          "base_uri": "https://localhost:8080/",
          "height": 75
        },
        "id": "ybVYVNbo-Wv7",
        "outputId": "8eeb7584-0aac-482c-95a6-798f7ba724c8"
      },
      "source": [
        "α = 1j\n",
        "print('α =', α)\n",
        "y = α*x\n",
        "array_to_latex(y, prefix=' y = α*x =')"
      ],
      "execution_count": null,
      "outputs": [
        {
          "output_type": "stream",
          "name": "stdout",
          "text": [
            "α = 1j\n"
          ]
        },
        {
          "output_type": "execute_result",
          "data": {
            "text/plain": [
              "<IPython.core.display.Latex object>"
            ],
            "text/latex": "$$\n y = α*x =\n\\begin{bmatrix}\n-1  \\\\\n 2i  \\\\\n \\end{bmatrix}\n$$"
          },
          "metadata": {},
          "execution_count": 7
        }
      ]
    },
    {
      "cell_type": "markdown",
      "metadata": {
        "id": "-gKaN-1U-eyD"
      },
      "source": [
        "## Linear operators"
      ]
    },
    {
      "cell_type": "markdown",
      "metadata": {
        "id": "Ujrov3_f-jrU"
      },
      "source": [
        "## Matrices"
      ]
    },
    {
      "cell_type": "markdown",
      "metadata": {
        "id": "OYa95yYLuwW0"
      },
      "source": [
        "## Eigenvalues and eigenvectors"
      ]
    },
    {
      "cell_type": "markdown",
      "metadata": {
        "id": "5-yVQzGt_Ss1"
      },
      "source": [
        "## Vector and matrix transpose, conjugate, and conjugate transpose"
      ]
    },
    {
      "cell_type": "code",
      "metadata": {
        "colab": {
          "base_uri": "https://localhost:8080/",
          "height": 38
        },
        "id": "YN0uf43u_uMj",
        "outputId": "3e8728ce-155b-46af-ddd8-331bee3a9220"
      },
      "source": [
        "array_to_latex(x.transpose(), prefix='x^T = ')"
      ],
      "execution_count": null,
      "outputs": [
        {
          "output_type": "execute_result",
          "data": {
            "text/plain": [
              "<IPython.core.display.Latex object>"
            ],
            "text/latex": "$$\nx^T = \n\\begin{bmatrix}\ni & 2  \\\\\n \\end{bmatrix}\n$$"
          },
          "metadata": {},
          "execution_count": 8
        }
      ]
    },
    {
      "cell_type": "code",
      "metadata": {
        "colab": {
          "base_uri": "https://localhost:8080/",
          "height": 57
        },
        "id": "EnrQ19cP5w9g",
        "outputId": "258694fa-1f8a-494b-f6fb-b8f6ba1e36a0"
      },
      "source": [
        "array_to_latex(x.conjugate(), prefix='x^* = ')"
      ],
      "execution_count": null,
      "outputs": [
        {
          "output_type": "execute_result",
          "data": {
            "text/plain": [
              "<IPython.core.display.Latex object>"
            ],
            "text/latex": "$$\nx^* = \n\\begin{bmatrix}\n-i  \\\\\n 2  \\\\\n \\end{bmatrix}\n$$"
          },
          "metadata": {},
          "execution_count": 9
        }
      ]
    },
    {
      "cell_type": "code",
      "metadata": {
        "colab": {
          "base_uri": "https://localhost:8080/",
          "height": 38
        },
        "id": "ZPZnHqbi_qbu",
        "outputId": "0aed9164-f732-4bb8-982b-1924dd265fbd"
      },
      "source": [
        "array_to_latex(x.conjugate().transpose(), prefix='x^\\dagger = (x^*)^T = ')"
      ],
      "execution_count": null,
      "outputs": [
        {
          "output_type": "execute_result",
          "data": {
            "text/plain": [
              "<IPython.core.display.Latex object>"
            ],
            "text/latex": "$$\nx^\\dagger = (x^*)^T = \n\\begin{bmatrix}\n-i & 2  \\\\\n \\end{bmatrix}\n$$"
          },
          "metadata": {},
          "execution_count": 10
        }
      ]
    },
    {
      "cell_type": "markdown",
      "metadata": {
        "id": "zGk5Ac4OAFcE"
      },
      "source": [
        "## Dirac’s notation"
      ]
    },
    {
      "cell_type": "markdown",
      "metadata": {
        "id": "Zrgdg_TgAJRW"
      },
      "source": [
        "## Inner product of two vectors"
      ]
    },
    {
      "cell_type": "code",
      "metadata": {
        "colab": {
          "base_uri": "https://localhost:8080/",
          "height": 57
        },
        "id": "ZfdzDrOLAGMQ",
        "outputId": "1abdc403-0a25-411d-c0f4-423d3e305bef"
      },
      "source": [
        "array_to_latex(x, prefix=' x = ')"
      ],
      "execution_count": null,
      "outputs": [
        {
          "output_type": "execute_result",
          "data": {
            "text/plain": [
              "<IPython.core.display.Latex object>"
            ],
            "text/latex": "$$\n x = \n\\begin{bmatrix}\ni  \\\\\n 2  \\\\\n \\end{bmatrix}\n$$"
          },
          "metadata": {},
          "execution_count": 11
        }
      ]
    },
    {
      "cell_type": "code",
      "metadata": {
        "colab": {
          "base_uri": "https://localhost:8080/",
          "height": 57
        },
        "id": "6B_PbRB5aBBs",
        "outputId": "403b2f36-0bc4-41c0-f829-ee4f0cecb965"
      },
      "source": [
        "array_to_latex(y, prefix=' y = ')"
      ],
      "execution_count": null,
      "outputs": [
        {
          "output_type": "execute_result",
          "data": {
            "text/plain": [
              "<IPython.core.display.Latex object>"
            ],
            "text/latex": "$$\n y = \n\\begin{bmatrix}\n-1  \\\\\n 2i  \\\\\n \\end{bmatrix}\n$$"
          },
          "metadata": {},
          "execution_count": 12
        }
      ]
    },
    {
      "cell_type": "code",
      "metadata": {
        "colab": {
          "base_uri": "https://localhost:8080/"
        },
        "id": "2srzbOGVAWlv",
        "outputId": "767f5a72-4775-4be0-ce78-027b1e2ca545"
      },
      "source": [
        "print(\"np.vdot(x, y) = \", np.vdot(x, y))"
      ],
      "execution_count": null,
      "outputs": [
        {
          "output_type": "stream",
          "name": "stdout",
          "text": [
            "np.vdot(x, y) =  5j\n"
          ]
        }
      ]
    },
    {
      "cell_type": "markdown",
      "metadata": {
        "id": "sArscordUK_k"
      },
      "source": [
        "## Norm of a vector"
      ]
    },
    {
      "cell_type": "code",
      "metadata": {
        "colab": {
          "base_uri": "https://localhost:8080/"
        },
        "id": "Wk3uYWRtAZpV",
        "outputId": "2aad0a38-d94f-4ce7-fd85-638b937d31bc"
      },
      "source": [
        "print(\"Norm of vector x: {:.3f}\".format(np.linalg.norm(x)))"
      ],
      "execution_count": null,
      "outputs": [
        {
          "output_type": "stream",
          "name": "stdout",
          "text": [
            "Norm of vector x: 2.236\n"
          ]
        }
      ]
    },
    {
      "cell_type": "markdown",
      "metadata": {
        "id": "H9vLBE7jUTaR"
      },
      "source": [
        "## Hilbert space"
      ]
    },
    {
      "cell_type": "markdown",
      "metadata": {
        "id": "GFJ_Z2BiUYcT"
      },
      "source": [
        "## Matrix multiplication with a vector"
      ]
    },
    {
      "cell_type": "code",
      "metadata": {
        "colab": {
          "base_uri": "https://localhost:8080/",
          "height": 57
        },
        "id": "ol5RJIwrwUFV",
        "outputId": "a32487ab-84f2-4ec8-8f52-0813e172e233"
      },
      "source": [
        "A = np.array([[1, 2],\n",
        "              [3, 1j]])\n",
        "array_to_latex(A, prefix='A = ')"
      ],
      "execution_count": null,
      "outputs": [
        {
          "output_type": "execute_result",
          "data": {
            "text/plain": [
              "<IPython.core.display.Latex object>"
            ],
            "text/latex": "$$\nA = \n\\begin{bmatrix}\n1 & 2  \\\\\n 3 & i  \\\\\n \\end{bmatrix}\n$$"
          },
          "metadata": {},
          "execution_count": 15
        }
      ]
    },
    {
      "cell_type": "code",
      "metadata": {
        "colab": {
          "base_uri": "https://localhost:8080/",
          "height": 57
        },
        "id": "dMJ-urT1waXJ",
        "outputId": "96998114-2d9b-4dfe-8a11-aa854ae2cd11"
      },
      "source": [
        "a = np.array([[1],\n",
        "             [1]])\n",
        "array_to_latex(a, prefix='a = ')"
      ],
      "execution_count": null,
      "outputs": [
        {
          "output_type": "execute_result",
          "data": {
            "text/plain": [
              "<IPython.core.display.Latex object>"
            ],
            "text/latex": "$$\na = \n\\begin{bmatrix}\n1  \\\\\n 1  \\\\\n \\end{bmatrix}\n$$"
          },
          "metadata": {},
          "execution_count": 16
        }
      ]
    },
    {
      "cell_type": "code",
      "metadata": {
        "colab": {
          "base_uri": "https://localhost:8080/",
          "height": 57
        },
        "id": "0oYEUH9fUuQl",
        "outputId": "00efdeee-16cd-4ffb-929c-a559734b579b"
      },
      "source": [
        "array_to_latex(A@a, prefix='A@a = ')"
      ],
      "execution_count": null,
      "outputs": [
        {
          "output_type": "execute_result",
          "data": {
            "text/plain": [
              "<IPython.core.display.Latex object>"
            ],
            "text/latex": "$$\nA@a = \n\\begin{bmatrix}\n3  \\\\\n 3 + i  \\\\\n \\end{bmatrix}\n$$"
          },
          "metadata": {},
          "execution_count": 17
        }
      ]
    },
    {
      "cell_type": "markdown",
      "metadata": {
        "id": "hKKrs342U6IB"
      },
      "source": [
        "## Matrix addition"
      ]
    },
    {
      "cell_type": "code",
      "metadata": {
        "colab": {
          "base_uri": "https://localhost:8080/",
          "height": 57
        },
        "id": "JH4bzqMNdngq",
        "outputId": "cd369f11-4478-46c0-d8e1-df67a1f8c15e"
      },
      "source": [
        "A = np.array([[1, 0],\n",
        "              [0, 1j]])\n",
        "array_to_latex(A, prefix='A = ')"
      ],
      "execution_count": null,
      "outputs": [
        {
          "output_type": "execute_result",
          "data": {
            "text/plain": [
              "<IPython.core.display.Latex object>"
            ],
            "text/latex": "$$\nA = \n\\begin{bmatrix}\n1 & 0  \\\\\n 0 & i  \\\\\n \\end{bmatrix}\n$$"
          },
          "metadata": {},
          "execution_count": 18
        }
      ]
    },
    {
      "cell_type": "code",
      "metadata": {
        "colab": {
          "base_uri": "https://localhost:8080/",
          "height": 57
        },
        "id": "gIM_sVCCduL5",
        "outputId": "e6aaf656-2849-4154-95e5-b555582666f5"
      },
      "source": [
        "B = np.array([[0, 1],\n",
        "              [1j, 0]])\n",
        "array_to_latex(B, prefix='B = ')"
      ],
      "execution_count": null,
      "outputs": [
        {
          "output_type": "execute_result",
          "data": {
            "text/plain": [
              "<IPython.core.display.Latex object>"
            ],
            "text/latex": "$$\nB = \n\\begin{bmatrix}\n0 & 1  \\\\\n i & 0  \\\\\n \\end{bmatrix}\n$$"
          },
          "metadata": {},
          "execution_count": 19
        }
      ]
    },
    {
      "cell_type": "code",
      "metadata": {
        "colab": {
          "base_uri": "https://localhost:8080/",
          "height": 57
        },
        "id": "2GBFf2HId6dl",
        "outputId": "0636e448-24e9-4dcc-8f0f-c43c1a66868e"
      },
      "source": [
        "array_to_latex(A+B, prefix='A+B = ')"
      ],
      "execution_count": null,
      "outputs": [
        {
          "output_type": "execute_result",
          "data": {
            "text/plain": [
              "<IPython.core.display.Latex object>"
            ],
            "text/latex": "$$\nA+B = \n\\begin{bmatrix}\n1 & 1  \\\\\n i & i  \\\\\n \\end{bmatrix}\n$$"
          },
          "metadata": {},
          "execution_count": 20
        }
      ]
    },
    {
      "cell_type": "markdown",
      "metadata": {
        "id": "meYBd-XWU-ze"
      },
      "source": [
        "## Matrix multiplication"
      ]
    },
    {
      "cell_type": "code",
      "metadata": {
        "colab": {
          "base_uri": "https://localhost:8080/",
          "height": 57
        },
        "id": "ejfiiZ68U64c",
        "outputId": "36877570-5223-4e9c-9c77-93af6204a584"
      },
      "source": [
        "A = np.array([[1, 0],\n",
        "              [0, 1j]])\n",
        "array_to_latex(A, prefix='A = ')"
      ],
      "execution_count": null,
      "outputs": [
        {
          "output_type": "execute_result",
          "data": {
            "text/plain": [
              "<IPython.core.display.Latex object>"
            ],
            "text/latex": "$$\nA = \n\\begin{bmatrix}\n1 & 0  \\\\\n 0 & i  \\\\\n \\end{bmatrix}\n$$"
          },
          "metadata": {},
          "execution_count": 21
        }
      ]
    },
    {
      "cell_type": "code",
      "metadata": {
        "colab": {
          "base_uri": "https://localhost:8080/",
          "height": 57
        },
        "id": "dUgLKyWZVFn8",
        "outputId": "ac26fa11-68de-4ec5-8dbd-035e6b4b2d16"
      },
      "source": [
        "B = np.array([[1, 1, 1j],\n",
        "              [1, -1, 0]])\n",
        "array_to_latex(B, prefix='B = ')"
      ],
      "execution_count": null,
      "outputs": [
        {
          "output_type": "execute_result",
          "data": {
            "text/plain": [
              "<IPython.core.display.Latex object>"
            ],
            "text/latex": "$$\nB = \n\\begin{bmatrix}\n1 & 1 & i  \\\\\n 1 & -1 & 0  \\\\\n \\end{bmatrix}\n$$"
          },
          "metadata": {},
          "execution_count": 22
        }
      ]
    },
    {
      "cell_type": "code",
      "metadata": {
        "colab": {
          "base_uri": "https://localhost:8080/",
          "height": 57
        },
        "id": "HuTGghMiVI1P",
        "outputId": "b96d15ac-0693-43ce-8e88-218974447724"
      },
      "source": [
        "array_to_latex(A@B, prefix='A@B = ')"
      ],
      "execution_count": null,
      "outputs": [
        {
          "output_type": "execute_result",
          "data": {
            "text/plain": [
              "<IPython.core.display.Latex object>"
            ],
            "text/latex": "$$\nA@B = \n\\begin{bmatrix}\n1 & 1 & i  \\\\\n i & -i & 0  \\\\\n \\end{bmatrix}\n$$"
          },
          "metadata": {},
          "execution_count": 23
        }
      ]
    },
    {
      "cell_type": "markdown",
      "metadata": {
        "id": "f1U3yDTjVMym"
      },
      "source": [
        "## Matrix inverse"
      ]
    },
    {
      "cell_type": "code",
      "metadata": {
        "colab": {
          "base_uri": "https://localhost:8080/",
          "height": 57
        },
        "id": "LnN1If7YVNlB",
        "outputId": "1831112f-a698-4d33-dbe9-ce7ef2039075"
      },
      "source": [
        "from numpy.linalg import inv\n",
        "A = np.array([[1., 2.], [3., 4.]])\n",
        "array_to_latex(A, prefix='A =')"
      ],
      "execution_count": null,
      "outputs": [
        {
          "output_type": "execute_result",
          "data": {
            "text/plain": [
              "<IPython.core.display.Latex object>"
            ],
            "text/latex": "$$\nA =\n\\begin{bmatrix}\n1 & 2  \\\\\n 3 & 4  \\\\\n \\end{bmatrix}\n$$"
          },
          "metadata": {},
          "execution_count": 24
        }
      ]
    },
    {
      "cell_type": "code",
      "metadata": {
        "colab": {
          "base_uri": "https://localhost:8080/",
          "height": 57
        },
        "id": "Gvqr_azgVTIP",
        "outputId": "a2ec47cb-c638-4428-b098-8e3d5edc9764"
      },
      "source": [
        "array_to_latex(inv(A), prefix='A^{-1} = ')"
      ],
      "execution_count": null,
      "outputs": [
        {
          "output_type": "execute_result",
          "data": {
            "text/plain": [
              "<IPython.core.display.Latex object>"
            ],
            "text/latex": "$$\nA^{-1} = \n\\begin{bmatrix}\n-2 & 1  \\\\\n \\tfrac{3}{2} & -\\tfrac{1}{2}  \\\\\n \\end{bmatrix}\n$$"
          },
          "metadata": {},
          "execution_count": 25
        }
      ]
    },
    {
      "cell_type": "markdown",
      "metadata": {
        "id": "0ulW1ET9bGPy"
      },
      "source": [
        "## Tensor product"
      ]
    },
    {
      "cell_type": "markdown",
      "metadata": {
        "id": "wsLFB1a5VXE_"
      },
      "source": [
        "## Kronecker product or tensor product of matrices or vectors"
      ]
    },
    {
      "cell_type": "code",
      "metadata": {
        "colab": {
          "base_uri": "https://localhost:8080/",
          "height": 57
        },
        "id": "8IjZ13sDVXxw",
        "outputId": "0edb5249-8542-4831-bb7d-4c637f3365cb"
      },
      "source": [
        "A = np.array([[1,2],\n",
        "              [3, 4]])\n",
        "array_to_latex(A, prefix='A =')"
      ],
      "execution_count": null,
      "outputs": [
        {
          "output_type": "execute_result",
          "data": {
            "text/plain": [
              "<IPython.core.display.Latex object>"
            ],
            "text/latex": "$$\nA =\n\\begin{bmatrix}\n1 & 2  \\\\\n 3 & 4  \\\\\n \\end{bmatrix}\n$$"
          },
          "metadata": {},
          "execution_count": 26
        }
      ]
    },
    {
      "cell_type": "code",
      "metadata": {
        "colab": {
          "base_uri": "https://localhost:8080/",
          "height": 57
        },
        "id": "9CRXVz5eVb3V",
        "outputId": "4c8fa79a-8f7c-4761-fafb-037f2b2ee18c"
      },
      "source": [
        "B = np.array([[0, 5],\n",
        "              [6, 7]])\n",
        "array_to_latex(B, prefix='B =')"
      ],
      "execution_count": null,
      "outputs": [
        {
          "output_type": "execute_result",
          "data": {
            "text/plain": [
              "<IPython.core.display.Latex object>"
            ],
            "text/latex": "$$\nB =\n\\begin{bmatrix}\n0 & 5  \\\\\n 6 & 7  \\\\\n \\end{bmatrix}\n$$"
          },
          "metadata": {},
          "execution_count": 27
        }
      ]
    },
    {
      "cell_type": "code",
      "metadata": {
        "colab": {
          "base_uri": "https://localhost:8080/",
          "height": 98
        },
        "id": "xooxn8fBVhgV",
        "outputId": "2d846567-13a0-4f4c-d7f2-b410385b5f21"
      },
      "source": [
        "C = np.kron(A,B)\n",
        "array_to_latex(C, prefix='A \\otimes B =')"
      ],
      "execution_count": null,
      "outputs": [
        {
          "output_type": "execute_result",
          "data": {
            "text/plain": [
              "<IPython.core.display.Latex object>"
            ],
            "text/latex": "$$\nA \\otimes B =\n\\begin{bmatrix}\n0 & 5 & 0 & 10  \\\\\n 6 & 7 & 12 & 14  \\\\\n 0 & 15 & 0 & 20  \\\\\n 18 & 21 & 24 & 28  \\\\\n \\end{bmatrix}\n$$"
          },
          "metadata": {},
          "execution_count": 28
        }
      ]
    },
    {
      "cell_type": "markdown",
      "metadata": {
        "id": "ET91KE0dVltC"
      },
      "source": [
        "## Outer product"
      ]
    },
    {
      "cell_type": "code",
      "metadata": {
        "colab": {
          "base_uri": "https://localhost:8080/",
          "height": 57
        },
        "id": "noPgdqxsVmyE",
        "outputId": "1817e98d-c6b1-4be9-97dc-ba59d4a03c38"
      },
      "source": [
        "array_to_latex(x, prefix=' x = ')"
      ],
      "execution_count": null,
      "outputs": [
        {
          "output_type": "execute_result",
          "data": {
            "text/plain": [
              "<IPython.core.display.Latex object>"
            ],
            "text/latex": "$$\n x = \n\\begin{bmatrix}\ni  \\\\\n 2  \\\\\n \\end{bmatrix}\n$$"
          },
          "metadata": {},
          "execution_count": 29
        }
      ]
    },
    {
      "cell_type": "code",
      "metadata": {
        "colab": {
          "base_uri": "https://localhost:8080/",
          "height": 57
        },
        "id": "k_e7NKt1Vpx5",
        "outputId": "2c726a61-a19d-466d-c467-e8a11ca3fcad"
      },
      "source": [
        "array_to_latex(y, prefix=' y = ')"
      ],
      "execution_count": null,
      "outputs": [
        {
          "output_type": "execute_result",
          "data": {
            "text/plain": [
              "<IPython.core.display.Latex object>"
            ],
            "text/latex": "$$\n y = \n\\begin{bmatrix}\n-1  \\\\\n 2i  \\\\\n \\end{bmatrix}\n$$"
          },
          "metadata": {},
          "execution_count": 30
        }
      ]
    },
    {
      "cell_type": "code",
      "metadata": {
        "colab": {
          "base_uri": "https://localhost:8080/",
          "height": 57
        },
        "id": "wInamVhaVtGu",
        "outputId": "3acec14d-7492-4fc3-fc24-06c3dcbb8a81"
      },
      "source": [
        "array_to_latex(np.outer(x, y), prefix='np.outer(x, y) = ')"
      ],
      "execution_count": null,
      "outputs": [
        {
          "output_type": "execute_result",
          "data": {
            "text/plain": [
              "<IPython.core.display.Latex object>"
            ],
            "text/latex": "$$\nnp.outer(x, y) = \n\\begin{bmatrix}\n-i & -2  \\\\\n -2 & 4i  \\\\\n \\end{bmatrix}\n$$"
          },
          "metadata": {},
          "execution_count": 31
        }
      ]
    },
    {
      "cell_type": "markdown",
      "metadata": {
        "id": "sHO2R73hc0cH"
      },
      "source": [
        "### Writing single qubit matrices as a sum of outer products\n",
        "\n",
        "## Hermitian operator\n",
        "\n",
        "\n",
        "## Unitary operator\n",
        "\n",
        "## Density matrix and mixed quantum states"
      ]
    },
    {
      "cell_type": "markdown",
      "metadata": {
        "id": "xVFPle-vOAdV"
      },
      "source": [
        "## Pauli matrices"
      ]
    },
    {
      "cell_type": "markdown",
      "metadata": {
        "id": "NJS1_GcK2oaY"
      },
      "source": [
        "### Decomposing a matrix into the weighted sum of the tensor product of Pauli matrices"
      ]
    },
    {
      "cell_type": "markdown",
      "metadata": {
        "id": "bTNA1WeySvSa"
      },
      "source": [
        "## Anti-commutator\n",
        "\n",
        "## Commutator"
      ]
    }
  ]
}