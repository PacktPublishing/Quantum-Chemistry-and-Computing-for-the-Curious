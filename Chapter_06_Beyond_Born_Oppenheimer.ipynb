{
  "nbformat": 4,
  "nbformat_minor": 0,
  "metadata": {
    "colab": {
      "name": "Chapter_06_Beyond_Born_Oppenheimer.ipynb",
      "provenance": [],
      "collapsed_sections": [],
      "authorship_tag": "ABX9TyNp3X/N5rdV26M1PQP11j0/"
    },
    "kernelspec": {
      "name": "python3",
      "display_name": "Python 3"
    },
    "language_info": {
      "name": "python"
    }
  },
  "cells": [
    {
      "cell_type": "markdown",
      "metadata": {
        "id": "jPnkg_H5JWjL"
      },
      "source": [
        "$$\n",
        "\\text{This is the cutdown companion Jupyter Notebook of Chapter 6. Beyond Born Oppenheimer of the book titled:}$$\n",
        "$$\\text{ Quantum Chemistry and Computing for the Curious: Illustrated with Python and Qiskit® code and with ISBN: 978-1-80323-859-3.}$$"
      ]
    },
    {
      "cell_type": "markdown",
      "source": [
        "The following MIT license only applies to the code, and not to the text and images. The authors are not granting a license to replicate or reuse the text and images in the companion Jupyter notebook.\n",
        "\n",
        "# MIT License\n",
        "\n",
        "Copyright (c) 2022 Packt\n",
        "\n",
        "Permission is hereby granted, free of charge, to any person obtaining a copy\n",
        "of this software and associated documentation files (the \"Software\"), to deal\n",
        "in the Software without restriction, including without limitation the rights\n",
        "to use, copy, modify, merge, publish, distribute, sublicense, and/or sell\n",
        "copies of the Software, and to permit persons to whom the Software is\n",
        "furnished to do so, subject to the following conditions:\n",
        "\n",
        "The above copyright notice and this permission notice shall be included in all\n",
        "copies or substantial portions of the Software.\n",
        "\n",
        "THE SOFTWARE IS PROVIDED \"AS IS\", WITHOUT WARRANTY OF ANY KIND, EXPRESS OR\n",
        "IMPLIED, INCLUDING BUT NOT LIMITED TO THE WARRANTIES OF MERCHANTABILITY,\n",
        "FITNESS FOR A PARTICULAR PURPOSE AND NONINFRINGEMENT. IN NO EVENT SHALL THE\n",
        "AUTHORS OR COPYRIGHT HOLDERS BE LIABLE FOR ANY CLAIM, DAMAGES OR OTHER\n",
        "LIABILITY, WHETHER IN AN ACTION OF CONTRACT, TORT OR OTHERWISE, ARISING FROM,\n",
        "OUT OF OR IN CONNECTION WITH THE SOFTWARE OR THE USE OR OTHER DEALINGS IN THE\n",
        "SOFTWARE."
      ],
      "metadata": {
        "id": "zfvF0_5uIplY"
      }
    },
    {
      "cell_type": "markdown",
      "metadata": {
        "id": "g7TGUyI8eQFa"
      },
      "source": [
        "#6. Beyond Born-Oppenheimer\n"
      ]
    },
    {
      "cell_type": "markdown",
      "metadata": {
        "id": "-VltqWatg_ND"
      },
      "source": [
        "# Technical requirements\n",
        "\n",
        "\n"
      ]
    },
    {
      "cell_type": "markdown",
      "source": [
        "## Installing NumPy, SciPy and math modules\n",
        "\n",
        "Install NumPy with the following command:"
      ],
      "metadata": {
        "id": "yy29w3Lc47tr"
      }
    },
    {
      "cell_type": "code",
      "execution_count": null,
      "metadata": {
        "id": "7XhpijAbD1v4"
      },
      "outputs": [],
      "source": [
        "pip install numpy"
      ]
    },
    {
      "cell_type": "markdown",
      "source": [
        "Install SciPy with the following command:"
      ],
      "metadata": {
        "id": "gK8E5qN6miGi"
      }
    },
    {
      "cell_type": "code",
      "source": [
        "pip install scipy"
      ],
      "metadata": {
        "id": "jrkzrEr3mj1t"
      },
      "execution_count": null,
      "outputs": []
    },
    {
      "cell_type": "markdown",
      "metadata": {
        "id": "OxaMfQHwEOdg"
      },
      "source": [
        "Import NumPy with the following command:"
      ]
    },
    {
      "cell_type": "code",
      "execution_count": null,
      "metadata": {
        "id": "QhaIzlQ5EN3r"
      },
      "outputs": [],
      "source": [
        "import numpy as np"
      ]
    },
    {
      "cell_type": "markdown",
      "metadata": {
        "id": "6PSJLYf6cMeH"
      },
      "source": [
        "Import Matplotlib, a comprehensive library for creating static, animated, and interactive visualizations in Python with the following command:\n",
        "\n"
      ]
    },
    {
      "cell_type": "code",
      "execution_count": null,
      "metadata": {
        "id": "nJSPiCdFcG-9"
      },
      "outputs": [],
      "source": [
        "import matplotlib.pyplot as plt"
      ]
    },
    {
      "cell_type": "markdown",
      "source": [
        "Import the SciPy special Hermite polynomials with the following command:"
      ],
      "metadata": {
        "id": "RRs3qlcZJYKN"
      }
    },
    {
      "cell_type": "code",
      "execution_count": null,
      "metadata": {
        "id": "ppHXCA1N3tzb"
      },
      "outputs": [],
      "source": [
        "from scipy.special import hermite"
      ]
    },
    {
      "cell_type": "markdown",
      "source": [
        "Import the mat  h factorial function with the following command:"
      ],
      "metadata": {
        "id": "mMNxAsege9WG"
      }
    },
    {
      "cell_type": "code",
      "source": [
        "from math import factorial"
      ],
      "metadata": {
        "id": "Yb_c-FmT5kaU"
      },
      "execution_count": null,
      "outputs": []
    },
    {
      "cell_type": "markdown",
      "source": [
        "# 6.1. Non-Born-Oppenheimer molecular Hamiltonian\n",
        "\n",
        "## Internal Hamiltonian operator"
      ],
      "metadata": {
        "id": "Aa_TVx_aKqdy"
      }
    },
    {
      "cell_type": "markdown",
      "source": [
        "### Explicitly correlated all-particle Gaussian functions\n",
        "\n",
        "## Energy minimization"
      ],
      "metadata": {
        "id": "zxCfKXBPKkLp"
      }
    },
    {
      "cell_type": "markdown",
      "source": [
        "# 6.2. Vibrational frequency analysis calculations\n",
        "\n",
        "## Modeling the vibrational-rotational levels of a diatomic molecule\n"
      ],
      "metadata": {
        "id": "ulGBVyR-rU_V"
      }
    },
    {
      "cell_type": "code",
      "source": [
        "def N(v):\n",
        "  return 1./np.sqrt(np.sqrt(np.pi)*2**v*factorial(v))"
      ],
      "metadata": {
        "id": "B7_JOHPgDFgZ"
      },
      "execution_count": null,
      "outputs": []
    },
    {
      "cell_type": "code",
      "source": [
        "def Psi(v, x):\n",
        "  return N(v)*hermite(v)(x)*np.exp(-0.5*x**2)"
      ],
      "metadata": {
        "id": "nrfD0km8DjP3"
      },
      "execution_count": null,
      "outputs": []
    },
    {
      "cell_type": "code",
      "source": [
        "def plot(n):\n",
        "  fig, ax = plt.subplots(figsize=(n+1,n+1))\n",
        "\n",
        "  # Range of x\n",
        "  xmax = np.sqrt(2*n+1)\n",
        "  x = np.linspace(-xmax, xmax, 1000)\n",
        "\n",
        "  for v in range(n):\n",
        "     \n",
        "    # plot potential energy function 0.5*x**2\n",
        "    ax.plot(x,0.5*x**2,color='black')\n",
        "    \n",
        "    # plot spatial probabilities psi squared for each energy level\n",
        "    ax.plot(x,Psi(v,x)**2 + v + 0.5)\n",
        "    \n",
        "    # add lines and labels\n",
        "    ax.axhline(v + 0.5, color='gray', linestyle='-') \n",
        "    ax.text(xmax, 1.2*(v+0.5), f\"v={v}\")\n",
        "\n",
        "  ax.set_xlabel('x')\n",
        "  ax.set_ylabel('$|\\psi_v(x)|^2$')"
      ],
      "metadata": {
        "id": "MqRUmf7JGaWP"
      },
      "execution_count": null,
      "outputs": []
    },
    {
      "cell_type": "code",
      "source": [
        "plot(5)"
      ],
      "metadata": {
        "colab": {
          "base_uri": "https://localhost:8080/",
          "height": 388
        },
        "id": "yMykvvUTG37D",
        "outputId": "faae8395-3a1c-46f9-8d0d-f49f60bc1a37"
      },
      "execution_count": null,
      "outputs": [
        {
          "output_type": "display_data",
          "data": {
            "text/plain": [
              "<Figure size 432x432 with 1 Axes>"
            ],
            "image/png": "[encoded data removed]"
          },
          "metadata": {
            "needs_background": "light"
          }
        }
      ]
    },
    {
      "cell_type": "markdown",
      "source": [
        "Figure 6.5 – Potential energy (black parabola) and spatial probabilities (color) of the normalized quantum harmonic oscillator wavefunctions for $v=0$ to $v=4$\n",
        "\n"
      ],
      "metadata": {
        "id": "GsN9JDUO6Guy"
      }
    },
    {
      "cell_type": "code",
      "source": [
        "def Frot(J, Be, De, He, show=False):\n",
        "  F = Be*J*(J+1) + De*J**2*(J+1)**2 - He*J*3*(J+1)**3*10e-5\n",
        "  if show:\n",
        "    print(\"{} {:.2f}\".format(J, F))\n",
        "  return F"
      ],
      "metadata": {
        "id": "QNO5bUeDH2qD"
      },
      "execution_count": null,
      "outputs": []
    },
    {
      "cell_type": "code",
      "source": [
        "# Source of the ground rotational state E(v,J=0) energy: [Komasa]\n",
        "# Source of the constants data Ee, Be, De, He, and rms: [Campargue]\n",
        "\n",
        "#      v   E(v,J=0)    Ee          Be         De        He     rms\n",
        "rov = {0: (36118.0696, 0.0,        59.33289, -0.045498, 4.277, 3.4), \n",
        "       1: (31956.9034, 4161.1693,  56.37318, -0.043961, 4.168, 3.2),\n",
        "       2: (28031.0670, 8087.0058,  53.47892, -0.042523, 4.070, 3.2),\n",
        "       3: (24335.6787, 11782.3940, 50.62885, -0.041175, 3.963, 3.2),\n",
        "       4: (20867.7039, 15250.3688, 47.79997, -0.039927, 3.846, 3.2),\n",
        "       5: (17626.1400, 18491.9328, 44.96596, -0.038795, 3.717, 3.2),\n",
        "       6: (14612.2901, 21505.7826, 42.09566, -0.037808, 3.571, 3.1),\n",
        "       7: (11830.1543, 24287.9184, 39.15105, -0.037004, 3.399, 3.1),\n",
        "       8: (9286.9790,  26831.0937, 36.08416, -0.036451, 3.187, 3.1),\n",
        "       9: (6994.0292,  29124.0436, 32.83233, -0.036251, 2.902, 3.2)}"
      ],
      "metadata": {
        "id": "CXFoeNWYPkl8"
      },
      "execution_count": null,
      "outputs": []
    },
    {
      "cell_type": "code",
      "source": [
        "print(\"v  E(v,J=0)    E(v,J=1)    BO Diff.\")\n",
        "for v in range(10):\n",
        "    E0 = rov[v][0] - Frot(0, rov[v][2], rov[v][3], rov[v][4])\n",
        "    E1 = rov[v][0] - Frot(1, rov[v][2], rov[v][3], rov[v][4])\n",
        "    print(\"{}  {:.4f}  {:.4f}  {:.4f}\".format(v, E0, E1, E0 - E1))"
      ],
      "metadata": {
        "colab": {
          "base_uri": "https://localhost:8080/"
        },
        "id": "mgr_vEGZn4QR",
        "outputId": "ee34d1c9-6326-406b-86f3-85c9e14cab10"
      },
      "execution_count": null,
      "outputs": [
        {
          "output_type": "stream",
          "name": "stdout",
          "text": [
            "v  E(v,J=0)    E(v,J=1)    BO Diff.\n",
            "0  36118.0696  35999.5961  118.4735\n",
            "1  31956.9034  31844.3429  112.5605\n",
            "2  28031.0670  27924.2890  106.7780\n",
            "3  24335.6787  24234.5952  101.0835\n",
            "4  20867.7039  20772.2729  95.4310\n",
            "5  17626.1400  17536.3722  89.7678\n",
            "6  14612.2901  14528.2586  84.0315\n",
            "7  11830.1543  11752.0084  78.1459\n",
            "8  9286.9790  9214.9641  72.0149\n",
            "9  6994.0292  6928.5165  65.5127\n"
          ]
        }
      ]
    },
    {
      "cell_type": "markdown",
      "source": [
        "Figure 6.6 – Vibrational energy levels of the hydrogen molecule for $v=0,…,9$ , $J=0$ and $J=1$\n",
        "\n",
        "## Computing all vibrational-rotational levels of a molecule\n",
        "\n",
        "### Optimizing the geometry of the molecule\n",
        "\n",
        "### Calculating a force constant Hessian matrix\n",
        "\n",
        "### Converting to mass weighted Cartesian coordinates \n",
        "\n",
        "### Diagonalizing the mass weighted Hessian matrix \n",
        "\n",
        "`import psi4`\n",
        "\n",
        "`psi4.core.set_output_file('psi_CO2_output.txt', False)`\n",
        "\n",
        "`psi4.set_memory('500 MB')`\n",
        "\n",
        "`co2 = psi4.geometry(\"\"\"`\n",
        "\n",
        "`symmetry c1`\n",
        "\n",
        "`0 1`\n",
        "\n",
        "`C 1.6830180 -0.4403696 3.1117942`\n",
        "\n",
        "`O 0.5425545 -0.2216001 2.9779653`\n",
        "\n",
        "`O 2.8186228 -0.6587208 3.2810031`\n",
        "\n",
        "`units angstrom`\n",
        "\n",
        "`\"\"\")`\n",
        "\n",
        "\n",
        "\n",
        "`psi4.set_options({'reference': 'rhf'})`\n",
        "\n",
        "`psi4.optimize('scf/cc-pvdz', molecule=co2)`\n",
        "\n",
        "\n",
        "Optimizer: Optimization complete!\n",
        "\n",
        "-187.65250930298149\n",
        "\n",
        "`scf_e, scf_wfn = psi4.frequency('scf/cc-pvdz', molecule=co2, return_wfn=True)`\n",
        "\n",
        "`for i in range(4):`\n",
        " `   print(scf_wfn.frequencies().get(0,i))`\n",
        "\n",
        "761.4181081677268\n",
        "\n",
        "761.4181227549785\n",
        "\n",
        "1513.1081106509557\n",
        "\n",
        "2579.8280005025586"
      ],
      "metadata": {
        "id": "gwvYgxOX-2nE"
      }
    },
    {
      "cell_type": "markdown",
      "source": [
        "![image.png](data:image/png;base64,iVBORw0KGgoAAAANSUhEUgAAAloAAAFOCAMAAABpKkPIAAAAAXNSR0IArs4c6QAAArJQTFRFAAAAAAAACgoKCQkJAQEBCAgIGRkZCwsLFxcXExMTOzs7Pj4+MjIyPDw8NjY2MDAwLi4uPz8/OTk5Ojo6Nzc3NTU1JSUlJiYmMTExJycnPT09ISEhLy8vKioqNDQ0IyMjLCwsMzMzJCQkKSkpODg4IiIiSkpKQUFBR0dHW1tbSEhIS0tLT09PRkZGTU1NWVlZQEBAXFxcXl5eTExMQ0NDVFRUX19fRERERUVFWFhYUFBQUVFRVVVVU1NTSUlJV1dXTk5OWlpaVlZWUlJSXV1dQkJCb29vcnJye3t7f39/aGhodHR0Z2dndnZ2ZGRkd3d3bm5ufX19a2trfHx8cXFxcHBwc3Nzenp6bW1tYWFheHh4bGxseXl5fn5+dXV1YmJiaWlpY2NjampqZWVlZmZmYGBgiYmJjIyMkZGRgYGBlZWViIiImZmZnZ2dhISEjY2Nm5ubn5+fnJycl5eXmpqalpaWjo6Onp6eh4eHhoaGkpKSgICAg4ODi4uLioqKk5OTkJCQlJSUj4+PgoKChYWFmJiYr6+vp6enu7u7oaGhuLi4oKCgpaWltra2sbGxqqqqqampubm5sLCws7Ozo6Ojq6urqKiorKysvLy8ra2tpqamsrKypKSkt7e3oqKirq6uv7+/urq6vr6+vb29tbW1tLS0xsbGzMzM1dXVwsLCw8PDx8fHxcXF2tra29vbxMTEz8/P2dnZ0tLS0dHR2NjY09PT1NTU3d3d3NzcwcHB19fXwMDAyMjI0NDQ3t7eysrKzs7O1tbWzc3N39/fy8vLycnJ+/v79PT07Ozs8PDw+fn5/Pz88fHx4eHh/v7++Pj45eXl8vLy4uLi4ODg9fX19/f35OTk7u7u5+fn+vr66Ojo/f395ubm9vb26+vr7+/v4+Pj8/Pz6urq7e3t6enp////b2VrigAAAAF0Uk5TAEDm2GYAAAAJcEhZcwAADsQAAA7EAZUrDhsAAAAZdEVYdFNvZnR3YXJlAE1pY3Jvc29mdCBPZmZpY2V/7TVxAAB32UlEQVR4Xu29h19cV/Yn+Jvd2dT+9e83/euZ38z2zOzO7M662+623ba73W23226HJghhiowJZVmWyUlkKHIQIgoJEJJIQiKInEGACAJRhIIiVQFFkQo4/8eec9+j6hUgUYgqJFl17I8e9cK95573fTecdP/hH8BMZgmYQgL/YIaWKcRqLhPADC0zCkwkATO0TCRYc7EELWltHcBE7QOUhvck/mNx5Ui5TNE1pMyrr7LY6hteJu6ljVevNk2/TBxB81WZcfghaE2/aQkw82sfLLFxAv/J8j2y7Owc7nRLs3GqfhGlzFr5+ctfRMVPqbPuZwE+v2l9iRiSt1kHBM4ZhSE2INYHAUwFz4M8N48KzQ/JDEX4tOa0Xw6dB1gIC72GZzvOvRWaj8fWghm6aTE09DrA0o3O0FyjMHI2hdh0nk09htbSVQgQ0G3o3Wdwn+I8QFG4USri5lq2i3AFy5Pnv02DXt4bxTe9e6Durd+W3PRXQlHB9YjLAF2W39y8hVfr3rqN//Z637wZki9d/kfbm76BRuHkLArJi6x9eBb1nKSO6yEnudvU98qu3OkL7zVKLRy08gLg3Ar9YbeK/9yOAujHMTL6DoBKDpMDUSIbPL0/IEaX4A/7R/iPwxrYLMIs3vqKUPjvYhzbXi5e1U5rLxVD/XaxkcZhiINWR+ygtYL+YO0sCQMYcgbwZ9P5JRf/4Rx7QhzfT/pTr+VKI4vFKriswwNX47ByBqXExYHMgX1DLw2V+qpfGl6QEYWbCu5EGIUjXvkQ8e0AK86OZnDZtjifl2CvlU2nfAtw5u6If9wJBV9aPLDTPjjR2rDYBPdN6MVbXxG6Ew3THlsvE7MLrtsvEzugEG1AEXYtRiAeWouWtG7qi/+ZXRmA8zsJ8YmbUP7uewELACOe8fESPxTAY8f4JDWsx7PTC8nx8a4j8PDntyHi9+tGYORMipBXxFt1nElNhlYyKTL0zjO674F9fJhxtA88tGSbxPlibccj1G71KEZqEVNDbaOPSOUyVFv7YAV/w3Yt/qOp5U4ra2txtrfVsQhDnZozarYRqqkdM0IhRiyCE/zLRIv0lo1BZm28MaRoLuMICZihZYaFiSRghpaJBGsulkFr5XHz4GDHcaO+qn2QKSj0aStFzyzQq6TLC4PNxpkKPvcLkmGLWtiyXjFI2gbl7IGiyKIFOzvs7PQgN1t8aEqmtwcH+5lwYHCRVXZA6bBBC6npJY7NTm7duGSaWew6swbvdg92swZznMwM6hnwtJwsc6LpYYfJEyjhGLRG33/H1dXiA65VT6XrH7py1Qhpz6cidUp7Ysf37Rv0o9n1neFjSjPx5UdvuHr9gXRvBa6ugwBXnP6oD5soF7wW9hGpgkHj6xqLGOsP+BPeaSpS/NnV6uNoLP2JlysqBtuC/9yiV9WjD5HBQvEnKjpb4m6Hr1KT8q5x1AD6bZKHv8fURRYervEbjBPSvs/Hu1oKLPeFNn/hOPG0I7eFJy5OZImJ/s7NcPlwA2JTHP4TN3GlvbOStOydlZWkT1irzJ6/qyvqGgkGqbyyZU8zMHsVyhH8C9uwhPzxpKkPQuUFUWqV4TyY4s4nqI2LRz3DdXf2OXR2uCiF1Wz90wX8WVtPqmDw64PHqMpba4ypNwUrXJlTSQAVqINe9mDmgO3h+FFhZWqnf8Zeq/uBmJbi15JB7bADc32ZKSZgSN5wNZ6KFXNj0PawH3E0hdZiu0ZtdcgJ9Zg3UkFjOQkPnAG8EAqNjSdQj3PQumf5+HohTMX9uwT/tEfyxuDwcO8l2Pb2D/2FwIjDaeOnM2P8z3069evv4y6GpDNDtR5l8dDyvm8CoZysyCp05dAEDA9xTzkIx211Wkk6nXxoR/9eLXp8jRke4k3rcLNHwgy6Mss50djrWZwiSzzZaTd6oV2RPbdC6cXn0ydvfBr0ojI/+M6lmpXtyHXWCw3+CC8tudGUIRBfJ9pcJiMbnvjTlGKedfOGEQet2t97fuqJxx/wy1lQXMBWPXIGK/Ti8i7VFcNBixA/Xwbx40MXQLSvK5XPEdGQc/nlgZYT2kMn3g32JLcNVMILodVYtJZGZ/vd6V9ZvKc7+0hMDC2fcqzjvJNnCKtMD1qLMWoxc/YRsdlVkZ0DDUNQiV2dCajOmgotaeuNYK+Xh1b39/cEdclFBK3oCs7498jBgznFjIkNZ4eDVhX2wAiTSdZHqX7jIhKJksEFp3UVmbqiOGgVprIzkvaRWM7iSKSwwydENHi+PNCq9qXv5K9TEFmMfOlB6/FnlXGf08jDQSvxHnSw2YdpoTXGhphL96CV9ZhCaE1/frnwt8wng0ErPwkUNrSqMim0sPxlD6qThxayhJ3JPnHQCitC48wqtLurIZ7cyk4OrUec85+ajQ+Ki9hrPawGxyfYa+GUZZ84aN2icXoSYsZGE8BFOyCqiGihwY0s+OCLHhC3HGkkXHHGz4M5/dC0HWlDiv9M+Yf7/Y1MiesMUe6jsGhBf/iY1JsrjnnnujZDPxtV0rmReo71pnfCw/70mP5gvUIWcnyRfFCq0JHOBNQcQ4Xu4lqVTZ2CyUKhxBmzVR/+IePVAIyTskgco/egE6UXTKbjLTY5NYxYr9V/4c0kXBBPBfwsCbX88vH4lJTYflj2Tgr8Azn/8cRBS3UzPSng9syfLnd9pviCLQcFtJv08VspDG8vHFqL6NOGbWn1S8rAl3c/9V+iaIkDadwMRxP/Ia5rb7r+Pgmn+vOJSenYQw8l/UZ02YTqh+/Zkn8sNikGNQz9SX8QY4+A7uC87+6dX/ejETfplwk4as6F+voNqEER/u1fkk6w2jfsjYO8wuZPSe0AxTFJMTh/Qk5scRazlJ4UXEnf3WNyRYC+uF/6IJbmwnzT+tQgq46PvYkrxmLrN5JGDKyGi+hZzKvKx9X3ROGtfPbpdOfnU4t28u9HkwMNT/srxKr8PFBcbZPdmus4aOpdyM/OLmWoj3rBK0SY5qfvbfkkr7bSW6UMVEM0DgLsVV/FPwZqrubTF7uZT5qm1fyreVUm9HAZ4qbvq/nUH23nX61mHfsaN1+dzruFgOvIv1WKYwX6ZNK/c9Xl1/ON76chv1V9NZ/WzeXsLe9zMpbPDTQTzBGQOKHhkeMERcVm/A01t/IN9qV8tjZemiZwk6/60N1QB5B293c4jsz0+krg2dAqdGAaEI6kD7t1GqxnS0zT3WvCz//1fVuvVMvNNsRX6nW9Ssxy0NpcX1nmJiFmOlsJLGy+ZN373KqxwiI5aKWc/7XTKx24erZ4MGJtVX8UrMGNWO5zF9VyianqjUD8gLjjjGVtNOwsNeCqtK5rpYGsy5qGBlxm7fXuNBi84DQCR69ZEdFxL1m31eZs6Iz6mDfFQ2vbCe9bif+n9HTXUQj/J+d013zY9UlPt++E7n92T/eseplCjn9K4Nv0dBca7l580+QxFkwBeHoSQgvgfSWoUMHljO4P2xCP/0odFuAH7Misxk9flbmEIyQQOd7BWc5eFrqXscGsX6cnPWht8nZtO6a/cvje2Vn8gxSccIIfK7Rcnr5Wcwm8BJbfu3X3i5cqEuTizVE3Zok+NfHQmmFIlTIbItormUlCPCCVrpRMwwU0lHqRdclMRpdAsWN8mjXvLGL0wp+nwDr3GElMAHPBPS1x0LoV9/s7D2Ah8Bd3yHUn7w/MTNPuU1CQekMGn7rfiasw0tTutOz+xJ7f/vfdmD7jP/Beyy9B4zZ+g86H8t8zP6TTEp/z4XJuUCfM4L9kN7qSe7mGyh0KCqKYave70Uap6rSs/gSfX8rFtXdHrnHSdxhDPooytI7v5TYZo6zjtfHSD4xvfDcG5+YyXnIJHA+twS89jov1ecnbaGbvhUjgeGi9ELbMlb76EiBoyTfUGwoWGqSlxTjl09u26nvS8DiZQuBipxb+MJ0EeSW3XD92UsF0v2oFx4NCYSyD2Qnaoc/QNOezz3Myp3iG3E9Qh2G3cnpwFS+M/Wd4/vTZVJ2cL4KW0vPNix7Oer5YC397hsfXxicndPTt+sSDi5BkNOTxlcAH2zAhnPiuqdI/MlXcjpeHIN4NBjzsMeB16F0P0V8egPp7B4+vc+muDTv9oMATV3f8A/Lr51n6v+kIjzCBaWfRzQElLfvOw+NrDEOI+dbjAoW/YOqpgw68x9dw0jseBVOUDeS/5+GBDq77NJXmgfmt0InaI5J8KJETCs1Ydj7HnERPQmxAlF2akW2TL/lsP2re0eLTvxPbBasroJ6lzmyif1GOx+3+Lro41b/qrbUpbqsfwiY6WcM6d1HT368hjvr71+QcZ0T3vWTYiPkFUC1iZyGXeVeehMXnunczKJFAs5HwQBalU/fm+cp7rRbgSbxs2roPNpym1QXJVHz9vzH5Ik2eU8HiaIpKZVeYsz6jLqvdKa9uUDip1DcxMMyqQ93lTOcV/xMf9PlcjTfsoZormKYNoVMjvH0urUOWhNiKLpblsSDIif8ZPaxnHZen/E6aPYqba5EF0bYVhi3dnTCb5Jiju99vtyHwPKi+RMjupLvH/7YO2lzcxZiBctnaPe0zbQj3uU/Tkr0ks9DmHpueq4LtAHd35+9gI8fdXfJb3cJyIJYqSbOCrTfH6S/2IZiacghaarQk3NYlC63KkA6laUA2Bz2uUpArQU6mBnicYWvCuOn9hvawkAV0SJ6/oG17c/zmSuwD4kRtgZwo1RBMMca7SfHMcd7E5EDQivw6WQAuzXfo2OyNsRa9sELRBZNJwSjHJ2imCTmpiwaDlvzHkuu5lyc6Kb4l8AqI12DjyzFYx/Lo/Th2Y1xt/xh541fcAdsxUH3MguSIrrjAh1tx+bA2VT/wlRIC0L26xZVibhGuXD4FogEWHUWBlSHMZT75LKAVhN8B0cOYPd0buiz6hiVcAD9uTM5kITPpHUl68aa6+4351yjvraLxFjh3D3/7LReynXmZHTpdlfjvlZK73E+TktKDoJXvU+NfqZ0Kq/NTar7CnnwwocbzC+Kk+G4WdqKXg8rfIB3nSYiD1hdRX3yL+f9+4eju+VGx+iKe8mpnMWdhNwEuMCfBLrr4XY78PE4UWCQ3J5Bc7PF8ytUDtlFRf5mGrUR39xo8fcfdXRicyUFrGJGbyFz7zxJaXX46iENfynR/DFkxRuzZsmXLhcIPwhOHPIxk7X+W6HlobcQKZppDwas7sTQJWXHhHCBiKXFavVtvaoLpfU04aBFdoowrPFWnptBg3JOciQP4gNtQaghxcjkw/qRmZG5ARNthRis0XlhcXq7qnKaO0G4WejH4LBTDCs+xdCGd38wuL997IvsBoeWqnfZVlhG0mlY9cL7lPAd1muXlsjLo2Ftevu+jc1vloEXpUb1Z+v0zgVYum9Athizs6iapCcUA36GWbo7jAypZuo5od69fmCYCXvfC8K/+YPo5kdIBOmwN4KTdjwL8OE6gn83HmpysvvrAhGFr+2zRPIiREFr4Irnw0hhEeYOz1Vc/Mk7mbU+6mCZoSe/+qVCqSKyaCbvWl+2zDZXhVdf+9T7Mi6tu/RLj12/5VlX5t2guZ/bd8hmCwpSqyv+oHdCsnOUfrsUm79gMVF3/4SH8MqavL6MGPP7a15cbpFu9ctDqsavK+3eh9NcZQEtT5WB5dQMUXxbddU7AKlXxJJn1kKrAa7i82PyIE+m3fGqkro9Nv7BojftLFYaJuafVh75FdfvSkmshIvdmJH2633HjdGwBx9ieu6fJe62emj/k4cymIawqo5iWXKVMBk1XHGjS0l9lk6TkOLGSw1xV1nnBKpLj8TgiaE37RyVrYAPHqoiEBHJ6KE0oKUT09CdkNNDH1JeQcA/7qqCEBIqZy064maeNTgyLVIe1d0TDg4QEn8ZOaCxPSMCpw+DdhAS2qOfpXhT7Yzgh5x6bnUaYfmW9mRASEjIF8iDfhBBau8rK2YJ1MwGXKdhr8fOGBj5/07WowuMEddrr8jCfqAR8PTVxPj7MV/wuhSPiLDqJYYjnpJNXgtSGhJq818rziaI82tLcBC7ivYMtZYK4nFa3EvilGnKiBk1CkV4WNYOEcSba+KbPwvnugXhaDf/EOA5BBjXQfNOLksCZQEtRem0/pw22c/JaqTZXxItqtrle00vgTKBl+maYa3j5JGCG1sv3Tn4iHDFojX/zvkh0kanMT0kzEXoF1Hxnq/WF7bn0lkgUxwxJT6PpeVh2oPUcqP0uoabOKLSMyQH3aVUiilHij10XTHWH6xcfETm9hV8SOQQYpS6DClGy1RBHC6EiF7JazHGcQKWIml3/kcjiwsnnzQbVLrgpV0Tr0dXSjwQ6ZTXmVqNFV+R5kQMq5TGrn42rDKbHL7F0IiciBq25AruVhTFUZ83skGvW7jTsMB2aYmcOcP0yucMvpLiSt3bYmmZnR4kvRwU7LJfKBEtmLOv+YGdTsLTxzlmRgwb/Q/uGKttid/fG71QLCDapZkOmhB3mgq/k0yAjnkJaQTZynpW+VY7ZRY1CLv+qK2Z0fHc4VgHb8f0t8UOgSmxcScLVmlPfbsc5o9RlUCG3/g23NiRavr7bHN8MqqiB3agGTGeVu5KPBsawpN3J73Q3GVTqyW+6c2eXMvPV+bsJrFyab9TMV8SydXeQ9Js5jg/x/c5EBTOD4omIGxDvh8BE8yT0WzhfRP1d7G8kzh7Y0FlbZ69LSrh60VkkcFwYdXMWW4E8x9kZM9B2v+Pn7Iy6+SE7Z6eLEbB66T85Y1ZVLTHrVNG7fnGRFl0wSjkei6O/RFPa+jthk7+1YpWsuzo7RzNXgOlUMrmHfsNFeHBJEU9P16NEeoXs2s1AH2YsS7gOc66rkIXmoF0ZCEzYp6/y2SU0h5/Tc7OQSkZg4kfMJ4v51DAH2CgqVhcUUB6ns+6biCM0RKyyJGT2AmgpvyrLJWihTHzwRcyyZFtIhc8LrcafO30oRjM89lVk5fv2NmzUobJsGYbegnuRWHKw1uw9aj0BeW4QjRagJc8teL8G9+CEHUs0UySh6YlLWaklphvdfHvFNqfblRl64ErYEprSuq004BEKmxdgygtXi9dpGFWFkLrncXwPquiQxo0DrWnRKppCdXTzC4xxWIkrrH0DzcDrF5yocRhhYntSD7Tnf92SQW/hrKDzLdSxycqyxj8mw6vESaykoqW4+anpSZXMHI60CSfx7+kLOWHJbMjqt8Ph5bKLSyyLuLntf2J2+F7LcW9kAOop41EJwtOddca9HEwuvxeT7v03rUW1lIvIdCesYZpc8S7thygflaSnkxFs1VmPAwatRVeQjI2kcdDKT4b4YfBGvapjM6w6wcI7GKMtxl5EFsLMi96356yZsco40FJaX927JLRQLLQmoajUiame9SANr98LJ5sdJDOr+ZlQdPiuhdDNYq7Hh3R+d6x9MOlifu7eFWZVzxbkNTMZW7IozpVNCC36rIuZ/TeEzKpZn+81JNJ0+bmh1cfwUk8dxU2Eliczlfay/J4QZl9XV3eTM54ilbJpNtiReBzWwXYN2r1gYn2objiqG/sBETwUmDoZtFbtwLplNBY6yYYWWAh16Y8RSuDVA5tiWPkUS793H+a4RPPz34ndPCTUIxsHWtJzds7/qPUuY5x/y8zVa+4KUPyI2ULJHWGRc787E4pxFv+Tzl+LqkzjFMjobwLnx0CDTMGWp8ldE7FnzOgDVo3kgA0nj+bvs0wm4Wi8+IFM+IX66zNDRMV6rd24b9rQmDyZmtdW690LXX/NJy3/ROTttrYs5VByW3N9nHYRsZpwta2vBBpT29oKApULf6mDqo83Zv/Pvub2BOzZdpzbnCgTCU8MWk++2nDJbvt+7/LXbW3hf8QTyd+jcXjj42oY/GRmLrqmuTmjYYszfsguoplY9gUZs4wDLSytkSXEVfmSlb+ppO1m0DRMt1X+gHiTVeS2JZIlz5v3vzFEYKe/5+GXzMwUTa91KactOwSx3t9qQQF5A75t4bQUu2uk2PhnMhvv/bgE/V12277IJSHAVYwTg+mKtieJZBmLYQGCQ96jJRGYraEz1rlN36P5eDkwaLVZedqTw7LK294Ke2d/d0dmRZb729uPqmHZ0Z6t2HlaCLa33kaDoL09ArnFPQ+uea5N3I6wtycnLvmgvTAdaCoNctXu69VZM8FNWIl9Mc1pusQ4bV/1vAnZ7jjrCLPHfax7OI+NOXucr+14UjjxA+PMtWDGz5PcraW5NC2eiLQnB60V+3DuUymyZ9Oe2hM6ZB8v1mfdEejJbHZXaBycLuVkG2eNPr5IrfbkBgFLZ5GRqiLe3rEYDb72nlZs+G0kbxB5mz3OVJCauhlDy/YZ+O9CmqunPXVeJyHTqkwTLW8coZ7xHj2WQ3levN7s+9gHzDe8dBIwLbSaI8Lom9Sn1F8dn+RAXhZ4Bn6fL93b+EkxZFpoHSmqdU7JaqafuAQMgZZKG2VxvDDWzVH8xwvp9biDoKWwFbs4iF0in9bilRPYXMrQdKCjW8+aH98Taz0K8Ql5rI3wZxNFD6HvvU3i6d6DOknMotg4mmqyIEuWqsWGqbMgUMwYvKXHyekqPPbpGrHAHDfd4tJITwwlcA7MV8XM1XPIJsrknoBaRvvFKQKPVnmGuBsv3XESu5COpJdxsuIkFnP+gicgglbvx80DXza3fk0VkMkF11IqLA//Z275chXpHPGiivPSV8nZXYzwD7Y1z/5FGdtebP9JWXoBFbR/Kxah1j1a5d98uVjHqfLjfrZqk2LxqGJLbkYfe1Q/dbx3KoPHnH9hs7c2/ggexXxDS4jJNBdS00hDrzT7oBKiMLRF/4s4gfxOfGtpRDPq9vZpM82SLcYT0pl+OjuyORo1ST0J7VdTtXb9E1dxsgceJDYXRmq1ytLAG80JqLO8UNrcil7eXQHteahjHjm/tiqIXjGsAhY9vQ17uB5b2vuyFyod0KrzpY/IbRSivw8QJWI4xc5FtPrB1gexIo8GOQaNitLPaYMUOr4MEYlwvNx0F7mRWqT0fVrB5n+dIPJDoNx5412Rdsre8zbe0PDZ8FI10vVpcHoMWxd0TG640d/yKpGNPToGeNbBxg90QuZ2Kmjtotn5Nio0tMQHiRUTtBRoQStHt/3geugnJe6ZkMcybLOm8nSN667GWNY8i3aYRI5LkkBmceJX+Zzsp2J3pAu70KBM8nCkWJRCBupBItHhHBXjPW/dYo4ZJyJ+rsXS5MrtGmDze1S2fBw9t9YHi79qmUvBYUm+TEZMuavd3NQ5mdq7dW77Da1FUf3X3Ll1SfuUV9ec0h+1ylJ/ip9b+EXbXC5q9aU+t+e0yFD741hZmCAbjELy3wDctxcNPVra8GB3ju48voxa+7RGWGEvgD99ojYJbl5Bi0JxhuCEF6f4yKW+YkMkgxr0INHuh/i8tZzkOXEvPBROMMpI0Ya2UwYt925YJpns74d4koKf995wnIe4aRdWEyI5FLKeo1eM1l1+P8SHn4T4lZz0GxdCC9JqYYpeqCebi49hZxVKUyfa+Q377Ecw7aaWUV8SrzOC2ZJF+/oydef1fvhPDvVSWyi7ykj8w1cYzbAu3tqw69VK4GhoVVuLP0YXgDOF1kD049ya530zJ33OEGg9TOrJDmJW4TOgp0ErkqKleWjRpCeN2x3KcOKhteZCj3iNwzSBxI6Z3WfxQ4ouxj9m2DzAZwCmnUH2Df6pC3EFMUIr4fqyM57tI2ixvTln8Mu7QUNOVB5mctZSRl4rxsgPeCDZaMCpX39AZL1WsWQRniC0PEdByQbEU/ZauzjkVuoNiNzC4mY0/kMDYjYOiOeHQIEWj7MhD3R3FA6I/KZ1zcxkZ9HMBkRfHCt+EAjOpJylYniV/oBIgfmwaUNz3kjsKXBAJIo66Tyeg5bq0Rfk7JB+Y7viZxOw9kEDzajbPpiDYDSCbw6+tz0FMqcC2Px8Rh54Y3vkDZ024q247bb0xQnvvu3ZqFpQbccmbEth8WMFZEiQtZSyNoFSfcbSDbtD1QQS5iLKC98uEtjuOAz5Fu1s38bI5vtx2wU0tJ4WWkrf69vezNBTQcUrti+VYkOl2z5p2yqQRlZv+6DFsyZwu0hvYWvKV3k7aDuIrQJvk6FHup0QjJzA2tUft9EGVhi4Td/mg5il+yFnNY3vTNy+7ks2kyZ0RwFVSt52Qh3+kYBeU7igiJm9H6WA9Up8yydNFM1Ba975B0LqjJ9LNFqXQ35wJreKgh/GwAkHxTCnH3D/65nzPtDwTSPII1xSL3VrhS8OcbFDHG4Eu7igA9Say4WL4kmo+mYQJCJkdyLASWB5kg9c1y4tsYBsF8Y9TxvMz2IixMUlpATdLO668A7MopMO8fq4UKW69NAZaRItb0ddLoli5LArvnjBBSEmS3EhKUK5HiemBBaWfcWFi8LMIavtJHGC31uIxQ8upA/Jcymga+2W3kJPINNy1OGSzGR8izwxQZbkwjxFrnNeBu2WicjJxk0XuxMrLA1RmR5qmZ3OC8P9dG9eV7TyL/eP8Jvvz/7r2Sl4TPsGX7vSTwyteWtrO+yfeGr5uaXAZ/9U0otO5/yW9Cg/veJUhZoffnESODG0FHV1ArvPTNfIWa1kXpyMzDU/lwQMg1bXiQfaEzCza6wx9QR1mm81vQRYOhEfaz+/ZDlE0IjUH6uCm35+V5gn5D7FGuo8pYpJFM7Un0gCBL6J8pDYIyanDx1DlWgB2kW92T7h7w4/Zmm74scpq5+fKvyELmzLfmyAlfvE0Kx+helW0K3Rj/zAz4ga/LgETBypExgnKHJagC3cRw0u0p6EU6SeCW37ocpdSytBaGlCeuTHvDPXGCcL6X5+R0xXns0eQUs2/Nmt2hL/hZp/i7qU/yxWFxXV1jr/RfhcM3mQG0CTvoX5KQLfeO/gcc7uSLSVcqU6mazD+lS0nI0W2hkrB636qTYIagNqM8j5ueXep6eaxquyKmoTdfuUtMfWFlWoYDelNM8X54jp7s7Ey32f2hS2OjoLuutb66v7bDd98mt8JzGip6g2BNdGFX5f0Kf4ML01N9r0Ia5cc8cSayuKdG8p3pbJpCm5NgmjFRYTWnMvz8Hg+21tnBvsCYgbEElhatu29E4klP+hBM7h25R2awt5IHKSYKzPgqOTxROofQ894Ks/3l/MOTmpYeMbP/nIMNIa3MKgHXvBR5nM3thOrI1NkxoarfBlal/h4jc7cIciE/cpm8WRILUGrMDgFKg/YL9Op3wgG2Kx1uIJ/fjtYNhFHbbXs4HEyhSVoxNAKTzPhkSLMMv0LIx2UOeWVg4bF2SQG0knWG7VFvwYLgk7W1Oy5ouGHmHqtl4mk4tLoEHNbjJ2aE7z0H3+AalKTkYMWnKHZUWz315dQFJ2SHgWdNizHIg8dcQMrVnZwKpP89xE+PiEHer7ywL2B7Z7qL3aOlcni/FCqmVJS9FGoyUuR1vHSFfXuRUWLOattRaoLo1Au/CF5vPQGo/hFgZ5/vTvKbXxh2yI8ISG6Ht26NOP1L8f3lB5ZgPQQUMPLPthf9BvF8uQBSI+ILItnTB2FqRv6EF9LZNJQcVW9PsYaByw0vanKWj5u5f4xP0612v90ePDj2agKa7nrexbaKAZ63OJ045D4aQetobur27cvm0bAx1eqhkbTvVP5N3EY4D9Ohpau1lOTn/aOAAtin7bEwbE8tCqxcB5okIOacaG1ng69v0zOVdKg8giuw+tEv3wLVO+0YPQWpVgFyXLr+jzZ+M2D63B+LMaD+FoaEGxmzc6wcCgR8hHO7CBOJeQsv4kxEHLQt0SvAW18SBR3w4C6jWuo7WPIwYtP+h5NysoOnQcDYg92aw/4ajdfcpyFRRWTkgDcBWdFvwELLBea9IKS3BegVqcsHmzgBVGnh0wIxawyoV+twZwn222v5r9cUpo7V7EpYDAhjjurVGooR5daOKp22rnAhDzIygtxdmQG9oQRbqqduKHVHMwgSbM62x2YME+rJGYrY1TzTFP0JZUNEOfF8yP+/eDMss418y2BG4USWbmqRMQQUs+8e0ePE5b77PFnQeCfOXv1E4obpN1mdFwwOZE2nn1cgDOe4vQLtLiZCfILqJOOXcZXQPnt5EW4KFkcYy+wn1i0Fq6iNuEnFuDRcnDbYkudNOuaaLsXa3eQT6RGzuhltfyo2F1umYdp0mnhtZG7PBEAllQZDVU1ROrvblzuzArGWKcbDxxmMBOrNhH8VDwtk8gvee4NefmRCazYd0nq+22e53U6y5Me9dOpN7FtfrEj2tKfJvuy3MXTZ5OhGe+yWdimAXfdzIDz8a4wwSKam4iwgWTd0gnsi+gG9Le/YlZP50JxrBmE7TmXP9oOQVdJXGfo/uZ8yVNTIxIlKt7vO6iKOrredixFXnQ0kaaST5/WlqPEgZRLFs4CUWSTLeqCkUiUSAuZfcs3cgky9OsjSj5La13zoL4xy9EixMpvFE28qKzA/t61KdzBQRNsIjN/VTpND288Z2T6BIKbs0SZ9Nogj3/qQhn8z5uzheECwrDJPe8d1WIuLV+Er2q3i/Foi9RBa0IEJFsS0R/9ECfjOwfLUXfIcTOhppEwUzqhcy1wfvSpyL8FotFFfQiB0XJZNzHXE0WOncoA9nipvHkniwkuf5v/teBswbUEBDVT/26/Ogn9SrBHwd/45PLdR+fVqF6oCnCn9o6DzTfgJad4pajGWJnUU6cqE4uamMxxMtkn4F9Zp9DQoZp45+X7wYbzGtzGiqw47KXmOnVk4BpofXqycPMsdEk8BzQUj7dlWhdYNZ5KovK3tP1ZEZru7kgk0qAg1ZJXKTvE8j3T/L1Faz+DlQ8xvKZYPAe58qmT5v+vqg+tos1gNmlcyzEQBqWpHOxN+Cxk94iv821Zdi3S/fo1v6mZlPMBzCbzD1QG+ebchYKynFfpole9hUmCwnL4Ll7RLPSfl/iaynF11e3lD5pw096/4pvjfCRcl8WS/TYlwWoLPhyOoesFKFt2KAqOGg1hf4B8x49+iQ9/2bUYSsfX1A+LwTFUejLey8f16q1hxdae0xdpUfbzNgtuy4x0DJpUEMO3rTkkJGPfeiKY1q+zst8JzU/5QpbF3z+Fq4+q+PyfdCj1SOpPM/0rkErVmn5+PVNBznlt2mZnbgcnRPKYJ31n3Gm3JGY74ML2iBReTXydTa0F5WfdEMXLVqIMkGNeEdCvg/6C2wmX/EvUYEiK7Qo/OmdztGM8gPiFOtIAjAILFObj056y8qK2S0rXVPvLEHDV2+7ErjyXdEwseeAatAhC+adwKiGqVFRG1/mkKmwL/BeT69nMF/2e1yS7F/VlIba5RuursxluZ1VhlomjK8wFUkdWR8rv6yXuoRi31CvhWbDT1G1sYGas/wEDNFqoFMmJnkOFwjQRkGdWqpFNiTkYrDt+Qm+XptuWPdAmIXvnriPeG72U9Bl+rwuWAxlcgWXTrYPYB45CUMDGGrY2lC3HaB72YbVpRcs5teE7iaoueNo5Up/TwzqOoovPxj/Lw0wmez1gKzf6zbIy1wwVt/9kc5mWc2097inZqL3tuwjh4Y/t9qQ5mjZrx16/mufk+SKD9wOe/CggvRl+9AaMCG0av2KSH205VqageF0+xR5DU0piKMJ5zrsXzfc1EB8i752SRTcZJjgTnrXlmc+4yS9IIOfWFAJtNtaDEncdtgVPz67HgxTQBvtn11sT6xGOilDWpnoxyGiTboGexfPx7gpMPaf6IPktAaDjiw662SkBy3J59/9jVTXPNXF2vyJIolw1r2KsC4N5c4HkkOP0mUKkgSV8dDyD83AiwEduDGnE3VuEpTQujtY93Z7sU9DStsdnwW0Gn9ZGVihAOXvI29H6fqkcA5amoqRZTRJ7Ye4DqFXBtrVTUsbb0TeTkVOvnO+7a2bYzJoDYAs+zbQLIEPcUVp72CS2LOho+MQXR8AhT3zcYgMWnqacgN446HFYnbBr2/JXdcRVdo9nmC9Jb+gux3O5YDwZxO7olyl0LjMQevJr2OTceYQPNxsBS5DrM/Cvt4FrPsxTS7tqyilrPDN/IBoyl6rCt+Zez3sYjDjNZ1qLBVZvzgJD97w++bne6C4gJY7buGhuWSArE51y+Q36E6A1kyHZVgkuy9HDdYIraugetfL8f/CSZZzM2yi1ZMI7zsbIhsi+qXwpEGZZCdi3viHmJABDcg4yritwyj6Q6UyL5YT0D60cFxFV6tG2GRoYHQep7+BOFXxRlvIIM7sCvzBlqbAccV0VWFP7jVa4qBVfw5GYzdBMt5lC27Ly37Mi35bhN1rnRckYMc/nE69Fo9JU0Krx2thxaoZJrxagCXgVdfSTPVqFLQ4akDdPHjnRyVMSx6APwpseAtucd6dJiQNpvRMxaVhSjXUsJXNKC57oNlqZcYeB8jtwSdfoWElogSu4ofQ/hB6rYT2MxPyBVXJ0GxPvcdDeltz1v2QhLOq0EqoQk7uJsKQ4xQsue4prE+6nueglXT+bYurEPjhR52w5rPfpg5nC4vYy0pQhFhYeOMifS3WoloOixZffSymxUKVj9BboJp1De4otMcOV/+SMPm3Xc/Ay9x84c7by1Ehy7/bU6ZaWARgn5bwzWcW5IcHDSaca0G/B+7Mjb52jhaELJj2ZNq4qxaObGk9du536O6/IrGgzAHDbha+SlO+PVY2ckJKB1W4RQZbo3p307+9Ig9m9pXZv4lTEXmQRRxOuYZcLTzPyjqNHbeFPdMKlODKDLPmSixq8KAOs0giiQ2IWJaGMeeLXNj5CYiDlmZmbksJE0oNjngy7eJEs7UlVZPxaGuLmZCkBDrZ1sbE1OH1S6n7GnKyQfdNKJVKmMP9OPgV7RwmRtqgzeD5chYW5rZQfvKdazgamI403Diu0v/6tzhXXdUCl62Ju6g5kx5inxP9yia4D1Q+Nc2wz11UbT1dLW18iW3pmWnZW9ZyAjwnipMr/p5DG39k27q+tTihi+u013nOIchMP00JGAtaP03pmFt1CgkIoSUzxAJ4irrMj75WEuCh1VlW1jm29zeBte2wFFYFfnxPk5E8u6wDJkoGoKUY7QPT1woELqdnJNepK9x0qph5tkFrmRL/HbxTVoDzO56UlWVlzKWyCcOTkJY4Bd10pWncmG/QRHifExgrI5nMF5SV6SIM4G5ZGVMbjXGczFVyE8UaZr0wOjUwmUA7W+AQJxiGuXG7rKxE4DewXcasmKoyclGcvlFWNozH+rKym6Q2N4j4YDHroCCLt8GeHn8qVRsQbbr7dtAIaN70gXu/yFXBXBG3XeNZ0l3x2zTpU96J8imeA/WtmKAUBMz5gJwyHbRGfptzmZoa8z3zW851+oRMiCN2n+mibI3H8rLV71BRC+r7MUH+yElXTFAM6ndSLuVc1mmu5v4WnUNr1SKnT+ilj9q9TextlCUmVxjfuCm9EsA4CROxVC0hHwXl/lkDtW8EZf1Wa4nBHVSCYnpob53QgOsyePBmzmVcwEr/FB5EW3UZRgxao67YgJUSCIiIiUElsKoyJgaVGNkBDT4xj7XuheNvfRKDan8ojIlphT3fWxkbyQ+g2f9+TKruncE6GpvQI7hnMpHr4vp8DGPDeHdNbFk/wNIG0FSHaU92URVajFYEW73kUI94K/rOY9Qy46pswpZMMBuTCScNWjGEbdUeS95FSeSykBPREIxhOJa/3hJGwbvmbynEtBLb2E0k7cwamkLST6qoPJ4lBVpTitDku7LlQv177RjMxyhgrBXk6bqVmGsbKhwQGa2oT13FzVZYsTKEf87142vg7mDQ8qEvBsn124FC1Lt2FA0Pu49B8/kP6wdCtV/NdprlwAjI8y8/ehQ+MPGuR+XfCu0mN/+918BtDP/dJ27TusT8FJ5JTpN6tmRHNrr7qGWX1MKC7SrYR2Jc6/tuGVrrPnT+s5sbG/vb+ThEC25pHc/UbUanIAYtNM4Vh6Ns7kEN4t3/D272OrGpfu/mwFl/+WCxNHylRFIJ8+w3OsURYlUe3NRBms7VVikImXPvh3kuEncHEz+2/yc3D3RdQNq2NZgXBq0UZrrBdzEMKoqjaUuz/xWq4sO42co+VWNAAEjf7+jtvf8BBDf3ewFu4GyLutQYHpl4mYOW3x+TuekFs/6eNTFo3SNo4WtZ9HT5IBJbNAGFuhC3yW6YZLtV7cchmhZaYQxa2DFdw3enSLYUYwfWvAhdTAfOSFoH8pQa+ksfWjK2f5bxKYfN4ZQ8tLq4D0xpoTX3YC/D2RAp6QOOPysdsCUhbbzaRxftdxxbDFpJfK/r1whbbphO3evhogN2O5yxUEtoQ8Q+8V0vKyu/HLQKtgWTTRxzAEKIrtPmoXVr2Y+bv78waFURtOhjnNhL5T78vfN6rfGmCfMZQmsSDYe3k+jtrBTzjj4/6LotPH+fjdJ60JJziQ2MTpe5eK19aEm4xUxBqCC2wqYFHafw5HzafoxYMg3hiza6vv84thi0dr7AD73RmfZX1YhA8xGeEiO0BKnzqZjMQPBTyxzRKNB8G/xa6tLBYhe+uwtqL93sl4NWTCOG+rH1z4uAlifNq0as5Cp36pjgGs0TcEZ6j60oHtKsaqUXVI60RFzi56TOnHkh9pnLmONE+dTrOeQqMiPe4z/hAQ/s6Yd2YdWGhuF1mszLkL8I9ATAEFfu9abT214I7YNMWqAZl6Yz8+EuqwzHaKRHfmyyvGXJdVoTzPCbnA216ByyHLIOPpsw1QJqa3rLMX2G88KtEG86isX2JZN/joHsNwaluWKxWFIKV9790kroxrQkEeeqYVUiFifurP05cukzzaUyuCASWzTpqmOZ4Fd+40dWJ/o08s58QGwU//0S2TOHLdg+vOmWcdSGqxZibvuI+Db8Zy1W7DxO8rv0dzEufPLFv3BG564H4nc+Sj9taNphya+JP/mjHS6OxjzZXiQF4nTEEXSLxZ6sY2fxrtIcsQuNmjfEbzghJz3EiQzG/uAo/pPxp38bv3W0+wRrKbD8lQuB/i71pThi23G897MpuzJJnICCu/aJlfizBdhMFFuw+ZjXCdzIeL3WRm+vClSriM81XJb29vYqsbz57SE9Sc+wcjV06/TqJKzKZnbBa2cMZ2VaWr+EtjkploMA2wP5dIkpLdCHXyOemeldW2IcLbK1/Sw5JNKvXq4pStahK3vn6bC8tNqL8pvsXRvCuaGid3Vx9jni7Y5kQ3dyund+mclxi4lvh385k72crY4zHaLI6V+ekwmek73e3nXjMwS7Q73LyNDO0Fov2eql3ApfruR4lnFHWS8xJp3v7aVhe7qXe8tkCTaUTmno2flzhUD1gFX/6CHwD1TYfk0qHTO9lhI4JbSW/H0PhGlMC+d5/NZQr6VkX/tGnxJar738zAJ4qgTM0DKDw0QSMEPLRII1F2uGlhkDJpKAGVomEqy5WAYtxTzSulpGh/kN2KHDFkzRYQ+U7KxMvU4HBWq7kFZghg5rMMcuquSrdJiASTpgnB8dVkHFLk7DGh0WYJcOkzDBLsql7OIc7NFhBrbosKnPiZLjZOoEnEiP5mTaEE4YmzOwciQnjE1DONnjZXKQkwUqYA32OWEC0zxFJgZzgllGWcv4t7PBvZ0t7u0YxIkK9DnhXp2ce3Vz3Ks7Ribs1R3ihPd8GLZEEmtmXOg4CD50uAa36eAN3XSw3FXa0eER+NKhCKrpEA/N7OK6zIoOfZBBhzC4RQcvWGQXx0BCh+sQTQd/aKWDq3SPXexCdTlSIeTSIRU4Tia22MVOSKBDMZTQwRs62NmVDVs6jEMyHYqghg7BPCerMlf6WQ/hdAjiOLGGWfbkLFjToQqC6BAJDXRwla6xi+0QTIdCKKNDMseJrWKFXeyERDqUcJwkQic7u6VgnAxDKh3KoJAO6RgLR7QmdaVDA0TSIRqq6GANS+wiz8ktjpNw6KODlWyVXWzmOKmBIjr4wjgdbDd22cUO8KbDbSimQwIMsrNbE2I61HGc5EIpHdKhi13c4zhpBX86XIbrdJDAGLu4CF50uA9hdMiAATpYydbZxRaIp0M1VNDBFx7RwU7JcdINAXSohGt08OE4cZnR8Jzw0DJ33mYJGF8C5rmW8WVqLpFJwAwtMxBMJAEztEwkWHOxZmiZMWAiCZihZSLBmos1BForvM/TkdKaGB3dmTOBU5Ehr6aTOUTu08Io598zelQmDsWoXvxuP7njoSs/y9d5kJr1MmdIRznHqjYDvOBmWXSjlka5CIHufR9g/Yt6WY7WuFvnjqxkc1TPTYrfP66XvBqPoRleJvxtPCfbRzb7MScTnpSjXCjKyFHRp6pRveyTDzlOVkb1vJsNgFbRuW+f3oA77o6Otl+dwEHsOGGc4Pp1FxuBx/FOrGMqSkOd42jFgjP1aCXRMVEQVFBr40Ihdy2OjjmHWX9i4yJwSd9IcUwjEBSKbfVxcwSjHXaeghgw9WVHR+LkrovNEWE5uY6uAsQFfuBC5ZXafHJEHpEla8dQLvaGUb7Yll7liK2NLtzlKVLbS3dMFoTt3uM4eezpyJLS6FOTi4vAO3kmyjGG/ASLrdz1EMeeUSQ5xgvic0fFNjV4dtvPMVIpKNMAaI22PT1AaO0bbOW8/QuBVr0fqG10/ZZ9G9xH9/esy7BrKWwha2x8LTTywYf4qwN9dR2HYQ53ocnJOSjiZhc1SHRC9i6HRWd86RjG4aAXzHj45ew5KSAKE6HxFFgECgclNGG6UstDqLyZAQvOOvfwR/UsIvJBv+3hjDAyl2XA2/cp2xumnbdh1klFSd+eTVYdUIV52Hh6hHXYdcOWswb8D7loDqJMXLn4CyLvuzCCnsy4dZbCSS86hC5G1UC/LtJ1DDmJRU7ce+EG5wvNkQHQAg0XkHYUFVEA2QuiwmQUhi6fmNse9GOAbQIGuDscSl7hNCvc4LIWffe9b8EGhqyUHwrvHsTQKcqUx1NrdHcJepD3Ro7ejzgm4Skl/6zAvLI8DQZ21xRJYT2ytj6DJfUSEuXMvijIKdnCf75uh3MDSM9JoU/3XdzBOFmnFmi3wbgYFjzxDPKYRD977XVCmeQRbGKzizERmj41oEzSdaFp4nZYw6iMCAw+wpDAA+Q5AjMe2nP9yEkkcoJSH/YS3GkItCZRZE+hzIizx5V8g0gKeRhdgZ/lPjktQzd+Ssk1oBYdgpbtQ3iIEuBpHMUYcFeby1S/CR3Yy+BnuU9yb1cxAaPE0uO4uc28JQYXUxQFT/6uFtTPXXVz0wWmqBnzaogsxoAawRD9mA962N9qU8CT1GMD7utiDCiY0aUXWhAylIb0meSMgc+67oU6dQw1ncSIyJvaaFa5kpMmfW7puvAh/VymByrxwkJ0mGhHTigY3GKKtj3U0SmhlfMCeq0pS9ypDPcLq8Fey0o34xatAr2fEPTN9zgELZcxGGMRm4waCVr3ca9FDDlKOPhuOqnX0kVW+ubBQ3w7mN9T5fKs5QwWQwlhs3QCySmDXRslDGOCOtz7kaeHxLuoF5LwXTgIeq1nQeviNNzFwC2ebuLXjJlGm/FLyUB8PpPcdqCbxyxhnKA1DpvY7GuR+8/NuRJDVdBK0LqnLc2uC9YRgqEY+YP4PEBWdbCFF3nqol4LOcEO95HkhNBS67g7WEmvBUY8LSSf7VxLRiSHq/iJuFCooYohCaddjfgWcWfQOfzMD5BrJxBkMMqOYmtGsUG4RbbSbQ4ytTLef+IBAiSecrioWXRZWh97FyUY9eZxzBpxFUeQFIpLlrNRzbcEZBc2oA8HCbF2uSHnmY+OBvVFWnpiBkWieWSdSDd8aVsg9ZiCG1H0U0NyvoGcuC1h0n4c/I+bx2Oq4lb2tido7VaPnNiNwK6DGkJ1nSvP0DDKxIp6VxlrtvUwG3JpQ2zE5wEKvgfb2EPjfJ4WHQ+RE2/kxHkNrgunFwb0WjfSf5YsCDXUrybKJjnZ0faFKB+kBel+2SSy2gDiqTc92RuXLQr/ZMmTQ/wsxiTHsD4njSbUsuq0+EopyOv8kv0PdXCy637pBbQgW2RYnAxJjscAYFVZgOT+MV+Quk8ScpmEvcCWexMpyX7IifRKfFqe3qqcLk4HJvs1EpuZbB2R6/6LZOzZBpJ/6c3lfhBSZ1qyL5vmWdKEWlURILmnxsw3fjFlgnXjoafoREtwciLTanjSckdaGZ9WLQN5k19yxKGFqLQmLf4GfXdcipV17+R0/JKmg1IlDYekuemTHM9yZiTQ5Ex9SxKDaYmgJz5ZkEfdoGn8cN7dmqcn3lqvqTm81j+yncY/mc3Ff85wqpflGjbATNdQzoeDtFfDKY6WuGnyALe2elyjF+rGP9TA5TWY4zJJzdTwOQYMyJA0WsMekXHJVPY5uaqbwujYktVwg+QeG27qy+/WYCt6au5WH6Fzaq7hPoCHHJSqx9nh0WEQ6orn/9qu4eZzQ1w/znMyWHPUR3IXs2whKbh18GQNC9WU1xylcpkiZpEWOZVfI8fJUI3e8taAXusQv+YTZgkYIAEztAwQkvmW55GAGVrPIzXzMwZIwBBoTR9lRtove3tWoPI3oEJj3rKst3aR8gkbZtkS5wCpZ/Vm0msc0xNHtmxHz7q3N8umvJpZgRbqaY3Y0lNP7HKcKGcPLbHo9KzexETHyaEZP2YJ1GdzkVNa7AqTbTyFI5X+k+uYIweJn5weeGZNqGSYW57dZvOzRT1r4f4jnEz2aZLjZE6/MgOgtRdrGXpEe1lp6+igbhPJTebOnGodnAVmOI2PZSQ1uNjS8TDYN3wtfQUaiR6RB82WV+0xBOAQdTk7YPqafRoWWcYiqHqtLF2OXa4MiS0E1kd05bdHTubjLS1YNiZ9umHpKYDGuiOGABDNvHW4lh0/dLzX0T0PF1omtFg6HLU80KtlIdEyQ7CKrPMQkUFw0d1Sp7fT3t/tJtQJe35r6UEK93JnW24VIyRZqGWM4J03W14kw9huuuVl4fLAAGgFDsLtyKNxIwsl+8TF4heifBiXgMaOW8URxbZCIZqwigNhyfPQui/kFtzy0d7a76mUOg7CnOsSBB7C1pCtBlguKY4ebEA/6ue3t0HhfIzKdNJ2BxJII8ZR8xasucxRahqpuPug/ErjYF1nL5zDhEiBxXRP+f+iaxH/jMyqC7JQdckTbgy4YrMOy+ItSD8uQ1J6I+TrTDojjrIN9y7M9LUGSTUHGXrgOacSKKB9tqEZtRDlPrBne6i7ziiBOp3efRs5CUZOJJ2QqTNzGaR8QNgPcykJDxGvk3Uzflaqo+vTO5tPNkSd8cVhhyn5vFFzcPHQkIioWNTpj5kN8SooLqKW/VCWpjbSxlMmrH2avM4EpqkLEWjPj+JvG3WHRWjh09JWgz/1GRsdIYfGLqrhgra8CeKE1I3jgX46qyhfjvS8DOp1au5c3oaIurNA0s8+i9BK+Zjp2BhdJxsi7vD1A9qj4g4+hsZ+SOfUDxzJHVE7koFJ0tDMcYDs2kBDKQM56scawpGTi0p4wnRiPBnQa6EyKP0pwzoHrbkXA62zsSGiVv08m25UvXfYu0Rf5AdtiJDzAZu1Db81fvDlHLAhKkRqZreSpi8lH6rF2DZE9dWAoDcP2X4P2BBRWWWNHQa/H+IB9o1nQ1ySHOVcR9Wt4NeGhKb5F0C0mZmgC3dehx7scKJQfeemVbFXOSM5zoHNEPQy0wSjR2RDvIe7uMqhWjtMqtPo3nzoJPO0ngWlkzPg7bo+bcESQk8WwTzZEJlyfZ9m7dnQPGF/SOWcgt4UHtqRRoEmomq05cT6jX+kq7qCik0GmcMc3EvXllnA2xDRJIQD07PJYo+3b7HbbnE2RNzSLZeq16cm6rXIiW2f7AnjQWRD5JTNSLXEEG4r5/gEVrCH5qmLzNNYnmiBGWe1ZECvtR23NaezW+oxpIylLvRG6tnaEHkWytGFyqUbf8hZ9RaLMIKo8EW77wUttDZ2kVbkIO6CLjYysJ3ShvE+6wHYuCiH24hPnrboXgV0I0BimXqZFYtFTVzCnhn/dNBzahUIYoae1LDNmjMqtE/SsuEHBaiwRlvBuoB7LhzfGdvgUk4M0aaft31RkgFRv9GNqBoqdgak55SQx2xZjKFivA+tmS04YNDOoc8k0Tw8wbbyzb6Ho6r7E/q563xodtyI99nTbJyTJoyzGi8jjh200JojhnBbbK8m2GF5UJk025GTEOTEYwsGTuj58FFsgSc2/Uh68nlWUdCnxy6djpHA811WREdGFdOa8BEabAE6Y4oCkJHdqCLve4cE9xgvMvtPDLlKzN30TcJtJOR3vYtSD/m5TZdERUYTNreZ81FeclEMGpfbvIt8bhxjspMWJlyOJJWChr3OuyFFAchJS2JRqmATF76tM75FidfpJV6jxZ/8nncRZ3+r++TQ/EnegHWz1+tOzE5kRIQgJ6orIYERR6lZhMJsiynyZjZ1a1pTbmSlJN+cA/ntcDc9F232hDLTN6mMvoYuzjUsljnsLKRkJaDZ8QDNJhbFMIgm0xqVOAlFTh4FFCUK1TYG9Fp9uTlFR6yeuerkRTnH+aMdZMx4v8s4j70dbnrSn8NWcDM5h7oIPNubw9n1Oripcwn3AmtzjtLa5HPLsQnOenY7hxn7WnM4y+Iz6WoO0/eo6thd1TmNdBjJuXHEQxM51EVg9lyOr9oczs8w++YRq74nOdwHUMeGV1kO+g2x4o8fLB5wMoERTomWSXiRXzt69l/MnZ7iVkZDzIQIcznCqT07hTSf082OD7iZUk0O+5YHczi1GU8GQEt4u/lvswQMlYAZWoZKynzfCSVghtYJBWa+3VAJGAItfnvko4uc0BxypjO07lPfp9DXuvMRC5ojbQP64QxKzurDuYMepDm9Fim5e9S0L/dxJNUrT8VzojnKKQw0erNjHSdHca/PJs/J9HGTeOJW/8kNJWuB7Mhm8zLh26jg9+7WHKlY0i9gnxP9swZA6+oF0Z2nyXQ311nkUmxIG497K89xveOik8D0okoRsdlknsjvsE1TFiGKELzKMQuPdrx1Kk3EzYj1aNvpgi6YA7otRFGIw22JyPZYO/yap0errqhmG1E8crLjLXI6bIaDWyIvgXJ/y4/nRGF52EtaEyMSWgeGL4iJk3XxBW618AyajhMxZQhPXQ7kbw6TjqIjlElDIg+BciX2O9FFMsHUu7keYVy/I0rlQMpo3uYcWWQVPiK9FZ0B0GpQwjWh+ULAqzzrBykovjjORfs4CTzf9U6JZt5Khy3fbCjAmIe8JOhIO+Sem3ED8sO11fQ67mzZP4bptA5IOeSquWg1PyHR2Y+e7MEwqkwf9sC63THYWnFskQXoFnids9DuOA3zIzDpekhleisK+r20nyRxksRQfvffHrYh4oY9gToN1nj69JLrHqxZzc4FMw3AMyj1KmRe1l5/4DW159gLGvt2iDqErRbHzRV7nbVf0o+J33A/S295i/2hVXRZEWpWtMWuui4q45GTxFa4LFx7GgAtXIGWCC3vgqZMoXoRzRPOL0QbfwMtI546DFycxMyAqGVH34MLh7pR0TJskyGfoybUHQZUMUXlddS76lMbxh/o6SKnH6GeHEeRsTSt7vDot7mNusMioQVF9SCGQK6eF+xhyT8ahf3QOZ0NkTghHWVPhvshlZP0khwa+KgMvKUMP3PnZvbiAzOPgdaFLejXGSHISmldCzvf4/48qHfVJ7JSpnNu3UTTcvBDuISjDdHt0BdlOwgTOk3nY6wBg13gwhzUWQkKNQRaajudcVSfH86GOO3xQqB1VjbEkG/YHKL8U4EHz5Gv9JANMewtpvd59OXhkUs/DnHfhgjBPRR9oU/GtiFKK1NKDbAhjljhFNHUNkSQFTzl83jxNkTdi3Cehx7UgqfWgFwX4noLN0kT46Zs4l7o1bkAaENc0Sis7djVMXRvDbAQV+EQL2vC7hH7nrE0PY2g4P370pN3gEFLaENUdwdQryVfjz80yvkXC0NcFSI51KDJKSmx5SIFyXBEO7yJU9CGqGSb0vJUEKgLcX2aDbGQnoxRg8UaM4nyxIe4Yv6KpFTsjTia86N77x8MccWAOQpwC8KpGu56ydMjutV1BuyfwK7OhshCXMmGOCNMfmCQUw3OjQfZwHeYFMwFpDXgeLXw0c+f6mwh9u82OhcUh1UWhO6DGvpz2iXebjPSkBqchljgHk+Nrhg1hiGu5zCXAzqacCQfo3s3Md0rjpacmp8Im6b6jjPfXTw0Y+LvWaQnV2EZHU3CcLqnexK+UwAtLewOqdjjcFZySTsgKpCTfB8EpmPar/21BaxSsdsgvSRlMZc8ZaIDlgeGuOKAEXeEIyO7a5OexMicizswiDLhiQrxZJ5ociftolU9RPeuQCvKxFowA+thluZQbM5FrXPCFN36UAqewzDFOSYQdSEnycgJTkOamG2MJwMGxIri6oSnGXoaPimsrvzwOG8TQX1G/HPL/2b0ZQJRHXsbrSHVCQi07YTqlPxDUB9OqPahrxCYz4omLKssYwbUpSnVPofc+xQ50Tf9yXA8zwy0eTnVtEtvW0p1RJHy2dxPZ2aUJtN6aoIB4W5odRJy0pJUHR10aLW/FlIdXkLziPxi/Eedn1KdwByXHn96yOQsz4urTmDdXjyxNel7O7RMCcqisJK4YxzIoD6qOoH16970/FR4bg5yIr9/0+GwNWkhrKIskIxNLQmslcHEF+yl1mSwoEw9epBQHcWcJAKb8B9lRVhxEnJyNbk6kdbd+2QAtDZDQoRP6NeykBzC3IZfBEmTuS5imxqItvoQ9gGshhxa9OHZthDOIljPfYKBnO9ldchR7kLRqWzuOMOGJlVESD0e1IUhT9XA6NpeEMJsddNsOiwrCimnJ++FCH0v92+eDOEsiz3ctH2fk2u+Nbri9v+6GsJ9AFWsN1aEcIuqohDl4VsPnGkM4YIy7zEQypNokSEP9Bf4cuseyOD6y03Os6abU4JMhRzVM7aHcEqWRuwZkSo4TgZC9BQnBkDrWP7NN5glcIQEzNAyw8JEEjBDy0SCNRdrhpYZAyaSgBlaJhKsuVgztMwYMJEEzNAykWDNxZqhZcaAiSRghpaJBGsu1gwtMwZMJAEztEwkWHOxZmiZMWAiCZihZSLBmos1Q8uMARNJwAwtEwnWXOwBaPWT79UtYVKIwyKaPSb6wCxUswRIAgStOWf0ity5SAFhnuT+7cZ8wQ/RKJ99KVTn3fvKybBf7Hso78or14hXhGGCltodQ/Sk36Bz5hxzmS4Pm1biQaWGOTriv+R1KatIVFKfplJy7sFscxn8U2lAVPHLIozuxKG8JNYmM5lcAmxAnHSXwwNrJcit3ie513zk6oGBkQV/TLP0QP/tuw4udhh0e/+z33tQQF7B58zJvMDDw3EXOr9K9LB4WkYzkzN/4gpiKMPY5okfMz/wPBLg5lqBhZBAWamk58hXvPQ9haokDGQ+F6WqgWlo23mciRFH6mspKtZ7hVD4dWaWStVjPSP/9KaqTRcz8jwcnOUzjxOb837/4nJUnGVTX3xdHLTuSuAbNk5Y0hS9BLusJUwoGMklK8uTuH+EkURQmcGxG0n5v3CjWRZXi5mfH+si3V58e47hoN0u4tzhjBAvPduvJIMctLZiQ0JZFIsNRX5cwUCZJcrLyebrhfZL0EXxZZSRnYLq2GlbikFyWAfxKnTZv0otr095heaGr5JgD/HKKx/uv0/hSFtjH4/jiBj665YxXAZOuvou4XIqOmN1rFCM8/t87zEHKcyNsdO3UsbGspMVG+91Q/2PRyb5eRnFohm77MAleDSTySXAQ2uCBWpfdznvhGHffhlpLjU4AF70cMeYR2WKi4v3FZzHz4XRnqmLLtzpey4uISroOn8Fss4fChM1OdvPWcGoS9nT8pQ/Z4nmx54qAbM23gwOE0nADC0TCdZcrBlaZgyYSAKnh9axaRhNxLm52JdcAgxag172Eom1NuXSU1ju9ZJwaeqFJK2yaNVZ5aTraSxrzUOJ/QubLj+UUN6PNWwR5fxPlki8KHNgPfu1T+rEdLaqvSNh68VHErbV3Jq1MKXfS/7iXn72GLQ2U78bHq368hhur1kMH86Hu5yzGaRLxTPvep7tFDE1/P1RmySchTg60ocrylA5cqmnGz+ErQ+HnwRj4qp7ccNxupxok3F5ValrIAurGE7EnFkDScMRmKttMfHRzQjlWfD4etTBDYgDkQiHx5sWnr6i+D2YDhGJivHsFZGjD2Xh5amEy+WzbCmKKtr5IUkyaFN12Isgl9uEBKJeFLT6McHVjxro8+ikjDzTmCTSGhUnl/ZgUpe6bdQGd1JsBRnmDa5CZbB9LUsZGIoJ/TxYkiszGUMCHLSa/pz2kR/Ilv5902bTyHTSiFR6pQDtPZtrH4bpKrnNUhi3BHdthn8p+y52+J1e3XZm2rsu8wl1vXV9hDHYPFEZ9VEqGP9zmh03BN6nlJKZRbtJmNtvnwZsxJwRSx2CScwUMWleCMisLDR0HR7yT1S1+WadBPhe60LrHUxXuoLJh1FH+pfbN2/GfQcWOA/JJVM0Txy08sn7YRfSZgcTdTvlTV8rQ6I0si8BtO4mojlqArOT2dIkawK3xEUqcPZ21rZk6nJpdRgN49Op1Lk+CWwNQl80M7SM+2Fw0LrF7Qq4xVKWKj/JzcmpKOSgJciPK4AWbtnY3xYMTvt5Y+eKgpC68eEsPnfei+u1+lKnF7gdI7xoS7W7LG0kUpAuWWAfWtvjMU27LPk+YBq/C5hLHRNeB2KH62YeEI2GLwYtVYnnDFqn1UPfzijRoJOK9pzyUrhZMbP7OdsVjyMOWl1pQzPLt9TOdaM28ktcvkEdqWeS/WeYp+ALg1a91a4GN7hcujfT7zeLjDjQP7Ax40/WKUy4SSPeol/zmB/uNh5TqczENLkFWTOVOPCPxqzUBXNbx5nJCBJg0Br/7j03HM12HD51K8WfSm83N+p8rrm5XhBs5YcuXERLFm4ePZMfB+68teB1cKeCVbevP7Bge/fhFvUvhgp+sPDAnZy3ktxsmM8fy3gLZW4F3DrWn+X23LTEPQpA7WAr+oiy0pa4BVE/N+hhzW0baCZjSOAYlWmJAFoFNh1Hplc9go2FjvO6jROMwaa5jFdPAs+G1t2vdLuPQLOd1bNDfXStb7ayNS+1Xj0wGJfjZ0Orvf7wFiDGrd9c2k9WAqe3If5kRWNu2OkkwEGrODkplcXp/NTpWtJhW9VPvc0vqn0ctB5d/nPea+HYW/eXp20J86JewE+3Xn5A3CI9/KRdcpBt6gwkuBfYWqHu8JatbbgcRqzu2Fr/VL71SYujNjX56b7eF9kyHlrbpIefbvsv1V014zD0TmxXbSlUZc3P3wqbnvmX8K6BxBfmI2Nc4YSWxR9U8xq3AnNpWgkIoQULfLCqJwOSR87du/XvasAFY0LjX5QG1LivatMRWsNfyA57xm3HK1EaD61lZj3c5bc9tGVf9kUrH5+kSDlYIrRifxLQkkd87mr/W7Mt52yQyUNrEXeJRPvHBa5SC7b5WBjCaS9ICZ9XwY5gw+uz4csktSxatnT33Ob2+zOTqSXAQcv30ttuCKALbzMbYsBn35DnjDzazc0LA/XPe7q5tZiajzMpv+ht9ApMfNOcT+RMpM1BS6FRLUyDGv8ll/EJ1QSXcmNhgdxIXdUTyjPhxeSVTFM+lOlp82TL5JKmCo7Xxo/9zPenono4E4maK+ElcDy0Fq9kml1NzHg5uQSeAq3pQ/twC4qWPuviyVkwP/HTlABBS3XtWkUWzd911Pzmvm/yEc1efJN5bhpOmoIsgTvOTtbNs0hxdZuLva3PEjqZbWRRLMZGcVZWAX4f9yuy7nAa1LGz4Mhwgf0k7mTQKvhVRFbINb1URmIWrPAU8sQoq5NQ67v60PrjUXvan6TA4+9ddv8LRYxIK72z4nTj+VRKVsJ1GYz/OuvOJ/dh7g+XK1z8qKzl//VZzT2+NvMdR0iAGxBJCy9uBLlvfBop4q/FZ9k8hNuZoPJux59V8RnXsddJiU+j3upGfLRN935JceVRO3euoD99RHw8XSyPj7+CwTH98fFF13WqyXsUrwWX82Aqnen5AwW+qyZ6K9LJMvLBVmJNmUnaOgJDAb7fhcVaUAf3ggoDxgJZRFnuf6J2msmoEmDQkjvLKKhqJbCmriF5G24GNVz52Tzc+hHUThixmhfZcPW/1ipC8+safYfgdkRDzS+1aq70N5o+ueNXD7VXngzbbkBxdF1dzBtQF1VXV/ivOj/TgXTiucwZ5n5kfs3J+qOvURukLSyIjy2CpBrtuZmIXN97TPfAZ89sYcky79xJMrs8Gv0tcL3WpxYfXWyHxh+6utolSXAez7g3wzx6Q2TdRJUpDihdu49/7O/q8o6BHzBAwWpwn4/bOXABUgthY8De8TcquFPU1TXVA49Su7rWmnUqCw5agzj2sLi/s4VWDjZhn+ZCQwOaKMJiw5lFY8iCKZ5sLEUdZfa1MQ205BcWC/HzHf21xNHe64nqItbi1Q5jOEyWYRziObYg7P89XrRuUJ/HN+NHsaOMMqPBDUKqJmID5ucvoZ613NHRB5XdzY6OjoLZCwetYQmq/c8cWpeFWVJS8Mcliji6ickPkdrtqAuzuRjyd3+jS/a1L5DrtTAdwoCPpjsN/8wfkbkvwswn89CLZy9iLJUEJ+29my2UKbf8kdy1GTb+os0Ufy0HPMC7gZkgz80BpZDPToBkfIPblrosIxy0ah1B/halED+bXivnGtY0nXsD7tLIqH5AILqRBHtinANOWXIrQsk4/bvcWvvRWQzRrxnYCFpzXm/YzMDdUOi0sPRALM07Wsb/JgImAi29vkaD9VaMpWXwOjxwtrS4qYY9iWXam8n7UvrmC9nvOoOcN8ItLV3iW+G82NISey2f7y0tcUTV0kAs/TkZZen3V0f6y9f0L3LV8ndf2UzC3N88XT6hDCfTlmwBnG/pyfIBU7JyJEdeJ1L0prnXMjrwCVrq7c1FNBbi17y2xDRWmqUVNQ5r8qVlwDQbMLe0pMTDDndRsTQp1xp4d3bkWwrpHqiXlpZUOHAql5bwFcrkS0tsLsPTfc8NMkaqltaoPPVGMMWVmpZUS6urS2gx3FpaWmf5dKgFSEts3SrnFS1zvDlxbUfIrmk5e21KP97QYwRRtHwpEkyTh0Qfa+dqRijcXMRLKoEzgRb1Y7r2y817e72kYDAuW2cELeMybS7tVZAAg9by1bt5eeXGsHWo9K2LO7eqaJ87RntVA3l5Q8fJZCabTf/ld6tOl45oDlvEFLvdefruWRss20kfn1luJ48YXskzNOPAceybr+skwKD14PxnqamSPxpBLkpM5Sig5O/8tcbhIec/paZaoW7r6TTcBzvBmOmKPFwt+EXcczJV+3Zy8iMsp1GSGqhFN5X1BmpQZXl+aVdwji8NtE3tRM1KTGrwaxGF+ZyyfM7HuAGxMQP/QZlXJCXhCqosty4pVIlnKpOy26ZBk5KEWT61JA9LasW9n4aSkjC17FDmkyTcLArjr5NShtthN/33Sf6CsIbUe3jp/tUrHbN4UxcmUVuxHCUD4mTG3ZmikaRwWqjVJCXx73UkGN0tOi9wBqJ+0qM9P90iF2xcIHrIIEjI/cj/jRbPJ2hnCMZMk9nBbKVY2g9LfMDJ81dofvKgBDho9X1fFVEBE5cDK3NTJ6Hqn2wqo4thuiClMu6/SXeTCgov52hdtGYCgyotPoP2xMpK39vS9f/uXukfCYqK6MKa39rCQvSHlVcEPqnMWNj3/xS5eCI6SRsPeUmO2B0tvpk98evzldGJIM0PLyyMolSV8CQd9Zia4BguCHXc+lQvq+mfRS5oCt91w5RzAp1Vd/pN/II6EFo/9MFc7MBdfpuxzldqd7RTSebMHuag1fRZ4vlgaCJ9ZhGaQNxxSqSCIRH+vAo5PltTk+ep+2GUF4PO8/fAkVJEXFwD8TIsucBK/PjU1OITvMKyoWqJQWvTCbw62q04aN0OBbESCrESrxGYuAi7H61NTZVScuQnsaQhv54Djmw2dEpobbcqWjD18gqWXJyh5Wc6bDuPdGqPXAI+awXVm2mJGUq62B1sDsUwOuQ4aF2Pw/4CGnB3cyiORP8a5h9HCa+Rsj50sbTRJb0u5NKeeuIcBSxWKWXxA5oVxVg6kafMqrMehwxa2zZg3T+SxkGrMA7uRAMZh107YdUJNL+2s7S0QUvlSDDr7T7wDj2HzJwaWlQE5jKlXqtS51ST9WXF16xVQ50xD0D5vgoK6GJXms4oZXQJv7YFctCqZXhpoyTx/sX41lm/seykRO21jLmf3NSGszcQQIYgCrPMTjhPgt0mbm0B6zR6JeKp+YuQRaDjiUFrxx3sh57EwGM098x+uw27El8a8yT9sGKLky9cwHWWw3D6FD1THld5rYa5hZ2y19pCtb/dIMw4L0AG+QTKl0mzNl9a6ESGUpAHYYuV4imowCyaj+OkEPnaIsBkDWfQGvn6HXuaSjfY2IvRluv/Kze2o8iInb19xhwUiO1t0DVzn67jTTdgIs7e3r0DWn52DTJ+sbb263h7x8vY7Uwk2TsK9A8MWgU/X/dKffi3pm/+bm/vSji9jviC1V8kQeXP2uGBp7191GYPh6y5t7FPmf49BaEOn26uteRnb9OExTxwtWeuD9MWnG1n/D0c5lfsPaOoQS2O9pcR2eJLaRYfmEzCr23BDFqTHY/r2Lquv45ckx/0t3E6rrG6Oto2eKSO5Zbdp+46ctearqtDQ+9M1zws9m/I5obq6pjCXVXHMMJTAkFrvl+xMiRvWRt8XFfHusNWWlNu9M/CehfevF1XNw0r3Nxf9hh1Ucp+DESF4dMpH2CyjmvDNufkJ5/k7AHLPVjDXB3fCa+zi5OddSPPCAUQtt38t+ESMK02Pvc9u8MxjINvtx7Lnzr+R25OZ6ZXVgKmhRYsrAiMh7yQIvxqjhfX1tThB49/ynzHSyQBE0PrJWqpmZUzlgCDVvPw6OPhuqdmZ5vyNZyp6uvCe2e43BFHk3JYOC2D2Sc0xdon1TCblg09OZ0pEbWz+jlah8kTEGlxmCxQ89zFA5wY3lrznc+QAEFr/fcSy59LXN566m2oVTCU+keEd4Zi4NjTaCFVwoWOcST9ygsNR/u0kSRJIxBUWn2pb102lI/9+3pcJfw2euxMmcSV7QWKxkycuLc7SqJxpbjmo8fJSasw33+0BAha85dhwRbUGTP5CujEuLyaWw8zK+XQ2FGbSSuohWvkx6con83MVOIfg5kDj+v3C1u+15LJggrvZ2bSGnOwmixCbU9GM9FEB+Pvu2SijZij+UpcZz6s1CrIAm5Bt5WOKQUqN5E0mZm0oyq6OD+0ZSfcaI363DTjrIEMXUhPZgZMWGBfGR5OpSotVyAHV6slw6gCee4qzA8+RQL8XIvlMp36bBjuvYuKqP/uHOFTAqX/MSnCCsMkZqLew4sTv/sywj9BDY/SIzL+34r90pb+2SXCp2xOVhMTERiFQ9jwWxTjUPuvPhH2GHHY97lHxMD+rbN/Qgze+3tzqyWS6wSIe2CSgxOjDQ962/LonJJUvM/+CWjQLX//9HO/vgPa+DjczcpjElrSRymkdQODRcq9Wdm9+h4bz12f+UGdBITQAu8mUBLGbLF/mcHdoDDimUAks6T7U/MxJFEtu4BzFAtdJjdLTCAYP7BK5sZCipG+Rg9Mn8Ouj5QHEVrTI/4YQU1oSh+oNEgTcnAdJEPPAWjByqNQS1SWpjXCCsMdh7jnpgM2xHCM8hHtQttvAiwR8hsiGdQwD4kxFvptJqNKQA9afrWgIUuxLRP0GJqaQ2kwmXSmn94DoBSpZedwciLR+bbboEEl5Oo8ffQsJIxttUn7KrIt7vTCpJWe7Ws2ChgqRcqbBrtu2CFE8sRhaNnF934UGsCth2GGwiFPC60Dng8pJazXqvsWg3keYdlobSfN/7zktIsFo76Tn0hhPLQ0bI9pu07YvoRHRxbfsoqOEGXYVYGauTPE1YJcDDI3nKpc6ta2/hx2cH6tawTISjIrX0N3KFDiNCmPvKRi7gLa6PapMTUFI1w7wpHClODXAA/5jM86DKVjfR0ILe/rME9lnhZaWwjYINz4F+QzpCfLCQOZxwqMoguNfR8o3TbgDn4B2+ikth/F/xN5rS9DMzho7Tj+kowveVY+rv+tB7J+5UmSLvjVPLyHE57bfr/0qQfN2xIY/pc26PDzCfmFbkD8zsFHUimT3/XySUjSwKTPpx+HTMG9f2kH0afo3HnXyjpU10p5sJUgG85Ogg+m9NAS12sNuIb4pOHibSXKJ40Zak45IMrHrX1CySdr2pmqVoX5WI/LQZZtLcmXgXxE4hOJ47vNxSSrz1+Gl/HT4oGD1sL1erboqy2f7V6G1vqqRvzRX78FDfhHXXZ9eTvMDYzCbAMOHNv3eux1yTe8OrPZRP1JebkS13fld+9lK6C3fhUe1RNUnnC7h/M0oxftt1XO+ZNypKAAbFxclpePLuNaU1POz34cTjXXAugpZ9oL+RA7qMu7WTX13CSwq5ycm8ful18XBOQKOTb//fwSOLE2Xjm7XuvD1JlEE5/iEtIoJP1cfETg602X90+n1zIKb+ZCnkcCJ4bWtlicrotjaPeweaoS/4Ts7LYc4X2w1mIOaz6hHF+a208MrZeGczMjL7kEWM6H2Z2xIdx7AP9HWpPDwtCQSm8c8tcptI9pz7Jw/gSq5SWdDyFalI5c45cw0wtMCqb4+HNISSd3xk677cmUfugj1zPuDQ0xl+UF7qJ8SC+e7CV/Za8KeyxTjeQXTmKnDoj/HVqTrT5XbTuKxQ6cmYUnFhdhCNWJLMhPcJ+iP3YU+Gt1OovGDxdyMyIEFRiKoL9c3r+maoWNQHE6Tegynb4+3VxryVNM6hCeenzepkVp+9ticQ0eex3F9M3MRYoT9SzlhrTUfM9xEtDm19qwG9v+31ph8n8vAyf8ossFYYD3r/aRNvTJ1VsyWK7Fbqm3aT9MYXxcDaomck1lNOgqU3kKMof4cAvE7qtXlbjidJ+TO2pvnXkkhS4KEuuGTbQrKguLUvhCpqNqIL8Gulm+JLh4qhXigu0qJJGrK0dDtyS0uG0iPSmqIpIWIQzVLDFXoY2rzExGlACDlpwMLuKebsu06RSLTEi+Lxy4pDmSgPetQH3P0Ts9QjXyS/Q4L/jFvpH54pdSmHhbIkvHNICOTXALIZgm8CHltPFPJBERuDFvIwZsJGp9blb/3gXXhNqkGhbIg8yEoF4V8TRFeS9Pq9faRYX7Fb5gVroXYXvwfzjGkk8Ndog3EGU3CrYLyYhgJqNKgIPW+ymhqVekjb6FnhmFqLD2dUrUdT0FGCGa5w4PyJaTEw6lqNv2wYhDnlx3YQkhM9SCtMVsPWj+0xIHLc3K7dsfLrBgMW8+1wKe9RuBKS4cjaN8LqZrOpVD31YMsyadUmV6wIbIQ2vMf7DKh826OrxpJExzsn2WY5lRBf76FMZB64ObzthHNAVsfbBUyIJ5qmMx9p6jCAwS7LSG5l86u4m+K8boroV2T92LyE+BgAGQjg4jrcJdgpZA08WgJS21uHnzcw2ME7SwR+IJzdN7zO7NEwet6SgOWZp0bug8LbTQSlkSKaiF9VpE6VTPSDxNBeOyAWPZzGRkCXBzLbQgVtyAtgS4BYW5UIBnurVvPQtNNX3x0OGGK7gG9L4qLvLXumtR3NUNyQZsRMUijUMfTlk8tR5avHl6lrxjbBZYpgWJzhXC6SEsCjMt3KfgRDWNhkgLkUNQYwxooY27gn0s/Eo1lmxUKvxhPQDyLn/5GvqVWXbAGmcLMJMRJUDQUt35ecSGPLw84k1c6Vt8p/wPsdHR3lyoFZLGPyX6x7+vTF+JygqKQv2oxkIvQrD8c8HcSnknNUq4awbrtSa9sqKjHYZhrjgkuUyp5T0rINr2v2gdAzeKLnwaPank+yxIP5cZ96YRoKW+GhCdRLtdTItJt/Ew+h1HdH6Y9Y4OyVWC6hPfih8w4/hQYnSMtpM2omxf86IYtK6VZOKstqP+Gr6EmivKscaKCu07x7dSVvGwBvMxVFcUsaQis+hHIyBOK7VPxehsp6MoNrVaq6io6CLfuyvUH2rpSsXjKq2blDIzs6Bicm5fc/GgoKKIG1hP52WKHW0FS8OkHiElxlBF8R1yin1QwYxKV+9UZJJD/naF9kN6zeFgzOabVhvv/37i6ebHN7w+PZ1ey5iyMpd1IgmYFlozdeN8lqETMaW7uaVR0H0+Zxnmx16MBEwLrRfTJnOtL4UEOGhNLExPzYFibmLKAJNdbfdRnM9NoZozTOgL/7T2baez4DP5wuGYfaOIhLcH8vtn77foSEvOgYszp+tijcL9T6cQDlpJ59+2uAqB735kcUGn0zzYyAF+hp5/FH5GP7HAXDfh+pnbWAlCmyI7MZPD9OzT9h8IPFCNJtH+8E+Ymb3LQ4TmwulcCwcMLQJphkWG0FAOlRjJIysRudXgRVW0RRytH+vd3I3lIWS05rzCBe2HXTC9DppqVCE6bM0NDrK3NDP4UDoHO4l2g6QUWh5CL3Nl8zIqnx5yvhJEpSzoqjYWttuXpEvKfmhnCzN0f84YWlhSAC3BFgYHmffVNnPEx8gxlurKyDRYYkOWhAf2M5NWLTCHy8y4GoCoKrjqI6hJ+o8YeSFFm1UgxvgUXAFKfVofAENWZvcwo70PHlrLTHmZhtqdTK3FbSo13TsYDcirwa7B7wxDw1/fZtmx8j/EGNS93+O7aP+Zzi+0miLFyNAT++tMxds/+Pm4J7OxFbM93vwf8emxlo2wl+7qykJn2vm+rc80KnA7Stl0HfPEWVOYLcxkYC8blq3IZppTjuQp/mRwRyVdEA7OqHJZwY40Au2IFubQHmNDi4W4giTmRmWyNveidPfBPQ+08ngivKy7MV8xxeggheGHDv3BqBbirH6MOGjdTZ1JwpcTnLn5FaC2HQN88H1ufS7zLG12BysE7pgtdnn70BowIbTuIbQkZM3cPUcxRXJXD1dB6pvHidtodUJkuXFN0CSiCSELraOYP9NMRpKAXhyixNPr59pUy7Di6O3/Fjo7XSBtNhKLLETypzmX1K8O7AQBORy0mmx+pBeZ3tnuB5aoNridgb8W3cG6F3OZXsTBZvrcGUHr/j60YNofe62IcnU2publ6eFHjTdwiz1qRmg1/jsdQMapHDO0jAQqrhgeWltsjApYgusUNMaRHaZ/uIb683OoiQdExM1QuE/6SxpD0FMm5C7FR+8TB63OX3dF4Kw5gaCFTvPF7G3ueYL10Kg3XMAsx0raqXOez6Rtol7LfhErvYXWKM8mYhuKkTVMRj/PFg+M1l38PP6O3ODVPJzvbYR3AM7JovGrcMAppJmMIwEOWrVBfyptgfFPYlchk21GQJQaVFNq7S+FgajS0jgc3e5al7rIYKv0R5dquiXgA0GnxQ+IqV4wlxLa8mlO7982fqy6wa0A7/15xvJmx18nGkJKS1MpE4T/Z6VMEWoSaC2VfpaE38RMREV0tAYU4aUlIeg+U5dQmsAi3FK7GU9z4X+dAFVE6Q0fxJK13dWwv2IS8tQbkQVm9YNxcIWlcNAq8U1JfgI3UuJwCXh3f0iUhyYnVw2jlqg2ObmePv+rNA9bS06KSyGN1M6IkInCSPqVSbOb0OHw0unwmaoa3nGrL2WnMX8jcgUeJSdTzGIuVsY0EqM4aBmdOpJTfFli3HAG7N7kVLbo6+SqhFZuUbvkm4L+0YvJyfTzbmRyMrnYaFLRdG0mY0nAWNr4q+8mnXAGLI32oDz1ZvqpSsBY0JqoytfGvRomK9l1835ehknqFb3LWNB6RZtvZtt0EhBCayuaVzOYrjpzya+PBDhodaeKRDG+C78bf1bDm2qOF4vykqgcdt/zhqZ3MSuNwv3bI/I4HF/Kae5YdBUloo2p+XORxXvoaNjkxJSiHckeAo3p4sciiy8wgciGt4jWFVAsCsOra6VfCNe8p2HC/CxKgEFL+rs8jSb3U/Bp5IKfFcu0o83WJMwL1DyaSL9l8i9VLi/LQDUDe/gfKBXqZWGqhvXvNdOgts2GEh+NHOSam6ZYBD7zxT3p0DzBpBT3HTUzlpgRzD+S5Uu9XXFBEJz9yE4z43kPVAlNmuS7qCvN1ORhEOTjSBeB078ZHaeVAINWDplucGux+G+cPDAodczeyipoAYrfFdk65WhD1u9++AcnX9T++Dk5RU3Mf2bjWOGUo+z+u72T27COCS6FZGzH3QzuXDnTpJ4xbTsqYU6DYUjE+wMGLVSGCqA1rYFmT+xU0UR9H22JSdfhSQDdk26GlhFfFYOWLx+77hoOym9QY7U5WPce6kgjMS3xoE6HiBGK2MFZoyZo0Bts7zz8nUy0Dh9dhzkvXVgit2mdtyVn/N03LRqRXwOKin5rnd1lzQIZR7m46GkPAbTwdyx6PciuBTV8Sv4Qfm42SropntmzzWQcCTBoRVFaSaS0NtjC5LRDkuD036CV2Z9ZdLTEbIiyd9OsrV09wG8Ms94641abqEUN0UW+c9Cy9yrlAyw4+8/Z0kRtHH0PbdbMq/5oaPW4st64JD01EkfLmys1aD80Q8u474lBKw8DpDH9IsRiSm0nTEyMXile2GuF1ujVhV4MI3LpF8Pd3Y9qILhlJABcdsESTXEBur0EOGgldkA004jz9h/jsnx8aT+itUAZw0UEPcBoMCLG2D6pQvbdGcU4fTzXC5rv6FKArvs9vhLzHcdIgFshfpzS2BjztfKLO9D/2eSG0+CjRocmGPOQkJlHS9nxjW4yecmdzs7Q8o33yge/Vr0/DO/7NVan6ibyDFpzX6P7TVAQ+Q2efa/VV9B4ORcdSmdxIoU0GPZlI6K/t/7tPrb8C2VhYZs/soud9y1oBduU3OiPU8yVxvdTWEiZmYwiAQ5ac1ckkuzpXa8iaPDqgV4J/mqFai/rdKGiS17CHPluSzAEeserROOnySoEzxxJDO9PSgWtU07lKS/y7Aolg9yA0LXTKAwfV8iGv4QlA1vgRvMkay8J+onlS7wkFIAINeQWARvkSoMjvh+3Ah6XkJNzl8TLOupUeXGO4+31un5abbyzfuzE5Jt3BHHI0yVObOVlptdRAqeEVv/fz3PLMZ7k+UECh4i5sixyNTXTaycBFQZQnRJac1urZg+n1w44xzf4MWb+OyW0jq/EfMfrKIEeDNoyQ+t1fPMmb/MDVzO0TC7k17MCM7Rez/d+Bq02Q+sMhPx6VvEQzc9srvUgCsl3Q5NKx3YoosNVuEeHLHhIh6iZuSQ6dEMmHfKglQ5hsMgubqoj6TAKt+lwA8bpkAFr7OI6RNChEUrpUAyDdEiRrrCLSxBEh3oop8MdnhMlx0kzVNDhFtynQxa0sEcW5uLo0LPPSQP9CoJZdnFS5k+HESihQ/4+J6vs4ioE0uER5NOhGNro4C/bZRdn9znJo1+Z+5wssIvNkEWH+/ucNNOvVI3Sl44P4A4d8qCeDkGwxB7ZlabQoQ2K6VAKj+gQCOvs4ipk0GGc46QERukQqZ5kF3lOGoDnpIdOxs3NsIstHCf3MJUAUgW002Gfk8ccJ+XQR4d9TlY4TgY5TgqhkQ4RMM/KW+M4GYYbdLi9z8kmu4i5z+mA2nM6ZEI3HZJ4Th5CDsfJVToU7XOywWRSgjF4DFrbNUjV00o61KxDPR06oJsOA7DGzm5Iy+mwCE10GIEuOtyHSXZxQX2dDkPwiA7D0EKHKthiF1fgFh2a4QkdGmGMDtlqDbu4A/fo8Bja6NDKcZLHc7IKffRTy8kqe2RDlUeHRWilwwj00+EebLKLC+psOoxxnDzhOLnKc7IFV+nn0ZxsHsmJaoMVy3PSzcmkDzhOlBwn2xwnbfBYyIlmn5NGjpNmjpMV9iTPSQsnk0cwRIfr6gV2keekH0boVxMs0iFPy8kA/eyGDo6TdY6TacYJbgqnx8kOu6jPSR3HyS0tJ1X08yEMc5z0CjmZhPv0s0uPk3IpJ5M1YJz0cJzUazmppp9VGJxuXiG+niOWiVvdvD8gmrgec/GvnQTM0/jX7pWfVYN7MNGDeUA8K2m/VvX0m+dar9X7PsPGSjG7g7nXOkOBv15VGQCtzdzIp8tkI8/RsazwxfhmLtgnCCqeLE4mNjV1jroUYTq+7zoKM7DKYv2UdK3CkXZKOEDqBHuhB2SdI/MhnHT1FUQyvl4geb7WGgAt37Qfnl72D7GjoxH/9EKgtepztzBOl1g5PP5HYvOu5AvaZfEA3UoaTSFPUo42k6/fR7WlLKdgNKrz4K1TcYUDPjontPGo0VD0ct5OaLrifxRmn0/sr8NTBkALFMJdmvSFMsA2rex/Id9zPjpH27KAMI6k/FazVoK9PveviRZh0UN754gNgGsrKB2m4XCP3IYXE3Q7v3qOggKTvpVhZIoIA67NZLAEDIHWpPNTi8ui7cBeEOVhVkLKj7pPCxjnRsTS5B4g24fwECGzTwOWLpRQq8XGL/LQrR2o7cN9ZPfJbxxoU8VrGClnY3aZPcmrPiW0yijs9QXR80NrKyjvesQkyG7fHI+kuCNG8sospDowQ8tI79MQaG09fUAsZV/91gsZEG9gr+Uu8MRXiDiZeB4xNXdbhmXdlod96KgWnweKHzEJuHaP7X1ojeCG7lG6LCjug5iAFaAoA0MZjyjYSK/hp1iMAdDStHy0IogH05OC+q2glZXqv72QaXxz/GxHGiWMHGIT9InZ91dwG7O5lUtNh3eDuVO0UsaCbrMp3m07rf9h2hCoogZW0OniAK2ldcymEYhWWFB4TcZKPsKqO3h1JFib9/yniASjt8kAaAV6vGehi48+wMFQqIVF8hGTG6MzekSBS27uLE/pIJvwXXZ7jwJWmyzeupB4+OabuF07UQZbPk7aONMacM7HovXwrVvubrRJIqwyZQbkWQTSl9PuYW/A/kVn0exXpQ4DoPWqNMXM58slATO0Xq738RPixgytn9DLfLmaYobWy/U+fkLcGAKtvoSn7/o9FZWQonxB8lCFcNtp8NSY0M391X2EanOU2+yCI3VfQiTpS4YSEo5Kdh8aIowIb09g+U4ViSwFl5kMloAB0MpPzU7oeUqB9b+rzs7/Lf9KDa7UODeuJBXnBOmymdRHZScwLdf0/6FLJbdf07hPdght8cTRkn92bvgKqMKy86KGDjIzEZ1TnKRTMzxIyE5G5cam743oLKVxGH9NSjEAWgMy6HQ+WhwKSjAEjTEvRK9ViDoGG90esQ6r0EO2HFX+H8oPces8BEO8RhWvUY/ljhv5IGVielZ9GrTEjJl8mkS84jgOmgt4HyZydtNq7l8TcJyumQZACyvI4ZRCh2iF03CfeyFZqQ4YepznoRvNf3Ddv/hwRnFxL/S6CNh/aFVK+NpITjqUDeWAoUcyDlsIygKzDfGkQDMIWkVFTymWhI79hMeZQkuZnYe0CAeg5bQM3WjAmfWdruASsxE9pFtvyeCAeRpWoyvIQ2a6MOXQbtNmG+JJMfSU+w2B1p0sECaeFJQ0xayLKqczhZYmKRWpB26gttxTZ0O8MAnNOJaFf2n/J521cJxuDVSBCG2IOqcaYjoNU0wi0X6I+jSCEQOpun7PcxA2zqENEbd2dDLbEE+COgOgVXEZnjxlA3J50ffTas3HNSep0Wj3dkhmth3JJLjOEtcn5akzL2N63N4HYsr6q08RV9RXMujUI8q7ujauXvPqB2mfWpqkn2UaL25bbS9IaAq3wFJ938xR30XHsOFg5ZCjcPMFozXjJ1uQAdByc3L+kTOnHaaVm84il0r9pJNnJquei5YsF+kTthO7yl9UwarO/5imXPqkDhOFsrVGSDf+s5IsskC3PtkVkdvhGT/MW15gC+LlYFZGgShKiYfRC7aHxs4za+krWZEB0IINhX46f72GbihI8C+GlPpzcPR7IJqWYgLmQ8Rf5M8ruBFeoX+Wv6jSbxF/z8aZjvovRqBGrdUQaBm1QnNhr4sEzNB6Xd70mbfTDK0zF/nrUqEB0NJEBwn2rjsgGHVO0J0XJqscPd3ogyDmwYdrvCPYbQkShuN0BrE9hHaCgraOYL6SdlTQ0nwQixqSBT3VHfKFtf/lrtgAaGVFlCUcsrTxrRr+vKIs+tMXE0Q1ERSefE23wGgLKPNmjMj+v8M2xAcBZQG6GLLZhLKkCgWoMooqkg8pFOaKk8MFpsmlxLIAtD5qAkOjKs15zE8CZgOgheulPvujy1TGUkxyadQLsSHmxQC46ILFMNSwDVNKg/zqP3LaUCHZtEM76lN5kqKRx24A5IjLTIzd0KcOVAPH1mjPSVqBzFnX8D43c7CYkaEF8mshTxkRVy6yul6MDbGa4hB1wc9oQ+whhVZ9aubxNsTFENbfKStSDo2InRSHqBv8JMM6G6LZPG10aGUmUODMEcTZEOfczlTlM103jLT5FBvipL8iU6cHXadb2w7bEGcTi2l0U15O0qZ3kHfSvdvmOMSTwOdZ9xowIOLjwzTSPBVacLbQmgnGnc8kI5CPJgJXXWC+wya0o3OD/5cJv9XFTdbTrQnT4IyB+XxwNd8MyS32R773frPUyXRvFRtVU3WB+ViDAvvmMrQhWr6YOaWxXvVZl2MAtNACXJJxNF+yUPJUOV/yQkJch63lM3a0vthlZuOABijFzclXxhtpi+wDFFUFV9mGsv00AE52gdJxEGSIywh+u1nd/UO2M3Lrcfy9wcw9YQVQhxbU+mCYFOvtdHXWb+qVq88AaJV6WIY9bZ6+GudiKQ4/agV/BpJo9HBmntWNLO5wwscynC3hyv+IvgsHSBlnGaekc+lkeN4JsLTAD0aaa+lUfJjPdmePRjq7zTZEV0dbxlD7BjxczLP4E71UA6AF809XawFefMo87ERsPN/Nq5yfsZpTCsh4Nrcmj4C6fJn7OlTsoFrGfYGRlo9s2S7XO8l5XcMyd5x/QR/Q84nmJXjKEGi9BGyaWXj1JGCG1qv3zl4Rjs3QekVe1KvHphlar947e0U4NkPrFXlRrx6b/2AmswRMI4H/HwX6B6yVbYycAAAAAElFTkSuQmCC)\n",
        "\n",
        "Figure 6.7 – Vibrational frequency analysis of the ($\\mathrm{CO}_{2}$) molecule with Psi4 (extract)"
      ],
      "metadata": {
        "id": "hz1gbCo0jmUy"
      }
    },
    {
      "cell_type": "markdown",
      "source": [
        "# 6.3. Vibrational spectra for ortho-para isomerization of hydrogen molecules"
      ],
      "metadata": {
        "id": "86QAC7BKQXvs"
      }
    },
    {
      "cell_type": "markdown",
      "source": [
        "# Summary"
      ],
      "metadata": {
        "id": "e8LW4pIoRufn"
      }
    },
    {
      "cell_type": "markdown",
      "source": [
        "# Questions\n",
        "\n",
        "1.  True or False: The computational complexity of determining molecular structure and vibrational spectra increases exponentially as a function of the number of atoms.\n",
        "\n"
      ],
      "metadata": {
        "id": "wjswzTVFRzGB"
      }
    },
    {
      "cell_type": "code",
      "source": [
        "#@title Enter your answer True, False or ? for a solution, then execute cell.\n",
        "answer = \"\" #@param {type:\"string\"}\n",
        "solution = \"True\"\n",
        "if answer == solution:\n",
        "  print(\"Correct\")\n",
        "elif answer == '?':\n",
        "  print(solution)\n",
        "else:\n",
        "  print(\"Incorrect, please try again\")"
      ],
      "metadata": {
        "colab": {
          "base_uri": "https://localhost:8080/"
        },
        "cellView": "form",
        "id": "DtfjLkr-7wsF",
        "outputId": "924c1374-7122-4103-b460-85835026a26a"
      },
      "execution_count": null,
      "outputs": [
        {
          "output_type": "stream",
          "name": "stdout",
          "text": [
            "Incorrect, please try again\n"
          ]
        }
      ]
    },
    {
      "cell_type": "markdown",
      "source": [
        "2. What does the acronym ECG stand for?"
      ],
      "metadata": {
        "id": "H4e4Xf5eJu_e"
      }
    },
    {
      "cell_type": "code",
      "source": [
        "#@title Enter your answer as a string of characters or ? for a solution, then execute cell.\n",
        "answer = \"\" #@param {type:\"string\"}\n",
        "solution = \"2.\tExplicitly correlated Gaussian function\"\n",
        "if answer == solution:\n",
        "  print(\"Correct\")\n",
        "elif answer == '?':\n",
        "  print(solution)\n",
        "else:\n",
        "  print(\"Incorrect, please try again\")"
      ],
      "metadata": {
        "colab": {
          "base_uri": "https://localhost:8080/"
        },
        "cellView": "form",
        "outputId": "c4b13d69-782c-42ca-bc47-da15cfd35d69",
        "id": "u_Y7xI_ZJ5Na"
      },
      "execution_count": null,
      "outputs": [
        {
          "output_type": "stream",
          "name": "stdout",
          "text": [
            "Incorrect, please try again\n"
          ]
        }
      ]
    },
    {
      "cell_type": "markdown",
      "source": [
        "3. True or False: In the harmonic oscillator approximation, the force required to extend the spring is proportional to the extension."
      ],
      "metadata": {
        "id": "cgeXqWwsowlf"
      }
    },
    {
      "cell_type": "code",
      "source": [
        "#@title Enter your answer True, False or ? for a solution, then execute cell.\n",
        "answer = \"\" #@param {type:\"string\"}\n",
        "solution = \"True\"\n",
        "if answer == solution:\n",
        "  print(\"Correct\")\n",
        "elif answer == '?':\n",
        "  print(solution)\n",
        "else:\n",
        "  print(\"Incorrect, please try again\")"
      ],
      "metadata": {
        "colab": {
          "base_uri": "https://localhost:8080/"
        },
        "cellView": "form",
        "outputId": "014bfe53-d9f8-4d4a-a74b-b6f99119af2f",
        "id": "FmB21o5ho4eb"
      },
      "execution_count": null,
      "outputs": [
        {
          "output_type": "stream",
          "name": "stdout",
          "text": [
            "Incorrect, please try again\n"
          ]
        }
      ]
    },
    {
      "cell_type": "markdown",
      "source": [
        "4.\tTrue or False: When the vibrational energy is high, the harmonic oscillator approximation is no longer valid."
      ],
      "metadata": {
        "id": "VrR5r2SYo6Vt"
      }
    },
    {
      "cell_type": "code",
      "source": [
        "#@title Enter your answer True, False or ? for a solution, then execute cell.\n",
        "answer = \"\" #@param {type:\"string\"}\n",
        "solution = \"True\"\n",
        "if answer == solution:\n",
        "  print(\"Correct\")\n",
        "elif answer == '?':\n",
        "  print(solution)\n",
        "else:\n",
        "  print(\"Incorrect, please try again\")"
      ],
      "metadata": {
        "colab": {
          "base_uri": "https://localhost:8080/"
        },
        "cellView": "form",
        "outputId": "80aab862-9c81-43d2-f0ae-177e5cde258e",
        "id": "oBHEfJv9pAwO"
      },
      "execution_count": null,
      "outputs": [
        {
          "output_type": "stream",
          "name": "stdout",
          "text": [
            "Incorrect, please try again\n"
          ]
        }
      ]
    },
    {
      "cell_type": "markdown",
      "source": [
        "5.\tTrue or False: The geometry of the molecule used for vibrational analysis must first be optimized so that the atoms are in equilibrium and have no momentum."
      ],
      "metadata": {
        "id": "zHelX8FCpDDV"
      }
    },
    {
      "cell_type": "code",
      "source": [
        "#@title Enter your answer True, False or ? for a solution, then execute cell.\n",
        "answer = \"\" #@param {type:\"string\"}\n",
        "solution = \"True\"\n",
        "if answer == solution:\n",
        "  print(\"Correct\")\n",
        "elif answer == '?':\n",
        "  print(solution)\n",
        "else:\n",
        "  print(\"Incorrect, please try again\")"
      ],
      "metadata": {
        "colab": {
          "base_uri": "https://localhost:8080/"
        },
        "cellView": "form",
        "outputId": "702b7c36-2742-4058-c151-50ced10367aa",
        "id": "_2WZKgYapJv-"
      },
      "execution_count": null,
      "outputs": [
        {
          "output_type": "stream",
          "name": "stdout",
          "text": [
            "Incorrect, please try again\n"
          ]
        }
      ]
    }
  ]
}