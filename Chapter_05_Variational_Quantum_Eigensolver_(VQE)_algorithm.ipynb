{
  "cells": [
    {
      "cell_type": "markdown",
      "metadata": {
        "id": "BJegE3xDGDWy"
      },
      "source": [
        "$$\n",
        "\\text{This is the cutdown companion Jupyter Notebook of Chapter 5. Variational Quantum Eigensolver (VQE) algorithm of the book titled:}$$\n",
        "$$\\text{ Quantum Chemistry and Computing for the Curious: Illustrated with Python and Qiskit® code and with ISBN: 978-1-80323-859-3.}$$"
      ]
    },
    {
      "cell_type": "markdown",
      "source": [
        "The following MIT license only applies to the code, and not to the text and images. The authors are not granting a license to replicate or reuse the text and images in the companion Jupyter notebook.\n",
        "\n",
        "# MIT License\n",
        "\n",
        "Copyright (c) 2022 Packt\n",
        "\n",
        "Permission is hereby granted, free of charge, to any person obtaining a copy\n",
        "of this software and associated documentation files (the \"Software\"), to deal\n",
        "in the Software without restriction, including without limitation the rights\n",
        "to use, copy, modify, merge, publish, distribute, sublicense, and/or sell\n",
        "copies of the Software, and to permit persons to whom the Software is\n",
        "furnished to do so, subject to the following conditions:\n",
        "\n",
        "The above copyright notice and this permission notice shall be included in all\n",
        "copies or substantial portions of the Software.\n",
        "\n",
        "THE SOFTWARE IS PROVIDED \"AS IS\", WITHOUT WARRANTY OF ANY KIND, EXPRESS OR\n",
        "IMPLIED, INCLUDING BUT NOT LIMITED TO THE WARRANTIES OF MERCHANTABILITY,\n",
        "FITNESS FOR A PARTICULAR PURPOSE AND NONINFRINGEMENT. IN NO EVENT SHALL THE\n",
        "AUTHORS OR COPYRIGHT HOLDERS BE LIABLE FOR ANY CLAIM, DAMAGES OR OTHER\n",
        "LIABILITY, WHETHER IN AN ACTION OF CONTRACT, TORT OR OTHERWISE, ARISING FROM,\n",
        "OUT OF OR IN CONNECTION WITH THE SOFTWARE OR THE USE OR OTHER DEALINGS IN THE\n",
        "SOFTWARE."
      ],
      "metadata": {
        "id": "zfvF0_5uIplY"
      }
    },
    {
      "cell_type": "markdown",
      "metadata": {
        "id": "B-c-ynQ9eMA5"
      },
      "source": [
        "# 5. Variational Quantum Eigensolver (VQE) Algorithm\n"
      ]
    },
    {
      "cell_type": "markdown",
      "metadata": {
        "id": "-VltqWatg_ND"
      },
      "source": [
        "# Technical requirements\n",
        "\n",
        "## Installing NumPy, and Qiskit and importing various modules\n",
        "Install NumPy with the following command:"
      ]
    },
    {
      "cell_type": "code",
      "execution_count": null,
      "metadata": {
        "id": "7XhpijAbD1v4"
      },
      "outputs": [],
      "source": [
        "pip install numpy"
      ]
    },
    {
      "cell_type": "markdown",
      "metadata": {
        "id": "e86gdgsLD_pU"
      },
      "source": [
        "Install Qiskit with the following command:"
      ]
    },
    {
      "cell_type": "code",
      "execution_count": null,
      "metadata": {
        "id": "5W0P77WaD7Yh"
      },
      "outputs": [],
      "source": [
        "pip install qiskit"
      ]
    },
    {
      "cell_type": "markdown",
      "metadata": {
        "id": "S3Qs6ee42nIF"
      },
      "source": [
        "Install Qiskit visualization support with the following command:"
      ]
    },
    {
      "cell_type": "code",
      "execution_count": null,
      "metadata": {
        "id": "QTMbSY-62kEN"
      },
      "outputs": [],
      "source": [
        "pip install 'qiskit[visualization]'"
      ]
    },
    {
      "cell_type": "markdown",
      "metadata": {
        "id": "LM60UkgZVLaI"
      },
      "source": [
        "Install Qiskit Nature with the following command:"
      ]
    },
    {
      "cell_type": "code",
      "execution_count": null,
      "metadata": {
        "id": "bXRZVmawVN3K"
      },
      "outputs": [],
      "source": [
        "pip install qiskit-nature"
      ]
    },
    {
      "cell_type": "markdown",
      "metadata": {
        "id": "pREHzIBxgoGB"
      },
      "source": [
        "Install PySCF with the following command:"
      ]
    },
    {
      "cell_type": "code",
      "execution_count": null,
      "metadata": {
        "id": "Tu3pFrmffNhZ"
      },
      "outputs": [],
      "source": [
        "pip install pyscf"
      ]
    },
    {
      "cell_type": "markdown",
      "metadata": {
        "id": "_S1V_zmZGD1G"
      },
      "source": [
        "Install QuTiP with the following command:"
      ]
    },
    {
      "cell_type": "code",
      "execution_count": null,
      "metadata": {
        "id": "2zcuvbASF-Qe"
      },
      "outputs": [],
      "source": [
        "pip install qutip"
      ]
    },
    {
      "cell_type": "markdown",
      "metadata": {
        "id": "2HSQs87JGuOK"
      },
      "source": [
        "Install ASE with the following command:"
      ]
    },
    {
      "cell_type": "code",
      "execution_count": null,
      "metadata": {
        "id": "JGdC6bR_czCf"
      },
      "outputs": [],
      "source": [
        "pip install ase"
      ]
    },
    {
      "cell_type": "markdown",
      "metadata": {
        "id": "v6sRTZCwoLBw"
      },
      "source": [
        "Install PyQMC with the following command:"
      ]
    },
    {
      "cell_type": "code",
      "execution_count": null,
      "metadata": {
        "id": "qoYWuDLll5Z3"
      },
      "outputs": [],
      "source": [
        "pip install pyqmc --upgrade"
      ]
    },
    {
      "cell_type": "markdown",
      "metadata": {
        "id": "4nIeJ3or_sBT"
      },
      "source": [
        "Install h5py with the following command:"
      ]
    },
    {
      "cell_type": "code",
      "execution_count": null,
      "metadata": {
        "id": "88X3YHN-_ukQ"
      },
      "outputs": [],
      "source": [
        "pip install h5py"
      ]
    },
    {
      "cell_type": "markdown",
      "metadata": {
        "id": "gK8E5qN6miGi"
      },
      "source": [
        "Install SciPy with the following command:"
      ]
    },
    {
      "cell_type": "code",
      "execution_count": null,
      "metadata": {
        "id": "jrkzrEr3mj1t"
      },
      "outputs": [],
      "source": [
        "pip install scipy"
      ]
    },
    {
      "cell_type": "markdown",
      "metadata": {
        "id": "OxaMfQHwEOdg"
      },
      "source": [
        "Import NumPy with the following command:"
      ]
    },
    {
      "cell_type": "code",
      "execution_count": 11,
      "metadata": {
        "id": "QhaIzlQ5EN3r"
      },
      "outputs": [],
      "source": [
        "import numpy as np"
      ]
    },
    {
      "cell_type": "markdown",
      "metadata": {
        "id": "6PSJLYf6cMeH"
      },
      "source": [
        "Import Matplotlib, a comprehensive library for creating static, animated, and interactive visualizations in Python with the following command:\n",
        "\n"
      ]
    },
    {
      "cell_type": "code",
      "execution_count": 12,
      "metadata": {
        "id": "nJSPiCdFcG-9"
      },
      "outputs": [],
      "source": [
        "import matplotlib.pyplot as plt"
      ]
    },
    {
      "cell_type": "markdown",
      "metadata": {
        "id": "N9_Mtr8sEl3I"
      },
      "source": [
        "Import the required functions and class methods. The array_to_latex function() returns a Latex representation of a complex array with dimension 1 or 2:"
      ]
    },
    {
      "cell_type": "code",
      "execution_count": 13,
      "metadata": {
        "id": "wplPi--1ogzl"
      },
      "outputs": [],
      "source": [
        "from qiskit.visualization import array_to_latex, plot_bloch_vector, plot_bloch_multivector, plot_state_qsphere, plot_state_city\n",
        "from qiskit import QuantumRegister, ClassicalRegister, QuantumCircuit, transpile\n",
        "from qiskit import execute, Aer\n",
        "import qiskit.quantum_info as qi\n",
        "from qiskit.extensions import Initialize\n",
        "from qiskit.providers.aer import extensions  # import aer snapshot instructions"
      ]
    },
    {
      "cell_type": "markdown",
      "metadata": {
        "id": "dVEh1h6Nb975"
      },
      "source": [
        "Import Qiskit Nature libraries with the following commands:\n",
        "\n",
        "\n",
        "\n",
        "\n",
        "\n",
        "\n"
      ]
    },
    {
      "cell_type": "code",
      "execution_count": 14,
      "metadata": {
        "id": "Hhf24btZbj7x"
      },
      "outputs": [],
      "source": [
        "from qiskit import Aer\n",
        "from qiskit_nature.drivers import UnitsType, Molecule\n",
        "from qiskit_nature.drivers.second_quantization import ElectronicStructureDriverType, ElectronicStructureMoleculeDriver\n",
        "from qiskit_nature.problems.second_quantization import ElectronicStructureProblem\n",
        "from qiskit_nature.mappers.second_quantization import ParityMapper, JordanWignerMapper, BravyiKitaevMapper\n",
        "from qiskit_nature.converters.second_quantization import QubitConverter\n",
        "from qiskit_nature.transformers.second_quantization.electronic import ActiveSpaceTransformer, FreezeCoreTransformer\n",
        "from qiskit_nature.operators.second_quantization import FermionicOp\n",
        "from qiskit_nature.circuit.library.initial_states import HartreeFock\n",
        "from qiskit_nature.circuit.library.ansatzes import UCCSD"
      ]
    },
    {
      "cell_type": "markdown",
      "metadata": {
        "id": "znAo5E9yi4n7"
      },
      "source": [
        "Import the Qiskit Nature property framework with the following command:"
      ]
    },
    {
      "cell_type": "code",
      "execution_count": 15,
      "metadata": {
        "id": "P0qUpRxujCJq"
      },
      "outputs": [],
      "source": [
        "from qiskit_nature.properties import Property, GroupedProperty"
      ]
    },
    {
      "cell_type": "markdown",
      "metadata": {
        "id": "vn7jUiP7jUig"
      },
      "source": [
        "Import the ElectronicEnergy property with the following command:"
      ]
    },
    {
      "cell_type": "code",
      "execution_count": 16,
      "metadata": {
        "id": "3GUTmFRiWB8O"
      },
      "outputs": [],
      "source": [
        "# https://qiskit.org/documentation/nature/tutorials/08_property_framework.html\n",
        "from qiskit_nature.properties.second_quantization.electronic import (\n",
        "    ElectronicEnergy,\n",
        "    ElectronicDipoleMoment,\n",
        "    ParticleNumber,\n",
        "    AngularMomentum,\n",
        "    Magnetization,\n",
        ")"
      ]
    },
    {
      "cell_type": "markdown",
      "metadata": {
        "id": "4F9Z9O_zjkY3"
      },
      "source": [
        "Import the ElectronicIntegrals property with the following command:"
      ]
    },
    {
      "cell_type": "code",
      "execution_count": 17,
      "metadata": {
        "id": "vL7qxdOobzQ_"
      },
      "outputs": [],
      "source": [
        "from qiskit_nature.properties.second_quantization.electronic.integrals import (\n",
        "    ElectronicIntegrals,\n",
        "    OneBodyElectronicIntegrals,\n",
        "    TwoBodyElectronicIntegrals,\n",
        "    IntegralProperty,\n",
        ")\n",
        "from qiskit_nature.properties.second_quantization.electronic.bases import ElectronicBasis"
      ]
    },
    {
      "cell_type": "markdown",
      "metadata": {
        "id": "64cFXNNGkGuI"
      },
      "source": [
        "Import the Qiskit Aer statevector simulator and various algorithms with the following commands:"
      ]
    },
    {
      "cell_type": "code",
      "execution_count": 18,
      "metadata": {
        "id": "IA8RPyqukF4d"
      },
      "outputs": [],
      "source": [
        "from qiskit.providers.aer import StatevectorSimulator\n",
        "from qiskit import Aer\n",
        "from qiskit.utils import QuantumInstance\n",
        "from qiskit_nature.algorithms import VQEUCCFactory, GroundStateEigensolver, NumPyMinimumEigensolverFactory, BOPESSampler\n",
        "from qiskit.algorithms import NumPyMinimumEigensolver, VQE, HamiltonianPhaseEstimation, PhaseEstimation\n",
        "from qiskit.circuit.library import TwoLocal\n",
        "from qiskit.algorithms.optimizers import QNSPSA\n",
        "from qiskit.opflow import StateFn, PauliExpectation,  CircuitSampler, PauliTrotterEvolution\n",
        "from functools import partial as apply_variation"
      ]
    },
    {
      "cell_type": "markdown",
      "metadata": {
        "id": "3q_1g7gbcZ1c"
      },
      "source": [
        "Import the PySCF gto and scf libraries with the following command:"
      ]
    },
    {
      "cell_type": "code",
      "execution_count": 19,
      "metadata": {
        "id": "AipShC3gcY0E"
      },
      "outputs": [],
      "source": [
        "from pyscf import gto, scf"
      ]
    },
    {
      "cell_type": "markdown",
      "metadata": {
        "id": "p7AEPOIM8jKr"
      },
      "source": [
        "Import the PyQMC API library with the following command:"
      ]
    },
    {
      "cell_type": "code",
      "execution_count": 20,
      "metadata": {
        "id": "nN8IdIUz8CTF"
      },
      "outputs": [],
      "source": [
        "import pyqmc.api as pyq"
      ]
    },
    {
      "cell_type": "markdown",
      "metadata": {
        "id": "jvZWffRz_nAS"
      },
      "source": [
        "Import h5py with the following command:\n",
        "\n"
      ]
    },
    {
      "cell_type": "code",
      "execution_count": 21,
      "metadata": {
        "id": "kptUG-hEAL3H"
      },
      "outputs": [],
      "source": [
        "import h5py"
      ]
    },
    {
      "cell_type": "markdown",
      "metadata": {
        "id": "6BY3rD8LW6NB"
      },
      "source": [
        "Import the ASE libraries, the Atoms object, molecular data, and visualizations with the following commands:"
      ]
    },
    {
      "cell_type": "code",
      "execution_count": 22,
      "metadata": {
        "id": "VW3r3lIJ3QJg"
      },
      "outputs": [],
      "source": [
        "from ase import Atoms\n",
        "from ase.build import molecule\n",
        "from ase.visualize import view"
      ]
    },
    {
      "cell_type": "markdown",
      "metadata": {
        "id": "koU0wN7hy2W9"
      },
      "source": [
        "Import the math libraries with the following commands:"
      ]
    },
    {
      "cell_type": "code",
      "execution_count": 23,
      "metadata": {
        "id": "NV8yxxgPywSj"
      },
      "outputs": [],
      "source": [
        "import cmath\n",
        "import math"
      ]
    },
    {
      "cell_type": "markdown",
      "metadata": {
        "id": "SpAPcsCe5QaG"
      },
      "source": [
        "Import Python’s statistical functions provided by the SciPy package with the following command:"
      ]
    },
    {
      "cell_type": "code",
      "execution_count": 24,
      "metadata": {
        "id": "Qc2EdXBO5O-U"
      },
      "outputs": [],
      "source": [
        "import scipy.stats as stats"
      ]
    },
    {
      "cell_type": "markdown",
      "metadata": {
        "id": "3RmYMhFPy5t8"
      },
      "source": [
        "Import QuTiP with the following command:\n",
        "\n",
        "\n",
        "\n"
      ]
    },
    {
      "cell_type": "code",
      "execution_count": 25,
      "metadata": {
        "id": "Fk7gy7fQzAri"
      },
      "outputs": [],
      "source": [
        "import qutip"
      ]
    },
    {
      "cell_type": "markdown",
      "metadata": {
        "id": "dMbTi7KfP3y9"
      },
      "source": [
        "Import time and datetime with the following command:"
      ]
    },
    {
      "cell_type": "code",
      "execution_count": 26,
      "metadata": {
        "id": "E8RSchxzrN4T"
      },
      "outputs": [],
      "source": [
        "import time, datetime"
      ]
    },
    {
      "cell_type": "markdown",
      "metadata": {
        "id": "EsiDs-xy4BXf"
      },
      "source": [
        "Import pandas and os.path with the following commands:"
      ]
    },
    {
      "cell_type": "code",
      "execution_count": 27,
      "metadata": {
        "id": "4BIIrijz3_t1"
      },
      "outputs": [],
      "source": [
        "import pandas as pd\n",
        "import os.path"
      ]
    },
    {
      "cell_type": "markdown",
      "metadata": {
        "id": "7bPyD8rkBoCi"
      },
      "source": [
        "# 5.1. Variational method\n",
        "\n",
        "## 5.1.1. The Ritz variational theorem"
      ]
    },
    {
      "cell_type": "markdown",
      "metadata": {
        "id": "fLyYloHBUQoV"
      },
      "source": [
        "# 5.1.2. Variational Monte Carlo methods"
      ]
    },
    {
      "cell_type": "code",
      "execution_count": 28,
      "metadata": {
        "id": "2WInFTkyQxTQ"
      },
      "outputs": [],
      "source": [
        "def p(x):\n",
        "  if x < 0:\n",
        "    y = 0\n",
        "  else:\n",
        "    y = np.exp(-x)\n",
        "  return(y)"
      ]
    },
    {
      "cell_type": "code",
      "execution_count": 29,
      "metadata": {
        "id": "JFVMuHUUfAi1"
      },
      "outputs": [],
      "source": [
        "n = 10000 # Size of the Markov chain stationary distribution\n",
        "\n",
        "# Use np.linspace to create an array of n numbers between 0 and n\n",
        "index = np.linspace(0, n, num=n)\n",
        "x = np.linspace(0, n, num=n)\n",
        "\n",
        "x[0] = 3     # Initialize to 3\n",
        "for i in range(1, n):\n",
        "  current_x = x[i-1]\n",
        "\n",
        "  # We add a N(0,1) random number to x\n",
        "  proposed_x = current_x + stats.norm.rvs(loc=0, scale=1, size=1, random_state=None)\n",
        "\n",
        "  A = min(1, p(proposed_x)/p(current_x))\n",
        "\n",
        "  r = np.random.uniform(0,1) # Generate a uniform random number in [0, 1]\n",
        "\n",
        "  if r < A:\n",
        "    x[i] = proposed_x       # Accept move with probabilty min(1,A)\n",
        "  else:\n",
        "    x[i] = current_x        # Otherwise \"reject\" move, and stay where we are"
      ]
    },
    {
      "cell_type": "code",
      "execution_count": 30,
      "metadata": {
        "colab": {
          "base_uri": "https://localhost:8080/",
          "height": 279
        },
        "id": "o0kfuydBsikR",
        "outputId": "d815bbfa-8d83-44a2-f595-eb103807818a"
      },
      "outputs": [
        {
          "output_type": "display_data",
          "data": {
            "text/plain": [
              "<Figure size 432x288 with 1 Axes>"
            ],
            "image/png": "[encoded data removed]"
          },
          "metadata": {
            "needs_background": "light"
          }
        }
      ],
      "source": [
        "plt.plot(index, x, label=\"Trace plot\")\n",
        "plt.xlabel('Index')\n",
        "plt.ylabel('MH value')\n",
        "plt.legend()\n",
        "plt.show()"
      ]
    },
    {
      "cell_type": "markdown",
      "metadata": {
        "id": "JZsstBNM5p2t"
      },
      "source": [
        "Figure 5.2 – Plot of the locations visited by the Markov chain  x"
      ]
    },
    {
      "cell_type": "code",
      "execution_count": 31,
      "metadata": {
        "colab": {
          "base_uri": "https://localhost:8080/"
        },
        "id": "MXba7Tao8P-c",
        "outputId": "2cdc5f59-0b8b-4089-8b66-fcf013f6aee4"
      },
      "outputs": [
        {
          "output_type": "stream",
          "name": "stdout",
          "text": [
            "Freedman–Diaconis number of bins: 81\n"
          ]
        }
      ],
      "source": [
        "q25, q75 = np.percentile(x, [25, 75])\n",
        "bin_width = 2 * (q75 - q25) * len(x) ** (-1/3)\n",
        "bins = round((x.max() - x.min()) / bin_width)\n",
        "print(\"Freedman–Diaconis number of bins:\", bins)"
      ]
    },
    {
      "cell_type": "code",
      "execution_count": 32,
      "metadata": {
        "colab": {
          "base_uri": "https://localhost:8080/",
          "height": 279
        },
        "id": "is8MAaW17KQR",
        "outputId": "87baca88-4acd-4940-98f8-4f9e05d0ef8c"
      },
      "outputs": [
        {
          "output_type": "display_data",
          "data": {
            "text/plain": [
              "<Figure size 432x288 with 1 Axes>"
            ],
            "image/png": "[encoded data removed]"
          },
          "metadata": {
            "needs_background": "light"
          }
        }
      ],
      "source": [
        "plt.hist(x, density=True, bins=bins)\n",
        "plt.ylabel('Density')\n",
        "plt.xlabel('x');"
      ]
    },
    {
      "cell_type": "markdown",
      "metadata": {
        "id": "daX3yFS4yy06"
      },
      "source": [
        "Figure 5.3 – Histogram of the Markov chain  x"
      ]
    },
    {
      "cell_type": "code",
      "execution_count": 33,
      "metadata": {
        "id": "O8uSBgdlNCiY"
      },
      "outputs": [],
      "source": [
        "def run_PySCF(molecule, pyqmc=True, show=True):\n",
        "  # Reset the files\n",
        "  for fname in ['mf.hdf5','optimized_wf.hdf5','vmc_data.hdf5','dmc.hdf5']:\n",
        "    if os.path.isfile(fname):\n",
        "        os.remove(fname)\n",
        "  \n",
        "  mol_PySCF = gto.M(atom = [\" \".join(map(str, (name, *coord))) for (name, coord) in molecule.geometry])\n",
        "  \n",
        "  mf = scf.RHF(mol_PySCF)\n",
        "  mf.chkfile = \"mf.hdf5\"\n",
        "  \n",
        "  conv, e, mo_e, mo, mo_occ = scf.hf.kernel(mf)\n",
        "  if show:\n",
        "    if conv:\n",
        "      print(\"PySCF restricted HF (RHF) converged ground-state energy: {:.12f}\".format(e))\n",
        "    else:\n",
        "      print(\"PySCF restricted HF (RHF) ground-state computation failed to converge\")\n",
        "\n",
        "  if pyqmc:\n",
        "    pyq.OPTIMIZE(\"mf.hdf5\",# Construct a Slater-Jastrow wave function from the pyscf output\n",
        "      \"optimized_wf.hdf5\", # Store optimized parameters in this file.\n",
        "      nconfig=100,         # Optimize using this many Monte Carlo samples/configurations\n",
        "      max_iterations=4,    # 4 optimization steps\n",
        "      verbose=False)\n",
        "\n",
        "    with h5py.File(\"optimized_wf.hdf5\") as f:\n",
        "      iter = f['iteration']\n",
        "      energy = f['energy']\n",
        "      error = f['energy_error']\n",
        "      l = energy.shape[0]\n",
        "      e = energy[l-1]\n",
        "      err = error[l-1]\n",
        "      if show:\n",
        "        if err < 0.1:\n",
        "          print(\"Iteration, Energy, Error\")\n",
        "          for k in iter:\n",
        "            print(\"{}:         {:.4f} {:.4f}\".format(k, energy[k], error[k]))\n",
        "          print(\"PyQMC Monte Carlo converged ground-state energy: {:.12f}, error: {:.4f}\".format(e, err))\n",
        "        else:\n",
        "          print(\"PyQMC Monte Carlo failed to converge\")\n",
        "\n",
        "  return conv, e"
      ]
    },
    {
      "cell_type": "markdown",
      "metadata": {
        "id": "HvCCPvHW_2Q2"
      },
      "source": [
        "## 5.1.3. Quantum Phase Estimation (QPE)"
      ]
    },
    {
      "cell_type": "code",
      "execution_count": 34,
      "metadata": {
        "id": "Bag4FJG5CoJv"
      },
      "outputs": [],
      "source": [
        "def U(theta):\n",
        "  unitary = QuantumCircuit(1)\n",
        "  unitary.p(np.pi*2*theta, 0)\n",
        "  return unitary"
      ]
    },
    {
      "cell_type": "code",
      "execution_count": 35,
      "metadata": {
        "id": "GMc84XyLDllg"
      },
      "outputs": [],
      "source": [
        "def do_qpe(unitary, nqubits=3, show=True):\n",
        "  state_in = QuantumCircuit(1)\n",
        "  state_in.x(0)\n",
        "  pe = PhaseEstimation(num_evaluation_qubits=nqubits, quantum_instance=quantum_instance)\n",
        "  result = pe.estimate(unitary, state_in)\n",
        "  phase_out = result.phase\n",
        "  if show:\n",
        "    print(\"Number of qubits: {}, QPE phase estimate: {}\".format(nqubits, phase_out))\n",
        "  return(phase_out)"
      ]
    },
    {
      "cell_type": "code",
      "execution_count": 36,
      "metadata": {
        "colab": {
          "base_uri": "https://localhost:8080/"
        },
        "id": "-BClSbzXDu-v",
        "outputId": "9437ec3e-3725-464f-b67c-7e2f37d91c87"
      },
      "outputs": [
        {
          "output_type": "stream",
          "name": "stdout",
          "text": [
            "theta: 0.875\n",
            "Number of qubits: 3, QPE phase estimate: 0.875\n"
          ]
        }
      ],
      "source": [
        "quantum_instance = QuantumInstance(backend = Aer.get_backend('aer_simulator_statevector'))\n",
        "theta = 1/2 + 1/4 + 1/8\n",
        "print(\"theta: {}\".format(theta))\n",
        "unitary = U(theta)\n",
        "result = do_qpe(unitary, nqubits=3)"
      ]
    },
    {
      "cell_type": "code",
      "execution_count": 37,
      "metadata": {
        "colab": {
          "base_uri": "https://localhost:8080/"
        },
        "id": "75807vgGEde2",
        "outputId": "43ab94bd-eab5-4ccc-c6bc-9819b28595f1"
      },
      "outputs": [
        {
          "output_type": "stream",
          "name": "stdout",
          "text": [
            "theta: 0.99609375\n",
            "Number of qubits: 8, QPE phase estimate: 0.99609375\n"
          ]
        }
      ],
      "source": [
        "theta = 1/2 + 1/4 + 1/8 + 1/16 + 1/32 + 1/64 + 1/128 + 1/256\n",
        "print(\"theta: {}\".format(theta))\n",
        "unitary = U(theta)\n",
        "result = do_qpe(unitary, nqubits=8)"
      ]
    },
    {
      "cell_type": "markdown",
      "metadata": {
        "id": "cbOkuGV3UB8l"
      },
      "source": [
        "## 5.1.4. Description of the VQE algorithm"
      ]
    },
    {
      "cell_type": "markdown",
      "metadata": {
        "id": "So7eKKk7vLOb"
      },
      "source": [
        "### Trial wavefunctions\n",
        "\n",
        "### Setting-up the VQE solver\n"
      ]
    },
    {
      "cell_type": "code",
      "execution_count": 38,
      "metadata": {
        "id": "8pG_4qK4W4PM"
      },
      "outputs": [],
      "source": [
        "quantum_instance = QuantumInstance(backend = Aer.get_backend('aer_simulator_statevector'))"
      ]
    },
    {
      "cell_type": "code",
      "execution_count": 39,
      "metadata": {
        "id": "VhOBLKHgwinZ"
      },
      "outputs": [],
      "source": [
        "numpy_solver = NumPyMinimumEigensolver()"
      ]
    },
    {
      "cell_type": "code",
      "execution_count": 40,
      "metadata": {
        "id": "LyQzqQ32W88Q"
      },
      "outputs": [],
      "source": [
        "tl_circuit = TwoLocal(rotation_blocks = ['h', 'rx'], entanglement_blocks = 'cz',\n",
        "                      entanglement='full', reps=2, parameter_prefix = 'y')"
      ]
    },
    {
      "cell_type": "code",
      "execution_count": 41,
      "metadata": {
        "id": "pg9f1GE3XAYg"
      },
      "outputs": [],
      "source": [
        "vqe_tl_solver = VQE(ansatz = tl_circuit,\n",
        "                     quantum_instance = QuantumInstance(Aer.get_backend('aer_simulator_statevector')))"
      ]
    },
    {
      "cell_type": "code",
      "execution_count": 42,
      "metadata": {
        "id": "PkxaNNdRxk4q"
      },
      "outputs": [],
      "source": [
        "vqe_ucc_solver = VQEUCCFactory(quantum_instance, ansatz=tl_circuit)"
      ]
    },
    {
      "cell_type": "code",
      "execution_count": 43,
      "metadata": {
        "id": "Ihi0Sbo0WFIk"
      },
      "outputs": [],
      "source": [
        "qnspsa_loss = []\n",
        "def qnspsa_callback(nfev, x, fx, stepsize, accepted):\n",
        "    qnspsa_loss.append(fx)"
      ]
    },
    {
      "cell_type": "markdown",
      "metadata": {
        "id": "LM65eKkliwmY"
      },
      "source": [
        "# 5.2. Example chemical calculations"
      ]
    },
    {
      "cell_type": "code",
      "execution_count": 44,
      "metadata": {
        "id": "dfmNsOkfiwmZ"
      },
      "outputs": [],
      "source": [
        "def get_particle_number(problem, show=True):\n",
        "  particle_number = problem.grouped_property_transformed.get_property(\"ParticleNumber\")\n",
        "  num_particles = (particle_number.num_alpha, particle_number.num_beta)\n",
        "  num_spin_orbitals = particle_number.num_spin_orbitals\n",
        "  if show:\n",
        "    print(\"Number of alpha electrons: {}\".format(particle_number.num_alpha))\n",
        "    print(\"Number of beta electrons: {}\".format(particle_number.num_beta))\n",
        "    print(\"Number of spin orbitals: {}\".format(num_spin_orbitals))\n",
        "  return particle_number"
      ]
    },
    {
      "cell_type": "code",
      "execution_count": 45,
      "metadata": {
        "id": "jzxFDQN2iwmZ"
      },
      "outputs": [],
      "source": [
        "def fermion_to_qubit(f_op, second_q_op, mapper, truncate=20, two_qubit_reduction=False, z2symmetry_reduction=None, show=True): \n",
        "  if show:\n",
        "    print(\"Qubit Hamiltonian operator\")\n",
        "  dmap = {\"Jordan-Wigner\": JordanWignerMapper(), \"Parity\": ParityMapper(), \"Bravyi-Kitaev\": BravyiKitaevMapper()}\n",
        "  qubit_op = None\n",
        "  qubit_converter = None\n",
        "  for k, v in dmap.items():\n",
        "    if k == mapper:\n",
        "      if show:\n",
        "        print(\"{} transformation \". format(mapper))\n",
        "      qubit_converter = QubitConverter(v, two_qubit_reduction=two_qubit_reduction, z2symmetry_reduction=z2symmetry_reduction)\n",
        "      if two_qubit_reduction:\n",
        "        qubit_op = qubit_converter.convert(second_q_op[0], num_particles=f_op.num_particles)\n",
        "      else:\n",
        "        qubit_op = qubit_converter.convert(second_q_op[0])\n",
        "      n_items = len(qubit_op)\n",
        "      if show:\n",
        "        print(\"Number of items in the Pauli list:\", n_items)\n",
        "        if n_items <= truncate:\n",
        "          print(qubit_op)\n",
        "        else:\n",
        "          print(qubit_op[0:truncate])\n",
        "  return qubit_op, qubit_converter"
      ]
    },
    {
      "cell_type": "code",
      "execution_count": 46,
      "metadata": {
        "id": "7KtqcWwYiwma"
      },
      "outputs": [],
      "source": [
        "def run_vqe(name, f_op, qubit_converter, solver, show=True):\n",
        "  calc = GroundStateEigensolver(qubit_converter, solver)\n",
        "  start = time.time()\n",
        "  ground_state = calc.solve(f_op)\n",
        "  elapsed = str(datetime.timedelta(seconds = time.time()-start))\n",
        "  if show:\n",
        "    print(\"Running the VQE using the {}\".format(name))\n",
        "    print(\"Elapsed time: {} \\n\".format(elapsed))\n",
        "    print(ground_state)\n",
        "  return ground_state"
      ]
    },
    {
      "cell_type": "code",
      "execution_count": 47,
      "metadata": {
        "id": "DrdDPmSy5lG0"
      },
      "outputs": [],
      "source": [
        "def run_qpe(particle_number, qubit_converter, qubit_op, n_ancillae=3, num_time_slices = 1, show=True):\n",
        "  initial_state = HartreeFock(particle_number.num_spin_orbitals, \n",
        "                            (particle_number.num_alpha, \n",
        "                             particle_number.num_beta), qubit_converter)\n",
        "  \n",
        "  state_preparation = StateFn(initial_state)\n",
        "\n",
        "  evolution = PauliTrotterEvolution('trotter', reps=num_time_slices)\n",
        "\n",
        "  qpe = HamiltonianPhaseEstimation(n_ancillae, quantum_instance=quantum_instance)\n",
        "  result = qpe.estimate(qubit_op, state_preparation, evolution=evolution)\n",
        "\n",
        "  if show:\n",
        "    print(\"\\nQPE initial Hartree Fock state\")\n",
        "    display(initial_state.draw(output='mpl'))\n",
        "    eigv = result.most_likely_eigenvalue\n",
        "    print(\"QPE computed electronic ground state energy (Hartree): {}\".format(eigv))\n",
        "  \n",
        "  return eigv"
      ]
    },
    {
      "cell_type": "code",
      "execution_count": 48,
      "metadata": {
        "id": "-sLSVAzXC4_a"
      },
      "outputs": [],
      "source": [
        "def plot_energy_landscape(energy_surface_result):\n",
        "  if len(energy_surface_result.points) > 1:\n",
        "      plt.plot(energy_surface_result.points, energy_surface_result.energies, label=\"VQE Energy\")\n",
        "      plt.xlabel('Atomic distance Deviation(Angstrom)')\n",
        "      plt.ylabel('Energy (hartree)')\n",
        "      plt.legend()\n",
        "      plt.show()\n",
        "  else:\n",
        "      print(\"Total Energy is: \", energy_surface_result.energies[0], \"hartree\")\n",
        "      print(\"(No need to plot, only one configuration calculated.)\")\n",
        "  return"
      ]
    },
    {
      "cell_type": "code",
      "execution_count": 49,
      "metadata": {
        "id": "XBO9ULlLcW2B"
      },
      "outputs": [],
      "source": [
        "def plot_loss(loss, label, target):\n",
        "  plt.figure(figsize=(12, 6))\n",
        "  plt.plot(loss, 'tab:green', ls='--', label=label)\n",
        "  plt.axhline(target, c='tab:red', ls='--', label='target')\n",
        "  plt.ylabel('loss')\n",
        "  plt.xlabel('iterations')\n",
        "  plt.legend()"
      ]
    },
    {
      "cell_type": "code",
      "execution_count": 50,
      "metadata": {
        "id": "eN9lS_TNce2k"
      },
      "outputs": [],
      "source": [
        "def solve_ground_state(\n",
        "    molecule,\n",
        "    mapper =\"Parity\",\n",
        "    num_electrons=None,\n",
        "    num_molecular_orbitals=None,\n",
        "    transformers=None,\n",
        "    two_qubit_reduction=False,\n",
        "    z2symmetry_reduction = \"Auto\",\n",
        "    name_solver='NumPy exact solver',\n",
        "    solver=NumPyMinimumEigensolver(),\n",
        "    plot_bopes=False,\n",
        "    perturbation_steps=np.linspace(-1, 1, 3),\n",
        "    pyqmc=True,\n",
        "    n_ancillae=3, \n",
        "    num_time_slices=1,\n",
        "    loss=[],\n",
        "    label=None,\n",
        "    target=None,\n",
        "    show=True\n",
        "):\n",
        "\n",
        "    # Defining the electronic structure molecule driver\n",
        "    driver = ElectronicStructureMoleculeDriver(molecule, basis='sto3g', driver_type=ElectronicStructureDriverType.PYSCF)\n",
        "\n",
        "    # Splitting into classical and quantum\n",
        "    if num_electrons != None and num_molecular_orbitals != None:\n",
        "      split = ActiveSpaceTransformer(num_electrons=num_electrons, num_molecular_orbitals=num_molecular_orbitals)\n",
        "    else:\n",
        "      split = None\n",
        "\n",
        "    # Defining a fermionic Hamiltonian operator\n",
        "    if split != None:\n",
        "      fermionic_hamiltonian = ElectronicStructureProblem(driver, [split])\n",
        "    elif transformers != None:\n",
        "      fermionic_hamiltonian = ElectronicStructureProblem(driver, transformers=transformers)\n",
        "    else:\n",
        "      fermionic_hamiltonian = ElectronicStructureProblem(driver)\n",
        "\n",
        "    # Use the second_q_ops() method [Qiskit_Nat_3] which returns a list of second quantized operators\n",
        "    second_q_op = fermionic_hamiltonian.second_q_ops()\n",
        "\n",
        "    # Get particle number\n",
        "    particle_number = get_particle_number(fermionic_hamiltonian, show=show)\n",
        "\n",
        "    if show:\n",
        "      # We set truncation to 1000 with the method set_truncation(1000)\n",
        "      second_q_op[0].set_truncation(1000)\n",
        "      # then we print the first 20 terms of the fermionic Hamiltonian operator of the molecule\n",
        "      print(\"Fermionic Hamiltonian operator\")\n",
        "      print(second_q_op[0])\n",
        "    \n",
        "    # Use the function fermion_to_qubit() to convert a fermionic operator to a qubit operator\n",
        "    if show:\n",
        "      print(\" \")\n",
        "    qubit_op, qubit_converter = fermion_to_qubit(fermionic_hamiltonian, second_q_op, mapper=mapper, two_qubit_reduction=two_qubit_reduction, z2symmetry_reduction=z2symmetry_reduction, show=show)\n",
        "\n",
        "    # Run the the PySCF RHF method\n",
        "    if show:\n",
        "      print(\" \")\n",
        "    conv, e = run_PySCF(molecule, pyqmc=pyqmc, show=show)\n",
        "\n",
        "    # Run QPE\n",
        "    eigv = run_qpe(particle_number, qubit_converter, qubit_op, n_ancillae=n_ancillae, num_time_slices=num_time_slices, show=show)\n",
        "\n",
        "    # Run VQE\n",
        "    if show:\n",
        "      print(\" \")\n",
        "    ground_state = run_vqe(name_solver, fermionic_hamiltonian, qubit_converter, solver, show=show)\n",
        "\n",
        "    # Plot loss function\n",
        "    if loss != []:\n",
        "      plot_loss(loss, label, target)\n",
        "\n",
        "    if plot_bopes:\n",
        "      # Compute the potential energy surface as follows:\n",
        "      energy_surface = BOPESSampler(gss=GroundStateEigensolver(qubit_converter, solver), bootstrap=False)\n",
        "      # Fix enables using BOPESS together with Unitary Coupled Cluster (UCC) factory ansatz\n",
        "      # Set default to an empty dictionary instead of None:\n",
        "      energy_surface._points_optparams = {}\n",
        "      energy_surface_result = energy_surface.sample(fermionic_hamiltonian, perturbation_steps)\n",
        "\n",
        "      # Plot the energy as a function of atomic separation\n",
        "      plot_energy_landscape(energy_surface_result)\n",
        "\n",
        "    return fermionic_hamiltonian, particle_number, qubit_op, qubit_converter, ground_state"
      ]
    },
    {
      "cell_type": "markdown",
      "metadata": {
        "id": "2w4yOY4Tir3R"
      },
      "source": [
        "## 5.2.1. Hydrogen molecule"
      ]
    },
    {
      "cell_type": "code",
      "execution_count": 51,
      "metadata": {
        "id": "hppW5zDalVCf"
      },
      "outputs": [],
      "source": [
        "hydrogen_molecule = Molecule(geometry=[['H', [0., 0., 0.]],\n",
        "                              ['H', [0., 0., 0.735]]],\n",
        "                     charge=0, multiplicity=1)"
      ]
    },
    {
      "cell_type": "markdown",
      "metadata": {
        "id": "NiknHhW7S4HK"
      },
      "source": [
        "### Varying the hydrogen molecule"
      ]
    },
    {
      "cell_type": "code",
      "execution_count": 52,
      "metadata": {
        "id": "eN_5Y6gqS4HL"
      },
      "outputs": [],
      "source": [
        "molecular_variation = Molecule.absolute_stretching"
      ]
    },
    {
      "cell_type": "code",
      "execution_count": 53,
      "metadata": {
        "id": "l88tg61lS4HL"
      },
      "outputs": [],
      "source": [
        "specific_molecular_variation = apply_variation(molecular_variation, atom_pair=(1, 0))"
      ]
    },
    {
      "cell_type": "code",
      "execution_count": 54,
      "metadata": {
        "id": "pmNyzKSMTEDy"
      },
      "outputs": [],
      "source": [
        "hydrogen_molecule_stretchable = Molecule(geometry=\n",
        "                                 [['H', [0., 0., 0.]],\n",
        "                                  ['H', [0., 0., 0.735]]],\n",
        "                                  charge=0, multiplicity=1,\n",
        "                                  degrees_of_freedom=[specific_molecular_variation])"
      ]
    },
    {
      "cell_type": "markdown",
      "metadata": {
        "id": "ZOE-J6sPGLgJ"
      },
      "source": [
        "### Solving for the Ground-state"
      ]
    },
    {
      "cell_type": "code",
      "execution_count": 55,
      "metadata": {
        "colab": {
          "base_uri": "https://localhost:8080/",
          "height": 1000
        },
        "id": "byXv0Y18GFah",
        "outputId": "cc9c8f3e-208e-41e1-813a-ea169aa7e830"
      },
      "outputs": [
        {
          "output_type": "stream",
          "name": "stdout",
          "text": [
            "Number of alpha electrons: 1\n",
            "Number of beta electrons: 1\n",
            "Number of spin orbitals: 4\n",
            "Fermionic Hamiltonian operator\n",
            "Fermionic Operator\n",
            "register length=4, number terms=14\n",
            "  (0.18093119978423106+0j) * ( +_0 -_1 +_2 -_3 )\n",
            "+ (-0.18093119978423128+0j) * ( +_0 -_1 -_2 +_3 )\n",
            "+ (-0.18093119978423128+0j) * ( -_0 +_1 +_2 -_3 )\n",
            "+ (0.18093119978423144+0j) * ( -_0 +_1 -_2 +_3 )\n",
            "+ (-0.47189600728114245+0j) * ( +_3 -_3 )\n",
            "+ (-1.2563390730032498+0j) * ( +_2 -_2 )\n",
            "+ (0.4836505304710653+0j) * ( +_2 -_2 +_3 -_3 )\n",
            "+ (-0.47189600728114245+0j) * ( +_1 -_1 )\n",
            "+ (0.6985737227320175+0j) * ( +_1 -_1 +_3 -_3 )\n",
            "+ (0.6645817302552965+0j) * ( +_1 -_1 +_2 -_2 )\n",
            "+ (-1.2563390730032498+0j) * ( +_0 -_0 )\n",
            "+ (0.6645817302552965+0j) * ( +_0 -_0 +_3 -_3 )\n",
            "+ (0.6757101548035161+0j) * ( +_0 -_0 +_2 -_2 )\n",
            "+ (0.4836505304710653+0j) * ( +_0 -_0 +_1 -_1 )\n",
            " \n",
            "Qubit Hamiltonian operator\n",
            "Parity transformation \n",
            "Number of items in the Pauli list: 5\n",
            "0.18093119978423114 * XX\n",
            "- 1.0523732457728605 * II\n",
            "- 0.39793742484317884 * ZI\n",
            "+ 0.39793742484317884 * IZ\n",
            "- 0.011280104256235171 * ZZ\n",
            " \n",
            "PySCF restricted HF (RHF) converged ground-state energy: -1.116998996754\n",
            "Iteration, Energy, Error\n",
            "0:         -1.1222 0.0050\n",
            "1:         -1.1554 0.0101\n",
            "2:         -1.1415 0.0061\n",
            "3:         -1.1617 0.0061\n",
            "PyQMC Monte Carlo converged ground-state energy: -1.161746455676, error: 0.0061\n",
            "\n",
            "QPE initial Hartree Fock state\n"
          ]
        },
        {
          "output_type": "display_data",
          "data": {
            "text/plain": [
              "<Figure size 146.652x144.48 with 1 Axes>"
            ],
            "image/png": "[encoded data removed]"
          },
          "metadata": {}
        },
        {
          "output_type": "stream",
          "name": "stdout",
          "text": [
            "QPE computed electronic ground state energy (Hartree): -1.7934378610679784\n",
            " \n",
            "Running the VQE using the NumPy exact solver\n",
            "Elapsed time: 0:00:00.458114 \n",
            "\n",
            "=== GROUND STATE ENERGY ===\n",
            " \n",
            "* Electronic ground state energy (Hartree): -1.857275030202\n",
            "  - computed part:      -1.857275030202\n",
            "~ Nuclear repulsion energy (Hartree): 0.719968994449\n",
            "> Total ground state energy (Hartree): -1.137306035753\n",
            " \n",
            "=== MEASURED OBSERVABLES ===\n",
            " \n",
            "  0:  # Particles: 2.000 S: 0.000 S^2: 0.000 M: 0.000\n",
            " \n",
            "=== DIPOLE MOMENTS ===\n",
            " \n",
            "~ Nuclear dipole moment (a.u.): [0.0  0.0  1.3889487]\n",
            " \n",
            "  0: \n",
            "  * Electronic dipole moment (a.u.): [0.0  0.0  1.3889487]\n",
            "    - computed part:      [0.0  0.0  1.3889487]\n",
            "  > Dipole moment (a.u.): [0.0  0.0  0.0]  Total: 0.0\n",
            "                 (debye): [0.0  0.0  0.0]  Total: 0.0\n",
            " \n"
          ]
        }
      ],
      "source": [
        "H2_fermionic_hamiltonian, H2_particle_number, H2_qubit_op, H2_qubit_converter, H2_ground_state = \\\n",
        "                  solve_ground_state(hydrogen_molecule, mapper =\"Parity\",\n",
        "                   two_qubit_reduction=True, z2symmetry_reduction=None, \n",
        "                   name_solver = 'NumPy exact solver', solver = numpy_solver)"
      ]
    },
    {
      "cell_type": "markdown",
      "metadata": {
        "id": "tGWPggHM86hT"
      },
      "source": [
        "Figure 5.5. Ground-state of the $\\text{H}_{2}$ molecule with PySCF RHF and PyQMC Monte Carlo\n",
        "\n",
        "Figure 5.6. Ground-state of the $\\text{H}_{2}$ molecule computed with VQE using the NumPy minimum eigensolver"
      ]
    },
    {
      "cell_type": "code",
      "execution_count": 56,
      "metadata": {
        "colab": {
          "base_uri": "https://localhost:8080/",
          "height": 1000
        },
        "id": "Du6sdRFVGFai",
        "outputId": "93dbad39-e219-4da8-d4ec-70a128a381c0"
      },
      "outputs": [
        {
          "output_type": "stream",
          "name": "stdout",
          "text": [
            "Number of alpha electrons: 1\n",
            "Number of beta electrons: 1\n",
            "Number of spin orbitals: 4\n",
            "Fermionic Hamiltonian operator\n",
            "Fermionic Operator\n",
            "register length=4, number terms=14\n",
            "  (0.18093119978423106+0j) * ( +_0 -_1 +_2 -_3 )\n",
            "+ (-0.18093119978423128+0j) * ( +_0 -_1 -_2 +_3 )\n",
            "+ (-0.18093119978423128+0j) * ( -_0 +_1 +_2 -_3 )\n",
            "+ (0.18093119978423144+0j) * ( -_0 +_1 -_2 +_3 )\n",
            "+ (-0.47189600728114245+0j) * ( +_3 -_3 )\n",
            "+ (-1.2563390730032498+0j) * ( +_2 -_2 )\n",
            "+ (0.4836505304710653+0j) * ( +_2 -_2 +_3 -_3 )\n",
            "+ (-0.47189600728114245+0j) * ( +_1 -_1 )\n",
            "+ (0.6985737227320175+0j) * ( +_1 -_1 +_3 -_3 )\n",
            "+ (0.6645817302552965+0j) * ( +_1 -_1 +_2 -_2 )\n",
            "+ (-1.2563390730032498+0j) * ( +_0 -_0 )\n",
            "+ (0.6645817302552965+0j) * ( +_0 -_0 +_3 -_3 )\n",
            "+ (0.6757101548035161+0j) * ( +_0 -_0 +_2 -_2 )\n",
            "+ (0.4836505304710653+0j) * ( +_0 -_0 +_1 -_1 )\n",
            " \n",
            "Qubit Hamiltonian operator\n",
            "Parity transformation \n",
            "Number of items in the Pauli list: 5\n",
            "0.18093119978423114 * XX\n",
            "- 1.0523732457728605 * II\n",
            "- 0.39793742484317884 * ZI\n",
            "+ 0.39793742484317884 * IZ\n",
            "- 0.011280104256235171 * ZZ\n",
            " \n",
            "PySCF restricted HF (RHF) converged ground-state energy: -1.116998996754\n",
            "Iteration, Energy, Error\n",
            "0:         -1.1301 0.0076\n",
            "1:         -1.1642 0.0088\n",
            "2:         -1.1377 0.0039\n",
            "3:         -1.1345 0.0072\n",
            "PyQMC Monte Carlo converged ground-state energy: -1.134524306543, error: 0.0072\n",
            "\n",
            "QPE initial Hartree Fock state\n"
          ]
        },
        {
          "output_type": "display_data",
          "data": {
            "text/plain": [
              "<Figure size 146.652x144.48 with 1 Axes>"
            ],
            "image/png": "[encoded data removed]"
          },
          "metadata": {}
        },
        {
          "output_type": "stream",
          "name": "stdout",
          "text": [
            "QPE computed electronic ground state energy (Hartree): -1.7934378610679784\n",
            " \n",
            "Running the VQE using the Unitary Coupled Cluster (UCC) factory ansatz\n",
            "Elapsed time: 0:00:00.733471 \n",
            "\n",
            "=== GROUND STATE ENERGY ===\n",
            " \n",
            "* Electronic ground state energy (Hartree): -1.857275022649\n",
            "  - computed part:      -1.857275022649\n",
            "~ Nuclear repulsion energy (Hartree): 0.719968994449\n",
            "> Total ground state energy (Hartree): -1.1373060282\n",
            " \n",
            "=== MEASURED OBSERVABLES ===\n",
            " \n",
            "  0:  # Particles: 2.000 S: 0.000 S^2: 0.000 M: 0.000\n",
            " \n",
            "=== DIPOLE MOMENTS ===\n",
            " \n",
            "~ Nuclear dipole moment (a.u.): [0.0  0.0  1.3889487]\n",
            " \n",
            "  0: \n",
            "  * Electronic dipole moment (a.u.): [0.0  0.0  1.3889487]\n",
            "    - computed part:      [0.0  0.0  1.3889487]\n",
            "  > Dipole moment (a.u.): [0.0  0.0  0.0]  Total: 0.0\n",
            "                 (debye): [0.0  0.0  0.0]  Total: 0.0\n",
            " \n"
          ]
        }
      ],
      "source": [
        "H2_fermionic_hamiltonian, H2_particle_number, H2_qubit_op, H2_qubit_converter, H2_ground_state = \\\n",
        "                  solve_ground_state(hydrogen_molecule, mapper =\"Parity\",\n",
        "                   two_qubit_reduction=True, z2symmetry_reduction=None, \n",
        "                   name_solver = 'Unitary Coupled Cluster (UCC) factory ansatz', solver = vqe_ucc_solver)"
      ]
    },
    {
      "cell_type": "markdown",
      "metadata": {
        "id": "DC4pTgwxeZuB"
      },
      "source": [
        "Figure 5.7. Ground-state of the $\\text{H}_{2}$ molecule with VQE using the UCC factory ansatz."
      ]
    },
    {
      "cell_type": "code",
      "execution_count": 57,
      "metadata": {
        "colab": {
          "base_uri": "https://localhost:8080/",
          "height": 1000
        },
        "id": "l7A3RRA7GFai",
        "outputId": "4fc57177-cfe0-4db1-b4b3-3c0775aebb0f"
      },
      "outputs": [
        {
          "output_type": "stream",
          "name": "stdout",
          "text": [
            "Number of alpha electrons: 1\n",
            "Number of beta electrons: 1\n",
            "Number of spin orbitals: 4\n",
            "Fermionic Hamiltonian operator\n",
            "Fermionic Operator\n",
            "register length=4, number terms=14\n",
            "  (0.18093119978423106+0j) * ( +_0 -_1 +_2 -_3 )\n",
            "+ (-0.18093119978423128+0j) * ( +_0 -_1 -_2 +_3 )\n",
            "+ (-0.18093119978423128+0j) * ( -_0 +_1 +_2 -_3 )\n",
            "+ (0.18093119978423144+0j) * ( -_0 +_1 -_2 +_3 )\n",
            "+ (-0.47189600728114245+0j) * ( +_3 -_3 )\n",
            "+ (-1.2563390730032498+0j) * ( +_2 -_2 )\n",
            "+ (0.4836505304710653+0j) * ( +_2 -_2 +_3 -_3 )\n",
            "+ (-0.47189600728114245+0j) * ( +_1 -_1 )\n",
            "+ (0.6985737227320175+0j) * ( +_1 -_1 +_3 -_3 )\n",
            "+ (0.6645817302552965+0j) * ( +_1 -_1 +_2 -_2 )\n",
            "+ (-1.2563390730032498+0j) * ( +_0 -_0 )\n",
            "+ (0.6645817302552965+0j) * ( +_0 -_0 +_3 -_3 )\n",
            "+ (0.6757101548035161+0j) * ( +_0 -_0 +_2 -_2 )\n",
            "+ (0.4836505304710653+0j) * ( +_0 -_0 +_1 -_1 )\n",
            " \n",
            "Qubit Hamiltonian operator\n",
            "Parity transformation \n",
            "Number of items in the Pauli list: 5\n",
            "0.18093119978423114 * XX\n",
            "- 1.0523732457728605 * II\n",
            "- 0.39793742484317884 * ZI\n",
            "+ 0.39793742484317884 * IZ\n",
            "- 0.011280104256235171 * ZZ\n",
            " \n",
            "PySCF restricted HF (RHF) converged ground-state energy: -1.116998996754\n",
            "Iteration, Energy, Error\n",
            "0:         -1.1194 0.0054\n",
            "1:         -1.1274 0.0048\n",
            "2:         -1.1544 0.0076\n",
            "3:         -1.1636 0.0075\n",
            "PyQMC Monte Carlo converged ground-state energy: -1.163556964209, error: 0.0075\n",
            "\n",
            "QPE initial Hartree Fock state\n"
          ]
        },
        {
          "output_type": "display_data",
          "data": {
            "text/plain": [
              "<Figure size 146.652x144.48 with 1 Axes>"
            ],
            "image/png": "[encoded data removed]"
          },
          "metadata": {}
        },
        {
          "output_type": "stream",
          "name": "stdout",
          "text": [
            "QPE computed electronic ground state energy (Hartree): -1.7934378610679784\n",
            " \n",
            "Running the VQE using the Heuristic ansatz, the Two-Local circuit with SLSQP\n",
            "Elapsed time: 0:00:00.631273 \n",
            "\n",
            "=== GROUND STATE ENERGY ===\n",
            " \n",
            "* Electronic ground state energy (Hartree): -1.857275004599\n",
            "  - computed part:      -1.857275004599\n",
            "~ Nuclear repulsion energy (Hartree): 0.719968994449\n",
            "> Total ground state energy (Hartree): -1.13730601015\n",
            " \n",
            "=== MEASURED OBSERVABLES ===\n",
            " \n",
            "  0:  # Particles: 2.000 S: 0.000 S^2: 0.000 M: 0.000\n",
            " \n",
            "=== DIPOLE MOMENTS ===\n",
            " \n",
            "~ Nuclear dipole moment (a.u.): [0.0  0.0  1.3889487]\n",
            " \n",
            "  0: \n",
            "  * Electronic dipole moment (a.u.): [0.0  0.0  1.3889487]\n",
            "    - computed part:      [0.0  0.0  1.3889487]\n",
            "  > Dipole moment (a.u.): [0.0  0.0  0.0]  Total: 0.0\n",
            "                 (debye): [0.0  0.0  0.0]  Total: 0.0\n",
            " \n"
          ]
        }
      ],
      "source": [
        "H2_fermionic_hamiltonian, H2_particle_number, H2_qubit_op, H2_qubit_converter, H2_ground_state = \\\n",
        "                  solve_ground_state(hydrogen_molecule, mapper =\"Parity\",\n",
        "                   two_qubit_reduction=True, z2symmetry_reduction=None, \n",
        "                   name_solver = 'Heuristic ansatz, the Two-Local circuit with SLSQP',solver = vqe_tl_solver)"
      ]
    },
    {
      "cell_type": "markdown",
      "metadata": {
        "id": "VnSvZTSWj0x_"
      },
      "source": [
        "Figure 5.8. Ground-state of the $\\text{H}_{2}$ molecule with VQE using the Two-Local circuit and SLSQP"
      ]
    },
    {
      "cell_type": "code",
      "execution_count": 58,
      "metadata": {
        "id": "JDx_GsjTEyvl"
      },
      "outputs": [],
      "source": [
        "qnspsa_loss = []\n",
        "ansatz = tl_circuit\n",
        "fidelity = QNSPSA.get_fidelity(ansatz, quantum_instance, expectation=PauliExpectation())\n",
        "qnspsa = QNSPSA(fidelity, maxiter=200, learning_rate=0.01, perturbation=0.7, callback=qnspsa_callback)"
      ]
    },
    {
      "cell_type": "code",
      "execution_count": 59,
      "metadata": {
        "id": "6FCB2ZXkDnfZ"
      },
      "outputs": [],
      "source": [
        "vqe_tl_QNSPSA_solver = VQE(ansatz=tl_circuit, optimizer=qnspsa,\n",
        "                     quantum_instance=quantum_instance)"
      ]
    },
    {
      "cell_type": "code",
      "execution_count": 60,
      "metadata": {
        "colab": {
          "base_uri": "https://localhost:8080/",
          "height": 1000
        },
        "id": "NJVk9vZFDZEJ",
        "outputId": "174fa77b-2c4d-48e9-b3df-b42af5d51c98"
      },
      "outputs": [
        {
          "output_type": "stream",
          "name": "stdout",
          "text": [
            "Number of alpha electrons: 1\n",
            "Number of beta electrons: 1\n",
            "Number of spin orbitals: 4\n",
            "Fermionic Hamiltonian operator\n",
            "Fermionic Operator\n",
            "register length=4, number terms=14\n",
            "  (0.18093119978423106+0j) * ( +_0 -_1 +_2 -_3 )\n",
            "+ (-0.18093119978423128+0j) * ( +_0 -_1 -_2 +_3 )\n",
            "+ (-0.18093119978423128+0j) * ( -_0 +_1 +_2 -_3 )\n",
            "+ (0.18093119978423144+0j) * ( -_0 +_1 -_2 +_3 )\n",
            "+ (-0.47189600728114245+0j) * ( +_3 -_3 )\n",
            "+ (-1.2563390730032498+0j) * ( +_2 -_2 )\n",
            "+ (0.4836505304710653+0j) * ( +_2 -_2 +_3 -_3 )\n",
            "+ (-0.47189600728114245+0j) * ( +_1 -_1 )\n",
            "+ (0.6985737227320175+0j) * ( +_1 -_1 +_3 -_3 )\n",
            "+ (0.6645817302552965+0j) * ( +_1 -_1 +_2 -_2 )\n",
            "+ (-1.2563390730032498+0j) * ( +_0 -_0 )\n",
            "+ (0.6645817302552965+0j) * ( +_0 -_0 +_3 -_3 )\n",
            "+ (0.6757101548035161+0j) * ( +_0 -_0 +_2 -_2 )\n",
            "+ (0.4836505304710653+0j) * ( +_0 -_0 +_1 -_1 )\n",
            " \n",
            "Qubit Hamiltonian operator\n",
            "Parity transformation \n",
            "Number of items in the Pauli list: 5\n",
            "0.18093119978423114 * XX\n",
            "- 1.0523732457728605 * II\n",
            "- 0.39793742484317884 * ZI\n",
            "+ 0.39793742484317884 * IZ\n",
            "- 0.011280104256235171 * ZZ\n",
            " \n",
            "PySCF restricted HF (RHF) converged ground-state energy: -1.116998996754\n",
            "Iteration, Energy, Error\n",
            "0:         -1.0987 0.0089\n",
            "1:         -1.1294 0.0085\n",
            "2:         -1.1448 0.0074\n",
            "3:         -1.1542 0.0051\n",
            "PyQMC Monte Carlo converged ground-state energy: -1.154210999364, error: 0.0051\n",
            "\n",
            "QPE initial Hartree Fock state\n"
          ]
        },
        {
          "output_type": "display_data",
          "data": {
            "text/plain": [
              "<Figure size 146.652x144.48 with 1 Axes>"
            ],
            "image/png": "[encoded data removed]"
          },
          "metadata": {}
        },
        {
          "output_type": "stream",
          "name": "stdout",
          "text": [
            "QPE computed electronic ground state energy (Hartree): -1.7934378610679784\n",
            " \n",
            "Running the VQE using the Two-Local circuit and the QN-SPSA optimizer\n",
            "Elapsed time: 0:00:03.928984 \n",
            "\n",
            "=== GROUND STATE ENERGY ===\n",
            " \n",
            "* Electronic ground state energy (Hartree): -1.85726198942\n",
            "  - computed part:      -1.85726198942\n",
            "~ Nuclear repulsion energy (Hartree): 0.719968994449\n",
            "> Total ground state energy (Hartree): -1.137292994971\n",
            " \n",
            "=== MEASURED OBSERVABLES ===\n",
            " \n",
            "  0:  # Particles: 2.000 S: 0.000 S^2: 0.000 M: 0.000\n",
            " \n",
            "=== DIPOLE MOMENTS ===\n",
            " \n",
            "~ Nuclear dipole moment (a.u.): [0.0  0.0  1.3889487]\n",
            " \n",
            "  0: \n",
            "  * Electronic dipole moment (a.u.): [0.0  0.0  1.3889487]\n",
            "    - computed part:      [0.0  0.0  1.3889487]\n",
            "  > Dipole moment (a.u.): [0.0  0.0  0.0]  Total: 0.0\n",
            "                 (debye): [0.0  0.0  0.0]  Total: 0.0\n",
            " \n"
          ]
        },
        {
          "output_type": "display_data",
          "data": {
            "text/plain": [
              "<Figure size 864x432 with 1 Axes>"
            ],
            "image/png": "[encoded data removed]"
          },
          "metadata": {
            "needs_background": "light"
          }
        }
      ],
      "source": [
        "H2_fermionic_hamiltonian, H2_particle_number, H2_qubit_op, H2_qubit_converter, H2_ground_state = \\\n",
        "                  solve_ground_state(hydrogen_molecule, mapper =\"Parity\",\n",
        "                  two_qubit_reduction=True, z2symmetry_reduction=None, loss=qnspsa_loss, label='QN-SPSA', target=-1.857274810366,\n",
        "                  name_solver='Two-Local circuit and the QN-SPSA optimizer', solver=vqe_tl_QNSPSA_solver)"
      ]
    },
    {
      "cell_type": "markdown",
      "metadata": {
        "id": "eZJzQtZ_xDcw"
      },
      "source": [
        "Figure 5.9 – Ground-state of the $\\text{H}_{2}$ molecule with VQE using the Two-Local circuit and QN-SPSA\n",
        "\n",
        "Figure 5.10 – Plot of the loss function of the VQE using the Two-Local circuit and QN-SPSA for the $\\text{H}_{2}$ molecule"
      ]
    },
    {
      "cell_type": "markdown",
      "metadata": {
        "id": "R6-QzelYUfAg"
      },
      "source": [
        "### Computing the BOPES"
      ]
    },
    {
      "cell_type": "code",
      "execution_count": 61,
      "metadata": {
        "colab": {
          "base_uri": "https://localhost:8080/",
          "height": 1000
        },
        "id": "2lA7lY1tGqB4",
        "outputId": "654148d0-a5e6-4b08-b76f-6a0ca940bf31"
      },
      "outputs": [
        {
          "output_type": "stream",
          "name": "stdout",
          "text": [
            "Number of alpha electrons: 1\n",
            "Number of beta electrons: 1\n",
            "Number of spin orbitals: 4\n",
            "Fermionic Hamiltonian operator\n",
            "Fermionic Operator\n",
            "register length=4, number terms=14\n",
            "  (0.18093119978423106+0j) * ( +_0 -_1 +_2 -_3 )\n",
            "+ (-0.18093119978423128+0j) * ( +_0 -_1 -_2 +_3 )\n",
            "+ (-0.18093119978423128+0j) * ( -_0 +_1 +_2 -_3 )\n",
            "+ (0.18093119978423144+0j) * ( -_0 +_1 -_2 +_3 )\n",
            "+ (-0.47189600728114245+0j) * ( +_3 -_3 )\n",
            "+ (-1.2563390730032498+0j) * ( +_2 -_2 )\n",
            "+ (0.4836505304710653+0j) * ( +_2 -_2 +_3 -_3 )\n",
            "+ (-0.47189600728114245+0j) * ( +_1 -_1 )\n",
            "+ (0.6985737227320175+0j) * ( +_1 -_1 +_3 -_3 )\n",
            "+ (0.6645817302552965+0j) * ( +_1 -_1 +_2 -_2 )\n",
            "+ (-1.2563390730032498+0j) * ( +_0 -_0 )\n",
            "+ (0.6645817302552965+0j) * ( +_0 -_0 +_3 -_3 )\n",
            "+ (0.6757101548035161+0j) * ( +_0 -_0 +_2 -_2 )\n",
            "+ (0.4836505304710653+0j) * ( +_0 -_0 +_1 -_1 )\n",
            " \n",
            "Qubit Hamiltonian operator\n",
            "Parity transformation \n",
            "Number of items in the Pauli list: 5\n",
            "0.18093119978423114 * XX\n",
            "- 1.0523732457728605 * II\n",
            "- 0.39793742484317884 * ZI\n",
            "+ 0.39793742484317884 * IZ\n",
            "- 0.011280104256235171 * ZZ\n",
            " \n",
            "PySCF restricted HF (RHF) converged ground-state energy: -1.116998996754\n",
            "Iteration, Energy, Error\n",
            "0:         -1.1130 0.0109\n",
            "1:         -1.1438 0.0091\n",
            "2:         -1.1605 0.0077\n",
            "3:         -1.1484 0.0061\n",
            "PyQMC Monte Carlo converged ground-state energy: -1.148402801963, error: 0.0061\n",
            "\n",
            "QPE initial Hartree Fock state\n"
          ]
        },
        {
          "output_type": "display_data",
          "data": {
            "text/plain": [
              "<Figure size 146.652x144.48 with 1 Axes>"
            ],
            "image/png": "[encoded data removed]"
          },
          "metadata": {}
        },
        {
          "output_type": "stream",
          "name": "stdout",
          "text": [
            "QPE computed electronic ground state energy (Hartree): -1.7934378610679784\n",
            " \n",
            "Running the VQE using the NumPy exact solver\n",
            "Elapsed time: 0:00:00.441179 \n",
            "\n",
            "=== GROUND STATE ENERGY ===\n",
            " \n",
            "* Electronic ground state energy (Hartree): -1.857275030202\n",
            "  - computed part:      -1.857275030202\n",
            "~ Nuclear repulsion energy (Hartree): 0.719968994449\n",
            "> Total ground state energy (Hartree): -1.137306035753\n",
            " \n",
            "=== MEASURED OBSERVABLES ===\n",
            " \n",
            "  0:  # Particles: 2.000 S: 0.000 S^2: 0.000 M: 0.000\n",
            " \n",
            "=== DIPOLE MOMENTS ===\n",
            " \n",
            "~ Nuclear dipole moment (a.u.): [0.0  0.0  1.3889487]\n",
            " \n",
            "  0: \n",
            "  * Electronic dipole moment (a.u.): [0.0  0.0  1.3889487]\n",
            "    - computed part:      [0.0  0.0  1.3889487]\n",
            "  > Dipole moment (a.u.): [0.0  0.0  0.0]  Total: 0.0\n",
            "                 (debye): [0.0  0.0  0.0]  Total: 0.0\n",
            " \n"
          ]
        },
        {
          "output_type": "display_data",
          "data": {
            "text/plain": [
              "<Figure size 432x288 with 1 Axes>"
            ],
            "image/png": "[encoded data removed]"
          },
          "metadata": {
            "needs_background": "light"
          }
        }
      ],
      "source": [
        "perturbation_steps = np.linspace(-0.5, 2, 25) # 25 equally spaced points from -0.5 to 2, inclusive.\n",
        "H2_stretchable_fermionic_hamiltonian, H2_stretchable_particle_number, H2_stretchable_qubit_op, H2_stretchable_qubit_converter, H2_stretchable_ground_state = \\\n",
        "                  solve_ground_state(hydrogen_molecule_stretchable, mapper =\"Parity\",\n",
        "                   two_qubit_reduction=True, z2symmetry_reduction=None, \n",
        "                   name_solver = 'NumPy exact solver', solver = numpy_solver,\n",
        "                   plot_bopes = True, perturbation_steps=perturbation_steps)"
      ]
    },
    {
      "cell_type": "markdown",
      "metadata": {
        "id": "ZmTA538SXFt7"
      },
      "source": [
        "Figure 5.12 – Plot of the BOPES of the hydrogen molecule\n",
        "\n",
        "## 5.2.2. Lithium hydride molecule"
      ]
    },
    {
      "cell_type": "code",
      "execution_count": 62,
      "metadata": {
        "id": "NfP3LKlTDqQa"
      },
      "outputs": [],
      "source": [
        "LiH_molecule = Molecule(geometry=[['Li', [0., 0., 0.]],\n",
        "                              ['H', [0., 0., 1.5474]]],\n",
        "                     charge=0, multiplicity=1)"
      ]
    },
    {
      "cell_type": "markdown",
      "metadata": {
        "id": "-PbSZl4xF8Ik"
      },
      "source": [
        "### Varying the lithium hydride molecule"
      ]
    },
    {
      "cell_type": "code",
      "execution_count": 63,
      "metadata": {
        "id": "dWs_kPZsFbTs"
      },
      "outputs": [],
      "source": [
        "LiH_molecule_stretchable = Molecule(geometry=[['Li', [0., 0., 0.]],\n",
        "                              ['H', [0., 0., 1.5474]]],\n",
        "                    charge=0, multiplicity=1,\n",
        "                    degrees_of_freedom=[specific_molecular_variation])"
      ]
    },
    {
      "cell_type": "markdown",
      "metadata": {
        "id": "lgKIjsNeSN5F"
      },
      "source": [
        "### Solving for the Ground-state"
      ]
    },
    {
      "cell_type": "code",
      "execution_count": 64,
      "metadata": {
        "colab": {
          "base_uri": "https://localhost:8080/",
          "height": 1000
        },
        "id": "S27IqTdwPv_t",
        "outputId": "7372513f-5e16-4e1d-b726-40eaf3a13bf4"
      },
      "outputs": [
        {
          "output_type": "stream",
          "name": "stdout",
          "text": [
            "Number of alpha electrons: 1\n",
            "Number of beta electrons: 1\n",
            "Number of spin orbitals: 6\n",
            "Fermionic Hamiltonian operator\n",
            "Fermionic Operator\n",
            "register length=6, number terms=117\n",
            "  (0.012557929501996105+0j) * ( +_0 -_1 +_3 -_4 )\n",
            "+ (-0.03399663387923222+0j) * ( +_0 -_1 +_3 -_5 )\n",
            "+ (-0.012557929501996086+0j) * ( +_0 -_1 -_3 +_4 )\n",
            "+ (0.03399663387923224+0j) * ( +_0 -_1 -_3 +_5 )\n",
            "+ (0.008886443232579824+0j) * ( +_0 -_1 +_4 -_5 )\n",
            "+ (-0.00888644323257985+0j) * ( +_0 -_1 -_4 +_5 )\n",
            "+ (0.04770212338466273+0j) * ( +_0 -_1 )\n",
            "+ (-0.0427274251317337+0j) * ( +_0 -_1 +_5 -_5 )\n",
            "+ (0.00678985984955151+0j) * ( +_0 -_1 +_4 -_4 )\n",
            "+ (-0.047702117137939704+0j) * ( +_0 -_1 +_3 -_3 )\n",
            "+ (-0.011291412068144484+0j) * ( +_0 -_1 +_2 -_2 )\n",
            "+ (-0.03399663387923222+0j) * ( +_0 -_2 +_3 -_4 )\n",
            "+ (0.123384387853094+0j) * ( +_0 -_2 +_3 -_5 )\n",
            "+ (0.033996633879232255+0j) * ( +_0 -_2 -_3 +_4 )\n",
            "+ (-0.12338438785309398+0j) * ( +_0 -_2 -_3 +_5 )\n",
            "+ (-0.03143601306358916+0j) * ( +_0 -_2 +_4 -_5 )\n",
            "+ (0.031436013063589216+0j) * ( +_0 -_2 -_4 +_5 )\n",
            "+ (-0.12958118897501297+0j) * ( +_0 -_2 )\n",
            "+ (0.13755899256191767+0j) * ( +_0 -_2 +_5 -_5 )\n",
            "+ (-0.01094900244933408+0j) * ( +_0 -_2 +_4 -_4 )\n",
            "+ (0.129581189279 ...\n",
            " \n",
            "Qubit Hamiltonian operator\n",
            "Parity transformation \n",
            "Number of items in the Pauli list: 100\n",
            "-0.003139482375499021 * ZXZX\n",
            "- 0.0031394823754990215 * IXZX\n",
            "+ 0.003139482375499021 * ZXIX\n",
            "+ 0.0031394823754990215 * IXIX\n",
            "+ 0.008499158469808057 * XXZX\n",
            "- 0.008499158469808057 * YYZX\n",
            "- 0.008499158469808057 * XXIX\n",
            "+ 0.008499158469808057 * YYIX\n",
            "+ 0.00222161080814496 * XZZX\n",
            "- 0.00222161080814496 * XIZX\n",
            "- 0.00222161080814496 * XZIX\n",
            "+ 0.00222161080814496 * XIIX\n",
            "- 0.0029411410873008965 * IIZX\n",
            "+ 0.0029411410873008965 * IIIX\n",
            "- 0.010681856282933421 * ZIZX\n",
            "+ 0.010681856282933421 * ZIIX\n",
            "+ 0.0016974649623878813 * ZZZX\n",
            "- 0.0016974649623878813 * ZZIX\n",
            "+ 0.011925529284484922 * IZZX\n",
            "- 0.011925529284484922 * IZIX\n",
            " \n",
            "PySCF restricted HF (RHF) converged ground-state energy: -7.863113882796\n",
            "Iteration, Energy, Error\n",
            "0:         -7.7869 0.0954\n",
            "1:         -7.9574 0.0481\n",
            "2:         -8.0980 0.0403\n",
            "3:         -7.9561 0.0370\n",
            "PyQMC Monte Carlo converged ground-state energy: -7.956082808075, error: 0.0370\n",
            "\n",
            "QPE initial Hartree Fock state\n"
          ]
        },
        {
          "output_type": "display_data",
          "data": {
            "text/plain": [
              "<Figure size 146.797x264.88 with 1 Axes>"
            ],
            "image/png": "[encoded data removed]"
          },
          "metadata": {}
        },
        {
          "output_type": "stream",
          "name": "stdout",
          "text": [
            "QPE computed electronic ground state energy (Hartree): -0.9611256062362894\n",
            " \n",
            "Running the VQE using the NumPy exact solver\n",
            "Elapsed time: 0:00:01.308928 \n",
            "\n",
            "=== GROUND STATE ENERGY ===\n",
            " \n",
            "* Electronic ground state energy (Hartree): -8.907396311316\n",
            "  - computed part:      -1.088706015735\n",
            "  - FreezeCoreTransformer extracted energy part: -7.818690295581\n",
            "~ Nuclear repulsion energy (Hartree): 1.025934879643\n",
            "> Total ground state energy (Hartree): -7.881461431673\n",
            " \n",
            "=== MEASURED OBSERVABLES ===\n",
            " \n",
            "  0:  # Particles: 2.000 S: 0.000 S^2: 0.000 M: 0.000\n",
            " \n",
            "=== DIPOLE MOMENTS ===\n",
            " \n",
            "~ Nuclear dipole moment (a.u.): [0.0  0.0  2.92416221]\n",
            " \n",
            "  0: \n",
            "  * Electronic dipole moment (a.u.): [0.0  0.0  4.76300889]\n",
            "    - computed part:      [0.0  0.0  4.76695575]\n",
            "    - FreezeCoreTransformer extracted energy part: [0.0  0.0  -0.00394686]\n",
            "  > Dipole moment (a.u.): [0.0  0.0  -1.83884668]  Total: 1.83884668\n",
            "                 (debye): [0.0  0.0  -4.67388163]  Total: 4.67388163\n",
            " \n"
          ]
        }
      ],
      "source": [
        "LiH_fermionic_hamiltonian, LiH_particle_number, LiH_qubit_op, LiH_qubit_converter, LiH_ground_state = \\\n",
        "                  solve_ground_state(LiH_molecule, mapper=\"Parity\",\n",
        "                  transformers=[FreezeCoreTransformer(freeze_core=True, remove_orbitals=[4, 3])],\n",
        "                  two_qubit_reduction=True, z2symmetry_reduction=\"auto\", \n",
        "                  name_solver='NumPy exact solver', solver=numpy_solver)"
      ]
    },
    {
      "cell_type": "markdown",
      "metadata": {
        "id": "9DhAWQeYXyET"
      },
      "source": [
        "Figure 5.13 – Ground-state of the $\\text{LiH}$ molecule with PySCF RHF, PyQMC Monte Carlo and QPE\n",
        "\n",
        "Figure 5.14. Ground-state of the $\\text{LiH}$ molecule with VQE using the NumPy minimum eigensolver"
      ]
    },
    {
      "cell_type": "code",
      "execution_count": 65,
      "metadata": {
        "colab": {
          "base_uri": "https://localhost:8080/",
          "height": 1000
        },
        "id": "rEeqmchsUM8d",
        "outputId": "8cb9c3e6-f3ea-4783-c3e7-40bc740a5ae5"
      },
      "outputs": [
        {
          "output_type": "stream",
          "name": "stdout",
          "text": [
            "Number of alpha electrons: 1\n",
            "Number of beta electrons: 1\n",
            "Number of spin orbitals: 6\n",
            "Fermionic Hamiltonian operator\n",
            "Fermionic Operator\n",
            "register length=6, number terms=117\n",
            "  (0.012557929502021302+0j) * ( +_0 -_1 +_3 -_4 )\n",
            "+ (-0.03399663387926378+0j) * ( +_0 -_1 +_3 -_5 )\n",
            "+ (-0.012557929502021309+0j) * ( +_0 -_1 -_3 +_4 )\n",
            "+ (0.0339966338792638+0j) * ( +_0 -_1 -_3 +_5 )\n",
            "+ (0.008886443232607948+0j) * ( +_0 -_1 +_4 -_5 )\n",
            "+ (-0.008886443232607937+0j) * ( +_0 -_1 -_4 +_5 )\n",
            "+ (0.047702123384755345+0j) * ( +_0 -_1 )\n",
            "+ (-0.042727425131781266+0j) * ( +_0 -_1 +_5 -_5 )\n",
            "+ (0.006789859849570571+0j) * ( +_0 -_1 +_4 -_4 )\n",
            "+ (-0.04770211713799643+0j) * ( +_0 -_1 +_3 -_3 )\n",
            "+ (-0.011291412068168114+0j) * ( +_0 -_1 +_2 -_2 )\n",
            "+ (-0.03399663387926378+0j) * ( +_0 -_2 +_3 -_4 )\n",
            "+ (0.12338438785307912+0j) * ( +_0 -_2 +_3 -_5 )\n",
            "+ (0.03399663387926377+0j) * ( +_0 -_2 -_3 +_4 )\n",
            "+ (-0.12338438785307931+0j) * ( +_0 -_2 -_3 +_5 )\n",
            "+ (-0.03143601306361302+0j) * ( +_0 -_2 +_4 -_5 )\n",
            "+ (0.03143601306361315+0j) * ( +_0 -_2 -_4 +_5 )\n",
            "+ (-0.12958118897498444+0j) * ( +_0 -_2 )\n",
            "+ (0.13755899256189952+0j) * ( +_0 -_2 +_5 -_5 )\n",
            "+ (-0.010949002449309944+0j) * ( +_0 -_2 +_4 -_4 )\n",
            "+ (0.12958118 ...\n",
            " \n",
            "Qubit Hamiltonian operator\n",
            "Parity transformation \n",
            "Number of items in the Pauli list: 100\n",
            "-0.003139482375505325 * ZXZX\n",
            "- 0.003139482375505325 * IXZX\n",
            "+ 0.003139482375505325 * ZXIX\n",
            "+ 0.003139482375505325 * IXIX\n",
            "+ 0.008499158469815943 * XXZX\n",
            "- 0.008499158469815943 * YYZX\n",
            "- 0.008499158469815943 * XXIX\n",
            "+ 0.008499158469815943 * YYIX\n",
            "+ 0.002221610808151984 * XZZX\n",
            "- 0.002221610808151984 * XIZX\n",
            "- 0.002221610808151984 * XZIX\n",
            "+ 0.002221610808151984 * XIIX\n",
            "- 0.002941141087325901 * IIZX\n",
            "+ 0.002941141087325901 * IIIX\n",
            "- 0.01068185628294531 * ZIZX\n",
            "+ 0.01068185628294531 * ZIIX\n",
            "+ 0.0016974649623926372 * ZZZX\n",
            "- 0.0016974649623926372 * ZZIX\n",
            "+ 0.011925529284499095 * IZZX\n",
            "- 0.011925529284499095 * IZIX\n",
            " \n",
            "PySCF restricted HF (RHF) converged ground-state energy: -7.863113882796\n",
            "Iteration, Energy, Error\n",
            "0:         -8.0994 0.1191\n",
            "1:         -8.0589 0.0482\n",
            "2:         -7.9741 0.0523\n",
            "3:         -8.0023 0.0544\n",
            "PyQMC Monte Carlo converged ground-state energy: -8.002335806631, error: 0.0544\n",
            "\n",
            "QPE initial Hartree Fock state\n"
          ]
        },
        {
          "output_type": "display_data",
          "data": {
            "text/plain": [
              "<Figure size 146.797x264.88 with 1 Axes>"
            ],
            "image/png": "[encoded data removed]"
          },
          "metadata": {}
        },
        {
          "output_type": "stream",
          "name": "stdout",
          "text": [
            "QPE computed electronic ground state energy (Hartree): -0.9611256062363783\n",
            " \n",
            "Running the VQE using the Heuristic ansatz, the Two-Local circuit with SLSQP\n",
            "Elapsed time: 0:00:02.280446 \n",
            "\n",
            "=== GROUND STATE ENERGY ===\n",
            " \n",
            "* Electronic ground state energy (Hartree): -8.889048172829\n",
            "  - computed part:      -1.070357877248\n",
            "  - FreezeCoreTransformer extracted energy part: -7.818690295581\n",
            "~ Nuclear repulsion energy (Hartree): 1.025934879643\n",
            "> Total ground state energy (Hartree): -7.863113293186\n",
            " \n",
            "=== MEASURED OBSERVABLES ===\n",
            " \n",
            "  0:  # Particles: 2.000 S: 0.000 S^2: 0.000 M: 0.000\n",
            " \n",
            "=== DIPOLE MOMENTS ===\n",
            " \n",
            "~ Nuclear dipole moment (a.u.): [0.0  0.0  2.92416221]\n",
            " \n",
            "  0: \n",
            "  * Electronic dipole moment (a.u.): [0.0  0.0  4.83091067]\n",
            "    - computed part:      [0.0  0.0  4.83485753]\n",
            "    - FreezeCoreTransformer extracted energy part: [0.0  0.0  -0.00394686]\n",
            "  > Dipole moment (a.u.): [0.0  0.0  -1.90674846]  Total: 1.90674846\n",
            "                 (debye): [0.0  0.0  -4.84647072]  Total: 4.84647072\n",
            " \n"
          ]
        }
      ],
      "source": [
        "LiH_fermionic_hamiltonian, LiH_particle_number, LiH_qubit_op, LiH_qubit_converter, LiH_ground_state = \\\n",
        "                  solve_ground_state(LiH_molecule, mapper=\"Parity\",\n",
        "                  transformers=[FreezeCoreTransformer(freeze_core=True, remove_orbitals=[4, 3])],\n",
        "                  two_qubit_reduction=True, z2symmetry_reduction=\"auto\", \n",
        "                  name_solver = 'Heuristic ansatz, the Two-Local circuit with SLSQP', solver = vqe_tl_solver)"
      ]
    },
    {
      "cell_type": "markdown",
      "metadata": {
        "id": "-m1VgbftX6Cj"
      },
      "source": [
        "Figure 5.15 – Ground-state of the $\\text{LiH}$ molecule with VQE using the UCC factory ansatz"
      ]
    },
    {
      "cell_type": "code",
      "execution_count": 66,
      "metadata": {
        "id": "iPsEkUA2VfND"
      },
      "outputs": [],
      "source": [
        "qnspsa_loss = []\n",
        "ansatz = tl_circuit\n",
        "fidelity = QNSPSA.get_fidelity(ansatz, quantum_instance, expectation=PauliExpectation())\n",
        "qnspsa = QNSPSA(fidelity, maxiter=500, learning_rate=0.01, perturbation=0.7, callback=qnspsa_callback)"
      ]
    },
    {
      "cell_type": "code",
      "execution_count": 67,
      "metadata": {
        "id": "vEvtcGM7yHFp"
      },
      "outputs": [],
      "source": [
        "vqe_tl_QNSPSA_solver = VQE(ansatz=tl_circuit, optimizer=qnspsa,\n",
        "                     quantum_instance=quantum_instance)"
      ]
    },
    {
      "cell_type": "code",
      "execution_count": 68,
      "metadata": {
        "colab": {
          "base_uri": "https://localhost:8080/",
          "height": 1000
        },
        "id": "401O7P7ZV-FA",
        "outputId": "4590e27d-cc63-47f9-af0d-d568f4c27a1f"
      },
      "outputs": [
        {
          "output_type": "stream",
          "name": "stdout",
          "text": [
            "Number of alpha electrons: 1\n",
            "Number of beta electrons: 1\n",
            "Number of spin orbitals: 6\n",
            "Fermionic Hamiltonian operator\n",
            "Fermionic Operator\n",
            "register length=6, number terms=117\n",
            "  (0.012557929501996105+0j) * ( +_0 -_1 +_3 -_4 )\n",
            "+ (-0.03399663387923222+0j) * ( +_0 -_1 +_3 -_5 )\n",
            "+ (-0.012557929501996086+0j) * ( +_0 -_1 -_3 +_4 )\n",
            "+ (0.03399663387923224+0j) * ( +_0 -_1 -_3 +_5 )\n",
            "+ (0.008886443232579824+0j) * ( +_0 -_1 +_4 -_5 )\n",
            "+ (-0.00888644323257985+0j) * ( +_0 -_1 -_4 +_5 )\n",
            "+ (0.04770212338466273+0j) * ( +_0 -_1 )\n",
            "+ (-0.0427274251317337+0j) * ( +_0 -_1 +_5 -_5 )\n",
            "+ (0.00678985984955151+0j) * ( +_0 -_1 +_4 -_4 )\n",
            "+ (-0.047702117137939704+0j) * ( +_0 -_1 +_3 -_3 )\n",
            "+ (-0.011291412068144484+0j) * ( +_0 -_1 +_2 -_2 )\n",
            "+ (-0.03399663387923222+0j) * ( +_0 -_2 +_3 -_4 )\n",
            "+ (0.123384387853094+0j) * ( +_0 -_2 +_3 -_5 )\n",
            "+ (0.033996633879232255+0j) * ( +_0 -_2 -_3 +_4 )\n",
            "+ (-0.12338438785309398+0j) * ( +_0 -_2 -_3 +_5 )\n",
            "+ (-0.03143601306358916+0j) * ( +_0 -_2 +_4 -_5 )\n",
            "+ (0.031436013063589216+0j) * ( +_0 -_2 -_4 +_5 )\n",
            "+ (-0.12958118897501297+0j) * ( +_0 -_2 )\n",
            "+ (0.13755899256191767+0j) * ( +_0 -_2 +_5 -_5 )\n",
            "+ (-0.01094900244933408+0j) * ( +_0 -_2 +_4 -_4 )\n",
            "+ (0.129581189279 ...\n",
            " \n",
            "Qubit Hamiltonian operator\n",
            "Parity transformation \n",
            "Number of items in the Pauli list: 100\n",
            "-0.003139482375499021 * ZXZX\n",
            "- 0.0031394823754990215 * IXZX\n",
            "+ 0.003139482375499021 * ZXIX\n",
            "+ 0.0031394823754990215 * IXIX\n",
            "+ 0.008499158469808057 * XXZX\n",
            "- 0.008499158469808057 * YYZX\n",
            "- 0.008499158469808057 * XXIX\n",
            "+ 0.008499158469808057 * YYIX\n",
            "+ 0.00222161080814496 * XZZX\n",
            "- 0.00222161080814496 * XIZX\n",
            "- 0.00222161080814496 * XZIX\n",
            "+ 0.00222161080814496 * XIIX\n",
            "- 0.0029411410873008965 * IIZX\n",
            "+ 0.0029411410873008965 * IIIX\n",
            "- 0.010681856282933421 * ZIZX\n",
            "+ 0.010681856282933421 * ZIIX\n",
            "+ 0.0016974649623878813 * ZZZX\n",
            "- 0.0016974649623878813 * ZZIX\n",
            "+ 0.011925529284484922 * IZZX\n",
            "- 0.011925529284484922 * IZIX\n",
            " \n",
            "PySCF restricted HF (RHF) converged ground-state energy: -7.863113882796\n",
            "Iteration, Energy, Error\n",
            "0:         -8.2818 0.0640\n",
            "1:         -8.0092 0.0508\n",
            "2:         -8.0534 0.0455\n",
            "3:         -8.2120 0.0550\n",
            "PyQMC Monte Carlo converged ground-state energy: -8.212031120872, error: 0.0550\n",
            "\n",
            "QPE initial Hartree Fock state\n"
          ]
        },
        {
          "output_type": "display_data",
          "data": {
            "text/plain": [
              "<Figure size 146.797x264.88 with 1 Axes>"
            ],
            "image/png": "[encoded data removed]"
          },
          "metadata": {}
        },
        {
          "output_type": "stream",
          "name": "stdout",
          "text": [
            "QPE computed electronic ground state energy (Hartree): -0.9611256062362894\n",
            " \n",
            "Running the VQE using the Two-Local circuit and the QN-SPSA optimizer\n",
            "Elapsed time: 0:00:14.126321 \n",
            "\n",
            "=== GROUND STATE ENERGY ===\n",
            " \n",
            "* Electronic ground state energy (Hartree): -8.887383712179\n",
            "  - computed part:      -1.068693416598\n",
            "  - FreezeCoreTransformer extracted energy part: -7.818690295581\n",
            "~ Nuclear repulsion energy (Hartree): 1.025934879643\n",
            "> Total ground state energy (Hartree): -7.861448832535\n",
            " \n",
            "=== MEASURED OBSERVABLES ===\n",
            " \n",
            "  0:  # Particles: 2.000 S: 0.019 S^2: 0.020 M: -0.000\n",
            " \n",
            "=== DIPOLE MOMENTS ===\n",
            " \n",
            "~ Nuclear dipole moment (a.u.): [0.0  0.0  2.92416221]\n",
            " \n",
            "  0: \n",
            "  * Electronic dipole moment (a.u.): [0.0  0.0  4.77191467]\n",
            "    - computed part:      [0.0  0.0  4.77586153]\n",
            "    - FreezeCoreTransformer extracted energy part: [0.0  0.0  -0.00394686]\n",
            "  > Dipole moment (a.u.): [0.0  0.0  -1.84775246]  Total: 1.84775246\n",
            "                 (debye): [0.0  0.0  -4.69651785]  Total: 4.69651785\n",
            " \n"
          ]
        },
        {
          "output_type": "display_data",
          "data": {
            "text/plain": [
              "<Figure size 864x432 with 1 Axes>"
            ],
            "image/png": "[encoded data removed]"
          },
          "metadata": {
            "needs_background": "light"
          }
        }
      ],
      "source": [
        "LiH_fermionic_hamiltonian, LiH_particle_number, LiH_qubit_op, LiH_qubit_converter, LiH_ground_state = \\\n",
        "                  solve_ground_state(LiH_molecule, mapper=\"Parity\",\n",
        "                  transformers=[FreezeCoreTransformer(freeze_core=True, remove_orbitals=[4, 3])],\n",
        "                  two_qubit_reduction=True, z2symmetry_reduction=\"auto\", loss=qnspsa_loss, label='QN-SPSA', target=-1.0703584,\n",
        "                  name_solver='Two-Local circuit and the QN-SPSA optimizer', solver=vqe_tl_QNSPSA_solver)"
      ]
    },
    {
      "cell_type": "markdown",
      "metadata": {
        "id": "CgnMCPC1Twal"
      },
      "source": [
        "Figure 5.16 – Ground-state of the $\\text{LiH}$ molecule with VQE using the Two-Local circuit and QN-SPSA\n",
        "\n",
        "Figure 5.17 – Loss function of the VQE using the Two-Local circuit and QN-SPSA for the $\\text{LiH}$ molecule"
      ]
    },
    {
      "cell_type": "markdown",
      "metadata": {
        "id": "5yq8fMpwA20w"
      },
      "source": [
        "### Computing the Born-Oppenheimer Potential Energy Surface (BOPES)\n"
      ]
    },
    {
      "cell_type": "code",
      "execution_count": 69,
      "metadata": {
        "colab": {
          "base_uri": "https://localhost:8080/",
          "height": 1000
        },
        "id": "Ofz1OF_Sc0Xy",
        "outputId": "4beb0cac-746b-4e9b-b06a-4984be1e7df0"
      },
      "outputs": [
        {
          "output_type": "stream",
          "name": "stdout",
          "text": [
            "Number of alpha electrons: 1\n",
            "Number of beta electrons: 1\n",
            "Number of spin orbitals: 6\n",
            "Fermionic Hamiltonian operator\n",
            "Fermionic Operator\n",
            "register length=6, number terms=117\n",
            "  (0.012557929501996105+0j) * ( +_0 -_1 +_3 -_4 )\n",
            "+ (-0.03399663387923222+0j) * ( +_0 -_1 +_3 -_5 )\n",
            "+ (-0.012557929501996086+0j) * ( +_0 -_1 -_3 +_4 )\n",
            "+ (0.03399663387923224+0j) * ( +_0 -_1 -_3 +_5 )\n",
            "+ (0.008886443232579824+0j) * ( +_0 -_1 +_4 -_5 )\n",
            "+ (-0.00888644323257985+0j) * ( +_0 -_1 -_4 +_5 )\n",
            "+ (0.04770212338466273+0j) * ( +_0 -_1 )\n",
            "+ (-0.0427274251317337+0j) * ( +_0 -_1 +_5 -_5 )\n",
            "+ (0.00678985984955151+0j) * ( +_0 -_1 +_4 -_4 )\n",
            "+ (-0.047702117137939704+0j) * ( +_0 -_1 +_3 -_3 )\n",
            "+ (-0.011291412068144484+0j) * ( +_0 -_1 +_2 -_2 )\n",
            "+ (-0.03399663387923222+0j) * ( +_0 -_2 +_3 -_4 )\n",
            "+ (0.123384387853094+0j) * ( +_0 -_2 +_3 -_5 )\n",
            "+ (0.033996633879232255+0j) * ( +_0 -_2 -_3 +_4 )\n",
            "+ (-0.12338438785309398+0j) * ( +_0 -_2 -_3 +_5 )\n",
            "+ (-0.03143601306358916+0j) * ( +_0 -_2 +_4 -_5 )\n",
            "+ (0.031436013063589216+0j) * ( +_0 -_2 -_4 +_5 )\n",
            "+ (-0.12958118897501297+0j) * ( +_0 -_2 )\n",
            "+ (0.13755899256191767+0j) * ( +_0 -_2 +_5 -_5 )\n",
            "+ (-0.01094900244933408+0j) * ( +_0 -_2 +_4 -_4 )\n",
            "+ (0.129581189279 ...\n",
            " \n",
            "Qubit Hamiltonian operator\n",
            "Parity transformation \n",
            "Number of items in the Pauli list: 100\n",
            "-0.003139482375499021 * ZXZX\n",
            "- 0.0031394823754990215 * IXZX\n",
            "+ 0.003139482375499021 * ZXIX\n",
            "+ 0.0031394823754990215 * IXIX\n",
            "+ 0.008499158469808057 * XXZX\n",
            "- 0.008499158469808057 * YYZX\n",
            "- 0.008499158469808057 * XXIX\n",
            "+ 0.008499158469808057 * YYIX\n",
            "+ 0.00222161080814496 * XZZX\n",
            "- 0.00222161080814496 * XIZX\n",
            "- 0.00222161080814496 * XZIX\n",
            "+ 0.00222161080814496 * XIIX\n",
            "- 0.0029411410873008965 * IIZX\n",
            "+ 0.0029411410873008965 * IIIX\n",
            "- 0.010681856282933421 * ZIZX\n",
            "+ 0.010681856282933421 * ZIIX\n",
            "+ 0.0016974649623878813 * ZZZX\n",
            "- 0.0016974649623878813 * ZZIX\n",
            "+ 0.011925529284484922 * IZZX\n",
            "- 0.011925529284484922 * IZIX\n",
            " \n",
            "PySCF restricted HF (RHF) converged ground-state energy: -7.863113882796\n",
            "Iteration, Energy, Error\n",
            "0:         -8.0235 0.1393\n",
            "1:         -8.0913 0.0318\n",
            "2:         -7.8058 0.0416\n",
            "3:         -7.9025 0.0418\n",
            "PyQMC Monte Carlo converged ground-state energy: -7.902499522207, error: 0.0418\n",
            "\n",
            "QPE initial Hartree Fock state\n"
          ]
        },
        {
          "output_type": "display_data",
          "data": {
            "text/plain": [
              "<Figure size 146.797x264.88 with 1 Axes>"
            ],
            "image/png": "[encoded data removed]"
          },
          "metadata": {}
        },
        {
          "output_type": "stream",
          "name": "stdout",
          "text": [
            "QPE computed electronic ground state energy (Hartree): -0.9611256062362894\n",
            " \n",
            "Running the VQE using the NumPy exact solver\n",
            "Elapsed time: 0:00:01.321389 \n",
            "\n",
            "=== GROUND STATE ENERGY ===\n",
            " \n",
            "* Electronic ground state energy (Hartree): -8.907396311316\n",
            "  - computed part:      -1.088706015735\n",
            "  - FreezeCoreTransformer extracted energy part: -7.818690295581\n",
            "~ Nuclear repulsion energy (Hartree): 1.025934879643\n",
            "> Total ground state energy (Hartree): -7.881461431673\n",
            " \n",
            "=== MEASURED OBSERVABLES ===\n",
            " \n",
            "  0:  # Particles: 2.000 S: 0.000 S^2: 0.000 M: 0.000\n",
            " \n",
            "=== DIPOLE MOMENTS ===\n",
            " \n",
            "~ Nuclear dipole moment (a.u.): [0.0  0.0  2.92416221]\n",
            " \n",
            "  0: \n",
            "  * Electronic dipole moment (a.u.): [0.0  0.0  4.76300889]\n",
            "    - computed part:      [0.0  0.0  4.76695575]\n",
            "    - FreezeCoreTransformer extracted energy part: [0.0  0.0  -0.00394686]\n",
            "  > Dipole moment (a.u.): [0.0  0.0  -1.83884668]  Total: 1.83884668\n",
            "                 (debye): [0.0  0.0  -4.67388163]  Total: 4.67388163\n",
            " \n"
          ]
        },
        {
          "output_type": "stream",
          "name": "stderr",
          "text": [
            "/usr/local/lib/python3.7/dist-packages/matplotlib/cbook/__init__.py:1317: ComplexWarning: Casting complex values to real discards the imaginary part\n",
            "  return np.asarray(x, float)\n"
          ]
        },
        {
          "output_type": "display_data",
          "data": {
            "text/plain": [
              "<Figure size 432x288 with 1 Axes>"
            ],
            "image/png": "[encoded data removed]"
          },
          "metadata": {
            "needs_background": "light"
          }
        }
      ],
      "source": [
        "perturbation_steps = np.linspace(-0.8, 0.8, 10) # 10 equally spaced points from -0.8 to 0.8, inclusive.\n",
        "LiH_stretchable_fermionic_hamiltonian, LiH_stretchable_particle_number, LiH_stretchable_qubit_op, LiH_stretchable_qubit_converter, LiH_stretchable_ground_state = \\\n",
        "                  solve_ground_state(LiH_molecule_stretchable, mapper =\"Parity\",\n",
        "                  transformers=[FreezeCoreTransformer(freeze_core=True, remove_orbitals=[4, 3])],\n",
        "                   two_qubit_reduction=True, z2symmetry_reduction=\"auto\", \n",
        "                   name_solver='NumPy exact solver', solver=numpy_solver,\n",
        "                   plot_bopes=True, perturbation_steps=perturbation_steps)"
      ]
    },
    {
      "cell_type": "markdown",
      "metadata": {
        "id": "E55CqTIJBQh5"
      },
      "source": [
        "Figure 5.19 – Plot of the Born-Oppenheimer Potential Energy Surface (BOPES) of the $\\text{LiH}$ molecule"
      ]
    },
    {
      "cell_type": "markdown",
      "metadata": {
        "id": "yxiPpypwFF-Q"
      },
      "source": [
        "## 5.2.3. Macro molecule\n"
      ]
    },
    {
      "cell_type": "code",
      "execution_count": 70,
      "metadata": {
        "id": "fQcyMo8_dAb2"
      },
      "outputs": [],
      "source": [
        "macro_ASE = Atoms('ONCHHHC', [(1.1280, 0.2091, 0.0000), \n",
        "                          (-1.1878, 0.1791, 0.0000), \n",
        "                          (0.0598, -0.3882, 0.0000),\n",
        "                          (-1.3085, 1.1864, 0.0001),\n",
        "                          (-2.0305, -0.3861, -0.0001),\n",
        "                          (-0.0014, -1.4883, -0.0001),\n",
        "                          (-0.1805, 1.3955, 0.0000)])"
      ]
    },
    {
      "cell_type": "code",
      "execution_count": 71,
      "metadata": {
        "colab": {
          "base_uri": "https://localhost:8080/",
          "height": 813
        },
        "id": "rczrZIh5dIWD",
        "outputId": "c341c84d-4050-48da-9638-78795b25973d"
      },
      "outputs": [
        {
          "output_type": "execute_result",
          "data": {
            "text/plain": [
              "<IPython.core.display.HTML object>"
            ],
            "text/html": [
              "<html>\n",
              "\n",
              " <head>\n",
              "\n",
              "  <title>ASE atomic visualization</title>\n",
              "\n",
              "  <link rel=\"stylesheet\" type=\"text/css\"\n",
              "\n",
              "   href=\"https://www.x3dom.org/x3dom/release/x3dom.css\">\n",
              "\n",
              "  </link>\n",
              "\n",
              "  <script type=\"text/javascript\"\n",
              "\n",
              "   src=\"https://www.x3dom.org/x3dom/release/x3dom.js\">\n",
              "\n",
              "  </script>\n",
              "\n",
              " </head>\n",
              "\n",
              " <body>\n",
              "\n",
              "  <X3D>\n",
              "\n",
              "   <Scene>\n",
              "\n",
              "    <Transform translation=\"1.13 0.21 0.00\">\n",
              "\n",
              "     <Shape>\n",
              "\n",
              "      <Appearance>\n",
              "\n",
              "       <Material diffuseColor=\"1.000 0.051 0.051\" specularColor=\"0.5 0.5 0.5\">\n",
              "\n",
              "       </Material>\n",
              "\n",
              "      </Appearance>\n",
              "\n",
              "      <Sphere radius=\"0.66\">\n",
              "\n",
              "      </Sphere>\n",
              "\n",
              "     </Shape>\n",
              "\n",
              "    </Transform>\n",
              "\n",
              "    <Transform translation=\"-1.19 0.18 0.00\">\n",
              "\n",
              "     <Shape>\n",
              "\n",
              "      <Appearance>\n",
              "\n",
              "       <Material diffuseColor=\"0.188 0.314 0.973\" specularColor=\"0.5 0.5 0.5\">\n",
              "\n",
              "       </Material>\n",
              "\n",
              "      </Appearance>\n",
              "\n",
              "      <Sphere radius=\"0.71\">\n",
              "\n",
              "      </Sphere>\n",
              "\n",
              "     </Shape>\n",
              "\n",
              "    </Transform>\n",
              "\n",
              "    <Transform translation=\"0.06 -0.39 0.00\">\n",
              "\n",
              "     <Shape>\n",
              "\n",
              "      <Appearance>\n",
              "\n",
              "       <Material diffuseColor=\"0.565 0.565 0.565\" specularColor=\"0.5 0.5 0.5\">\n",
              "\n",
              "       </Material>\n",
              "\n",
              "      </Appearance>\n",
              "\n",
              "      <Sphere radius=\"0.76\">\n",
              "\n",
              "      </Sphere>\n",
              "\n",
              "     </Shape>\n",
              "\n",
              "    </Transform>\n",
              "\n",
              "    <Transform translation=\"-1.31 1.19 0.00\">\n",
              "\n",
              "     <Shape>\n",
              "\n",
              "      <Appearance>\n",
              "\n",
              "       <Material diffuseColor=\"1.000 1.000 1.000\" specularColor=\"0.5 0.5 0.5\">\n",
              "\n",
              "       </Material>\n",
              "\n",
              "      </Appearance>\n",
              "\n",
              "      <Sphere radius=\"0.31\">\n",
              "\n",
              "      </Sphere>\n",
              "\n",
              "     </Shape>\n",
              "\n",
              "    </Transform>\n",
              "\n",
              "    <Transform translation=\"-2.03 -0.39 -0.00\">\n",
              "\n",
              "     <Shape>\n",
              "\n",
              "      <Appearance>\n",
              "\n",
              "       <Material diffuseColor=\"1.000 1.000 1.000\" specularColor=\"0.5 0.5 0.5\">\n",
              "\n",
              "       </Material>\n",
              "\n",
              "      </Appearance>\n",
              "\n",
              "      <Sphere radius=\"0.31\">\n",
              "\n",
              "      </Sphere>\n",
              "\n",
              "     </Shape>\n",
              "\n",
              "    </Transform>\n",
              "\n",
              "    <Transform translation=\"-0.00 -1.49 -0.00\">\n",
              "\n",
              "     <Shape>\n",
              "\n",
              "      <Appearance>\n",
              "\n",
              "       <Material diffuseColor=\"1.000 1.000 1.000\" specularColor=\"0.5 0.5 0.5\">\n",
              "\n",
              "       </Material>\n",
              "\n",
              "      </Appearance>\n",
              "\n",
              "      <Sphere radius=\"0.31\">\n",
              "\n",
              "      </Sphere>\n",
              "\n",
              "     </Shape>\n",
              "\n",
              "    </Transform>\n",
              "\n",
              "    <Transform translation=\"-0.18 1.40 0.00\">\n",
              "\n",
              "     <Shape>\n",
              "\n",
              "      <Appearance>\n",
              "\n",
              "       <Material diffuseColor=\"0.565 0.565 0.565\" specularColor=\"0.5 0.5 0.5\">\n",
              "\n",
              "       </Material>\n",
              "\n",
              "      </Appearance>\n",
              "\n",
              "      <Sphere radius=\"0.76\">\n",
              "\n",
              "      </Sphere>\n",
              "\n",
              "     </Shape>\n",
              "\n",
              "    </Transform>\n",
              "\n",
              "   </Scene>\n",
              "\n",
              "  </X3D>\n",
              "\n",
              " </body>\n",
              "\n",
              "</html>\n",
              "\n"
            ]
          },
          "metadata": {},
          "execution_count": 71
        }
      ],
      "source": [
        "view(macro_ASE, viewer='x3d')"
      ]
    },
    {
      "cell_type": "markdown",
      "metadata": {
        "id": "k5IRl-OkcPGk"
      },
      "source": [
        "Figure 5.20 – Macro molecule"
      ]
    },
    {
      "cell_type": "code",
      "execution_count": 72,
      "metadata": {
        "id": "IEl4uNqSHIPh"
      },
      "outputs": [],
      "source": [
        "molecular_variation = Molecule.absolute_stretching"
      ]
    },
    {
      "cell_type": "code",
      "execution_count": 73,
      "metadata": {
        "id": "4SFmEz-NHpco"
      },
      "outputs": [],
      "source": [
        "specific_molecular_variation = apply_variation(molecular_variation, atom_pair=(6, 1))"
      ]
    },
    {
      "cell_type": "code",
      "execution_count": 74,
      "metadata": {
        "id": "JdqvLGEgFXN5"
      },
      "outputs": [],
      "source": [
        "macromolecule = Molecule(geometry=\n",
        "                                 [['O', [1.1280, 0.2091, 0.0000]],\n",
        "                                  ['N', [-1.1878, 0.1791, 0.0000]],\n",
        "                                  ['C', [0.0598, -0.3882, 0.0000]],\n",
        "                                  ['H', [-1.3085, 1.1864, 0.0001]],\n",
        "                                  ['H', [-2.0305, -0.3861, -0.0001]],\n",
        "                                  ['H', [-0.0014, -1.4883, -0.0001]],\n",
        "                                  ['C', [-0.1805, 1.3955, 0.0000]]],\n",
        "                                  charge=0, multiplicity=1,\n",
        "                                  degrees_of_freedom=[specific_molecular_variation])"
      ]
    },
    {
      "cell_type": "markdown",
      "metadata": {
        "id": "GYcdp6gtjuK6"
      },
      "source": [
        "### Solving for the Ground-state"
      ]
    },
    {
      "cell_type": "code",
      "execution_count": 75,
      "metadata": {
        "colab": {
          "base_uri": "https://localhost:8080/"
        },
        "id": "fljwX8YAaQO5",
        "outputId": "80d3fae2-a985-4749-8397-a82f8a3986aa"
      },
      "outputs": [
        {
          "output_type": "stream",
          "name": "stdout",
          "text": [
            "Macro molecule\n",
            "Using the ParityMapper with two_qubit_reduction=True to eliminate two qubits\n",
            "Parameters ActiveSpaceTransformer(num_electrons=2, num_molecular_orbitals=2)\n",
            "Setting z2symmetry_reduction=\"auto\"\n"
          ]
        }
      ],
      "source": [
        "print(\"Macro molecule\")\n",
        "print(\"Using the ParityMapper with two_qubit_reduction=True to eliminate two qubits\")\n",
        "print(\"Parameters ActiveSpaceTransformer(num_electrons=2, num_molecular_orbitals=2)\")\n",
        "print(\"Setting z2symmetry_reduction=\\\"auto\\\"\")"
      ]
    },
    {
      "cell_type": "code",
      "execution_count": null,
      "metadata": {
        "colab": {
          "base_uri": "https://localhost:8080/",
          "height": 1000
        },
        "outputId": "450d5367-d0ee-4d35-fea2-52ca0b559991",
        "id": "UXxbMvIv9DPh"
      },
      "outputs": [
        {
          "output_type": "stream",
          "name": "stdout",
          "text": [
            "Number of alpha electrons: 1\n",
            "Number of beta electrons: 1\n",
            "Number of spin orbitals: 4\n",
            "Fermionic Hamiltonian operator\n",
            "Fermionic Operator\n",
            "register length=4, number terms=26\n",
            "  (0.026919512277769175+0j) * ( +_0 -_1 +_2 -_3 )\n",
            "+ (-0.02691951227776917+0j) * ( +_0 -_1 -_2 +_3 )\n",
            "+ (-0.05107681606888003+0j) * ( +_0 -_1 )\n",
            "+ (-0.04926855566987212+0j) * ( +_0 -_1 +_3 -_3 )\n",
            "+ (0.05107674503956358+0j) * ( +_0 -_1 +_2 -_2 )\n",
            "+ (-0.02691951227776917+0j) * ( -_0 +_1 +_2 -_3 )\n",
            "+ (0.02691951227776918+0j) * ( -_0 +_1 -_2 +_3 )\n",
            "+ (0.05107681606887988+0j) * ( -_0 +_1 )\n",
            "+ (0.04926855566987205+0j) * ( -_0 +_1 +_3 -_3 )\n",
            "+ (-0.05107674503956364+0j) * ( -_0 +_1 +_2 -_2 )\n",
            "+ (-0.05107681606888003+0j) * ( +_2 -_3 )\n",
            "+ (0.05107681606887988+0j) * ( -_2 +_3 )\n",
            "+ (-0.32719041369212737+0j) * ( +_3 -_3 )\n",
            "+ (-0.7480534066333778+0j) * ( +_2 -_2 )\n",
            "+ (0.2759517326970386+0j) * ( +_2 -_2 +_3 -_3 )\n",
            "+ (-0.04926855566987212+0j) * ( +_1 -_1 +_2 -_3 )\n",
            "+ (0.04926855566987205+0j) * ( +_1 -_1 -_2 +_3 )\n",
            "+ (-0.32719041369212737+0j) * ( +_1 -_1 )\n",
            "+ (0.5193853265986382+0j) * ( +_1 -_1 +_3 -_3 )\n",
            "+ (0.3028712449748078+0j) * ( +_1 -_1 +_2 -_2 )\n",
            "+ (0.05107674503956358+0j) * ( +_0 -_0 +_2 -_3 )\n",
            "+ (-0.0510767450 ...\n",
            " \n",
            "Qubit Hamiltonian operator\n",
            "Parity transformation \n",
            "Number of items in the Pauli list: 9\n",
            "0.026919512277769172 * XX\n",
            "- 0.050172721384034176 * IX\n",
            "+ 0.05017265035471784 * ZX\n",
            "- 0.050172721384034176 * XI\n",
            "- 0.6410028181157836 * II\n",
            "- 0.18731878004762667 * ZI\n",
            "- 0.05017265035471784 * XZ\n",
            "+ 0.18731878004762645 * IZ\n",
            "- 0.1313697572349138 * ZZ\n",
            " \n",
            "PySCF restricted HF (RHF) converged ground-state energy: -203.543863584135\n",
            "\n",
            "QPE initial Hartree Fock state\n"
          ]
        },
        {
          "output_type": "display_data",
          "data": {
            "text/plain": [
              "<Figure size 146.652x144.48 with 1 Axes>"
            ],
            "image/png": "[encoded data removed]"
          },
          "metadata": {}
        },
        {
          "output_type": "stream",
          "name": "stdout",
          "text": [
            "QPE computed electronic ground state energy (Hartree): -0.8244072113871437\n",
            " \n",
            "Running the VQE using the NumPy exact solver\n",
            "Elapsed time: 0:46:45.446393 \n",
            "\n",
            "=== GROUND STATE ENERGY ===\n",
            " \n",
            "* Electronic ground state energy (Hartree): -318.206223981746\n",
            "  - computed part:      -0.885465166125\n",
            "  - ActiveSpaceTransformer extracted energy part: -317.320758815622\n",
            "~ Nuclear repulsion energy (Hartree): 114.661165852466\n",
            "> Total ground state energy (Hartree): -203.545058129281\n",
            " \n",
            "=== MEASURED OBSERVABLES ===\n",
            " \n",
            "  0:  # Particles: 2.000 S: 0.000 S^2: 0.000 M: 0.000\n",
            " \n",
            "=== DIPOLE MOMENTS ===\n",
            " \n",
            "~ Nuclear dipole moment (a.u.): [-6.34040909  15.65127868  -0.00018897]\n",
            " \n",
            "  0: \n",
            "  * Electronic dipole moment (a.u.): [-5.12026581  16.91295797  -0.00024077]\n",
            "    - computed part:      [-0.70824787  4.63305797  -0.00017904]\n",
            "    - ActiveSpaceTransformer extracted energy part: [-4.41201795  12.2799  -0.00006172]\n",
            "  > Dipole moment (a.u.): [-1.22014328  -1.26167929  0.0000518]  Total: 1.75515933\n",
            "                 (debye): [-3.10129458  -3.20686858  0.00013165]  Total: 4.4611696\n",
            " \n"
          ]
        }
      ],
      "source": [
        "macro_fermionic_hamiltonian, macro_particle_number, macro_qubit_op, macro_qubit_converter, macro_ground_state = \\\n",
        "                  solve_ground_state(macromolecule, mapper=\"Parity\",\n",
        "                  num_electrons=2, num_molecular_orbitals=2,\n",
        "                  two_qubit_reduction=True, z2symmetry_reduction=\"auto\", \n",
        "                  name_solver='NumPy exact solver', solver=numpy_solver, pyqmc=False)"
      ]
    },
    {
      "cell_type": "markdown",
      "metadata": {
        "id": "8wluc-v-DqcF"
      },
      "source": [
        "Figure 5.21 – First 20 terms of the fermionic Hamiltonian operator of the macro molecule\n",
        "\n",
        "Figure 5.22 – Qubit Hamiltonian operator of the outermost two electrons of the macro molecule\n",
        "\n",
        "Figure 5.23 – Total and electronic ground state energy of the macro molecule by PySCF and QPE respectively\n",
        "\n",
        "Figure 5.24 – Ground state of macro molecule using the UCC factory ansatz\n",
        "\n",
        "### Computing the Born-Oppenheimer Potential Energy Surface (BOPES)"
      ]
    },
    {
      "cell_type": "code",
      "execution_count": null,
      "metadata": {
        "colab": {
          "background_save": true
        },
        "id": "AI3Q4flqfJQ6"
      },
      "outputs": [],
      "source": [
        "perturbation_steps = np.linspace(-0.5, 3, 10) # 10 equally spaced points from -0.5 to 3, inclusive.\n",
        "macro_fermionic_hamiltonian, macro_particle_number, macro_qubit_op, macro_qubit_converter, macro_ground_state = \\\n",
        "                  solve_ground_state(macromolecule, mapper =\"Parity\",\n",
        "                  num_electrons=2, num_molecular_orbitals=2,\n",
        "                  two_qubit_reduction=True, z2symmetry_reduction=\"auto\", \n",
        "                  name_solver='NumPy exact solver', solver=numpy_solver, pyqmc=False,\n",
        "                  plot_bopes=True, perturbation_steps=perturbation_steps)"
      ]
    },
    {
      "cell_type": "markdown",
      "metadata": {
        "id": "5xp5rGc2HSk4"
      },
      "source": [
        "![image.png](data:image/png;base64,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)"
      ]
    },
    {
      "cell_type": "markdown",
      "metadata": {
        "id": "JMGRYSoelGaj"
      },
      "source": [
        "Figure 5.25 – Plot of the Born-Oppenheimer Potential Energy Surface (BOPES) of the macro molecule"
      ]
    },
    {
      "cell_type": "markdown",
      "metadata": {
        "id": "N9OUnvrLVe2S"
      },
      "source": [
        "# Summary\n"
      ]
    },
    {
      "cell_type": "markdown",
      "metadata": {
        "id": "CGfBDGZY82zw"
      },
      "source": [
        "# Questions\n",
        "\n",
        "1.   Does the variational theorem apply to excited states?\n"
      ]
    },
    {
      "cell_type": "code",
      "execution_count": null,
      "metadata": {
        "cellView": "form",
        "id": "DtfjLkr-7wsF"
      },
      "outputs": [],
      "source": [
        "#@title Enter your answer Yes, No or ? for a solution, then execute cell.\n",
        "answer = \"\" #@param {type:\"string\"}\n",
        "solution = \"Yes\"\n",
        "if answer == solution:\n",
        "  print(\"Correct\")\n",
        "elif answer == '?':\n",
        "  print(solution)\n",
        "else:\n",
        "  print(\"Incorrect, please try again\")"
      ]
    },
    {
      "cell_type": "markdown",
      "metadata": {
        "id": "08jG9COw-eFW"
      },
      "source": [
        "2. True or False: The Metropolis-Hastings method is a way to approximate integration over spatial coordinates."
      ]
    },
    {
      "cell_type": "code",
      "execution_count": null,
      "metadata": {
        "cellView": "form",
        "id": "mNQGPNdv9f3V"
      },
      "outputs": [],
      "source": [
        "#@title Enter your answer True, False or ? for a solution, then execute cell.\n",
        "answer = \"\" #@param {type:\"string\"}\n",
        "solution = \"True\"\n",
        "if answer == solution:\n",
        "  print(\"Correct\")\n",
        "elif answer == '?':\n",
        "  print(solution)\n",
        "else:\n",
        "  print(\"Incorrect, please try again\")"
      ]
    },
    {
      "cell_type": "markdown",
      "metadata": {
        "id": "9nRVSIzr9c0d"
      },
      "source": [
        "3. True or False: VQE is only a quantum computing algorithm and does not require the use of classical computing."
      ]
    },
    {
      "cell_type": "code",
      "execution_count": null,
      "metadata": {
        "cellView": "form",
        "id": "JDF0IR8l9jOR"
      },
      "outputs": [],
      "source": [
        "#@title Enter your answer True, False or ? for a solution, then execute cell.\n",
        "answer = \"\" #@param {type:\"string\"}\n",
        "solution = \"False\"\n",
        "if answer == solution:\n",
        "  print(\"Correct\")\n",
        "elif answer == '?':\n",
        "  print(solution)\n",
        "else:\n",
        "  print(\"Incorrect, please try again\")"
      ]
    },
    {
      "cell_type": "markdown",
      "metadata": {
        "id": "dHljHEO3ACw8"
      },
      "source": [
        "4. Can UCCSD be mapped to qubits?"
      ]
    },
    {
      "cell_type": "code",
      "execution_count": null,
      "metadata": {
        "cellView": "form",
        "id": "8ScHU5wKARKv"
      },
      "outputs": [],
      "source": [
        "#@title Enter your answer Yes, No or ? for a solution, then execute cell.\n",
        "answer = \"\" #@param {type:\"string\"}\n",
        "solution = \"Yes\"\n",
        "if answer == solution:\n",
        "  print(\"Correct\")\n",
        "elif answer == '?':\n",
        "  print(solution)\n",
        "else:\n",
        "  print(\"Incorrect, please try again\")"
      ]
    }
  ],
  "metadata": {
    "colab": {
      "collapsed_sections": [],
      "name": "Chapter_05_Variational_Quantum_Eigensolver_(VQE)_algorithm.ipynb",
      "provenance": [],
      "authorship_tag": "ABX9TyN16EeZnHvbJM4abdXfShSH"
    },
    "kernelspec": {
      "display_name": "Python 3",
      "name": "python3"
    },
    "language_info": {
      "name": "python"
    }
  },
  "nbformat": 4,
  "nbformat_minor": 0
}