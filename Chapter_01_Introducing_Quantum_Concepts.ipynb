{
  "nbformat": 4,
  "nbformat_minor": 0,
  "metadata": {
    "colab": {
      "name": "Chapter_01_Introducing_Quantum_Concepts.ipynb",
      "provenance": [],
      "collapsed_sections": [],
      "authorship_tag": "ABX9TyMWyDaOM19hCZySg5/DrbV2"
    },
    "kernelspec": {
      "name": "python3",
      "display_name": "Python 3"
    },
    "language_info": {
      "name": "python"
    }
  },
  "cells": [
    {
      "cell_type": "markdown",
      "source": [
        "# MIT License\n",
        "\n",
        "Copyright (c) 2022 Packt\n",
        "\n",
        "Permission is hereby granted, free of charge, to any person obtaining a copy\n",
        "of this software and associated documentation files (the \"Software\"), to deal\n",
        "in the Software without restriction, including without limitation the rights\n",
        "to use, copy, modify, merge, publish, distribute, sublicense, and/or sell\n",
        "copies of the Software, and to permit persons to whom the Software is\n",
        "furnished to do so, subject to the following conditions:\n",
        "\n",
        "The above copyright notice and this permission notice shall be included in all\n",
        "copies or substantial portions of the Software.\n",
        "\n",
        "THE SOFTWARE IS PROVIDED \"AS IS\", WITHOUT WARRANTY OF ANY KIND, EXPRESS OR\n",
        "IMPLIED, INCLUDING BUT NOT LIMITED TO THE WARRANTIES OF MERCHANTABILITY,\n",
        "FITNESS FOR A PARTICULAR PURPOSE AND NONINFRINGEMENT. IN NO EVENT SHALL THE\n",
        "AUTHORS OR COPYRIGHT HOLDERS BE LIABLE FOR ANY CLAIM, DAMAGES OR OTHER\n",
        "LIABILITY, WHETHER IN AN ACTION OF CONTRACT, TORT OR OTHERWISE, ARISING FROM,\n",
        "OUT OF OR IN CONNECTION WITH THE SOFTWARE OR THE USE OR OTHER DEALINGS IN THE\n",
        "SOFTWARE."
      ],
      "metadata": {
        "id": "dB3ekF8f6HBo"
      }
    },
    {
      "cell_type": "markdown",
      "source": [
        "# 1. Introducing Quantum Concepts\n",
        "\n",
        "# Technical requirements\n",
        "A companion Jupyter notebook for this chapter can be downloaded from GitHub at https://github.com/PacktPublishing/Quantum-Chemistry-and-Computing-for-the-Curious, which has been tested in the Google Colab environment, which is free and runs entirely in the cloud, and in the IBM Quantum Lab environment. Please refer to Appendix B – Leveraging Jupyter Notebooks in the Cloud, for more information."
      ],
      "metadata": {
        "id": "BzKhp2f9jZQ2"
      }
    },
    {
      "cell_type": "markdown",
      "metadata": {
        "id": "EuMIBsvTg6Fa"
      },
      "source": [
        "# 1.4. Light and energy\n",
        "\n",
        "## Calculating the electron configuration of atomic elements using the Madelung rule\n",
        "\n",
        "### Setting-up a list of atomic symbols."
      ]
    },
    {
      "cell_type": "code",
      "metadata": {
        "id": "TmQvmxVWpT4q"
      },
      "source": [
        "atom_list = ['H', 'He', 'Li', 'Be', 'B', 'C', 'N', 'O', 'F', 'Ne', 'Na',\n",
        "'Mg', 'Al', 'Si', 'P', 'S', 'Cl', 'Ar', 'K', 'Ca', 'Sc', 'Ti', 'V', 'Cr', 'Mn',\n",
        "'Fe', 'Co', 'Ni', 'Cu', 'Zn', 'Ga', 'Ge', 'As', 'Se', 'Br', 'Kr', 'Rb', 'Sr',\n",
        "'Y', 'Zr', 'Nb', 'Mo', 'Tc', 'Ru', 'Rh', 'Pd', 'Ag', 'Cd', 'In', 'Sn', 'Sb',\n",
        "'Te', 'I', 'Xe', 'Cs', 'Ba', 'La', 'Ce', 'Pr', 'Nd', 'Pm', 'Sm', 'Eu', 'Gd',\n",
        "'Tb', 'Dy', 'Ho', 'Er', 'Tm', 'Yb', 'Lu', 'Hf', 'Ta', 'W', 'Re', 'Os', 'Ir',\n",
        "'Pt', 'Au', 'Hg', 'Tl', 'Pb', 'Bi', 'Po', 'At', 'Rn', 'Fr', 'Ra', 'Ac', 'Th',\n",
        "'Pa', 'U', 'Np', 'Pu', 'Am', 'Cm', 'Bk', 'Cf', 'Es', 'Fm', 'Md', 'No','Lr','Rf']"
      ],
      "execution_count": null,
      "outputs": []
    },
    {
      "cell_type": "markdown",
      "metadata": {
        "id": "pk_-u2L-zq4i"
      },
      "source": [
        "### Setting-up a list of atomic orbital letters"
      ]
    },
    {
      "cell_type": "code",
      "metadata": {
        "id": "1fnW0m9Qqj0A"
      },
      "source": [
        "l_orbital = ['s', 'p', 'd', 'f', 'g']"
      ],
      "execution_count": null,
      "outputs": []
    },
    {
      "cell_type": "markdown",
      "metadata": {
        "id": "HOc7LHkxzy_N"
      },
      "source": [
        "### Setting-up a list of tuples in the order in which the corresponding orbitals are filled"
      ]
    },
    {
      "cell_type": "code",
      "metadata": {
        "id": "-UDImLKvq3sL",
        "colab": {
          "base_uri": "https://localhost:8080/"
        },
        "outputId": "d0853e9d-f57f-4545-ba0d-c3da0d2b7303"
      },
      "source": [
        "nl_pairs = []\n",
        "for n in range(1,8):\n",
        "    for l in range(n):\n",
        "        nl_pairs.append((n+l, n, l))\n",
        "nl_pairs.sort()\n",
        "print(nl_pairs[:9])\n",
        "print(nl_pairs[9:18])\n",
        "print(nl_pairs[18:len(nl_pairs)])"
      ],
      "execution_count": null,
      "outputs": [
        {
          "output_type": "stream",
          "name": "stdout",
          "text": [
            "[(1, 1, 0), (2, 2, 0), (3, 2, 1), (3, 3, 0), (4, 3, 1), (4, 4, 0), (5, 3, 2), (5, 4, 1), (5, 5, 0)]\n",
            "[(6, 4, 2), (6, 5, 1), (6, 6, 0), (7, 4, 3), (7, 5, 2), (7, 6, 1), (7, 7, 0), (8, 5, 3), (8, 6, 2)]\n",
            "[(8, 7, 1), (9, 5, 4), (9, 6, 3), (9, 7, 2), (10, 6, 4), (10, 7, 3), (11, 6, 5), (11, 7, 4), (12, 7, 5), (13, 7, 6)]\n"
          ]
        }
      ]
    },
    {
      "cell_type": "markdown",
      "metadata": {
        "id": "trtKTauwz9Ln"
      },
      "source": [
        "Figure 1.6 – List of tuples in the order in which the corresponding orbitals are filled\n",
        "\n",
        "### Initializing a list of orbitals and the electrons they contain with the 1s orbital"
      ]
    },
    {
      "cell_type": "code",
      "metadata": {
        "id": "p7clNyedsGXh"
      },
      "source": [
        "nl_idx, n_elec = 0, 0\n",
        "n, l = 1, 0\n",
        "config = [['1s', 0]]\n",
        "el_config = {}"
      ],
      "execution_count": null,
      "outputs": []
    },
    {
      "cell_type": "code",
      "metadata": {
        "id": "PAgLmWkUW4Qv"
      },
      "source": [
        "def superscript(n):\n",
        "    return \"\".join([\"⁰¹²³⁴⁵⁶⁷⁸⁹\"[ord(c)-ord('0')] for c in str(n)]) "
      ],
      "execution_count": null,
      "outputs": []
    },
    {
      "cell_type": "code",
      "metadata": {
        "id": "wP5W0QAFbozQ"
      },
      "source": [
        "for element in atom_list:\n",
        "    n_elec += 1\n",
        "    if n_elec > 2*(2*l+1):\n",
        "        # This subshell is full: start a new subshell\n",
        "        nl_idx += 1\n",
        "        _, n, l = nl_pairs[nl_idx]\n",
        "        config.append(['{}{}'.format(n, l_orbital[l]), 1])\n",
        "        n_elec = 1\n",
        "    else:\n",
        "        # Add an electron to the current subshell\n",
        "        config[-1][1] += 1\n",
        "    # Building configuration string from a list of orbitals and n_elec\n",
        "    el_config[element] = ' '.join(['{:2s}{:1s}'.format(e[0], \n",
        "                            superscript(e[1])) for e in config])"
      ],
      "execution_count": null,
      "outputs": []
    },
    {
      "cell_type": "code",
      "metadata": {
        "colab": {
          "base_uri": "https://localhost:8080/"
        },
        "id": "I8qfoMMeHgjw",
        "outputId": "08edbf28-b0c4-4e81-de86-457167267fb4"
      },
      "source": [
        "for element in atom_list[:7]:\n",
        "  print('{:2s}: {}'.format(element, el_config[element]))"
      ],
      "execution_count": null,
      "outputs": [
        {
          "output_type": "stream",
          "name": "stdout",
          "text": [
            "H : 1s¹\n",
            "He: 1s²\n",
            "Li: 1s² 2s¹\n",
            "Be: 1s² 2s²\n",
            "B : 1s² 2s² 2p¹\n",
            "C : 1s² 2s² 2p²\n",
            "N : 1s² 2s² 2p³\n"
          ]
        }
      ]
    },
    {
      "cell_type": "markdown",
      "metadata": {
        "id": "sIY8aEhm9IwN"
      },
      "source": [
        "Figure 1.7 – Electronic configurations of the first five atomic elements"
      ]
    },
    {
      "cell_type": "code",
      "metadata": {
        "colab": {
          "base_uri": "https://localhost:8080/"
        },
        "id": "CJsGdi_UHLVI",
        "outputId": "6cd48d24-88eb-4ddf-b329-c08b08e01059"
      },
      "source": [
        "element = 'Mo'\n",
        "print('{:2s}: {}'.format(element, el_config[element]))"
      ],
      "execution_count": null,
      "outputs": [
        {
          "output_type": "stream",
          "name": "stdout",
          "text": [
            "Mo: 1s² 2s² 2p⁶ 3s² 3p⁶ 4s² 3d¹⁰ 4p⁶ 5s² 4d⁴\n"
          ]
        }
      ]
    },
    {
      "cell_type": "markdown",
      "source": [
        "Figure 1.8 – Electronic configuration of the element Mo "
      ],
      "metadata": {
        "id": "QqOrQilsSATh"
      }
    }
  ]
}