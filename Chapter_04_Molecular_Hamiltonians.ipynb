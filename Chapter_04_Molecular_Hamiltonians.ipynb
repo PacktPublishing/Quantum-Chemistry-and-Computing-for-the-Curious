{
  "nbformat": 4,
  "nbformat_minor": 0,
  "metadata": {
    "colab": {
      "name": "Chapter_04_Molecular_Hamiltonians.ipynb",
      "provenance": [],
      "collapsed_sections": [],
      "authorship_tag": "ABX9TyMBgMuzVoTLDikLL7xbzXsf"
    },
    "kernelspec": {
      "name": "python3",
      "display_name": "Python 3"
    },
    "language_info": {
      "name": "python"
    }
  },
  "cells": [
    {
      "cell_type": "markdown",
      "metadata": {
        "id": "Ta1W9zfAJIr-"
      },
      "source": [
        "$$\n",
        "\\text{This is the cutdown companion Jupyter Notebook of Chapter 4. Molecular Hamiltonians of the book titled:}$$\n",
        "$$\\text{ Quantum Chemistry and Computing for the Curious: Illustrated with Python and Qiskit® code and with ISBN: 978-1-80323-859-3.}$$"
      ]
    },
    {
      "cell_type": "markdown",
      "source": [
        "The following MIT license only applies to the code, and not to the text and images. The authors are not granting a license to replicate or reuse the text and images in the companion Jupyter notebook.\n",
        "\n",
        "# MIT License\n",
        "\n",
        "Copyright (c) 2022 Packt\n",
        "\n",
        "Permission is hereby granted, free of charge, to any person obtaining a copy\n",
        "of this software and associated documentation files (the \"Software\"), to deal\n",
        "in the Software without restriction, including without limitation the rights\n",
        "to use, copy, modify, merge, publish, distribute, sublicense, and/or sell\n",
        "copies of the Software, and to permit persons to whom the Software is\n",
        "furnished to do so, subject to the following conditions:\n",
        "\n",
        "The above copyright notice and this permission notice shall be included in all\n",
        "copies or substantial portions of the Software.\n",
        "\n",
        "THE SOFTWARE IS PROVIDED \"AS IS\", WITHOUT WARRANTY OF ANY KIND, EXPRESS OR\n",
        "IMPLIED, INCLUDING BUT NOT LIMITED TO THE WARRANTIES OF MERCHANTABILITY,\n",
        "FITNESS FOR A PARTICULAR PURPOSE AND NONINFRINGEMENT. IN NO EVENT SHALL THE\n",
        "AUTHORS OR COPYRIGHT HOLDERS BE LIABLE FOR ANY CLAIM, DAMAGES OR OTHER\n",
        "LIABILITY, WHETHER IN AN ACTION OF CONTRACT, TORT OR OTHERWISE, ARISING FROM,\n",
        "OUT OF OR IN CONNECTION WITH THE SOFTWARE OR THE USE OR OTHER DEALINGS IN THE\n",
        "SOFTWARE."
      ],
      "metadata": {
        "id": "zfvF0_5uIplY"
      }
    },
    {
      "cell_type": "markdown",
      "metadata": {
        "id": "oNqOYS227ESk"
      },
      "source": [
        "# 4. Molecular Hamiltonians"
      ]
    },
    {
      "cell_type": "markdown",
      "metadata": {
        "id": "-VltqWatg_ND"
      },
      "source": [
        "# Technical requirements\n",
        "\n",
        "\n",
        "## Installing NumPy, Qiskit and importing various modules\n",
        "Install NumPy with the following command:"
      ]
    },
    {
      "cell_type": "code",
      "metadata": {
        "id": "7XhpijAbD1v4",
        "colab": {
          "base_uri": "https://localhost:8080/"
        },
        "outputId": "31eb5a61-fb96-415c-a8c2-aadd3e441f74"
      },
      "source": [
        "pip install numpy"
      ],
      "execution_count": null,
      "outputs": [
        {
          "output_type": "stream",
          "name": "stdout",
          "text": [
            "Requirement already satisfied: numpy in /usr/local/lib/python3.7/dist-packages (1.21.5)\n"
          ]
        }
      ]
    },
    {
      "cell_type": "markdown",
      "metadata": {
        "id": "e86gdgsLD_pU"
      },
      "source": [
        "Install Qiskit with the following command:"
      ]
    },
    {
      "cell_type": "code",
      "metadata": {
        "id": "5W0P77WaD7Yh"
      },
      "source": [
        "pip install qiskit"
      ],
      "execution_count": null,
      "outputs": []
    },
    {
      "cell_type": "markdown",
      "metadata": {
        "id": "S3Qs6ee42nIF"
      },
      "source": [
        "Install Qiskit visualization support with the following command:"
      ]
    },
    {
      "cell_type": "code",
      "metadata": {
        "id": "QTMbSY-62kEN"
      },
      "source": [
        "pip install 'qiskit[visualization]'"
      ],
      "execution_count": null,
      "outputs": []
    },
    {
      "cell_type": "markdown",
      "source": [
        "Install Qiskit Nature with the following command:"
      ],
      "metadata": {
        "id": "LM60UkgZVLaI"
      }
    },
    {
      "cell_type": "code",
      "source": [
        "pip install qiskit-nature"
      ],
      "metadata": {
        "id": "bXRZVmawVN3K"
      },
      "execution_count": null,
      "outputs": []
    },
    {
      "cell_type": "markdown",
      "source": [
        "Install PySCF with the following command:"
      ],
      "metadata": {
        "id": "pREHzIBxgoGB"
      }
    },
    {
      "cell_type": "code",
      "source": [
        "pip install pyscf"
      ],
      "metadata": {
        "id": "Tu3pFrmffNhZ"
      },
      "execution_count": null,
      "outputs": []
    },
    {
      "cell_type": "markdown",
      "metadata": {
        "id": "OxaMfQHwEOdg"
      },
      "source": [
        "Import NumPy with the following command:"
      ]
    },
    {
      "cell_type": "code",
      "metadata": {
        "id": "QhaIzlQ5EN3r"
      },
      "source": [
        "import numpy as np"
      ],
      "execution_count": null,
      "outputs": []
    },
    {
      "cell_type": "markdown",
      "source": [
        "Import Matplotlib, a comprehensive library for creating static, animated, and interactive visualizations in Python with the following command:\n",
        "\n"
      ],
      "metadata": {
        "id": "6PSJLYf6cMeH"
      }
    },
    {
      "cell_type": "code",
      "source": [
        "import matplotlib.pyplot as plt"
      ],
      "metadata": {
        "id": "nJSPiCdFcG-9"
      },
      "execution_count": null,
      "outputs": []
    },
    {
      "cell_type": "markdown",
      "metadata": {
        "id": "N9_Mtr8sEl3I"
      },
      "source": [
        "Import the required functions and class methods with the following commands. The array_to_latex function() returns a Latex representation of a complex array with dimension 1 or 2:"
      ]
    },
    {
      "cell_type": "code",
      "metadata": {
        "id": "wplPi--1ogzl"
      },
      "source": [
        "from qiskit.visualization import array_to_latex, plot_bloch_vector, plot_bloch_multivector, plot_state_qsphere, plot_state_city\n",
        "from qiskit import QuantumRegister, ClassicalRegister, QuantumCircuit, transpile\n",
        "from qiskit import execute, Aer\n",
        "import qiskit.quantum_info as qi\n",
        "from qiskit.extensions import Initialize\n",
        "from qiskit.providers.aer import extensions  # import aer snapshot instructions"
      ],
      "execution_count": null,
      "outputs": []
    },
    {
      "cell_type": "markdown",
      "source": [
        "Import Qiskit Nature libraries with the following commands:"
      ],
      "metadata": {
        "id": "dVEh1h6Nb975"
      }
    },
    {
      "cell_type": "code",
      "source": [
        "from qiskit import Aer\n",
        "from qiskit_nature.drivers import UnitsType, Molecule\n",
        "from qiskit_nature.drivers.second_quantization import ElectronicStructureDriverType, ElectronicStructureMoleculeDriver\n",
        "from qiskit_nature.problems.second_quantization import ElectronicStructureProblem\n",
        "from qiskit_nature.mappers.second_quantization import ParityMapper, JordanWignerMapper, BravyiKitaevMapper\n",
        "from qiskit_nature.converters.second_quantization import QubitConverter\n",
        "from qiskit_nature.transformers.second_quantization.electronic import ActiveSpaceTransformer, FreezeCoreTransformer\n",
        "from qiskit_nature.operators.second_quantization import FermionicOp"
      ],
      "metadata": {
        "id": "Hhf24btZbj7x"
      },
      "execution_count": null,
      "outputs": []
    },
    {
      "cell_type": "markdown",
      "source": [
        "Import the Qiskit Nature property framework with the following command:"
      ],
      "metadata": {
        "id": "znAo5E9yi4n7"
      }
    },
    {
      "cell_type": "code",
      "source": [
        "from qiskit_nature.properties import Property, GroupedProperty"
      ],
      "metadata": {
        "id": "P0qUpRxujCJq"
      },
      "execution_count": null,
      "outputs": []
    },
    {
      "cell_type": "markdown",
      "source": [
        "Import the ElectronicEnergy property with the following command:"
      ],
      "metadata": {
        "id": "vn7jUiP7jUig"
      }
    },
    {
      "cell_type": "code",
      "source": [
        "# https://qiskit.org/documentation/nature/tutorials/08_property_framework.html\n",
        "from qiskit_nature.properties.second_quantization.electronic import (\n",
        "    ElectronicEnergy,\n",
        "    ElectronicDipoleMoment,\n",
        "    ParticleNumber,\n",
        "    AngularMomentum,\n",
        "    Magnetization,\n",
        ")"
      ],
      "metadata": {
        "id": "3GUTmFRiWB8O"
      },
      "execution_count": null,
      "outputs": []
    },
    {
      "cell_type": "markdown",
      "source": [
        "Import the ElectronicIntegrals property with the following command:"
      ],
      "metadata": {
        "id": "4F9Z9O_zjkY3"
      }
    },
    {
      "cell_type": "code",
      "source": [
        "from qiskit_nature.properties.second_quantization.electronic.integrals import (\n",
        "    ElectronicIntegrals,\n",
        "    OneBodyElectronicIntegrals,\n",
        "    TwoBodyElectronicIntegrals,\n",
        "    IntegralProperty,\n",
        ")\n",
        "from qiskit_nature.properties.second_quantization.electronic.bases import ElectronicBasis"
      ],
      "metadata": {
        "id": "vL7qxdOobzQ_"
      },
      "execution_count": null,
      "outputs": []
    },
    {
      "cell_type": "markdown",
      "metadata": {
        "id": "l2y158KtnqIU"
      },
      "source": [
        "Import math libraries with the following command:"
      ]
    },
    {
      "cell_type": "code",
      "metadata": {
        "id": "opzSQYFbnvXg"
      },
      "source": [
        "import cmath\n",
        "import math"
      ],
      "execution_count": null,
      "outputs": []
    },
    {
      "cell_type": "markdown",
      "metadata": {
        "id": "bR7XnjUPREnY"
      },
      "source": [
        "# 4.1. Born-Oppenheimer approximation\n",
        "\n"
      ]
    },
    {
      "cell_type": "markdown",
      "metadata": {
        "id": "sKjvVTd2T9ae"
      },
      "source": [
        "# 4.2. Fock space"
      ]
    },
    {
      "cell_type": "markdown",
      "metadata": {
        "id": "MmPXLiD6Yub2"
      },
      "source": [
        "# 4.3. Fermionic creation and annihilation operators\n"
      ]
    },
    {
      "cell_type": "markdown",
      "metadata": {
        "id": "DPtMAaiifRwU"
      },
      "source": [
        "# 4.4. Molecular Hamiltonian in the Hartree-Fock orbitals basis\n"
      ]
    },
    {
      "cell_type": "markdown",
      "metadata": {
        "id": "L8H5B6zkc89x"
      },
      "source": [
        "# 4.5. Basis sets\n",
        "\n",
        "## 4.5.1. Slater-type orbitals"
      ]
    },
    {
      "cell_type": "code",
      "source": [
        "x = np.linspace(-5,5,num=1000)\n",
        "r = abs(x)\n",
        "\n",
        "alpha = 1.0\n",
        "\n",
        "R = 2*alpha**(1.5)*np.exp(-alpha*r)\n",
        "\n",
        "plt.figure(figsize=(4,3))\n",
        "plt.plot(x,R,label=\"STO 1s H\")\n",
        "plt.legend()"
      ],
      "metadata": {
        "colab": {
          "base_uri": "https://localhost:8080/",
          "height": 229
        },
        "id": "YxLg5MjXW_Si",
        "outputId": "149b207d-9b15-4aa8-d7de-2d2be9c03cf1"
      },
      "execution_count": null,
      "outputs": [
        {
          "output_type": "execute_result",
          "data": {
            "text/plain": [
              "<matplotlib.legend.Legend at 0x7f64b4bd7d50>"
            ]
          },
          "metadata": {},
          "execution_count": 14
        },
        {
          "output_type": "display_data",
          "data": {
            "text/plain": [
              "<Figure size 288x216 with 1 Axes>"
            ],
            "image/png": "[encoded data removed]"
          },
          "metadata": {
            "needs_background": "light"
          }
        }
      ]
    },
    {
      "cell_type": "markdown",
      "source": [
        "Figure 4.5 – Plot of the radial part of the Slater-type orbital for the $1s$ orbital of the hydrogen atom"
      ],
      "metadata": {
        "id": "cYNiTDlDaWSS"
      }
    },
    {
      "cell_type": "code",
      "source": [
        "x = np.linspace(-7,7,num=1000)\n",
        "r1 = abs(x+2.5)\n",
        "r2 = abs(x-2.5)\n",
        "\n",
        "alpha = 1.0\n",
        "\n",
        "R = 2*alpha**(1.5)*np.exp(-alpha*r1)-2*alpha**(1.5)*np.exp(-alpha*r2)\n",
        "\n",
        "plt.figure(figsize=(4,3))\n",
        "plt.plot(x,R,label=\"Antisymmetric STO H2\")\n",
        "plt.legend()"
      ],
      "metadata": {
        "colab": {
          "base_uri": "https://localhost:8080/",
          "height": 229
        },
        "id": "Kn80lcaaYItZ",
        "outputId": "b855a06b-9871-4cf5-8786-db0e72768c89"
      },
      "execution_count": null,
      "outputs": [
        {
          "output_type": "execute_result",
          "data": {
            "text/plain": [
              "<matplotlib.legend.Legend at 0x7f6492aeafd0>"
            ]
          },
          "metadata": {},
          "execution_count": 15
        },
        {
          "output_type": "display_data",
          "data": {
            "text/plain": [
              "<Figure size 288x216 with 1 Axes>"
            ],
            "image/png": "[encoded data removed]"
          },
          "metadata": {
            "needs_background": "light"
          }
        }
      ]
    },
    {
      "cell_type": "markdown",
      "source": [
        "Figure 4.6 – Plot of the anti-symmetric wave function of the hydrogen molecule\n",
        "\n",
        "## 4.5.2. Gaussian-type orbitals"
      ],
      "metadata": {
        "id": "bHIDx0-7fNVm"
      }
    },
    {
      "cell_type": "code",
      "source": [
        "x = np.linspace(-7,7,num=1000)\n",
        "r = abs(x)\n",
        "\n",
        "c = [0.444635,0.535328,0.154329]\n",
        "alpha = [0.109818,0.405771,2.227660]\n",
        "\n",
        "psi = 0\n",
        "for k in range(3):\n",
        "  psi += c[k]*(2*alpha[k]/np.pi)**0.75 * np.exp(-alpha[k]*r**2)\n",
        "\n",
        "plt.figure(figsize=(5,3))\n",
        "plt.plot(x,psi,label=\"STO-3G 1s H\")\n",
        "plt.legend()"
      ],
      "metadata": {
        "colab": {
          "base_uri": "https://localhost:8080/",
          "height": 229
        },
        "id": "dsa-Ax0z9KdY",
        "outputId": "81026285-67ef-40f9-ac15-88283f7d8bb2"
      },
      "execution_count": null,
      "outputs": [
        {
          "output_type": "execute_result",
          "data": {
            "text/plain": [
              "<matplotlib.legend.Legend at 0x7f64928a2450>"
            ]
          },
          "metadata": {},
          "execution_count": 16
        },
        {
          "output_type": "display_data",
          "data": {
            "text/plain": [
              "<Figure size 360x216 with 1 Axes>"
            ],
            "image/png": "[encoded data removed]"
          },
          "metadata": {
            "needs_background": "light"
          }
        }
      ]
    },
    {
      "cell_type": "markdown",
      "source": [
        "Figure 4.7 – Plot of the STO-3G function for the $1s$ orbital of the hydrogen atom"
      ],
      "metadata": {
        "id": "T7keT_P5dHEz"
      }
    },
    {
      "cell_type": "code",
      "source": [
        "x = np.linspace(-7,7,num=1000)\n",
        "r1 = abs(x+2.5)\n",
        "r2 = abs(x-2.5)\n",
        "\n",
        "c = [0.444635,0.535328,0.154329]\n",
        "alpha = [0.109818,0.405771,2.227660]\n",
        "\n",
        "psi = 0\n",
        "for k in range(3):\n",
        "  psi += c[k]*(2*alpha[k]/np.pi)**0.75 * np.exp(-alpha[k]*r1**2) \\\n",
        "  - c[k]*(2*alpha[k]/np.pi)**0.75 * np.exp(-alpha[k]*r2**2)\n",
        "\n",
        "plt.figure(figsize=(5,3))\n",
        "plt.plot(x,psi,label=\"Antisymmetric STO-3G H2\")\n",
        "plt.legend()"
      ],
      "metadata": {
        "colab": {
          "base_uri": "https://localhost:8080/",
          "height": 229
        },
        "id": "yMk0-ZA2dhFP",
        "outputId": "ff3df0b8-297a-4ce4-8c0e-7f949cae477f"
      },
      "execution_count": null,
      "outputs": [
        {
          "output_type": "execute_result",
          "data": {
            "text/plain": [
              "<matplotlib.legend.Legend at 0x7f64927e7b50>"
            ]
          },
          "metadata": {},
          "execution_count": 17
        },
        {
          "output_type": "display_data",
          "data": {
            "text/plain": [
              "<Figure size 360x216 with 1 Axes>"
            ],
            "image/png": "[encoded data removed]"
          },
          "metadata": {
            "needs_background": "light"
          }
        }
      ]
    },
    {
      "cell_type": "markdown",
      "metadata": {
        "id": "LRI5hmjBdDZz"
      },
      "source": [
        "Figure 4.8 – Plot of the antisymmetric STO-3G function for the $1s$ orbital of the hydrogen molecule\n",
        "\n",
        "# 4.6. Constructing a fermionic Hamiltonian with Qiskit Nature"
      ]
    },
    {
      "cell_type": "markdown",
      "source": [
        "## 4.6.1. Constructing a fermionic Hamiltonian operator of the hydrogen molecule"
      ],
      "metadata": {
        "id": "I-KDZaOKgguX"
      }
    },
    {
      "cell_type": "code",
      "source": [
        "hydrogen_molecule = Molecule(geometry=[['H', [0., 0., 0.]],\n",
        "                              ['H', [0., 0., 0.735]]],\n",
        "                     charge=0, multiplicity=1)"
      ],
      "metadata": {
        "id": "19sGFlC3gguY"
      },
      "execution_count": null,
      "outputs": []
    },
    {
      "cell_type": "code",
      "source": [
        "driver = ElectronicStructureMoleculeDriver(hydrogen_molecule, basis='sto3g', driver_type=ElectronicStructureDriverType.PYSCF)"
      ],
      "metadata": {
        "id": "T-yNF3Ffggua"
      },
      "execution_count": null,
      "outputs": []
    },
    {
      "cell_type": "code",
      "source": [
        "qH2 = driver.run()"
      ],
      "metadata": {
        "id": "LuBVRwpRfoqM"
      },
      "execution_count": null,
      "outputs": []
    },
    {
      "cell_type": "code",
      "source": [
        "H2_fermionic_hamiltonian = ElectronicStructureProblem(driver)"
      ],
      "metadata": {
        "id": "Y5LqycfQj8cl"
      },
      "execution_count": null,
      "outputs": []
    },
    {
      "cell_type": "code",
      "source": [
        "H2_second_q_op = H2_fermionic_hamiltonian.second_q_ops()"
      ],
      "metadata": {
        "id": "k8U-VwpFuQeY"
      },
      "execution_count": null,
      "outputs": []
    },
    {
      "cell_type": "code",
      "source": [
        "def get_particle_number(problem, show=True):\n",
        "  particle_number = problem.grouped_property_transformed.get_property(\"ParticleNumber\")\n",
        "  num_particles = (particle_number.num_alpha, particle_number.num_beta)\n",
        "  num_spin_orbitals = particle_number.num_spin_orbitals\n",
        "  if show:\n",
        "    print(\"Number of alpha electrons: {}\".format(particle_number.num_alpha))\n",
        "    print(\"Number of beta electrons: {}\".format(particle_number.num_beta))\n",
        "    print(\"Number of spin orbitals: {}\".format(num_spin_orbitals))\n",
        "  return particle_number"
      ],
      "metadata": {
        "id": "T7TaBVkbkaoq"
      },
      "execution_count": null,
      "outputs": []
    },
    {
      "cell_type": "code",
      "source": [
        "print(\"Hydrogen molecule, basis: sto3g, Hartree-Fock calculation\")\n",
        "H2_particle_number = get_particle_number(H2_fermionic_hamiltonian)"
      ],
      "metadata": {
        "colab": {
          "base_uri": "https://localhost:8080/"
        },
        "id": "eZmUL_fNlCKW",
        "outputId": "d2655022-e398-4d7e-dd1c-aee3fa0aeb8f"
      },
      "execution_count": null,
      "outputs": [
        {
          "output_type": "stream",
          "name": "stdout",
          "text": [
            "Hydrogen molecule, basis: sto3g, Hartree-Fock calculation\n",
            "Number of alpha electrons: 1\n",
            "Number of beta electrons: 1\n",
            "Number of spin orbitals: 4\n"
          ]
        }
      ]
    },
    {
      "cell_type": "code",
      "source": [
        "def get_electronic_energy(problem, show=True):\n",
        "  electronic_energy = problem.grouped_property_transformed.get_property(\"ElectronicEnergy\")\n",
        "  if show:\n",
        "    print(electronic_energy)\n",
        "  return electronic_energy"
      ],
      "metadata": {
        "id": "Ors9dk8UGLA5"
      },
      "execution_count": null,
      "outputs": []
    },
    {
      "cell_type": "code",
      "source": [
        "H2_electronic_energy = get_electronic_energy(H2_fermionic_hamiltonian)"
      ],
      "metadata": {
        "colab": {
          "base_uri": "https://localhost:8080/"
        },
        "id": "1NDdi_P9GgN0",
        "outputId": "1f6a1695-04db-4a92-834c-f0551eb1e3f8"
      },
      "execution_count": null,
      "outputs": [
        {
          "output_type": "stream",
          "name": "stdout",
          "text": [
            "ElectronicEnergy\n",
            "\t(AO) 1-Body Terms:\n",
            "\t\tAlpha\n",
            "\t\t<(2, 2) matrix with 4 non-zero entries>\n",
            "\t\t[0, 0] = -1.1242175791954514\n",
            "\t\t[0, 1] = -0.9652573993472754\n",
            "\t\t[1, 0] = -0.9652573993472754\n",
            "\t\t[1, 1] = -1.1242175791954514\n",
            "\t\tBeta\n",
            "\t\t<(2, 2) matrix with 4 non-zero entries>\n",
            "\t\t[0, 0] = -1.1242175791954514\n",
            "\t\t[0, 1] = -0.9652573993472754\n",
            "\t\t[1, 0] = -0.9652573993472754\n",
            "\t\t[1, 1] = -1.1242175791954514\n",
            "\t(AO) 2-Body Terms:\n",
            "\t\tAlpha-Alpha\n",
            "\t\t<(2, 2, 2, 2) matrix with 16 non-zero entries>\n",
            "\t\t[0, 0, 0, 0] = 0.7746059439198978\n",
            "\t\t[0, 0, 0, 1] = 0.4474457245330949\n",
            "\t\t[0, 0, 1, 0] = 0.447445724533095\n",
            "\t\t[0, 0, 1, 1] = 0.5718769760004512\n",
            "\t\t[0, 1, 0, 0] = 0.4474457245330951\n",
            "\t\t... skipping 11 entries\n",
            "\t\tBeta-Alpha\n",
            "\t\t<(2, 2, 2, 2) matrix with 16 non-zero entries>\n",
            "\t\t[0, 0, 0, 0] = 0.7746059439198978\n",
            "\t\t[0, 0, 0, 1] = 0.4474457245330949\n",
            "\t\t[0, 0, 1, 0] = 0.447445724533095\n",
            "\t\t[0, 0, 1, 1] = 0.5718769760004512\n",
            "\t\t[0, 1, 0, 0] = 0.4474457245330951\n",
            "\t\t... skipping 11 entries\n",
            "\t\tBeta-Beta\n",
            "\t\t<(2, 2, 2, 2) matrix with 16 non-zero entries>\n",
            "\t\t[0, 0, 0, 0] = 0.7746059439198978\n",
            "\t\t[0, 0, 0, 1] = 0.4474457245330949\n",
            "\t\t[0, 0, 1, 0] = 0.447445724533095\n",
            "\t\t[0, 0, 1, 1] = 0.5718769760004512\n",
            "\t\t[0, 1, 0, 0] = 0.4474457245330951\n",
            "\t\t... skipping 11 entries\n",
            "\t\tAlpha-Beta\n",
            "\t\t<(2, 2, 2, 2) matrix with 16 non-zero entries>\n",
            "\t\t[0, 0, 0, 0] = 0.7746059439198978\n",
            "\t\t[0, 0, 0, 1] = 0.4474457245330949\n",
            "\t\t[0, 0, 1, 0] = 0.447445724533095\n",
            "\t\t[0, 0, 1, 1] = 0.5718769760004512\n",
            "\t\t[0, 1, 0, 0] = 0.4474457245330951\n",
            "\t\t... skipping 11 entries\n",
            "\t(MO) 1-Body Terms:\n",
            "\t\tAlpha\n",
            "\t\t<(2, 2) matrix with 2 non-zero entries>\n",
            "\t\t[0, 0] = -1.2563390730032498\n",
            "\t\t[1, 1] = -0.47189600728114245\n",
            "\t\tBeta\n",
            "\t\t<(2, 2) matrix with 2 non-zero entries>\n",
            "\t\t[0, 0] = -1.2563390730032498\n",
            "\t\t[1, 1] = -0.47189600728114245\n",
            "\t(MO) 2-Body Terms:\n",
            "\t\tAlpha-Alpha\n",
            "\t\t<(2, 2, 2, 2) matrix with 8 non-zero entries>\n",
            "\t\t[0, 0, 0, 0] = 0.6757101548035161\n",
            "\t\t[0, 0, 1, 1] = 0.6645817302552968\n",
            "\t\t[0, 1, 0, 1] = 0.18093119978423136\n",
            "\t\t[0, 1, 1, 0] = 0.18093119978423106\n",
            "\t\t[1, 0, 0, 1] = 0.18093119978423144\n",
            "\t\t... skipping 3 entries\n",
            "\t\tBeta-Alpha\n",
            "\t\t<(2, 2, 2, 2) matrix with 8 non-zero entries>\n",
            "\t\t[0, 0, 0, 0] = 0.6757101548035161\n",
            "\t\t[0, 0, 1, 1] = 0.6645817302552968\n",
            "\t\t[0, 1, 0, 1] = 0.18093119978423136\n",
            "\t\t[0, 1, 1, 0] = 0.18093119978423106\n",
            "\t\t[1, 0, 0, 1] = 0.18093119978423144\n",
            "\t\t... skipping 3 entries\n",
            "\t\tBeta-Beta\n",
            "\t\t<(2, 2, 2, 2) matrix with 8 non-zero entries>\n",
            "\t\t[0, 0, 0, 0] = 0.6757101548035161\n",
            "\t\t[0, 0, 1, 1] = 0.6645817302552968\n",
            "\t\t[0, 1, 0, 1] = 0.18093119978423136\n",
            "\t\t[0, 1, 1, 0] = 0.18093119978423106\n",
            "\t\t[1, 0, 0, 1] = 0.18093119978423144\n",
            "\t\t... skipping 3 entries\n",
            "\t\tAlpha-Beta\n",
            "\t\t<(2, 2, 2, 2) matrix with 8 non-zero entries>\n",
            "\t\t[0, 0, 0, 0] = 0.6757101548035161\n",
            "\t\t[0, 0, 1, 1] = 0.6645817302552968\n",
            "\t\t[0, 1, 0, 1] = 0.18093119978423136\n",
            "\t\t[0, 1, 1, 0] = 0.18093119978423106\n",
            "\t\t[1, 0, 0, 1] = 0.18093119978423144\n",
            "\t\t... skipping 3 entries\n"
          ]
        }
      ]
    },
    {
      "cell_type": "markdown",
      "source": [
        "Figure 4.10 – Hydrogen molecule, Electronic Energy, Molecular Orbital (MO), 1-Body Terms\n",
        "\n",
        "Figure 4.11 – Hydrogen molecule, Electronic Energy, Molecular Orbital (MO), 2-Body Terms"
      ],
      "metadata": {
        "id": "0-Ahwsj9zJac"
      }
    },
    {
      "cell_type": "code",
      "source": [
        "# Set truncation to None\n",
        "H2_second_q_op[0].set_truncation(0)\n",
        "# Print the Fermionic operator\n",
        "print(\"Hydrogen molecule\")\n",
        "print(H2_second_q_op[0])"
      ],
      "metadata": {
        "colab": {
          "base_uri": "https://localhost:8080/"
        },
        "id": "n6lxmST7cLOD",
        "outputId": "f69e65ca-1b60-4afd-9702-a6e8980bd2b3"
      },
      "execution_count": null,
      "outputs": [
        {
          "output_type": "stream",
          "name": "stdout",
          "text": [
            "Hydrogen molecule\n",
            "Fermionic Operator\n",
            "register length=4, number terms=14\n",
            "  (0.18093119978423106+0j) * ( +_0 -_1 +_2 -_3 )\n",
            "+ (-0.18093119978423128+0j) * ( +_0 -_1 -_2 +_3 )\n",
            "+ (-0.18093119978423128+0j) * ( -_0 +_1 +_2 -_3 )\n",
            "+ (0.18093119978423144+0j) * ( -_0 +_1 -_2 +_3 )\n",
            "+ (-0.47189600728114245+0j) * ( +_3 -_3 )\n",
            "+ (-1.2563390730032498+0j) * ( +_2 -_2 )\n",
            "+ (0.4836505304710653+0j) * ( +_2 -_2 +_3 -_3 )\n",
            "+ (-0.47189600728114245+0j) * ( +_1 -_1 )\n",
            "+ (0.6985737227320175+0j) * ( +_1 -_1 +_3 -_3 )\n",
            "+ (0.6645817302552965+0j) * ( +_1 -_1 +_2 -_2 )\n",
            "+ (-1.2563390730032498+0j) * ( +_0 -_0 )\n",
            "+ (0.6645817302552965+0j) * ( +_0 -_0 +_3 -_3 )\n",
            "+ (0.6757101548035161+0j) * ( +_0 -_0 +_2 -_2 )\n",
            "+ (0.4836505304710653+0j) * ( +_0 -_0 +_1 -_1 )\n"
          ]
        }
      ]
    },
    {
      "cell_type": "markdown",
      "source": [
        "Figure 4.13 – Fermionic Hamiltonian operator of the hydrogen molecule"
      ],
      "metadata": {
        "id": "XO8XjnclvBX-"
      }
    },
    {
      "cell_type": "code",
      "source": [
        "print(H2_second_q_op[0].to_matrix())"
      ],
      "metadata": {
        "colab": {
          "base_uri": "https://localhost:8080/"
        },
        "id": "UuhUOBHSuw_I",
        "outputId": "e435fb2c-0634-40ea-becc-8599dabc9806"
      },
      "execution_count": null,
      "outputs": [
        {
          "output_type": "stream",
          "name": "stdout",
          "text": [
            "  (1, 1)\t(-0.47189600728114245+0j)\n",
            "  (2, 2)\t(-1.2563390730032498+0j)\n",
            "  (3, 3)\t(-1.244584549813327+0j)\n",
            "  (4, 4)\t(-0.47189600728114245+0j)\n",
            "  (5, 5)\t(-0.24521829183026744+0j)\n",
            "  (10, 5)\t(0.18093119978423106+0j)\n",
            "  (6, 6)\t(-1.0636533500290957+0j)\n",
            "  (9, 6)\t(0.18093119978423128-0j)\n",
            "  (7, 7)\t(-0.35332510410715545+0j)\n",
            "  (8, 8)\t(-1.2563390730032498+0j)\n",
            "  (6, 9)\t(0.18093119978423128-0j)\n",
            "  (9, 9)\t(-1.0636533500290957+0j)\n",
            "  (5, 10)\t(0.18093119978423144+0j)\n",
            "  (10, 10)\t(-1.8369679912029833+0j)\n",
            "  (11, 11)\t(-1.1606317377577642+0j)\n",
            "  (12, 12)\t(-1.244584549813327+0j)\n",
            "  (13, 13)\t(-0.35332510410715534+0j)\n",
            "  (14, 14)\t(-1.1606317377577637+0j)\n",
            "  (15, 15)\t(0.2142782384194728+0j)\n"
          ]
        }
      ]
    },
    {
      "cell_type": "markdown",
      "source": [
        "Figure 4.14 – Matrix representation of the fermionic Hamiltonian operator of the hydrogen molecule in the Fock basis"
      ],
      "metadata": {
        "id": "ZHzOSEKRqxTQ"
      }
    },
    {
      "cell_type": "markdown",
      "source": [
        "## 4.6.2. Constructing a fermionic Hamiltonian operator of the lithium hydride molecule"
      ],
      "metadata": {
        "id": "Lw3qe3OpSK80"
      }
    },
    {
      "cell_type": "code",
      "metadata": {
        "id": "oDXsG7ac0F1J"
      },
      "source": [
        "LiH_molecule = Molecule(geometry=[['Li', [0., 0., 0.]],\n",
        "                              ['H', [0., 0., 1.5474]]],\n",
        "                     charge=0, multiplicity=1)"
      ],
      "execution_count": null,
      "outputs": []
    },
    {
      "cell_type": "code",
      "source": [
        "driver = ElectronicStructureMoleculeDriver(LiH_molecule, basis='sto3g', driver_type=ElectronicStructureDriverType.PYSCF)"
      ],
      "metadata": {
        "id": "8HpcPjmzV04e"
      },
      "execution_count": null,
      "outputs": []
    },
    {
      "cell_type": "code",
      "source": [
        "LiH_fermionic_hamiltonian = ElectronicStructureProblem(driver, transformers=[FreezeCoreTransformer(freeze_core=True, remove_orbitals=[4, 3])])"
      ],
      "metadata": {
        "id": "2vfOkSzYVPxt"
      },
      "execution_count": null,
      "outputs": []
    },
    {
      "cell_type": "code",
      "source": [
        "LiH_second_q_op = LiH_fermionic_hamiltonian.second_q_ops()"
      ],
      "metadata": {
        "id": "wumUN2WkA4X1"
      },
      "execution_count": null,
      "outputs": []
    },
    {
      "cell_type": "code",
      "source": [
        "print(\"Lithium hydride molecule, basis: sto3g, Hartree-Fock calculation\")\n",
        "print(\"Parameters freeze_core=True, remove_orbitals=[4, 3]\")\n",
        "LiH_particle_number = get_particle_number(LiH_fermionic_hamiltonian)"
      ],
      "metadata": {
        "colab": {
          "base_uri": "https://localhost:8080/"
        },
        "id": "QQc-uDMHwZ8H",
        "outputId": "e14dc621-1e38-4d59-ad4c-ff5a30ed433d"
      },
      "execution_count": null,
      "outputs": [
        {
          "output_type": "stream",
          "name": "stdout",
          "text": [
            "Lithium hydride molecule, basis: sto3g, Hartree-Fock calculation\n",
            "Parameters freeze_core=True, remove_orbitals=[4, 3]\n",
            "Number of alpha electrons: 1\n",
            "Number of beta electrons: 1\n",
            "Number of spin orbitals: 6\n"
          ]
        }
      ]
    },
    {
      "cell_type": "markdown",
      "source": [
        "Figure 4.17 – Lithium hydride molecule, Hartree-Fock calculation for the basis STO-3G, Particle Number"
      ],
      "metadata": {
        "id": "M2jf-uCib4P_"
      }
    },
    {
      "cell_type": "code",
      "source": [
        "LiH_electronic_energy = get_electronic_energy(LiH_fermionic_hamiltonian)"
      ],
      "metadata": {
        "colab": {
          "base_uri": "https://localhost:8080/"
        },
        "id": "d00asZLvKn3a",
        "outputId": "775f8720-b540-4b02-89cd-43f3cecef647"
      },
      "execution_count": null,
      "outputs": [
        {
          "output_type": "stream",
          "name": "stdout",
          "text": [
            "ElectronicEnergy\n",
            "\t(AO) 1-Body Terms:\n",
            "\t\tAlpha\n",
            "\t\t<(6, 6) matrix with 18 non-zero entries>\n",
            "\t\t[0, 0] = -3.078310320337139\n",
            "\t\t[0, 1] = -0.8147472621103106\n",
            "\t\t[0, 4] = -0.01576016905175496\n",
            "\t\t[0, 5] = -0.26470827042651573\n",
            "\t\t[1, 0] = -0.8147472621103107\n",
            "\t\t... skipping 13 entries\n",
            "\t\tBeta\n",
            "\t\t<(6, 6) matrix with 18 non-zero entries>\n",
            "\t\t[0, 0] = -3.078310320337139\n",
            "\t\t[0, 1] = -0.8147472621103106\n",
            "\t\t[0, 4] = -0.01576016905175496\n",
            "\t\t[0, 5] = -0.26470827042651573\n",
            "\t\t[1, 0] = -0.8147472621103107\n",
            "\t\t... skipping 13 entries\n",
            "\t(AO) 2-Body Terms:\n",
            "\t\tAlpha-Alpha\n",
            "\t\t<(6, 6, 6, 6) matrix with 368 non-zero entries>\n",
            "\t\t[0, 0, 0, 0] = 1.6803951695337487\n",
            "\t\t[0, 0, 0, 1] = 0.26542036460780716\n",
            "\t\t[0, 0, 0, 5] = 0.07982930717333647\n",
            "\t\t[0, 0, 1, 0] = 0.26542036460780705\n",
            "\t\t[0, 0, 1, 1] = 0.3977268610897301\n",
            "\t\t... skipping 363 entries\n",
            "\t\tBeta-Alpha\n",
            "\t\t<(6, 6, 6, 6) matrix with 368 non-zero entries>\n",
            "\t\t[0, 0, 0, 0] = 1.6803951695337487\n",
            "\t\t[0, 0, 0, 1] = 0.26542036460780716\n",
            "\t\t[0, 0, 0, 5] = 0.07982930717333647\n",
            "\t\t[0, 0, 1, 0] = 0.26542036460780705\n",
            "\t\t[0, 0, 1, 1] = 0.3977268610897301\n",
            "\t\t... skipping 363 entries\n",
            "\t\tBeta-Beta\n",
            "\t\t<(6, 6, 6, 6) matrix with 368 non-zero entries>\n",
            "\t\t[0, 0, 0, 0] = 1.6803951695337487\n",
            "\t\t[0, 0, 0, 1] = 0.26542036460780716\n",
            "\t\t[0, 0, 0, 5] = 0.07982930717333647\n",
            "\t\t[0, 0, 1, 0] = 0.26542036460780705\n",
            "\t\t[0, 0, 1, 1] = 0.3977268610897301\n",
            "\t\t... skipping 363 entries\n",
            "\t\tAlpha-Beta\n",
            "\t\t<(6, 6, 6, 6) matrix with 368 non-zero entries>\n",
            "\t\t[0, 0, 0, 0] = 1.6803951695337487\n",
            "\t\t[0, 0, 0, 1] = 0.26542036460780716\n",
            "\t\t[0, 0, 0, 5] = 0.07982930717333647\n",
            "\t\t[0, 0, 1, 0] = 0.26542036460780705\n",
            "\t\t[0, 0, 1, 1] = 0.3977268610897301\n",
            "\t\t... skipping 363 entries\n",
            "\t(MO) 1-Body Terms:\n",
            "\t\tAlpha\n",
            "\t\t<(3, 3) matrix with 9 non-zero entries>\n",
            "\t\t[0, 0] = -0.7806641144801676\n",
            "\t\t[0, 1] = 0.04770212338466273\n",
            "\t\t[0, 2] = -0.12958118897501297\n",
            "\t\t[1, 0] = 0.04770212338466273\n",
            "\t\t[1, 1] = -0.3590972934808751\n",
            "\t\t... skipping 4 entries\n",
            "\t\tBeta\n",
            "\t\t<(3, 3) matrix with 9 non-zero entries>\n",
            "\t\t[0, 0] = -0.7806641144801676\n",
            "\t\t[0, 1] = 0.04770212338466273\n",
            "\t\t[0, 2] = -0.12958118897501297\n",
            "\t\t[1, 0] = 0.04770212338466273\n",
            "\t\t[1, 1] = -0.3590972934808751\n",
            "\t\t... skipping 4 entries\n",
            "\t(MO) 2-Body Terms:\n",
            "\t\tAlpha-Alpha\n",
            "\t\t<(3, 3, 3, 3) matrix with 81 non-zero entries>\n",
            "\t\t[0, 0, 0, 0] = 0.49096976210180027\n",
            "\t\t[0, 0, 0, 1] = -0.04770211713793971\n",
            "\t\t[0, 0, 0, 2] = 0.12958118927945325\n",
            "\t\t[0, 0, 1, 0] = -0.047702117137939724\n",
            "\t\t[0, 0, 1, 1] = 0.2251551266886784\n",
            "\t\t... skipping 76 entries\n",
            "\t\tBeta-Alpha\n",
            "\t\t<(3, 3, 3, 3) matrix with 81 non-zero entries>\n",
            "\t\t[0, 0, 0, 0] = 0.49096976210180027\n",
            "\t\t[0, 0, 0, 1] = -0.04770211713793971\n",
            "\t\t[0, 0, 0, 2] = 0.12958118927945325\n",
            "\t\t[0, 0, 1, 0] = -0.047702117137939724\n",
            "\t\t[0, 0, 1, 1] = 0.2251551266886784\n",
            "\t\t... skipping 76 entries\n",
            "\t\tBeta-Beta\n",
            "\t\t<(3, 3, 3, 3) matrix with 81 non-zero entries>\n",
            "\t\t[0, 0, 0, 0] = 0.49096976210180027\n",
            "\t\t[0, 0, 0, 1] = -0.04770211713793971\n",
            "\t\t[0, 0, 0, 2] = 0.12958118927945325\n",
            "\t\t[0, 0, 1, 0] = -0.047702117137939724\n",
            "\t\t[0, 0, 1, 1] = 0.2251551266886784\n",
            "\t\t... skipping 76 entries\n",
            "\t\tAlpha-Beta\n",
            "\t\t<(3, 3, 3, 3) matrix with 81 non-zero entries>\n",
            "\t\t[0, 0, 0, 0] = 0.49096976210180027\n",
            "\t\t[0, 0, 0, 1] = -0.04770211713793971\n",
            "\t\t[0, 0, 0, 2] = 0.12958118927945325\n",
            "\t\t[0, 0, 1, 0] = -0.047702117137939724\n",
            "\t\t[0, 0, 1, 1] = 0.2251551266886784\n",
            "\t\t... skipping 76 entries\n",
            "\tEnergy Shifts:\n",
            "\t\tFreezeCoreTransformer = (-7.818690295581144+0j)\n"
          ]
        }
      ]
    },
    {
      "cell_type": "markdown",
      "metadata": {
        "id": "ANrPUovHua0L"
      },
      "source": [
        "Figure 4.18 – LiH molecule, Electronic Energy, Molecular Orbital (MO), 1-Body Terms\n",
        "\n",
        "Figure 4.19 – LiH molecule, Electronic Energy, Molecular Orbital (MO), 2-Body Terms"
      ]
    },
    {
      "cell_type": "code",
      "metadata": {
        "colab": {
          "base_uri": "https://localhost:8080/"
        },
        "id": "YYCGy2pSuQUo",
        "outputId": "d45a26b4-62b3-4393-ed2b-b237759e6fb6"
      },
      "source": [
        "# Set truncation to 1000\n",
        "LiH_second_q_op[0].set_truncation(1000)\n",
        "# Print the Fermionic operator\n",
        "print(\"Lithium hydride molecule\")\n",
        "print(LiH_second_q_op[0])"
      ],
      "execution_count": null,
      "outputs": [
        {
          "output_type": "stream",
          "name": "stdout",
          "text": [
            "Lithium hydride molecule\n",
            "Fermionic Operator\n",
            "register length=6, number terms=117\n",
            "  (0.012557929501996105+0j) * ( +_0 -_1 +_3 -_4 )\n",
            "+ (-0.03399663387923222+0j) * ( +_0 -_1 +_3 -_5 )\n",
            "+ (-0.012557929501996086+0j) * ( +_0 -_1 -_3 +_4 )\n",
            "+ (0.03399663387923224+0j) * ( +_0 -_1 -_3 +_5 )\n",
            "+ (0.008886443232579824+0j) * ( +_0 -_1 +_4 -_5 )\n",
            "+ (-0.00888644323257985+0j) * ( +_0 -_1 -_4 +_5 )\n",
            "+ (0.04770212338466273+0j) * ( +_0 -_1 )\n",
            "+ (-0.0427274251317337+0j) * ( +_0 -_1 +_5 -_5 )\n",
            "+ (0.00678985984955151+0j) * ( +_0 -_1 +_4 -_4 )\n",
            "+ (-0.047702117137939704+0j) * ( +_0 -_1 +_3 -_3 )\n",
            "+ (-0.011291412068144484+0j) * ( +_0 -_1 +_2 -_2 )\n",
            "+ (-0.03399663387923222+0j) * ( +_0 -_2 +_3 -_4 )\n",
            "+ (0.123384387853094+0j) * ( +_0 -_2 +_3 -_5 )\n",
            "+ (0.033996633879232255+0j) * ( +_0 -_2 -_3 +_4 )\n",
            "+ (-0.12338438785309398+0j) * ( +_0 -_2 -_3 +_5 )\n",
            "+ (-0.03143601306358916+0j) * ( +_0 -_2 +_4 -_5 )\n",
            "+ (0.031436013063589216+0j) * ( +_0 -_2 -_4 +_5 )\n",
            "+ (-0.12958118897501297+0j) * ( +_0 -_2 )\n",
            "+ (0.13755899256191767+0j) * ( +_0 -_2 +_5 -_5 )\n",
            "+ (-0.01094900244933408+0j) * ( +_0 -_2 +_4 -_4 )\n",
            "+ (0.129581189279 ...\n"
          ]
        }
      ]
    },
    {
      "cell_type": "markdown",
      "source": [
        "Figure 4.20 – First 20 terms of the fermionic Hamiltonian operator of the lithium hydride molecule"
      ],
      "metadata": {
        "id": "EyXsyHbFuy8v"
      }
    },
    {
      "cell_type": "code",
      "source": [
        "print(LiH_second_q_op[0].to_matrix())"
      ],
      "metadata": {
        "colab": {
          "base_uri": "https://localhost:8080/"
        },
        "outputId": "7e2dfda2-1e59-4a22-b801-ed2ec9b60d51",
        "id": "h5kodlC-8LhU"
      },
      "execution_count": null,
      "outputs": [
        {
          "output_type": "stream",
          "name": "stdout",
          "text": [
            "  (1, 1)\t(-0.22617114899841065+0j)\n",
            "  (2, 1)\t(0.06823802789335602+0j)\n",
            "  (4, 1)\t(-0.12958118897501297+0j)\n",
            "  (1, 2)\t(0.06823802789335588-0j)\n",
            "  (2, 2)\t(-0.3590972934808751+0j)\n",
            "  (4, 2)\t(0.04770212338466273+0j)\n",
            "  (3, 3)\t(-0.3698582649468982+0j)\n",
            "  (5, 3)\t(0.03641071131651825+0j)\n",
            "  (6, 3)\t(0.1494166346569269-0j)\n",
            "  (1, 4)\t(-0.12958118897501292+0j)\n",
            "  (2, 4)\t(0.04770212338466273-0j)\n",
            "  (4, 4)\t(-0.7806641144801676+0j)\n",
            "  (3, 5)\t(0.03641071131651824+0j)\n",
            "  (5, 5)\t(-0.6744095760097865+0j)\n",
            "  (6, 5)\t(0.05111732964052429+0j)\n",
            "  (3, 6)\t(0.14941663465692695+0j)\n",
            "  (5, 6)\t(0.05111732964052415+0j)\n",
            "  (6, 6)\t(-0.9271642107743605+0j)\n",
            "  (7, 7)\t(-0.6054994947715918+0j)\n",
            "  (8, 8)\t(-0.22617114899841065+0j)\n",
            "  (16, 8)\t(0.06823802789335602+0j)\n",
            "  (32, 8)\t(-0.12958118897501297+0j)\n",
            "  (9, 9)\t(0.003031109061780668+0j)\n",
            "  (10, 9)\t(0.024426933598163628+0j)\n",
            "  (12, 9)\t(0.007977803586904697+0j)\n",
            "  :\t:\n",
            "  (53, 54)\t(0.036010002483814335+0j)\n",
            "  (54, 54)\t(-0.5746431503965985+0j)\n",
            "  (31, 55)\t(-0.10677454473510983+0j)\n",
            "  (47, 55)\t(-0.007801091811378141+0j)\n",
            "  (55, 55)\t(0.4445921552206671+0j)\n",
            "  (56, 56)\t(-0.6054994947715918+0j)\n",
            "  (57, 57)\t(0.32127335290309667+0j)\n",
            "  (58, 57)\t(0.009319606441453784+0j)\n",
            "  (60, 57)\t(0.12660999041702384+0j)\n",
            "  (57, 58)\t(0.00931960644145359+0j)\n",
            "  (58, 58)\t(-0.15927589159821184+0j)\n",
            "  (60, 58)\t(-0.03593755903545917+0j)\n",
            "  (59, 59)\t(0.9829071336088641+0j)\n",
            "  (61, 59)\t(-0.04722897110360365+0j)\n",
            "  (62, 59)\t(-0.10677454473510994+0j)\n",
            "  (57, 60)\t(0.12660999041702387+0j)\n",
            "  (58, 60)\t(-0.03593755903545914+0j)\n",
            "  (60, 60)\t(-0.2142286451393951+0j)\n",
            "  (59, 61)\t(-0.047228971103603634+0j)\n",
            "  (61, 61)\t(1.044969890004085+0j)\n",
            "  (62, 61)\t(-0.007801091811377947+0j)\n",
            "  (59, 62)\t(-0.10677454473510983+0j)\n",
            "  (61, 62)\t(-0.007801091811378138+0j)\n",
            "  (62, 62)\t(0.4445921552206671+0j)\n",
            "  (63, 63)\t(1.919200867896534+0j)\n"
          ]
        }
      ]
    },
    {
      "cell_type": "markdown",
      "source": [
        "Figure 4.21 – Matrix representation of the Fermionic Hamiltonian operator of the lithium hydride molecule in the Fock basis\n",
        "\n",
        "# 4.7. Fermion to qubit mappings"
      ],
      "metadata": {
        "id": "cB-eC4eKYFcv"
      }
    },
    {
      "cell_type": "markdown",
      "source": [
        "## 4.7.1. Qubit creation and annihilation operators"
      ],
      "metadata": {
        "id": "bvCNLUHxg5Mq"
      }
    },
    {
      "cell_type": "markdown",
      "metadata": {
        "id": "AdPIXHnjeOog"
      },
      "source": [
        "## 4.7.2. Jordan-Wigner transformation"
      ]
    },
    {
      "cell_type": "code",
      "source": [
        "def label_to_qubit(label, converter):\n",
        "    qubit_converter = QubitConverter(converter)\n",
        "    f_op = FermionicOp(label)\n",
        "    qubit_op = qubit_converter.convert(f_op)\n",
        "    return qubit_op"
      ],
      "metadata": {
        "id": "YAIfr3_OwryL"
      },
      "execution_count": null,
      "outputs": []
    },
    {
      "cell_type": "code",
      "source": [
        "for k in (\"+_0\", \"+_1\", \"+_2\", \"+_3\", \"+_4\"):\n",
        "  qubit_op = label_to_qubit(k, JordanWignerMapper())\n",
        "  print(\"{}:\\n {}\\n\".format(k, qubit_op))"
      ],
      "metadata": {
        "colab": {
          "base_uri": "https://localhost:8080/"
        },
        "id": "LbmLpvZx18X1",
        "outputId": "a327a6ec-bcf3-4847-db1d-6a83de97d3fc"
      },
      "execution_count": null,
      "outputs": [
        {
          "output_type": "stream",
          "name": "stdout",
          "text": [
            "+_0:\n",
            " 0.5 * X\n",
            "+ -0.5j * Y\n",
            "\n",
            "+_1:\n",
            " 0.5 * XZ\n",
            "+ -0.5j * YZ\n",
            "\n",
            "+_2:\n",
            " 0.5 * XZZ\n",
            "+ -0.5j * YZZ\n",
            "\n",
            "+_3:\n",
            " 0.5 * XZZZ\n",
            "+ -0.5j * YZZZ\n",
            "\n",
            "+_4:\n",
            " 0.5 * XZZZZ\n",
            "+ -0.5j * YZZZZ\n",
            "\n"
          ]
        },
        {
          "output_type": "stream",
          "name": "stderr",
          "text": [
            "/usr/local/lib/python3.7/dist-packages/ipykernel_launcher.py:3: UserWarning: The default value for `display_format` will be changed from 'dense' to 'sparse' in version 0.3.0. Once that happens, you must specify display_format='dense' directly.\n",
            "  This is separate from the ipykernel package so we can avoid doing imports until\n"
          ]
        }
      ]
    },
    {
      "cell_type": "markdown",
      "source": [
        "Figure 4.24 – Jordan-Wigner transformation illustrated with \"+_0\", \"+_1\", \"+_2\", \"+_3\", \"+_4\"\n",
        "\n",
        "## 4.7.3. Parity transformation"
      ],
      "metadata": {
        "id": "Di97v1-2m4Nh"
      }
    },
    {
      "cell_type": "code",
      "source": [
        "for k in (\"+_0\", \"+_1\", \"+_2\", \"+_3\", \"+_4\"):\n",
        "  qubit_op = label_to_qubit(k, ParityMapper())\n",
        "  print(\"{}:\\n {}\\n\".format(k, qubit_op))"
      ],
      "metadata": {
        "colab": {
          "base_uri": "https://localhost:8080/"
        },
        "id": "yoWuByO3DIlM",
        "outputId": "cd2cc5c7-785a-4fce-a4bd-9294ed4375a1"
      },
      "execution_count": null,
      "outputs": [
        {
          "output_type": "stream",
          "name": "stdout",
          "text": [
            "+_0:\n",
            " 0.5 * X\n",
            "+ -0.5j * Y\n",
            "\n",
            "+_1:\n",
            " 0.5 * XZ\n",
            "+ -0.5j * YI\n",
            "\n",
            "+_2:\n",
            " 0.5 * XZI\n",
            "+ -0.5j * YII\n",
            "\n",
            "+_3:\n",
            " 0.5 * XZII\n",
            "+ -0.5j * YIII\n",
            "\n",
            "+_4:\n",
            " 0.5 * XZIII\n",
            "+ -0.5j * YIIII\n",
            "\n"
          ]
        }
      ]
    },
    {
      "cell_type": "markdown",
      "source": [
        "Figure 4.26 – Parity transformation illustrated with \"+_0\", \"+_1\", \"+_2\", \"+_3\", \"+_4\"\n",
        "\n",
        "## 4.7.4. Bravyi-Kitaev transformation"
      ],
      "metadata": {
        "id": "VdBTwgJqip_i"
      }
    },
    {
      "cell_type": "code",
      "source": [
        "def BK(m):\n",
        "  I = [[1, 0], [0, 1]]\n",
        "  d = {}\n",
        "  d[0] = [1]\n",
        "  for k in range(0, m):\n",
        "    B = np.kron(I,d[k])\n",
        "    for l in range(2**k, 2**(k+1)):\n",
        "      B[0,l] = 1\n",
        "    d[k+1] = B\n",
        "  return d"
      ],
      "metadata": {
        "id": "wN6H1OUWB7Zw"
      },
      "execution_count": null,
      "outputs": []
    },
    {
      "cell_type": "code",
      "source": [
        "d = BK(3)\n",
        "for k, v in d.items():\n",
        "  s = \"B_{\"+str(2**k)+\"} = \"\n",
        "  display(array_to_latex(v, prefix=s, precision = 0))\n",
        "  print(\" \")"
      ],
      "metadata": {
        "colab": {
          "base_uri": "https://localhost:8080/",
          "height": 393
        },
        "id": "Wi0LFFWKZ9-J",
        "outputId": "3ae3121d-f739-4c28-9db2-75f4b47a7ecc"
      },
      "execution_count": null,
      "outputs": [
        {
          "output_type": "display_data",
          "data": {
            "text/plain": [
              "<IPython.core.display.Latex object>"
            ],
            "text/latex": "$$\nB_{1} = \n\\begin{bmatrix}\n1  \\\\\n \\end{bmatrix}\n$$"
          },
          "metadata": {}
        },
        {
          "output_type": "stream",
          "name": "stdout",
          "text": [
            " \n"
          ]
        },
        {
          "output_type": "display_data",
          "data": {
            "text/plain": [
              "<IPython.core.display.Latex object>"
            ],
            "text/latex": "$$\nB_{2} = \n\\begin{bmatrix}\n1 & 1  \\\\\n 0 & 1  \\\\\n \\end{bmatrix}\n$$"
          },
          "metadata": {}
        },
        {
          "output_type": "stream",
          "name": "stdout",
          "text": [
            " \n"
          ]
        },
        {
          "output_type": "display_data",
          "data": {
            "text/plain": [
              "<IPython.core.display.Latex object>"
            ],
            "text/latex": "$$\nB_{4} = \n\\begin{bmatrix}\n1 & 1 & 1 & 1  \\\\\n 0 & 1 & 0 & 0  \\\\\n 0 & 0 & 1 & 1  \\\\\n 0 & 0 & 0 & 1  \\\\\n \\end{bmatrix}\n$$"
          },
          "metadata": {}
        },
        {
          "output_type": "stream",
          "name": "stdout",
          "text": [
            " \n"
          ]
        },
        {
          "output_type": "display_data",
          "data": {
            "text/plain": [
              "<IPython.core.display.Latex object>"
            ],
            "text/latex": "$$\nB_{8} = \n\\begin{bmatrix}\n1 & 1 & 1 & 1 & 1 & 1 & 1 & 1  \\\\\n 0 & 1 & 0 & 0 & 0 & 0 & 0 & 0  \\\\\n 0 & 0 & 1 & 1 & 0 & 0 & 0 & 0  \\\\\n 0 & 0 & 0 & 1 & 0 & 0 & 0 & 0  \\\\\n 0 & 0 & 0 & 0 & 1 & 1 & 1 & 1  \\\\\n 0 & 0 & 0 & 0 & 0 & 1 & 0 & 0  \\\\\n 0 & 0 & 0 & 0 & 0 & 0 & 1 & 1  \\\\\n 0 & 0 & 0 & 0 & 0 & 0 & 0 & 1  \\\\\n \\end{bmatrix}\n$$"
          },
          "metadata": {}
        },
        {
          "output_type": "stream",
          "name": "stdout",
          "text": [
            " \n"
          ]
        }
      ]
    },
    {
      "cell_type": "markdown",
      "source": [
        "Figure 4.27 – BK matrices $B_1$, $B_2$, $B_4$ and $B_8$"
      ],
      "metadata": {
        "id": "Pt0QInTUGfRM"
      }
    },
    {
      "cell_type": "code",
      "source": [
        "for k in (\"+_0\", \"+_1\", \"+_2\", \"+_3\", \"+_4\"):\n",
        "  qubit_op = label_to_qubit(k, BravyiKitaevMapper())\n",
        "  print(\"{}:\\n {}\\n\".format(k, qubit_op))"
      ],
      "metadata": {
        "colab": {
          "base_uri": "https://localhost:8080/"
        },
        "id": "SVqbCYNhGziz",
        "outputId": "89935ef6-cb0b-4a53-baeb-5740617fcf89"
      },
      "execution_count": null,
      "outputs": [
        {
          "output_type": "stream",
          "name": "stdout",
          "text": [
            "+_0:\n",
            " 0.5 * X\n",
            "+ -0.5j * Y\n",
            "\n",
            "+_1:\n",
            " 0.5 * XZ\n",
            "+ -0.5j * YI\n",
            "\n",
            "+_2:\n",
            " 0.5 * XZI\n",
            "+ -0.5j * YZI\n",
            "\n",
            "+_3:\n",
            " 0.5 * XZZI\n",
            "+ -0.5j * YIII\n",
            "\n",
            "+_4:\n",
            " 0.5 * XZIII\n",
            "+ -0.5j * YZIII\n",
            "\n"
          ]
        }
      ]
    },
    {
      "cell_type": "markdown",
      "source": [
        "Figure 4.29 – BK transformation illustrated with \"+_0\", \"+_1\", \"+_2\", \"+_3\", \"+_4\"\n",
        "\n",
        "# 4.8. Constructing a qubit Hamiltonian with Qiskit Nature"
      ],
      "metadata": {
        "id": "lp2-QxbQh8Tf"
      }
    },
    {
      "cell_type": "code",
      "source": [
        "def fermion_to_qubit(f_op, second_q_op, mapper, truncate=20, two_qubit_reduction=False, z2symmetry_reduction=None, show=True): \n",
        "  if show:\n",
        "    print(\"Qubit Hamiltonian operator\")\n",
        "  dmap = {\"Jordan-Wigner\": JordanWignerMapper(), \"Parity\": ParityMapper(), \"Bravyi-Kitaev\": BravyiKitaevMapper()}\n",
        "  qubit_op = None\n",
        "  qubit_converter = None\n",
        "  for k, v in dmap.items():\n",
        "    if k == mapper:\n",
        "      if show:\n",
        "        print(\"{} transformation \". format(mapper))\n",
        "      qubit_converter = QubitConverter(v, two_qubit_reduction=two_qubit_reduction, z2symmetry_reduction=z2symmetry_reduction)\n",
        "      if two_qubit_reduction:\n",
        "        qubit_op = qubit_converter.convert(second_q_op[0], num_particles=f_op.num_particles)\n",
        "      else:\n",
        "        qubit_op = qubit_converter.convert(second_q_op[0])\n",
        "      n_items = len(qubit_op)\n",
        "      if show:\n",
        "        print(\"Number of items in the Pauli list:\", n_items)\n",
        "        if n_items <= truncate:\n",
        "          print(qubit_op)\n",
        "        else:\n",
        "          print(qubit_op[0:truncate])\n",
        "  return qubit_op, qubit_converter"
      ],
      "metadata": {
        "id": "mpCk6k6mexVL"
      },
      "execution_count": null,
      "outputs": []
    },
    {
      "cell_type": "markdown",
      "source": [
        "## 4.8.1. Constructing a qubit Hamiltonian operator of the hydrogen molecule"
      ],
      "metadata": {
        "id": "dnu8trf2jXgm"
      }
    },
    {
      "cell_type": "code",
      "source": [
        "print(\"Hydrogen molecule\")\n",
        "H2_qubit_op, qubit_converter = fermion_to_qubit(H2_fermionic_hamiltonian, H2_second_q_op, \"Jordan-Wigner\", two_qubit_reduction=True)"
      ],
      "metadata": {
        "colab": {
          "base_uri": "https://localhost:8080/"
        },
        "id": "m4itrsMdqemv",
        "outputId": "5ef34a00-626b-4c43-9907-9ddd0acf4e4e"
      },
      "execution_count": null,
      "outputs": [
        {
          "output_type": "stream",
          "name": "stdout",
          "text": [
            "Hydrogen molecule\n",
            "Qubit Hamiltonian operator\n",
            "Jordan-Wigner transformation \n",
            "Number of items in the Pauli list: 15\n",
            "0.04523279994605781 * YYYY\n",
            "+ 0.04523279994605781 * XXYY\n",
            "+ 0.04523279994605781 * YYXX\n",
            "+ 0.04523279994605781 * XXXX\n",
            "- 0.8105479805373281 * IIII\n",
            "- 0.22575349222402358 * ZIII\n",
            "+ 0.17218393261915543 * IZII\n",
            "+ 0.12091263261776633 * ZZII\n",
            "- 0.22575349222402358 * IIZI\n",
            "+ 0.17464343068300436 * ZIZI\n",
            "+ 0.16614543256382414 * IZZI\n",
            "+ 0.17218393261915543 * IIIZ\n",
            "+ 0.16614543256382414 * ZIIZ\n",
            "+ 0.16892753870087904 * IZIZ\n",
            "+ 0.12091263261776633 * IIZZ\n"
          ]
        }
      ]
    },
    {
      "cell_type": "markdown",
      "source": [
        "Figure 4.30 – Qubit Hamiltonian operator of $H_2$ with the JW transformation"
      ],
      "metadata": {
        "id": "6sDkWL73icSc"
      }
    },
    {
      "cell_type": "code",
      "source": [
        "print(\"Hydrogen molecule\")\n",
        "H2_qubit_op, qubit_converter = fermion_to_qubit(H2_fermionic_hamiltonian, H2_second_q_op, \"Parity\", two_qubit_reduction=True)"
      ],
      "metadata": {
        "id": "e2ZxA1QZpwV-",
        "colab": {
          "base_uri": "https://localhost:8080/"
        },
        "outputId": "68e04652-b7c9-44ff-bd65-ed041deedb98"
      },
      "execution_count": null,
      "outputs": [
        {
          "output_type": "stream",
          "name": "stdout",
          "text": [
            "Hydrogen molecule\n",
            "Qubit Hamiltonian operator\n",
            "Parity transformation \n",
            "Number of items in the Pauli list: 5\n",
            "0.18093119978423114 * XX\n",
            "- 1.0523732457728605 * II\n",
            "- 0.39793742484317884 * ZI\n",
            "+ 0.39793742484317884 * IZ\n",
            "- 0.011280104256235171 * ZZ\n"
          ]
        }
      ]
    },
    {
      "cell_type": "markdown",
      "source": [
        "Figure 4.31 – Qubit Hamiltonian operator of $H_2$ with parity transformation, two_qubit_reduction True"
      ],
      "metadata": {
        "id": "WSpdrrkzitLF"
      }
    },
    {
      "cell_type": "code",
      "source": [
        "print(\"Hydrogen molecule\")\n",
        "H2_qubit_op, qubit_converter = fermion_to_qubit(H2_fermionic_hamiltonian, H2_second_q_op, \"Bravyi-Kitaev\", two_qubit_reduction=True)"
      ],
      "metadata": {
        "colab": {
          "base_uri": "https://localhost:8080/"
        },
        "id": "muJf5AK36Dyf",
        "outputId": "69f6378a-a049-4c46-a906-8e2d0f1df8df"
      },
      "execution_count": null,
      "outputs": [
        {
          "output_type": "stream",
          "name": "stdout",
          "text": [
            "Hydrogen molecule\n",
            "Qubit Hamiltonian operator\n",
            "Bravyi-Kitaev transformation \n",
            "Number of items in the Pauli list: 15\n",
            "0.04523279994605781 * ZXIX\n",
            "- 0.04523279994605781 * IXZX\n",
            "- 0.04523279994605781 * ZXZX\n",
            "+ 0.04523279994605781 * IXIX\n",
            "- 0.8105479805373281 * IIII\n",
            "- 0.22575349222402358 * ZZZI\n",
            "+ 0.17218393261915543 * IZII\n",
            "+ 0.12091263261776633 * ZIZI\n",
            "- 0.22575349222402358 * IIZZ\n",
            "+ 0.17464343068300436 * ZZIZ\n",
            "+ 0.16614543256382414 * IZZZ\n",
            "+ 0.17218393261915543 * IIIZ\n",
            "+ 0.16614543256382414 * ZZZZ\n",
            "+ 0.16892753870087904 * IZIZ\n",
            "+ 0.12091263261776633 * IIZI\n"
          ]
        }
      ]
    },
    {
      "cell_type": "markdown",
      "source": [
        "Figure 4.32 – Qubit Hamiltonian operator of $H_2$ with the Bravyi-Kitaev transformation\n",
        "\n",
        "## 4.8.2. Constructing a qubit Hamiltonian operator of the lithium hydride molecule"
      ],
      "metadata": {
        "id": "5XblKH7TjWEv"
      }
    },
    {
      "cell_type": "code",
      "source": [
        "print(\"Lithium hydride molecule\")\n",
        "print(\"Using the ParityMapper with two_qubit_reduction=True to eliminate two qubits\")\n",
        "print(\"Setting z2symmetry_reduction=\\\"auto\\\"\")\n",
        "LiH_qubit_op, qubit_converter = fermion_to_qubit(LiH_fermionic_hamiltonian, LiH_second_q_op, \"Parity\", two_qubit_reduction=True, z2symmetry_reduction=\"auto\")"
      ],
      "metadata": {
        "colab": {
          "base_uri": "https://localhost:8080/"
        },
        "id": "kbpd4b7q6X6X",
        "outputId": "dea05847-fdd5-4eb6-d709-c19d7cdcebde"
      },
      "execution_count": null,
      "outputs": [
        {
          "output_type": "stream",
          "name": "stdout",
          "text": [
            "Lithium hydride molecule\n",
            "Using the ParityMapper with two_qubit_reduction=True to eliminate two qubits\n",
            "Setting z2symmetry_reduction=\"auto\"\n",
            "Qubit Hamiltonian operator\n",
            "Parity transformation \n",
            "Number of items in the Pauli list: 100\n",
            "-0.003139482375499021 * ZXZX\n",
            "- 0.0031394823754990215 * IXZX\n",
            "+ 0.003139482375499021 * ZXIX\n",
            "+ 0.0031394823754990215 * IXIX\n",
            "+ 0.008499158469808057 * XXZX\n",
            "- 0.008499158469808057 * YYZX\n",
            "- 0.008499158469808057 * XXIX\n",
            "+ 0.008499158469808057 * YYIX\n",
            "+ 0.00222161080814496 * XZZX\n",
            "- 0.00222161080814496 * XIZX\n",
            "- 0.00222161080814496 * XZIX\n",
            "+ 0.00222161080814496 * XIIX\n",
            "- 0.0029411410873008965 * IIZX\n",
            "+ 0.0029411410873008965 * IIIX\n",
            "- 0.010681856282933421 * ZIZX\n",
            "+ 0.010681856282933421 * ZIIX\n",
            "+ 0.0016974649623878813 * ZZZX\n",
            "- 0.0016974649623878813 * ZZIX\n",
            "+ 0.011925529284484922 * IZZX\n",
            "- 0.011925529284484922 * IZIX\n"
          ]
        }
      ]
    },
    {
      "cell_type": "markdown",
      "source": [
        "Figure 4.33 – Qubit Hamiltonian operator of LiH with parity transformation, two_qubit_reduction True\n",
        "\n",
        "# Summary"
      ],
      "metadata": {
        "id": "LEMhBdT7FSQ1"
      }
    },
    {
      "cell_type": "markdown",
      "source": [
        "# Questions\n",
        "\n",
        "1. Which of the following terms is neglected in the BO approximation?\n",
        "\n",
        "A.\tElectronic kinetic energy operator.\n",
        "\n",
        "B.\tNuclear kinetic energy operator.\n",
        "\n",
        "C.\tPotential energy between the electrons and nuclei. It is the sum of all electron-nucleus Coulomb interactions.\n",
        "\n",
        "D.\tPotential energy operator arising from electron-electron Coulomb repulsions."
      ],
      "metadata": {
        "id": "CTZXeX0q7YV2"
      }
    },
    {
      "cell_type": "code",
      "source": [
        "#@title Enter your answer A, B, C, D or E or ? for a solution, then execute cell.\n",
        "answer = \" \" #@param {type:\"string\"}\n",
        "solution = \"B\"\n",
        "if answer == solution:\n",
        "  print(\"Correct\")\n",
        "elif answer == '?':\n",
        "  print(solution)\n",
        "else:\n",
        "  print(\"Incorrect, please try again\")"
      ],
      "metadata": {
        "colab": {
          "base_uri": "https://localhost:8080/"
        },
        "cellView": "form",
        "id": "DtfjLkr-7wsF",
        "outputId": "009be934-9d33-4e0e-8a9d-18a89895c6e6"
      },
      "execution_count": null,
      "outputs": [
        {
          "output_type": "stream",
          "name": "stdout",
          "text": [
            "Incorrect, please try again\n"
          ]
        }
      ]
    },
    {
      "cell_type": "markdown",
      "source": [
        "2. The Slater determinant wave function is antisymmetric with respect to: \n",
        "\n",
        "A.\tthe exchange of two electrons (permutation of two rows) or, \n",
        "\n",
        "B.\twith respect to the exchange of two spin orbitals (permutation of two columns)\n",
        "\n",
        "C.\tOr both the above?\n"
      ],
      "metadata": {
        "id": "4CxW6o7R8sk5"
      }
    },
    {
      "cell_type": "code",
      "source": [
        "#@title Enter your answer A, B or C or ? for a solution, then execute cell.\n",
        "answer = \"\" #@param {type:\"string\"}\n",
        "solution = \"C\"\n",
        "if answer == solution:\n",
        "  print(\"Correct\")\n",
        "elif answer == '?':\n",
        "  print(solution)\n",
        "else:\n",
        "  print(\"Incorrect, please try again\")"
      ],
      "metadata": {
        "colab": {
          "base_uri": "https://localhost:8080/"
        },
        "cellView": "form",
        "outputId": "54a3f882-f1b5-4de5-b77c-63fb374dff43",
        "id": "MEZy8MCz88kO"
      },
      "execution_count": null,
      "outputs": [
        {
          "output_type": "stream",
          "name": "stdout",
          "text": [
            "Incorrect, please try again\n"
          ]
        }
      ]
    },
    {
      "cell_type": "markdown",
      "source": [
        "3. Name three fermion to qubit transformations currently supported by Qiskit Nature."
      ],
      "metadata": {
        "id": "Zuh8pwSV9Yvc"
      }
    },
    {
      "cell_type": "code",
      "source": [
        "#@title Enter your answer as one or more words separated by ',' or ? for a solution, then execute cell.\n",
        "answer = \"\" #@param {type:\"string\"}\n",
        "solution = \"Jordan-Wigner, Parity, Bravyi-Kitaev\"\n",
        "if answer == solution:\n",
        "  print(\"Correct\")\n",
        "elif answer == '?':\n",
        "  print(solution)\n",
        "else:\n",
        "  print(\"Incorrect, please try again\")"
      ],
      "metadata": {
        "colab": {
          "base_uri": "https://localhost:8080/"
        },
        "cellView": "form",
        "outputId": "d3726f77-84ef-4ac7-bc52-6ee00c1481f7",
        "id": "UAC5uySv9f9L"
      },
      "execution_count": null,
      "outputs": [
        {
          "output_type": "stream",
          "name": "stdout",
          "text": [
            "Incorrect, please try again\n"
          ]
        }
      ]
    },
    {
      "cell_type": "markdown",
      "source": [
        "4. Name two fermion to qubit transformations that simulates a system of electrons with the same number of qubits as electrons."
      ],
      "metadata": {
        "id": "XlqcEsjy-DWE"
      }
    },
    {
      "cell_type": "code",
      "source": [
        "#@title Enter your answer as one or more words separated by ',' or ? for a solution, then execute cell.\n",
        "answer = \"\" #@param {type:\"string\"}\n",
        "solution = \"Jordan-Wigner, Parity\"\n",
        "if answer == solution:\n",
        "  print(\"Correct\")\n",
        "elif answer == '?':\n",
        "  print(solution)\n",
        "else:\n",
        "  print(\"Incorrect, please try again\")"
      ],
      "metadata": {
        "colab": {
          "base_uri": "https://localhost:8080/"
        },
        "cellView": "form",
        "outputId": "8f7c7ad7-57a2-440f-9965-da852996db14",
        "id": "B3ED_Rcr-NdW"
      },
      "execution_count": null,
      "outputs": [
        {
          "output_type": "stream",
          "name": "stdout",
          "text": [
            "Incorrect, please try again\n"
          ]
        }
      ]
    },
    {
      "cell_type": "markdown",
      "source": [
        "5.\tFor which transformation does the resulting Hamiltonian commute with the number spin up and number spin down operators which can be used to taper off two qubits?"
      ],
      "metadata": {
        "id": "evV1mRFp-VbD"
      }
    },
    {
      "cell_type": "code",
      "source": [
        "#@title Enter your answer as one or more words separated by ',' or ? for a solution, then execute cell.\n",
        "answer = \"\" #@param {type:\"string\"}\n",
        "solution = \"Jordan-Wigner\"\n",
        "if answer == solution:\n",
        "  print(\"Correct\")\n",
        "elif answer == '?':\n",
        "  print(solution)\n",
        "else:\n",
        "  print(\"Incorrect, please try again\")"
      ],
      "metadata": {
        "colab": {
          "base_uri": "https://localhost:8080/"
        },
        "cellView": "form",
        "outputId": "9e5b0b8d-505d-4442-cc96-4ee33ce489ff",
        "id": "iUUXDtOc-bwr"
      },
      "execution_count": null,
      "outputs": [
        {
          "output_type": "stream",
          "name": "stdout",
          "text": [
            "Incorrect, please try again\n"
          ]
        }
      ]
    }
  ]
}