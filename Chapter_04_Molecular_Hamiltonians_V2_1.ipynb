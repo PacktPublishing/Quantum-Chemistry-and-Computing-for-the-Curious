{
  "cells": [
    {
      "cell_type": "markdown",
      "metadata": {
        "id": "boqsNTC8Y7mN"
      },
      "source": [
        "This is the companion Jupyter Notebook of Chapter 4, Molecular Hamiltonians, of the book titled:\n",
        "\"Quantum Chemistry and Computing for the Curious: Illustrated with Python and Qiskit® code\" and with ISBN-13: 978-1803243900.\n",
        "Copyright © 2022, Keeper L. Sharkey and Alain Chancé."
      ]
    },
    {
      "cell_type": "markdown",
      "metadata": {
        "id": "lyOS5s2Q4Jx2"
      },
      "source": [
        "The following MIT license only applies to the code, and not to the text and images. The authors are not granting a license to replicate or reuse the text and images in the companion Jupyter notebook.\n",
        "\n",
        "# MIT License\n",
        "\n",
        "Copyright (c) 2022 Packt\n",
        "\n",
        "Permission is hereby granted, free of charge, to any person obtaining a copy\n",
        "of this software and associated documentation files (the \"Software\"), to deal\n",
        "in the Software without restriction, including without limitation the rights\n",
        "to use, copy, modify, merge, publish, distribute, sublicense, and/or sell\n",
        "copies of the Software, and to permit persons to whom the Software is\n",
        "furnished to do so, subject to the following conditions:\n",
        "\n",
        "The above copyright notice and this permission notice shall be included in all\n",
        "copies or substantial portions of the Software.\n",
        "\n",
        "THE SOFTWARE IS PROVIDED \"AS IS\", WITHOUT WARRANTY OF ANY KIND, EXPRESS OR\n",
        "IMPLIED, INCLUDING BUT NOT LIMITED TO THE WARRANTIES OF MERCHANTABILITY,\n",
        "FITNESS FOR A PARTICULAR PURPOSE AND NONINFRINGEMENT. IN NO EVENT SHALL THE\n",
        "AUTHORS OR COPYRIGHT HOLDERS BE LIABLE FOR ANY CLAIM, DAMAGES OR OTHER\n",
        "LIABILITY, WHETHER IN AN ACTION OF CONTRACT, TORT OR OTHERWISE, ARISING FROM,\n",
        "OUT OF OR IN CONNECTION WITH THE SOFTWARE OR THE USE OR OTHER DEALINGS IN THE\n",
        "SOFTWARE.\n"
      ]
    },
    {
      "cell_type": "markdown",
      "metadata": {
        "id": "oNqOYS227ESk"
      },
      "source": [
        "# 4. Molecular Hamiltonians"
      ]
    },
    {
      "cell_type": "markdown",
      "metadata": {
        "id": "-VltqWatg_ND"
      },
      "source": [
        "# Technical requirements\n",
        "A companion Jupyter notebook for this chapter can be downloaded from GitHub at https://github.com/PacktPublishing/Quantum-Chemistry-and-Computing-for-the-Curious, which has been tested in the Google Colab environment, which is free and runs entirely in the cloud, and in the IBM Quantum Lab environment. Please refer to Appendix B – Leveraging Jupyter Notebooks in the Cloud, for more information. The companion Jupyter notebook automatically installs the following list of libraries:\n",
        "*   Numerical Python (NumPy) [NumPy], an open-source Python library that is used in almost every field of science and engineering\n",
        "*   Qiskit [Qiskit], an open-source SDK for working with quantum computers at the level of pulses, circuits, and application modules\n",
        "*   Qiskit visualization support to enable the use of visualizations and Jupyter notebooks\n",
        "*   Qiskit Nature [Qiskit_Nature] [Qiskit_Nat_0], a unique platform that bridges the gap between natural sciences and quantum simulations\n",
        "*   Python-based Simulations of Chemistry Framework (PySCF), [PySCF], an open-source collection of electronic structure modules powered by Python"
      ]
    },
    {
      "cell_type": "markdown",
      "source": [
        "# Summary of updates V2.1\n",
        "\n",
        "Please refer to the following documentation:\n",
        "*   The QubitConverter Migration Guide, https://qiskit.org/ecosystem/nature/migration/0.6_c_qubit_converter.html\n",
        "*   Transition from the PauliSumOp class and its widespread use to the qiskit.quantum_info module and its SparsePauliOp class, https://qiskit.org/ecosystem/nature/migration/0.6_c_qubit_converter.html#paulisumop-vs-sparsepauliop\n",
        "\n",
        "## Updates in import statements\n",
        "### Transition from the PauliSumOp class and its widespread use to the qiskit.quantum_info module and its SparsePauliOp class\n",
        "New statement\n",
        "```\n",
        "from qiskit_nature import settings\n",
        "```\n",
        "\n",
        "## Updates in code\n",
        "### Transition from the PauliSumOp class and its widespread use to the qiskit.quantum_info module and its SparsePauliOp class\n",
        "New statement\n",
        "```\n",
        "settings.use_pauli_sum_op = False\n",
        "```\n",
        "### Matrix representation of the fermionic Hamiltonian operator deprecated\n",
        "The to_matrix method is deprecated as of version 0.6.0 and will be removed no sooner than 3 months after the release . This method has no direct replacement. Instead, use the `qiskit_nature.second_q.mappers.JordanWignerMapper` to create a qubit operator and subsequently use its `to_matrix()` method. Be advised, that the basis state ordering of that output will differ due to the bitstring endianness. For more information refer to https://github.com/Qiskit/qiskit-nature/issues/875.\n",
        "\n",
        "### QubitConverter Migration\n",
        "Previously\n",
        "```\n",
        "def label_to_qubit(label, converter):\n",
        "    qubit_converter = QubitConverter(converter)\n",
        "    f_op = FermionicOp(label)\n",
        "    qubit_op = qubit_converter.convert(f_op)\n",
        "    return qubit_op\n",
        "```\n",
        "New\n",
        "```\n",
        "# QubitConverter Migration\n",
        "# https://qiskit.org/ecosystem/nature/migration/0.6_c_qubit_converter.html\n",
        "def label_to_qubit(label, mapper):\n",
        "    f_op = FermionicOp(label)\n",
        "    qubit_op = mapper.map(f_op)\n",
        "    return qubit_op\n",
        "```\n",
        "\n",
        "Previously\n",
        "```\n",
        "def fermion_to_qubit(problem, second_q_op, mapper, truncate=20, two_qubit_reduction=False, z2symmetry_reduction=None, show=True): \n",
        "# Electronic Structure Problems with v0.5\n",
        "# https://qiskit.org/documentation/nature/migration/00b_Electronic_structure_with_v0.5.html\n",
        "# https://qiskit.org/documentation/nature/stubs/qiskit_nature.second_q.mappers.QubitConverter.html#qubitconverter\n",
        "  if show:\n",
        "    print(\"Qubit Hamiltonian operator\")\n",
        "  dmap = {\"Jordan-Wigner\": JordanWignerMapper(), \"Parity\": ParityMapper(), \"Bravyi-Kitaev\": BravyiKitaevMapper()}\n",
        "  qubit_op = None\n",
        "  qubit_converter = None\n",
        "  for k, v in dmap.items():\n",
        "    if k == mapper:\n",
        "      if show:\n",
        "        print(\"{} transformation \". format(mapper))\n",
        "      qubit_converter = QubitConverter(v, two_qubit_reduction=two_qubit_reduction, z2symmetry_reduction=z2symmetry_reduction)\n",
        "      # QubitConverter.convert\n",
        "      # https://qiskit.org/documentation/nature/stubs/qiskit_nature.second_q.mappers.QubitConverter.convert.html\n",
        "      if two_qubit_reduction:\n",
        "        qubit_op = qubit_converter.convert(second_q_op, num_particles=problem.num_particles)\n",
        "      else:\n",
        "        qubit_op = qubit_converter.convert(second_q_op)\n",
        "      n_items = len(qubit_op)\n",
        "      if show:\n",
        "        print(\"Number of items in the Pauli list:\", n_items)\n",
        "        if n_items <= truncate:\n",
        "          print(qubit_op)\n",
        "        else:\n",
        "          print(qubit_op[0:truncate])\n",
        "  return qubit_op, qubit_converter\n",
        "```\n",
        "\n",
        "New\n",
        "```\n",
        "def fermion_to_qubit(problem, second_q_op, mapper_name, truncate=20, two_qubit_reduction=False, z2symmetry_reduction=None, show=True): \n",
        "# Electronic Structure Problems with v0.5\n",
        "# https://qiskit.org/documentation/nature/migration/00b_Electronic_structure_with_v0.5.html\n",
        "# https://qiskit.org/documentation/nature/stubs/qiskit_nature.second_q.mappers.QubitConverter.html#qubitconverter\n",
        "# https://qiskit.org/ecosystem/nature/migration/0.6_c_qubit_converter.html\n",
        "  if show:\n",
        "    print(\"Qubit Hamiltonian operator\")\n",
        "    print(\"{} transformation \". format(mapper_name))\n",
        "\n",
        "  match mapper_name:\n",
        "    case \"Jordan-Wigner\":\n",
        "      mapper = JordanWignerMapper()\n",
        "    case \"Parity\":\n",
        "      mapper = ParityMapper(num_particles=problem.num_particles)\n",
        "    case \"Bravyi-Kitaev\":\n",
        "      mapper = BravyiKitaevMapper()\n",
        "  \n",
        "  qubit_op = mapper.map(second_q_op)\n",
        "  \n",
        "  if z2symmetry_reduction != None:\n",
        "    tapered_mapper = problem.get_tapered_mapper(mapper)\n",
        "    qubit_op = tapered_mapper.map(second_q_op)\n",
        "    \n",
        "  n_items = len(qubit_op)\n",
        "  if show:\n",
        "    print(\"Number of items in the Pauli list:\", n_items)\n",
        "    if n_items <= truncate:\n",
        "      print(qubit_op)\n",
        "    else:\n",
        "      print(qubit_op[0:truncate])\n",
        "  return qubit_op, mapper\n",
        "```"
      ],
      "metadata": {
        "id": "eZ3PSaiWHZv6"
      }
    },
    {
      "cell_type": "markdown",
      "metadata": {
        "id": "0cEGylXeEDu7"
      },
      "source": [
        "# Summary of updates V2\n",
        "## Purpose\n",
        "This Jupyter notebook has been adapted to work with Qiskit Nature v0.5 and the new Qiskit Runtime primitives. \n",
        "\n",
        "Please refer to the following documentation:\n",
        "\n",
        "Electronic Structure Problems with v0.5, https://qiskit.org/documentation/nature/migration/00b_Electronic_structure_with_v0.5.html\n",
        "\n",
        "Leveraging Qiskit Runtime\n",
        "https://qiskit.org/documentation/nature/tutorials/07_leveraging_qiskit_runtime.html\n",
        "\n",
        "FermionicOp\n",
        "https://qiskit.org/documentation/nature/locale/bn_BN/stubs/qiskit_nature.second_q.operators.FermionicOp.html\n",
        "\n",
        "## New install command\n",
        "Install qiskit.utils with the following command (V2):\n",
        "```\n",
        "pip install qiskit.utils\n",
        "```\n",
        "## Updates in import statements\n",
        "Previously\n",
        "```\n",
        "from qiskit_nature.drivers.second_quantization import ElectronicStructureDriverType, ElectronicStructureMoleculeDriver\n",
        "from qiskit_nature.problems.second_quantization import ElectronicStructureProblem\n",
        "from qiskit_nature.mappers.second_quantization import ParityMapper, JordanWignerMapper, BravyiKitaevMapper\n",
        "from qiskit_nature.converters.second_quantization import QubitConverter\n",
        "from qiskit_nature.transformers.second_quantization.electronic import ActiveSpaceTransformer, FreezeCoreTransformer\n",
        "from qiskit_nature.operators.second_quantization import FermionicOp\n",
        "```\n",
        "New\n",
        "```\n",
        "# Electronic Structure Problems with v0.5\n",
        "# https://qiskit.org/documentation/nature/migration/00b_Electronic_structure_with_v0.5.html\n",
        "from qiskit_nature.second_q.formats.molecule_info import MoleculeInfo\n",
        "from qiskit_nature.units import DistanceUnit\n",
        "from qiskit_nature.second_q.drivers import PySCFDriver\n",
        "from qiskit_nature.second_q.mappers import QubitConverter\n",
        "from qiskit_nature.second_q.mappers import ParityMapper, JordanWignerMapper, BravyiKitaevMapper\n",
        "from qiskit_nature.second_q.properties import ParticleNumber\n",
        "from qiskit_nature.second_q.transformers import ActiveSpaceTransformer, FreezeCoreTransformer\n",
        "from qiskit_nature.second_q.operators import FermionicOp\n",
        "```\n",
        "\n",
        "## Updates in code\n",
        "\n",
        "### Removed figure 4.10 and figure 4.11 showing the molecular orbital (MO) 1-body and (MO) 2-body terms\n",
        "The One body and two bodies integrals which were components of qiskit_nature.properties are no longer supported, see: https://qiskit.org/documentation/nature/migration/00b_Electronic_structure_with_v0.5.html#qiskit_nature.properties\n",
        "\n",
        "```\n",
        "second_quantization.electronic.integrals.OneBodyElectronicIntegrals removed\n",
        "second_quantization.electronic.integrals.TwoBodyElectronicIntegrals removed\n",
        "```\n",
        "\n",
        "### Updates pertaining to the new MoleculeInfo data structure\n",
        "The MoleculeInfo has become a pure data container and no longer supports degrees of freedom.\n",
        "This version uses a new dictionary to set up the MoleculeInfo data structure.\n",
        "\n",
        "Previously\n",
        "```\n",
        "H2_molecule = Molecule(geometry=[['H', [0., 0., 0.]],['H', [0., 0., 0.735]]],charge=0, multiplicity=1)\n",
        "```\n",
        "New\n",
        "```\n",
        "H2_atoms = [\"H\", \"H\"]\n",
        "H2_coords = [(0.0, 0.0, 0.0), (0.0, 0.0, 0.735)]\n",
        "H2_charge = 0\n",
        "H2_multiplicity = 1\n",
        "H2_atom_pair=(1, 0)\n",
        "H2_info_dict={'atoms':H2_atoms, 'coords':H2_coords, 'charge':H2_charge, 'multiplicity':H2_multiplicity, 'atom_pair':H2_atom_pair}\n",
        "\n",
        "H2_moleculeinfo = MoleculeInfo(H2_atoms, H2_coords, charge=H2_charge, multiplicity=H2_multiplicity)\n",
        "```\n",
        "\n",
        "Previously\n",
        "```\n",
        "LiH_molecule = Molecule(geometry=[['Li', [0., 0., 0.]], ['H', [0., 0., 1.5474]]], charge=0, multiplicity=1)\n",
        "```\n",
        "\n",
        "New\n",
        "```\n",
        "LiH_atoms = [\"Li\", \"H\"]\n",
        "LiH_coords = [(0.0, 0.0, 0.0), (0.0, 0.0, 1.5474)]\n",
        "LiH_charge = 0\n",
        "LiH_multiplicity = 1\n",
        "LiH_atom_pair=(1,0)\n",
        "LiH_info_dict={'atoms':LiH_atoms, 'coords':LiH_coords, 'charge':LiH_charge, 'multiplicity':LiH_multiplicity, 'atom_pair':LiH_atom_pair}\n",
        "\n",
        "LiH_moleculeinfo = MoleculeInfo(LiH_atoms, LiH_coords, charge=LiH_charge, multiplicity=LiH_multiplicity)\n",
        "```\n",
        "\n",
        "### Updates pertaining to the get_particle_number() function\n",
        "Previously\n",
        "```\n",
        "def get_particle_number(problem, show=True):\n",
        "  particle_number = problem.grouped_property_transformed.get_property(\"ParticleNumber\")\n",
        "  num_particles = (particle_number.num_alpha, particle_number.num_beta)\n",
        "  num_spin_orbitals = particle_number.num_spin_orbitals\n",
        "  if show:\n",
        "    print(\"Number of alpha electrons: {}\".format(particle_number.num_alpha))\n",
        "    print(\"Number of beta electrons: {}\".format(particle_number.num_beta))\n",
        "    print(\"Number of spin orbitals: {}\".format(num_spin_orbitals))\n",
        "  return particle_number\n",
        "```\n",
        "New\n",
        "```\n",
        "def get_particle_number(problem, qubit_converter, show=True):\n",
        "  num_particles = qubit_converter.num_particles\n",
        "  \n",
        "  # https://qiskit.org/documentation/nature/stubs/qiskit_nature.second_q.problems.ElectronicStructureProblem.num_spin_orbitals.html\n",
        "  num_spin_orbitals = problem.num_spin_orbitals\n",
        "  \n",
        "  if show:\n",
        "    print(\"Number of particles: {}\".format(num_particles))\n",
        "    print(\"Number of spin orbitals: {}\".format(num_spin_orbitals))\n",
        "    \n",
        "  return num_particles, num_spin_orbitals\n",
        "```\n",
        "### Updates pertaining to the fermion_to_qubit() function\n",
        "Now second_q_op is used as a replacement for second_q_op[0]\n",
        "\n",
        "Previously\n",
        "```\n",
        "def fermion_to_qubit(f_op, second_q_op, mapper, truncate=20, two_qubit_reduction=False, z2symmetry_reduction=None, show=True): \n",
        "  if show:\n",
        "    print(\"Qubit Hamiltonian operator\")\n",
        "  dmap = {\"Jordan-Wigner\": JordanWignerMapper(), \"Parity\": ParityMapper(), \"Bravyi-Kitaev\": BravyiKitaevMapper()}\n",
        "  qubit_op = None\n",
        "  qubit_converter = None\n",
        "  for k, v in dmap.items():\n",
        "    if k == mapper:\n",
        "      if show:\n",
        "        print(\"{} transformation \". format(mapper))\n",
        "      qubit_converter = QubitConverter(v, two_qubit_reduction=two_qubit_reduction, z2symmetry_reduction=z2symmetry_reduction)\n",
        "      if two_qubit_reduction:\n",
        "        qubit_op = qubit_converter.convert(second_q_op[0], num_particles=f_op.num_particles)\n",
        "      else:\n",
        "        qubit_op = qubit_converter.convert(second_q_op[0])\n",
        "      n_items = len(qubit_op)\n",
        "      if show:\n",
        "        print(\"Number of items in the Pauli list:\", n_items)\n",
        "        if n_items <= truncate:\n",
        "          print(qubit_op)\n",
        "        else:\n",
        "          print(qubit_op[0:truncate])\n",
        "  return qubit_op, qubit_converter\n",
        "```\n",
        "New\n",
        "```\n",
        "def fermion_to_qubit(problem, second_q_op, mapper, truncate=20, two_qubit_reduction=False, z2symmetry_reduction=None, show=True): \n",
        "# Electronic Structure Problems with v0.5\n",
        "# https://qiskit.org/documentation/nature/migration/00b_Electronic_structure_with_v0.5.html\n",
        "# https://qiskit.org/documentation/nature/stubs/qiskit_nature.second_q.mappers.QubitConverter.html#qubitconverter\n",
        "  if show:\n",
        "    print(\"Qubit Hamiltonian operator\")\n",
        "  dmap = {\"Jordan-Wigner\": JordanWignerMapper(), \"Parity\": ParityMapper(), \"Bravyi-Kitaev\": BravyiKitaevMapper()}\n",
        "  qubit_op = None\n",
        "  qubit_converter = None\n",
        "  for k, v in dmap.items():\n",
        "    if k == mapper:\n",
        "      if show:\n",
        "        print(\"{} transformation \". format(mapper))\n",
        "      qubit_converter = QubitConverter(v, two_qubit_reduction=two_qubit_reduction, z2symmetry_reduction=z2symmetry_reduction)\n",
        "      # QubitConverter.convert\n",
        "      # https://qiskit.org/documentation/nature/stubs/qiskit_nature.second_q.mappers.QubitConverter.convert.html\n",
        "      if two_qubit_reduction:\n",
        "        qubit_op = qubit_converter.convert(second_q_op, num_particles=problem.num_particles)\n",
        "      else:\n",
        "        qubit_op = qubit_converter.convert(second_q_op)\n",
        "      n_items = len(qubit_op)\n",
        "      if show:\n",
        "        print(\"Number of items in the Pauli list:\", n_items)\n",
        "        if n_items <= truncate:\n",
        "          print(qubit_op)\n",
        "        else:\n",
        "          print(qubit_op[0:truncate])\n",
        "  return qubit_op, qubit_converter\n",
        "```\n",
        "### Updates pertaining to the label_to_qubit() function\n",
        "A FermionicOp is initialized with a dictionary, mapping terms to their respective coefficients.\n",
        "\n",
        "```\n",
        "for k in ({\"+_0\":1.0}, {\"+_1\":1.0}, {\"+_2\":1.0}, {\"+_3\":1.0}, {\"+_4\":1.0}):\n",
        "  qubit_op = label_to_qubit(k, BravyiKitaevMapper())\n",
        "  print(\"{}:\\n {}\\n\".format(k, qubit_op))\n",
        "```\n",
        "```\n",
        "{'+_0': 1.0}:\n",
        " 0.5 * X\n",
        "+ -0.5j * Y\n",
        "\n",
        "{'+_1': 1.0}:\n",
        " 0.5 * XZ\n",
        "+ -0.5j * YZ\n",
        "\n",
        "{'+_2': 1.0}:\n",
        " 0.5 * XZZ\n",
        "+ -0.5j * YZZ\n",
        "\n",
        "{'+_3': 1.0}:\n",
        " 0.5 * XZZZ\n",
        "+ -0.5j * YZZZ\n",
        "\n",
        "{'+_4': 1.0}:\n",
        " 0.5 * XZZZZ\n",
        "+ -0.5j * YZZZZ\n",
        "```"
      ]
    },
    {
      "cell_type": "markdown",
      "metadata": {
        "id": "OuoFKvZSEDu8"
      },
      "source": [
        "## Installing NumPy, Qiskit and importing various modules\n",
        "Install NumPy with the following command:"
      ]
    },
    {
      "cell_type": "code",
      "execution_count": null,
      "metadata": {
        "colab": {
          "base_uri": "https://localhost:8080/"
        },
        "id": "7XhpijAbD1v4",
        "outputId": "205e6ed5-f688-486f-8c96-f6bea08f3733"
      },
      "outputs": [
        {
          "output_type": "stream",
          "name": "stdout",
          "text": [
            "Looking in indexes: https://pypi.org/simple, https://us-python.pkg.dev/colab-wheels/public/simple/\n",
            "Requirement already satisfied: numpy in /usr/local/lib/python3.10/dist-packages (1.22.4)\n"
          ]
        }
      ],
      "source": [
        "pip install numpy"
      ]
    },
    {
      "cell_type": "markdown",
      "metadata": {
        "id": "e86gdgsLD_pU"
      },
      "source": [
        "Install Qiskit with the following command:"
      ]
    },
    {
      "cell_type": "code",
      "execution_count": null,
      "metadata": {
        "colab": {
          "base_uri": "https://localhost:8080/"
        },
        "id": "5W0P77WaD7Yh",
        "outputId": "5461d13b-f382-4760-9922-7cb7c5efc070"
      },
      "outputs": [
        {
          "output_type": "stream",
          "name": "stdout",
          "text": [
            "Looking in indexes: https://pypi.org/simple, https://us-python.pkg.dev/colab-wheels/public/simple/\n",
            "Collecting qiskit\n",
            "  Downloading qiskit-0.43.0.tar.gz (10.0 kB)\n",
            "  Installing build dependencies ... \u001b[?25l\u001b[?25hdone\n",
            "  Getting requirements to build wheel ... \u001b[?25l\u001b[?25hdone\n",
            "  Installing backend dependencies ... \u001b[?25l\u001b[?25hdone\n",
            "  Preparing metadata (pyproject.toml) ... \u001b[?25l\u001b[?25hdone\n",
            "Collecting qiskit-terra==0.24.0 (from qiskit)\n",
            "  Downloading qiskit_terra-0.24.0-cp310-cp310-manylinux_2_17_x86_64.manylinux2014_x86_64.whl (5.9 MB)\n",
            "\u001b[2K     \u001b[90m━━━━━━━━━━━━━━━━━━━━━━━━━━━━━━━━━━━━━━━━\u001b[0m \u001b[32m5.9/5.9 MB\u001b[0m \u001b[31m47.9 MB/s\u001b[0m eta \u001b[36m0:00:00\u001b[0m\n",
            "\u001b[?25hCollecting qiskit-aer==0.12.0 (from qiskit)\n",
            "  Downloading qiskit_aer-0.12.0-cp310-cp310-manylinux_2_17_x86_64.manylinux2014_x86_64.whl (12.8 MB)\n",
            "\u001b[2K     \u001b[90m━━━━━━━━━━━━━━━━━━━━━━━━━━━━━━━━━━━━━━━━\u001b[0m \u001b[32m12.8/12.8 MB\u001b[0m \u001b[31m62.7 MB/s\u001b[0m eta \u001b[36m0:00:00\u001b[0m\n",
            "\u001b[?25hCollecting qiskit-ibmq-provider==0.20.2 (from qiskit)\n",
            "  Downloading qiskit_ibmq_provider-0.20.2-py3-none-any.whl (241 kB)\n",
            "\u001b[2K     \u001b[90m━━━━━━━━━━━━━━━━━━━━━━━━━━━━━━━━━━━━━━\u001b[0m \u001b[32m241.5/241.5 kB\u001b[0m \u001b[31m15.8 MB/s\u001b[0m eta \u001b[36m0:00:00\u001b[0m\n",
            "\u001b[?25hRequirement already satisfied: numpy>=1.16.3 in /usr/local/lib/python3.10/dist-packages (from qiskit-aer==0.12.0->qiskit) (1.22.4)\n",
            "Requirement already satisfied: scipy>=1.0 in /usr/local/lib/python3.10/dist-packages (from qiskit-aer==0.12.0->qiskit) (1.10.1)\n",
            "Requirement already satisfied: requests>=2.19 in /usr/local/lib/python3.10/dist-packages (from qiskit-ibmq-provider==0.20.2->qiskit) (2.27.1)\n",
            "Collecting requests-ntlm<=1.1.0 (from qiskit-ibmq-provider==0.20.2->qiskit)\n",
            "  Downloading requests_ntlm-1.1.0-py2.py3-none-any.whl (5.7 kB)\n",
            "Requirement already satisfied: urllib3>=1.21.1 in /usr/local/lib/python3.10/dist-packages (from qiskit-ibmq-provider==0.20.2->qiskit) (1.26.15)\n",
            "Requirement already satisfied: python-dateutil>=2.8.0 in /usr/local/lib/python3.10/dist-packages (from qiskit-ibmq-provider==0.20.2->qiskit) (2.8.2)\n",
            "Requirement already satisfied: websocket-client>=1.5.1 in /usr/local/lib/python3.10/dist-packages (from qiskit-ibmq-provider==0.20.2->qiskit) (1.5.1)\n",
            "Collecting websockets>=10.0 (from qiskit-ibmq-provider==0.20.2->qiskit)\n",
            "  Downloading websockets-11.0.3-cp310-cp310-manylinux_2_5_x86_64.manylinux1_x86_64.manylinux_2_17_x86_64.manylinux2014_x86_64.whl (129 kB)\n",
            "\u001b[2K     \u001b[90m━━━━━━━━━━━━━━━━━━━━━━━━━━━━━━━━━━━━━━━\u001b[0m \u001b[32m129.9/129.9 kB\u001b[0m \u001b[31m9.5 MB/s\u001b[0m eta \u001b[36m0:00:00\u001b[0m\n",
            "\u001b[?25hCollecting rustworkx>=0.12.0 (from qiskit-terra==0.24.0->qiskit)\n",
            "  Downloading rustworkx-0.12.1-cp310-cp310-manylinux_2_17_x86_64.manylinux2014_x86_64.whl (1.9 MB)\n",
            "\u001b[2K     \u001b[90m━━━━━━━━━━━━━━━━━━━━━━━━━━━━━━━━━━━━━━━━\u001b[0m \u001b[32m1.9/1.9 MB\u001b[0m \u001b[31m49.0 MB/s\u001b[0m eta \u001b[36m0:00:00\u001b[0m\n",
            "\u001b[?25hCollecting ply>=3.10 (from qiskit-terra==0.24.0->qiskit)\n",
            "  Downloading ply-3.11-py2.py3-none-any.whl (49 kB)\n",
            "\u001b[2K     \u001b[90m━━━━━━━━━━━━━━━━━━━━━━━━━━━━━━━━━━━━━━━━\u001b[0m \u001b[32m49.6/49.6 kB\u001b[0m \u001b[31m5.6 MB/s\u001b[0m eta \u001b[36m0:00:00\u001b[0m\n",
            "\u001b[?25hRequirement already satisfied: psutil>=5 in /usr/local/lib/python3.10/dist-packages (from qiskit-terra==0.24.0->qiskit) (5.9.5)\n",
            "Requirement already satisfied: sympy>=1.3 in /usr/local/lib/python3.10/dist-packages (from qiskit-terra==0.24.0->qiskit) (1.11.1)\n",
            "Collecting dill>=0.3 (from qiskit-terra==0.24.0->qiskit)\n",
            "  Downloading dill-0.3.6-py3-none-any.whl (110 kB)\n",
            "\u001b[2K     \u001b[90m━━━━━━━━━━━━━━━━━━━━━━━━━━━━━━━━━━━━━━\u001b[0m \u001b[32m110.5/110.5 kB\u001b[0m \u001b[31m11.0 MB/s\u001b[0m eta \u001b[36m0:00:00\u001b[0m\n",
            "\u001b[?25hCollecting stevedore>=3.0.0 (from qiskit-terra==0.24.0->qiskit)\n",
            "  Downloading stevedore-5.1.0-py3-none-any.whl (49 kB)\n",
            "\u001b[2K     \u001b[90m━━━━━━━━━━━━━━━━━━━━━━━━━━━━━━━━━━━━━━━━\u001b[0m \u001b[32m49.6/49.6 kB\u001b[0m \u001b[31m3.2 MB/s\u001b[0m eta \u001b[36m0:00:00\u001b[0m\n",
            "\u001b[?25hCollecting symengine<0.10,>=0.9 (from qiskit-terra==0.24.0->qiskit)\n",
            "  Downloading symengine-0.9.2-cp310-cp310-manylinux2010_x86_64.whl (37.5 MB)\n",
            "\u001b[2K     \u001b[90m━━━━━━━━━━━━━━━━━━━━━━━━━━━━━━━━━━━━━━━━\u001b[0m \u001b[32m37.5/37.5 MB\u001b[0m \u001b[31m15.6 MB/s\u001b[0m eta \u001b[36m0:00:00\u001b[0m\n",
            "\u001b[?25hRequirement already satisfied: six>=1.5 in /usr/local/lib/python3.10/dist-packages (from python-dateutil>=2.8.0->qiskit-ibmq-provider==0.20.2->qiskit) (1.16.0)\n",
            "Requirement already satisfied: certifi>=2017.4.17 in /usr/local/lib/python3.10/dist-packages (from requests>=2.19->qiskit-ibmq-provider==0.20.2->qiskit) (2022.12.7)\n",
            "Requirement already satisfied: charset-normalizer~=2.0.0 in /usr/local/lib/python3.10/dist-packages (from requests>=2.19->qiskit-ibmq-provider==0.20.2->qiskit) (2.0.12)\n",
            "Requirement already satisfied: idna<4,>=2.5 in /usr/local/lib/python3.10/dist-packages (from requests>=2.19->qiskit-ibmq-provider==0.20.2->qiskit) (3.4)\n",
            "Collecting ntlm-auth>=1.0.2 (from requests-ntlm<=1.1.0->qiskit-ibmq-provider==0.20.2->qiskit)\n",
            "  Downloading ntlm_auth-1.5.0-py2.py3-none-any.whl (29 kB)\n",
            "Requirement already satisfied: cryptography>=1.3 in /usr/local/lib/python3.10/dist-packages (from requests-ntlm<=1.1.0->qiskit-ibmq-provider==0.20.2->qiskit) (40.0.2)\n",
            "Collecting pbr!=2.1.0,>=2.0.0 (from stevedore>=3.0.0->qiskit-terra==0.24.0->qiskit)\n",
            "  Downloading pbr-5.11.1-py2.py3-none-any.whl (112 kB)\n",
            "\u001b[2K     \u001b[90m━━━━━━━━━━━━━━━━━━━━━━━━━━━━━━━━━━━━━━━\u001b[0m \u001b[32m112.7/112.7 kB\u001b[0m \u001b[31m9.2 MB/s\u001b[0m eta \u001b[36m0:00:00\u001b[0m\n",
            "\u001b[?25hRequirement already satisfied: mpmath>=0.19 in /usr/local/lib/python3.10/dist-packages (from sympy>=1.3->qiskit-terra==0.24.0->qiskit) (1.3.0)\n",
            "Requirement already satisfied: cffi>=1.12 in /usr/local/lib/python3.10/dist-packages (from cryptography>=1.3->requests-ntlm<=1.1.0->qiskit-ibmq-provider==0.20.2->qiskit) (1.15.1)\n",
            "Requirement already satisfied: pycparser in /usr/local/lib/python3.10/dist-packages (from cffi>=1.12->cryptography>=1.3->requests-ntlm<=1.1.0->qiskit-ibmq-provider==0.20.2->qiskit) (2.21)\n",
            "Building wheels for collected packages: qiskit\n",
            "  Building wheel for qiskit (pyproject.toml) ... \u001b[?25l\u001b[?25hdone\n",
            "  Created wheel for qiskit: filename=qiskit-0.43.0-py3-none-any.whl size=7996 sha256=a58d17e6514c8747ae4dee202699a298df518fcbb538fb569677d96cad2b9ed9\n",
            "  Stored in directory: /root/.cache/pip/wheels/11/fe/bc/59531707126e693bad48c61c0b86f3870b49f8f7ad49c18209\n",
            "Successfully built qiskit\n",
            "Installing collected packages: ply, websockets, symengine, rustworkx, pbr, ntlm-auth, dill, stevedore, requests-ntlm, qiskit-terra, qiskit-ibmq-provider, qiskit-aer, qiskit\n",
            "Successfully installed dill-0.3.6 ntlm-auth-1.5.0 pbr-5.11.1 ply-3.11 qiskit-0.43.0 qiskit-aer-0.12.0 qiskit-ibmq-provider-0.20.2 qiskit-terra-0.24.0 requests-ntlm-1.1.0 rustworkx-0.12.1 stevedore-5.1.0 symengine-0.9.2 websockets-11.0.3\n"
          ]
        }
      ],
      "source": [
        "pip install qiskit"
      ]
    },
    {
      "cell_type": "markdown",
      "metadata": {
        "id": "S3Qs6ee42nIF"
      },
      "source": [
        "Install Qiskit visualization support with the following command:"
      ]
    },
    {
      "cell_type": "code",
      "execution_count": null,
      "metadata": {
        "colab": {
          "base_uri": "https://localhost:8080/"
        },
        "id": "QTMbSY-62kEN",
        "outputId": "68f66c9f-23ee-4aee-e1f2-1e15cd06a39a",
        "scrolled": false
      },
      "outputs": [
        {
          "output_type": "stream",
          "name": "stdout",
          "text": [
            "Looking in indexes: https://pypi.org/simple, https://us-python.pkg.dev/colab-wheels/public/simple/\n",
            "Requirement already satisfied: qiskit[visualization] in /usr/local/lib/python3.10/dist-packages (0.43.0)\n",
            "Requirement already satisfied: qiskit-terra==0.24.0 in /usr/local/lib/python3.10/dist-packages (from qiskit[visualization]) (0.24.0)\n",
            "Requirement already satisfied: qiskit-aer==0.12.0 in /usr/local/lib/python3.10/dist-packages (from qiskit[visualization]) (0.12.0)\n",
            "Requirement already satisfied: qiskit-ibmq-provider==0.20.2 in /usr/local/lib/python3.10/dist-packages (from qiskit[visualization]) (0.20.2)\n",
            "Requirement already satisfied: matplotlib>=2.1 in /usr/local/lib/python3.10/dist-packages (from qiskit[visualization]) (3.7.1)\n",
            "Requirement already satisfied: ipywidgets>=7.3.0 in /usr/local/lib/python3.10/dist-packages (from qiskit[visualization]) (7.7.1)\n",
            "Requirement already satisfied: pydot in /usr/local/lib/python3.10/dist-packages (from qiskit[visualization]) (1.4.2)\n",
            "Requirement already satisfied: pillow>=4.2.1 in /usr/local/lib/python3.10/dist-packages (from qiskit[visualization]) (8.4.0)\n",
            "Collecting pylatexenc>=1.4 (from qiskit[visualization])\n",
            "  Downloading pylatexenc-2.10.tar.gz (162 kB)\n",
            "\u001b[2K     \u001b[90m━━━━━━━━━━━━━━━━━━━━━━━━━━━━━━━━━━━━━━━\u001b[0m \u001b[32m162.6/162.6 kB\u001b[0m \u001b[31m4.0 MB/s\u001b[0m eta \u001b[36m0:00:00\u001b[0m\n",
            "\u001b[?25h  Preparing metadata (setup.py) ... \u001b[?25l\u001b[?25hdone\n",
            "Requirement already satisfied: seaborn>=0.9.0 in /usr/local/lib/python3.10/dist-packages (from qiskit[visualization]) (0.12.2)\n",
            "Requirement already satisfied: pygments>=2.4 in /usr/local/lib/python3.10/dist-packages (from qiskit[visualization]) (2.14.0)\n",
            "Requirement already satisfied: numpy>=1.16.3 in /usr/local/lib/python3.10/dist-packages (from qiskit-aer==0.12.0->qiskit[visualization]) (1.22.4)\n",
            "Requirement already satisfied: scipy>=1.0 in /usr/local/lib/python3.10/dist-packages (from qiskit-aer==0.12.0->qiskit[visualization]) (1.10.1)\n",
            "Requirement already satisfied: requests>=2.19 in /usr/local/lib/python3.10/dist-packages (from qiskit-ibmq-provider==0.20.2->qiskit[visualization]) (2.27.1)\n",
            "Requirement already satisfied: requests-ntlm<=1.1.0 in /usr/local/lib/python3.10/dist-packages (from qiskit-ibmq-provider==0.20.2->qiskit[visualization]) (1.1.0)\n",
            "Requirement already satisfied: urllib3>=1.21.1 in /usr/local/lib/python3.10/dist-packages (from qiskit-ibmq-provider==0.20.2->qiskit[visualization]) (1.26.15)\n",
            "Requirement already satisfied: python-dateutil>=2.8.0 in /usr/local/lib/python3.10/dist-packages (from qiskit-ibmq-provider==0.20.2->qiskit[visualization]) (2.8.2)\n",
            "Requirement already satisfied: websocket-client>=1.5.1 in /usr/local/lib/python3.10/dist-packages (from qiskit-ibmq-provider==0.20.2->qiskit[visualization]) (1.5.1)\n",
            "Requirement already satisfied: websockets>=10.0 in /usr/local/lib/python3.10/dist-packages (from qiskit-ibmq-provider==0.20.2->qiskit[visualization]) (11.0.3)\n",
            "Requirement already satisfied: rustworkx>=0.12.0 in /usr/local/lib/python3.10/dist-packages (from qiskit-terra==0.24.0->qiskit[visualization]) (0.12.1)\n",
            "Requirement already satisfied: ply>=3.10 in /usr/local/lib/python3.10/dist-packages (from qiskit-terra==0.24.0->qiskit[visualization]) (3.11)\n",
            "Requirement already satisfied: psutil>=5 in /usr/local/lib/python3.10/dist-packages (from qiskit-terra==0.24.0->qiskit[visualization]) (5.9.5)\n",
            "Requirement already satisfied: sympy>=1.3 in /usr/local/lib/python3.10/dist-packages (from qiskit-terra==0.24.0->qiskit[visualization]) (1.11.1)\n",
            "Requirement already satisfied: dill>=0.3 in /usr/local/lib/python3.10/dist-packages (from qiskit-terra==0.24.0->qiskit[visualization]) (0.3.6)\n",
            "Requirement already satisfied: stevedore>=3.0.0 in /usr/local/lib/python3.10/dist-packages (from qiskit-terra==0.24.0->qiskit[visualization]) (5.1.0)\n",
            "Requirement already satisfied: symengine<0.10,>=0.9 in /usr/local/lib/python3.10/dist-packages (from qiskit-terra==0.24.0->qiskit[visualization]) (0.9.2)\n",
            "Requirement already satisfied: ipykernel>=4.5.1 in /usr/local/lib/python3.10/dist-packages (from ipywidgets>=7.3.0->qiskit[visualization]) (5.5.6)\n",
            "Requirement already satisfied: ipython-genutils~=0.2.0 in /usr/local/lib/python3.10/dist-packages (from ipywidgets>=7.3.0->qiskit[visualization]) (0.2.0)\n",
            "Requirement already satisfied: traitlets>=4.3.1 in /usr/local/lib/python3.10/dist-packages (from ipywidgets>=7.3.0->qiskit[visualization]) (5.7.1)\n",
            "Requirement already satisfied: widgetsnbextension~=3.6.0 in /usr/local/lib/python3.10/dist-packages (from ipywidgets>=7.3.0->qiskit[visualization]) (3.6.4)\n",
            "Requirement already satisfied: ipython>=4.0.0 in /usr/local/lib/python3.10/dist-packages (from ipywidgets>=7.3.0->qiskit[visualization]) (7.34.0)\n",
            "Requirement already satisfied: jupyterlab-widgets>=1.0.0 in /usr/local/lib/python3.10/dist-packages (from ipywidgets>=7.3.0->qiskit[visualization]) (3.0.7)\n",
            "Requirement already satisfied: contourpy>=1.0.1 in /usr/local/lib/python3.10/dist-packages (from matplotlib>=2.1->qiskit[visualization]) (1.0.7)\n",
            "Requirement already satisfied: cycler>=0.10 in /usr/local/lib/python3.10/dist-packages (from matplotlib>=2.1->qiskit[visualization]) (0.11.0)\n",
            "Requirement already satisfied: fonttools>=4.22.0 in /usr/local/lib/python3.10/dist-packages (from matplotlib>=2.1->qiskit[visualization]) (4.39.3)\n",
            "Requirement already satisfied: kiwisolver>=1.0.1 in /usr/local/lib/python3.10/dist-packages (from matplotlib>=2.1->qiskit[visualization]) (1.4.4)\n",
            "Requirement already satisfied: packaging>=20.0 in /usr/local/lib/python3.10/dist-packages (from matplotlib>=2.1->qiskit[visualization]) (23.1)\n",
            "Requirement already satisfied: pyparsing>=2.3.1 in /usr/local/lib/python3.10/dist-packages (from matplotlib>=2.1->qiskit[visualization]) (3.0.9)\n",
            "Requirement already satisfied: pandas>=0.25 in /usr/local/lib/python3.10/dist-packages (from seaborn>=0.9.0->qiskit[visualization]) (1.5.3)\n",
            "Requirement already satisfied: jupyter-client in /usr/local/lib/python3.10/dist-packages (from ipykernel>=4.5.1->ipywidgets>=7.3.0->qiskit[visualization]) (6.1.12)\n",
            "Requirement already satisfied: tornado>=4.2 in /usr/local/lib/python3.10/dist-packages (from ipykernel>=4.5.1->ipywidgets>=7.3.0->qiskit[visualization]) (6.3.1)\n",
            "Requirement already satisfied: setuptools>=18.5 in /usr/local/lib/python3.10/dist-packages (from ipython>=4.0.0->ipywidgets>=7.3.0->qiskit[visualization]) (67.7.2)\n",
            "Collecting jedi>=0.16 (from ipython>=4.0.0->ipywidgets>=7.3.0->qiskit[visualization])\n",
            "  Downloading jedi-0.18.2-py2.py3-none-any.whl (1.6 MB)\n",
            "\u001b[2K     \u001b[90m━━━━━━━━━━━━━━━━━━━━━━━━━━━━━━━━━━━━━━━━\u001b[0m \u001b[32m1.6/1.6 MB\u001b[0m \u001b[31m28.1 MB/s\u001b[0m eta \u001b[36m0:00:00\u001b[0m\n",
            "\u001b[?25hRequirement already satisfied: decorator in /usr/local/lib/python3.10/dist-packages (from ipython>=4.0.0->ipywidgets>=7.3.0->qiskit[visualization]) (4.4.2)\n",
            "Requirement already satisfied: pickleshare in /usr/local/lib/python3.10/dist-packages (from ipython>=4.0.0->ipywidgets>=7.3.0->qiskit[visualization]) (0.7.5)\n",
            "Requirement already satisfied: prompt-toolkit!=3.0.0,!=3.0.1,<3.1.0,>=2.0.0 in /usr/local/lib/python3.10/dist-packages (from ipython>=4.0.0->ipywidgets>=7.3.0->qiskit[visualization]) (3.0.38)\n",
            "Requirement already satisfied: backcall in /usr/local/lib/python3.10/dist-packages (from ipython>=4.0.0->ipywidgets>=7.3.0->qiskit[visualization]) (0.2.0)\n",
            "Requirement already satisfied: matplotlib-inline in /usr/local/lib/python3.10/dist-packages (from ipython>=4.0.0->ipywidgets>=7.3.0->qiskit[visualization]) (0.1.6)\n",
            "Requirement already satisfied: pexpect>4.3 in /usr/local/lib/python3.10/dist-packages (from ipython>=4.0.0->ipywidgets>=7.3.0->qiskit[visualization]) (4.8.0)\n",
            "Requirement already satisfied: pytz>=2020.1 in /usr/local/lib/python3.10/dist-packages (from pandas>=0.25->seaborn>=0.9.0->qiskit[visualization]) (2022.7.1)\n",
            "Requirement already satisfied: six>=1.5 in /usr/local/lib/python3.10/dist-packages (from python-dateutil>=2.8.0->qiskit-ibmq-provider==0.20.2->qiskit[visualization]) (1.16.0)\n",
            "Requirement already satisfied: certifi>=2017.4.17 in /usr/local/lib/python3.10/dist-packages (from requests>=2.19->qiskit-ibmq-provider==0.20.2->qiskit[visualization]) (2022.12.7)\n",
            "Requirement already satisfied: charset-normalizer~=2.0.0 in /usr/local/lib/python3.10/dist-packages (from requests>=2.19->qiskit-ibmq-provider==0.20.2->qiskit[visualization]) (2.0.12)\n",
            "Requirement already satisfied: idna<4,>=2.5 in /usr/local/lib/python3.10/dist-packages (from requests>=2.19->qiskit-ibmq-provider==0.20.2->qiskit[visualization]) (3.4)\n",
            "Requirement already satisfied: ntlm-auth>=1.0.2 in /usr/local/lib/python3.10/dist-packages (from requests-ntlm<=1.1.0->qiskit-ibmq-provider==0.20.2->qiskit[visualization]) (1.5.0)\n",
            "Requirement already satisfied: cryptography>=1.3 in /usr/local/lib/python3.10/dist-packages (from requests-ntlm<=1.1.0->qiskit-ibmq-provider==0.20.2->qiskit[visualization]) (40.0.2)\n",
            "Requirement already satisfied: pbr!=2.1.0,>=2.0.0 in /usr/local/lib/python3.10/dist-packages (from stevedore>=3.0.0->qiskit-terra==0.24.0->qiskit[visualization]) (5.11.1)\n",
            "Requirement already satisfied: mpmath>=0.19 in /usr/local/lib/python3.10/dist-packages (from sympy>=1.3->qiskit-terra==0.24.0->qiskit[visualization]) (1.3.0)\n",
            "Requirement already satisfied: notebook>=4.4.1 in /usr/local/lib/python3.10/dist-packages (from widgetsnbextension~=3.6.0->ipywidgets>=7.3.0->qiskit[visualization]) (6.4.8)\n",
            "Requirement already satisfied: cffi>=1.12 in /usr/local/lib/python3.10/dist-packages (from cryptography>=1.3->requests-ntlm<=1.1.0->qiskit-ibmq-provider==0.20.2->qiskit[visualization]) (1.15.1)\n",
            "Requirement already satisfied: parso<0.9.0,>=0.8.0 in /usr/local/lib/python3.10/dist-packages (from jedi>=0.16->ipython>=4.0.0->ipywidgets>=7.3.0->qiskit[visualization]) (0.8.3)\n",
            "Requirement already satisfied: jinja2 in /usr/local/lib/python3.10/dist-packages (from notebook>=4.4.1->widgetsnbextension~=3.6.0->ipywidgets>=7.3.0->qiskit[visualization]) (3.1.2)\n",
            "Requirement already satisfied: pyzmq>=17 in /usr/local/lib/python3.10/dist-packages (from notebook>=4.4.1->widgetsnbextension~=3.6.0->ipywidgets>=7.3.0->qiskit[visualization]) (23.2.1)\n",
            "Requirement already satisfied: argon2-cffi in /usr/local/lib/python3.10/dist-packages (from notebook>=4.4.1->widgetsnbextension~=3.6.0->ipywidgets>=7.3.0->qiskit[visualization]) (21.3.0)\n",
            "Requirement already satisfied: jupyter-core>=4.6.1 in /usr/local/lib/python3.10/dist-packages (from notebook>=4.4.1->widgetsnbextension~=3.6.0->ipywidgets>=7.3.0->qiskit[visualization]) (5.3.0)\n",
            "Requirement already satisfied: nbformat in /usr/local/lib/python3.10/dist-packages (from notebook>=4.4.1->widgetsnbextension~=3.6.0->ipywidgets>=7.3.0->qiskit[visualization]) (5.8.0)\n",
            "Requirement already satisfied: nbconvert in /usr/local/lib/python3.10/dist-packages (from notebook>=4.4.1->widgetsnbextension~=3.6.0->ipywidgets>=7.3.0->qiskit[visualization]) (6.5.4)\n",
            "Requirement already satisfied: nest-asyncio>=1.5 in /usr/local/lib/python3.10/dist-packages (from notebook>=4.4.1->widgetsnbextension~=3.6.0->ipywidgets>=7.3.0->qiskit[visualization]) (1.5.6)\n",
            "Requirement already satisfied: Send2Trash>=1.8.0 in /usr/local/lib/python3.10/dist-packages (from notebook>=4.4.1->widgetsnbextension~=3.6.0->ipywidgets>=7.3.0->qiskit[visualization]) (1.8.0)\n",
            "Requirement already satisfied: terminado>=0.8.3 in /usr/local/lib/python3.10/dist-packages (from notebook>=4.4.1->widgetsnbextension~=3.6.0->ipywidgets>=7.3.0->qiskit[visualization]) (0.17.1)\n",
            "Requirement already satisfied: prometheus-client in /usr/local/lib/python3.10/dist-packages (from notebook>=4.4.1->widgetsnbextension~=3.6.0->ipywidgets>=7.3.0->qiskit[visualization]) (0.16.0)\n",
            "Requirement already satisfied: ptyprocess>=0.5 in /usr/local/lib/python3.10/dist-packages (from pexpect>4.3->ipython>=4.0.0->ipywidgets>=7.3.0->qiskit[visualization]) (0.7.0)\n",
            "Requirement already satisfied: wcwidth in /usr/local/lib/python3.10/dist-packages (from prompt-toolkit!=3.0.0,!=3.0.1,<3.1.0,>=2.0.0->ipython>=4.0.0->ipywidgets>=7.3.0->qiskit[visualization]) (0.2.6)\n",
            "Requirement already satisfied: pycparser in /usr/local/lib/python3.10/dist-packages (from cffi>=1.12->cryptography>=1.3->requests-ntlm<=1.1.0->qiskit-ibmq-provider==0.20.2->qiskit[visualization]) (2.21)\n",
            "Requirement already satisfied: platformdirs>=2.5 in /usr/local/lib/python3.10/dist-packages (from jupyter-core>=4.6.1->notebook>=4.4.1->widgetsnbextension~=3.6.0->ipywidgets>=7.3.0->qiskit[visualization]) (3.3.0)\n",
            "Requirement already satisfied: argon2-cffi-bindings in /usr/local/lib/python3.10/dist-packages (from argon2-cffi->notebook>=4.4.1->widgetsnbextension~=3.6.0->ipywidgets>=7.3.0->qiskit[visualization]) (21.2.0)\n",
            "Requirement already satisfied: MarkupSafe>=2.0 in /usr/local/lib/python3.10/dist-packages (from jinja2->notebook>=4.4.1->widgetsnbextension~=3.6.0->ipywidgets>=7.3.0->qiskit[visualization]) (2.1.2)\n",
            "Requirement already satisfied: lxml in /usr/local/lib/python3.10/dist-packages (from nbconvert->notebook>=4.4.1->widgetsnbextension~=3.6.0->ipywidgets>=7.3.0->qiskit[visualization]) (4.9.2)\n",
            "Requirement already satisfied: beautifulsoup4 in /usr/local/lib/python3.10/dist-packages (from nbconvert->notebook>=4.4.1->widgetsnbextension~=3.6.0->ipywidgets>=7.3.0->qiskit[visualization]) (4.11.2)\n",
            "Requirement already satisfied: bleach in /usr/local/lib/python3.10/dist-packages (from nbconvert->notebook>=4.4.1->widgetsnbextension~=3.6.0->ipywidgets>=7.3.0->qiskit[visualization]) (6.0.0)\n",
            "Requirement already satisfied: defusedxml in /usr/local/lib/python3.10/dist-packages (from nbconvert->notebook>=4.4.1->widgetsnbextension~=3.6.0->ipywidgets>=7.3.0->qiskit[visualization]) (0.7.1)\n",
            "Requirement already satisfied: entrypoints>=0.2.2 in /usr/local/lib/python3.10/dist-packages (from nbconvert->notebook>=4.4.1->widgetsnbextension~=3.6.0->ipywidgets>=7.3.0->qiskit[visualization]) (0.4)\n",
            "Requirement already satisfied: jupyterlab-pygments in /usr/local/lib/python3.10/dist-packages (from nbconvert->notebook>=4.4.1->widgetsnbextension~=3.6.0->ipywidgets>=7.3.0->qiskit[visualization]) (0.2.2)\n",
            "Requirement already satisfied: mistune<2,>=0.8.1 in /usr/local/lib/python3.10/dist-packages (from nbconvert->notebook>=4.4.1->widgetsnbextension~=3.6.0->ipywidgets>=7.3.0->qiskit[visualization]) (0.8.4)\n",
            "Requirement already satisfied: nbclient>=0.5.0 in /usr/local/lib/python3.10/dist-packages (from nbconvert->notebook>=4.4.1->widgetsnbextension~=3.6.0->ipywidgets>=7.3.0->qiskit[visualization]) (0.7.4)\n",
            "Requirement already satisfied: pandocfilters>=1.4.1 in /usr/local/lib/python3.10/dist-packages (from nbconvert->notebook>=4.4.1->widgetsnbextension~=3.6.0->ipywidgets>=7.3.0->qiskit[visualization]) (1.5.0)\n",
            "Requirement already satisfied: tinycss2 in /usr/local/lib/python3.10/dist-packages (from nbconvert->notebook>=4.4.1->widgetsnbextension~=3.6.0->ipywidgets>=7.3.0->qiskit[visualization]) (1.2.1)\n",
            "Requirement already satisfied: fastjsonschema in /usr/local/lib/python3.10/dist-packages (from nbformat->notebook>=4.4.1->widgetsnbextension~=3.6.0->ipywidgets>=7.3.0->qiskit[visualization]) (2.16.3)\n",
            "Requirement already satisfied: jsonschema>=2.6 in /usr/local/lib/python3.10/dist-packages (from nbformat->notebook>=4.4.1->widgetsnbextension~=3.6.0->ipywidgets>=7.3.0->qiskit[visualization]) (4.3.3)\n",
            "Requirement already satisfied: attrs>=17.4.0 in /usr/local/lib/python3.10/dist-packages (from jsonschema>=2.6->nbformat->notebook>=4.4.1->widgetsnbextension~=3.6.0->ipywidgets>=7.3.0->qiskit[visualization]) (23.1.0)\n",
            "Requirement already satisfied: pyrsistent!=0.17.0,!=0.17.1,!=0.17.2,>=0.14.0 in /usr/local/lib/python3.10/dist-packages (from jsonschema>=2.6->nbformat->notebook>=4.4.1->widgetsnbextension~=3.6.0->ipywidgets>=7.3.0->qiskit[visualization]) (0.19.3)\n",
            "Requirement already satisfied: soupsieve>1.2 in /usr/local/lib/python3.10/dist-packages (from beautifulsoup4->nbconvert->notebook>=4.4.1->widgetsnbextension~=3.6.0->ipywidgets>=7.3.0->qiskit[visualization]) (2.4.1)\n",
            "Requirement already satisfied: webencodings in /usr/local/lib/python3.10/dist-packages (from bleach->nbconvert->notebook>=4.4.1->widgetsnbextension~=3.6.0->ipywidgets>=7.3.0->qiskit[visualization]) (0.5.1)\n",
            "Building wheels for collected packages: pylatexenc\n",
            "  Building wheel for pylatexenc (setup.py) ... \u001b[?25l\u001b[?25hdone\n",
            "  Created wheel for pylatexenc: filename=pylatexenc-2.10-py3-none-any.whl size=136820 sha256=37c99c41adf2fb346d75396607bb369a8c36534a0ba8a39635b9fbf00e542459\n",
            "  Stored in directory: /root/.cache/pip/wheels/d3/31/8b/e09b0386afd80cfc556c00408c9aeea5c35c4d484a9c762fd5\n",
            "Successfully built pylatexenc\n",
            "Installing collected packages: pylatexenc, jedi\n",
            "Successfully installed jedi-0.18.2 pylatexenc-2.10\n"
          ]
        }
      ],
      "source": [
        "pip install 'qiskit[visualization]'"
      ]
    },
    {
      "cell_type": "markdown",
      "metadata": {
        "id": "Ek8ldA1bEDu-"
      },
      "source": [
        "Install qiskit.utils with the following command (V2):"
      ]
    },
    {
      "cell_type": "code",
      "execution_count": null,
      "metadata": {
        "colab": {
          "base_uri": "https://localhost:8080/"
        },
        "id": "6jTuIBwzEDu-",
        "outputId": "dd1e2ec7-4ab9-49f5-e0cc-2e0b5f4b30ce"
      },
      "outputs": [
        {
          "output_type": "stream",
          "name": "stdout",
          "text": [
            "Looking in indexes: https://pypi.org/simple, https://us-python.pkg.dev/colab-wheels/public/simple/\n",
            "Collecting qiskit.utils\n",
            "  Downloading qiskit_utils-1.2.1.tar.gz (4.6 kB)\n",
            "  Preparing metadata (setup.py) ... \u001b[?25l\u001b[?25hdone\n",
            "Requirement already satisfied: qiskit>=0.34.2 in /usr/local/lib/python3.10/dist-packages (from qiskit.utils) (0.43.0)\n",
            "Requirement already satisfied: qiskit-terra==0.24.0 in /usr/local/lib/python3.10/dist-packages (from qiskit>=0.34.2->qiskit.utils) (0.24.0)\n",
            "Requirement already satisfied: qiskit-aer==0.12.0 in /usr/local/lib/python3.10/dist-packages (from qiskit>=0.34.2->qiskit.utils) (0.12.0)\n",
            "Requirement already satisfied: qiskit-ibmq-provider==0.20.2 in /usr/local/lib/python3.10/dist-packages (from qiskit>=0.34.2->qiskit.utils) (0.20.2)\n",
            "Requirement already satisfied: numpy>=1.16.3 in /usr/local/lib/python3.10/dist-packages (from qiskit-aer==0.12.0->qiskit>=0.34.2->qiskit.utils) (1.22.4)\n",
            "Requirement already satisfied: scipy>=1.0 in /usr/local/lib/python3.10/dist-packages (from qiskit-aer==0.12.0->qiskit>=0.34.2->qiskit.utils) (1.10.1)\n",
            "Requirement already satisfied: requests>=2.19 in /usr/local/lib/python3.10/dist-packages (from qiskit-ibmq-provider==0.20.2->qiskit>=0.34.2->qiskit.utils) (2.27.1)\n",
            "Requirement already satisfied: requests-ntlm<=1.1.0 in /usr/local/lib/python3.10/dist-packages (from qiskit-ibmq-provider==0.20.2->qiskit>=0.34.2->qiskit.utils) (1.1.0)\n",
            "Requirement already satisfied: urllib3>=1.21.1 in /usr/local/lib/python3.10/dist-packages (from qiskit-ibmq-provider==0.20.2->qiskit>=0.34.2->qiskit.utils) (1.26.15)\n",
            "Requirement already satisfied: python-dateutil>=2.8.0 in /usr/local/lib/python3.10/dist-packages (from qiskit-ibmq-provider==0.20.2->qiskit>=0.34.2->qiskit.utils) (2.8.2)\n",
            "Requirement already satisfied: websocket-client>=1.5.1 in /usr/local/lib/python3.10/dist-packages (from qiskit-ibmq-provider==0.20.2->qiskit>=0.34.2->qiskit.utils) (1.5.1)\n",
            "Requirement already satisfied: websockets>=10.0 in /usr/local/lib/python3.10/dist-packages (from qiskit-ibmq-provider==0.20.2->qiskit>=0.34.2->qiskit.utils) (11.0.3)\n",
            "Requirement already satisfied: rustworkx>=0.12.0 in /usr/local/lib/python3.10/dist-packages (from qiskit-terra==0.24.0->qiskit>=0.34.2->qiskit.utils) (0.12.1)\n",
            "Requirement already satisfied: ply>=3.10 in /usr/local/lib/python3.10/dist-packages (from qiskit-terra==0.24.0->qiskit>=0.34.2->qiskit.utils) (3.11)\n",
            "Requirement already satisfied: psutil>=5 in /usr/local/lib/python3.10/dist-packages (from qiskit-terra==0.24.0->qiskit>=0.34.2->qiskit.utils) (5.9.5)\n",
            "Requirement already satisfied: sympy>=1.3 in /usr/local/lib/python3.10/dist-packages (from qiskit-terra==0.24.0->qiskit>=0.34.2->qiskit.utils) (1.11.1)\n",
            "Requirement already satisfied: dill>=0.3 in /usr/local/lib/python3.10/dist-packages (from qiskit-terra==0.24.0->qiskit>=0.34.2->qiskit.utils) (0.3.6)\n",
            "Requirement already satisfied: stevedore>=3.0.0 in /usr/local/lib/python3.10/dist-packages (from qiskit-terra==0.24.0->qiskit>=0.34.2->qiskit.utils) (5.1.0)\n",
            "Requirement already satisfied: symengine<0.10,>=0.9 in /usr/local/lib/python3.10/dist-packages (from qiskit-terra==0.24.0->qiskit>=0.34.2->qiskit.utils) (0.9.2)\n",
            "Requirement already satisfied: six>=1.5 in /usr/local/lib/python3.10/dist-packages (from python-dateutil>=2.8.0->qiskit-ibmq-provider==0.20.2->qiskit>=0.34.2->qiskit.utils) (1.16.0)\n",
            "Requirement already satisfied: certifi>=2017.4.17 in /usr/local/lib/python3.10/dist-packages (from requests>=2.19->qiskit-ibmq-provider==0.20.2->qiskit>=0.34.2->qiskit.utils) (2022.12.7)\n",
            "Requirement already satisfied: charset-normalizer~=2.0.0 in /usr/local/lib/python3.10/dist-packages (from requests>=2.19->qiskit-ibmq-provider==0.20.2->qiskit>=0.34.2->qiskit.utils) (2.0.12)\n",
            "Requirement already satisfied: idna<4,>=2.5 in /usr/local/lib/python3.10/dist-packages (from requests>=2.19->qiskit-ibmq-provider==0.20.2->qiskit>=0.34.2->qiskit.utils) (3.4)\n",
            "Requirement already satisfied: ntlm-auth>=1.0.2 in /usr/local/lib/python3.10/dist-packages (from requests-ntlm<=1.1.0->qiskit-ibmq-provider==0.20.2->qiskit>=0.34.2->qiskit.utils) (1.5.0)\n",
            "Requirement already satisfied: cryptography>=1.3 in /usr/local/lib/python3.10/dist-packages (from requests-ntlm<=1.1.0->qiskit-ibmq-provider==0.20.2->qiskit>=0.34.2->qiskit.utils) (40.0.2)\n",
            "Requirement already satisfied: pbr!=2.1.0,>=2.0.0 in /usr/local/lib/python3.10/dist-packages (from stevedore>=3.0.0->qiskit-terra==0.24.0->qiskit>=0.34.2->qiskit.utils) (5.11.1)\n",
            "Requirement already satisfied: mpmath>=0.19 in /usr/local/lib/python3.10/dist-packages (from sympy>=1.3->qiskit-terra==0.24.0->qiskit>=0.34.2->qiskit.utils) (1.3.0)\n",
            "Requirement already satisfied: cffi>=1.12 in /usr/local/lib/python3.10/dist-packages (from cryptography>=1.3->requests-ntlm<=1.1.0->qiskit-ibmq-provider==0.20.2->qiskit>=0.34.2->qiskit.utils) (1.15.1)\n",
            "Requirement already satisfied: pycparser in /usr/local/lib/python3.10/dist-packages (from cffi>=1.12->cryptography>=1.3->requests-ntlm<=1.1.0->qiskit-ibmq-provider==0.20.2->qiskit>=0.34.2->qiskit.utils) (2.21)\n",
            "Building wheels for collected packages: qiskit.utils\n",
            "  Building wheel for qiskit.utils (setup.py) ... \u001b[?25l\u001b[?25hdone\n",
            "  Created wheel for qiskit.utils: filename=qiskit_utils-1.2.1-py3-none-any.whl size=6546 sha256=b945bf25fa1ef0fb8c225eb4b61b32c69e7d384d3d7db0f12466f5ec9d877f1b\n",
            "  Stored in directory: /root/.cache/pip/wheels/53/4a/ad/77d3cd72c62e79da4e674b809e43b0e576d630e53f3870f4d9\n",
            "Successfully built qiskit.utils\n",
            "Installing collected packages: qiskit.utils\n",
            "Successfully installed qiskit.utils-1.2.1\n"
          ]
        }
      ],
      "source": [
        "pip install qiskit.utils"
      ]
    },
    {
      "cell_type": "markdown",
      "metadata": {
        "id": "LM60UkgZVLaI"
      },
      "source": [
        "Install Qiskit Nature with the following command:"
      ]
    },
    {
      "cell_type": "code",
      "execution_count": null,
      "metadata": {
        "colab": {
          "base_uri": "https://localhost:8080/"
        },
        "id": "bXRZVmawVN3K",
        "outputId": "eec495ba-5cf3-4063-98e9-d187bd9645e8"
      },
      "outputs": [
        {
          "output_type": "stream",
          "name": "stdout",
          "text": [
            "Looking in indexes: https://pypi.org/simple, https://us-python.pkg.dev/colab-wheels/public/simple/\n",
            "Collecting qiskit-nature\n",
            "  Downloading qiskit_nature-0.6.1-py3-none-any.whl (4.1 MB)\n",
            "\u001b[2K     \u001b[90m━━━━━━━━━━━━━━━━━━━━━━━━━━━━━━━━━━━━━━━━\u001b[0m \u001b[32m4.1/4.1 MB\u001b[0m \u001b[31m27.8 MB/s\u001b[0m eta \u001b[36m0:00:00\u001b[0m\n",
            "\u001b[?25hRequirement already satisfied: qiskit-terra>=0.24 in /usr/local/lib/python3.10/dist-packages (from qiskit-nature) (0.24.0)\n",
            "Requirement already satisfied: scipy>=1.4 in /usr/local/lib/python3.10/dist-packages (from qiskit-nature) (1.10.1)\n",
            "Requirement already satisfied: numpy>=1.17 in /usr/local/lib/python3.10/dist-packages (from qiskit-nature) (1.22.4)\n",
            "Requirement already satisfied: psutil>=5 in /usr/local/lib/python3.10/dist-packages (from qiskit-nature) (5.9.5)\n",
            "Requirement already satisfied: scikit-learn>=0.20.0 in /usr/local/lib/python3.10/dist-packages (from qiskit-nature) (1.2.2)\n",
            "Requirement already satisfied: setuptools>=40.1.0 in /usr/local/lib/python3.10/dist-packages (from qiskit-nature) (67.7.2)\n",
            "Requirement already satisfied: typing-extensions in /usr/local/lib/python3.10/dist-packages (from qiskit-nature) (4.5.0)\n",
            "Requirement already satisfied: h5py in /usr/local/lib/python3.10/dist-packages (from qiskit-nature) (3.8.0)\n",
            "Requirement already satisfied: rustworkx in /usr/local/lib/python3.10/dist-packages (from qiskit-nature) (0.12.1)\n",
            "Requirement already satisfied: ply>=3.10 in /usr/local/lib/python3.10/dist-packages (from qiskit-terra>=0.24->qiskit-nature) (3.11)\n",
            "Requirement already satisfied: sympy>=1.3 in /usr/local/lib/python3.10/dist-packages (from qiskit-terra>=0.24->qiskit-nature) (1.11.1)\n",
            "Requirement already satisfied: dill>=0.3 in /usr/local/lib/python3.10/dist-packages (from qiskit-terra>=0.24->qiskit-nature) (0.3.6)\n",
            "Requirement already satisfied: python-dateutil>=2.8.0 in /usr/local/lib/python3.10/dist-packages (from qiskit-terra>=0.24->qiskit-nature) (2.8.2)\n",
            "Requirement already satisfied: stevedore>=3.0.0 in /usr/local/lib/python3.10/dist-packages (from qiskit-terra>=0.24->qiskit-nature) (5.1.0)\n",
            "Requirement already satisfied: symengine<0.10,>=0.9 in /usr/local/lib/python3.10/dist-packages (from qiskit-terra>=0.24->qiskit-nature) (0.9.2)\n",
            "Requirement already satisfied: joblib>=1.1.1 in /usr/local/lib/python3.10/dist-packages (from scikit-learn>=0.20.0->qiskit-nature) (1.2.0)\n",
            "Requirement already satisfied: threadpoolctl>=2.0.0 in /usr/local/lib/python3.10/dist-packages (from scikit-learn>=0.20.0->qiskit-nature) (3.1.0)\n",
            "Requirement already satisfied: six>=1.5 in /usr/local/lib/python3.10/dist-packages (from python-dateutil>=2.8.0->qiskit-terra>=0.24->qiskit-nature) (1.16.0)\n",
            "Requirement already satisfied: pbr!=2.1.0,>=2.0.0 in /usr/local/lib/python3.10/dist-packages (from stevedore>=3.0.0->qiskit-terra>=0.24->qiskit-nature) (5.11.1)\n",
            "Requirement already satisfied: mpmath>=0.19 in /usr/local/lib/python3.10/dist-packages (from sympy>=1.3->qiskit-terra>=0.24->qiskit-nature) (1.3.0)\n",
            "Installing collected packages: qiskit-nature\n",
            "Successfully installed qiskit-nature-0.6.1\n"
          ]
        }
      ],
      "source": [
        "pip install qiskit-nature"
      ]
    },
    {
      "cell_type": "markdown",
      "metadata": {
        "id": "pREHzIBxgoGB"
      },
      "source": [
        "Install PySCF with the following command:"
      ]
    },
    {
      "cell_type": "code",
      "execution_count": null,
      "metadata": {
        "colab": {
          "base_uri": "https://localhost:8080/"
        },
        "id": "Tu3pFrmffNhZ",
        "outputId": "2cad62cb-d3b4-4b96-8494-16dc76b01ed0"
      },
      "outputs": [
        {
          "output_type": "stream",
          "name": "stdout",
          "text": [
            "Looking in indexes: https://pypi.org/simple, https://us-python.pkg.dev/colab-wheels/public/simple/\n",
            "Collecting pyscf\n",
            "  Downloading pyscf-2.2.1-cp310-cp310-manylinux_2_17_x86_64.manylinux2014_x86_64.whl (47.7 MB)\n",
            "\u001b[2K     \u001b[90m━━━━━━━━━━━━━━━━━━━━━━━━━━━━━━━━━━━━━━━━\u001b[0m \u001b[32m47.7/47.7 MB\u001b[0m \u001b[31m17.0 MB/s\u001b[0m eta \u001b[36m0:00:00\u001b[0m\n",
            "\u001b[?25hRequirement already satisfied: numpy!=1.16,!=1.17,>=1.13 in /usr/local/lib/python3.10/dist-packages (from pyscf) (1.22.4)\n",
            "Requirement already satisfied: scipy!=1.5.0,!=1.5.1 in /usr/local/lib/python3.10/dist-packages (from pyscf) (1.10.1)\n",
            "Requirement already satisfied: h5py>=2.7 in /usr/local/lib/python3.10/dist-packages (from pyscf) (3.8.0)\n",
            "Installing collected packages: pyscf\n",
            "Successfully installed pyscf-2.2.1\n"
          ]
        }
      ],
      "source": [
        "pip install pyscf"
      ]
    },
    {
      "cell_type": "markdown",
      "metadata": {
        "id": "OxaMfQHwEOdg"
      },
      "source": [
        "Import NumPy with the following command:"
      ]
    },
    {
      "cell_type": "code",
      "execution_count": null,
      "metadata": {
        "id": "QhaIzlQ5EN3r"
      },
      "outputs": [],
      "source": [
        "import numpy as np"
      ]
    },
    {
      "cell_type": "markdown",
      "metadata": {
        "id": "6PSJLYf6cMeH"
      },
      "source": [
        "Import Matplotlib, a comprehensive library for creating static, animated, and interactive visualizations in Python with the following command:\n",
        "\n"
      ]
    },
    {
      "cell_type": "code",
      "execution_count": null,
      "metadata": {
        "id": "nJSPiCdFcG-9"
      },
      "outputs": [],
      "source": [
        "import matplotlib.pyplot as plt"
      ]
    },
    {
      "cell_type": "markdown",
      "metadata": {
        "id": "N9_Mtr8sEl3I"
      },
      "source": [
        "Import the required functions and class methods with the following commands. The array_to_latex function() returns a Latex representation of a complex array with dimension 1 or 2:"
      ]
    },
    {
      "cell_type": "code",
      "execution_count": null,
      "metadata": {
        "id": "wplPi--1ogzl"
      },
      "outputs": [],
      "source": [
        "from qiskit.visualization import array_to_latex, plot_bloch_vector, plot_bloch_multivector, plot_state_qsphere, plot_state_city\n",
        "from qiskit import QuantumRegister, ClassicalRegister, QuantumCircuit, transpile\n",
        "from qiskit import execute, Aer\n",
        "import qiskit.quantum_info as qi\n",
        "from qiskit.quantum_info import SparsePauliOp\n",
        "from qiskit.extensions import Initialize\n",
        "#from qiskit.providers.aer import extensions  # import aer snapshot instructions"
      ]
    },
    {
      "cell_type": "markdown",
      "metadata": {
        "id": "dVEh1h6Nb975"
      },
      "source": [
        "Import Qiskit Nature libraries with the following commands:"
      ]
    },
    {
      "cell_type": "code",
      "execution_count": null,
      "metadata": {
        "id": "Hhf24btZbj7x"
      },
      "outputs": [],
      "source": [
        "from qiskit import Aer\n",
        "#from qiskit_nature.drivers import UnitsType, Molecule\n",
        "\n",
        "#from qiskit_nature.drivers.second_quantization import ElectronicStructureDriverType, ElectronicStructureMoleculeDriver\n",
        "#from qiskit_nature.problems.second_quantization import ElectronicStructureProblem\n",
        "#from qiskit_nature.mappers.second_quantization import ParityMapper, JordanWignerMapper, BravyiKitaevMapper\n",
        "#from qiskit_nature.converters.second_quantization import QubitConverter\n",
        "\n",
        "# Electronic Structure Problems with v0.5\n",
        "# https://qiskit.org/documentation/nature/migration/00b_Electronic_structure_with_v0.5.html\n",
        "from qiskit_nature.second_q.formats.molecule_info import MoleculeInfo\n",
        "from qiskit_nature.units import DistanceUnit\n",
        "from qiskit_nature.second_q.drivers import PySCFDriver\n",
        "from qiskit_nature.second_q.mappers import QubitConverter\n",
        "from qiskit_nature.second_q.mappers import ParityMapper, JordanWignerMapper, BravyiKitaevMapper\n",
        "from qiskit_nature.second_q.properties import ParticleNumber\n",
        "from qiskit_nature.second_q.transformers import ActiveSpaceTransformer, FreezeCoreTransformer\n",
        "from qiskit_nature.second_q.operators import FermionicOp\n",
        "# https://qiskit.org/ecosystem/nature/migration/0.6_c_qubit_converter.html#paulisumop-vs-sparsepauliop\n",
        "from qiskit_nature import settings\n",
        "\n",
        "#from qiskit_nature.operators.second_quantization import FermionicOp\n",
        "#from qiskit_nature.circuit.library.initial_states import HartreeFock\n",
        "#from qiskit_nature.circuit.library.ansatzes import UCCSD"
      ]
    },
    {
      "cell_type": "markdown",
      "metadata": {
        "id": "znAo5E9yi4n7"
      },
      "source": [
        "Import the Qiskit Nature property framework with the following command:"
      ]
    },
    {
      "cell_type": "code",
      "execution_count": null,
      "metadata": {
        "id": "P0qUpRxujCJq"
      },
      "outputs": [],
      "source": [
        "#from qiskit_nature.properties import Property, GroupedProperty\n",
        "# https://qiskit.org/documentation/nature/migration/00b_Electronic_structure_with_v0.5.html\n",
        "from qiskit_nature.second_q.operators import ElectronicIntegrals"
      ]
    },
    {
      "cell_type": "markdown",
      "metadata": {
        "id": "l2y158KtnqIU"
      },
      "source": [
        "Import math libraries with the following command:"
      ]
    },
    {
      "cell_type": "code",
      "execution_count": null,
      "metadata": {
        "id": "opzSQYFbnvXg"
      },
      "outputs": [],
      "source": [
        "import cmath\n",
        "import math"
      ]
    },
    {
      "cell_type": "markdown",
      "metadata": {
        "id": "bR7XnjUPREnY"
      },
      "source": [
        "# 4.1. Born-Oppenheimer approximation\n"
      ]
    },
    {
      "cell_type": "markdown",
      "metadata": {
        "id": "sKjvVTd2T9ae"
      },
      "source": [
        "# 4.2. Fock space"
      ]
    },
    {
      "cell_type": "markdown",
      "metadata": {
        "id": "MmPXLiD6Yub2"
      },
      "source": [
        "# 4.3. Fermionic creation and annihilation operators\n",
        "\n",
        "## 4.3.1. Fermion creation operator\n",
        "\n",
        "## 4.3.2. Fermion annihilation operator\n"
      ]
    },
    {
      "cell_type": "markdown",
      "metadata": {
        "id": "DPtMAaiifRwU"
      },
      "source": [
        "# 4.4. Molecular Hamiltonian in the Hartree-Fock orbitals basis"
      ]
    },
    {
      "cell_type": "markdown",
      "metadata": {
        "id": "L8H5B6zkc89x"
      },
      "source": [
        "# 4.5. Basis sets\n",
        "\n",
        "## 4.5.1. Slater-type orbitals"
      ]
    },
    {
      "cell_type": "code",
      "execution_count": null,
      "metadata": {
        "colab": {
          "base_uri": "https://localhost:8080/",
          "height": 309
        },
        "id": "YxLg5MjXW_Si",
        "outputId": "96b4b3f6-e9f1-49b0-ba60-22eb400de561"
      },
      "outputs": [
        {
          "output_type": "execute_result",
          "data": {
            "text/plain": [
              "<matplotlib.legend.Legend at 0x7fe9e68638b0>"
            ]
          },
          "metadata": {},
          "execution_count": 13
        },
        {
          "output_type": "display_data",
          "data": {
            "text/plain": [
              "<Figure size 400x300 with 1 Axes>"
            ],
            "image/png": "[encoded data removed]"
          },
          "metadata": {}
        }
      ],
      "source": [
        "x = np.linspace(-5,5,num=1000)\n",
        "r = abs(x)\n",
        "\n",
        "alpha = 1.0\n",
        "\n",
        "R = 2*alpha**(1.5)*np.exp(-alpha*r)\n",
        "\n",
        "plt.figure(figsize=(4,3))\n",
        "plt.plot(x,R,label=\"STO 1s H\")\n",
        "plt.legend()"
      ]
    },
    {
      "cell_type": "markdown",
      "metadata": {
        "id": "cYNiTDlDaWSS"
      },
      "source": [
        "Figure 4.5 – Plot of the radial part of the Slater-type orbital for the $1s$ orbital of the hydrogen atom"
      ]
    },
    {
      "cell_type": "code",
      "execution_count": null,
      "metadata": {
        "colab": {
          "base_uri": "https://localhost:8080/",
          "height": 309
        },
        "id": "Kn80lcaaYItZ",
        "outputId": "643f2cab-6aae-434f-ba50-8106e8c2c987"
      },
      "outputs": [
        {
          "output_type": "execute_result",
          "data": {
            "text/plain": [
              "<matplotlib.legend.Legend at 0x7fe9e663c9d0>"
            ]
          },
          "metadata": {},
          "execution_count": 14
        },
        {
          "output_type": "display_data",
          "data": {
            "text/plain": [
              "<Figure size 400x300 with 1 Axes>"
            ],
            "image/png": "[encoded data removed]"
          },
          "metadata": {}
        }
      ],
      "source": [
        "x = np.linspace(-7,7,num=1000)\n",
        "r1 = abs(x+2.5)\n",
        "r2 = abs(x-2.5)\n",
        "\n",
        "alpha = 1.0\n",
        "\n",
        "R = 2*alpha**(1.5)*np.exp(-alpha*r1)-2*alpha**(1.5)*np.exp(-alpha*r2)\n",
        "\n",
        "plt.figure(figsize=(4,3))\n",
        "plt.plot(x,R,label=\"Antisymmetric STO H2\")\n",
        "plt.legend()"
      ]
    },
    {
      "cell_type": "markdown",
      "metadata": {
        "id": "bHIDx0-7fNVm"
      },
      "source": [
        "Figure 4.6 – Plot of the anti-symmetric wave function of the hydrogen molecule\n",
        "\n",
        "## 4.5.2. Gaussian-type orbitals"
      ]
    },
    {
      "cell_type": "code",
      "execution_count": null,
      "metadata": {
        "colab": {
          "base_uri": "https://localhost:8080/",
          "height": 309
        },
        "id": "dsa-Ax0z9KdY",
        "outputId": "c502a7a6-bfca-49f5-b65c-6f7b0ff9a3c7"
      },
      "outputs": [
        {
          "output_type": "execute_result",
          "data": {
            "text/plain": [
              "<matplotlib.legend.Legend at 0x7fe9e66b4eb0>"
            ]
          },
          "metadata": {},
          "execution_count": 15
        },
        {
          "output_type": "display_data",
          "data": {
            "text/plain": [
              "<Figure size 500x300 with 1 Axes>"
            ],
            "image/png": "[encoded data removed]"
          },
          "metadata": {}
        }
      ],
      "source": [
        "x = np.linspace(-7,7,num=1000)\n",
        "r = abs(x)\n",
        "\n",
        "c = [0.444635,0.535328,0.154329]\n",
        "alpha = [0.109818,0.405771,2.227660]\n",
        "\n",
        "psi = 0\n",
        "for k in range(3):\n",
        "  psi += c[k]*(2*alpha[k]/np.pi)**0.75 * np.exp(-alpha[k]*r**2)\n",
        "\n",
        "plt.figure(figsize=(5,3))\n",
        "plt.plot(x,psi,label=\"STO-3G 1s H\")\n",
        "plt.legend()"
      ]
    },
    {
      "cell_type": "markdown",
      "metadata": {
        "id": "T7keT_P5dHEz"
      },
      "source": [
        "Figure 4.7 – Plot of the STO-3G function for the $1s$ orbital of the hydrogen atom"
      ]
    },
    {
      "cell_type": "code",
      "execution_count": null,
      "metadata": {
        "colab": {
          "base_uri": "https://localhost:8080/",
          "height": 309
        },
        "id": "yMk0-ZA2dhFP",
        "outputId": "ae68de64-d53e-4b46-e7de-c30cdf0dcf09"
      },
      "outputs": [
        {
          "output_type": "execute_result",
          "data": {
            "text/plain": [
              "<matplotlib.legend.Legend at 0x7fe9e654a020>"
            ]
          },
          "metadata": {},
          "execution_count": 16
        },
        {
          "output_type": "display_data",
          "data": {
            "text/plain": [
              "<Figure size 500x300 with 1 Axes>"
            ],
            "image/png": "[encoded data removed]"
          },
          "metadata": {}
        }
      ],
      "source": [
        "x = np.linspace(-7,7,num=1000)\n",
        "r1 = abs(x+2.5)\n",
        "r2 = abs(x-2.5)\n",
        "\n",
        "c = [0.444635,0.535328,0.154329]\n",
        "alpha = [0.109818,0.405771,2.227660]\n",
        "\n",
        "psi = 0\n",
        "for k in range(3):\n",
        "  psi += c[k]*(2*alpha[k]/np.pi)**0.75 * np.exp(-alpha[k]*r1**2) \\\n",
        "  - c[k]*(2*alpha[k]/np.pi)**0.75 * np.exp(-alpha[k]*r2**2)\n",
        "\n",
        "plt.figure(figsize=(5,3))\n",
        "plt.plot(x,psi,label=\"Antisymmetric STO-3G H2\")\n",
        "plt.legend()"
      ]
    },
    {
      "cell_type": "markdown",
      "metadata": {
        "id": "LRI5hmjBdDZz"
      },
      "source": [
        "Figure 4.8 – Plot of the antisymmetric STO-3G function for the $1s$ orbital of the hydrogen molecule\n",
        "\n",
        "# 4.6. Constructing a fermionic Hamiltonian with Qiskit Nature"
      ]
    },
    {
      "cell_type": "markdown",
      "metadata": {
        "id": "I-KDZaOKgguX"
      },
      "source": [
        "## 4.6.1. Constructing a fermionic Hamiltonian operator of the hydrogen molecule"
      ]
    },
    {
      "cell_type": "code",
      "execution_count": null,
      "metadata": {
        "id": "19sGFlC3gguY"
      },
      "outputs": [],
      "source": [
        "# Electronic Structure Problems with v0.5\n",
        "# https://qiskit.org/documentation/nature/migration/00b_Electronic_structure_with_v0.5.html\n",
        "H2_atoms = [\"H\", \"H\"]\n",
        "H2_coords = [(0.0, 0.0, 0.0), (0.0, 0.0, 0.735)]\n",
        "H2_charge = 0\n",
        "H2_multiplicity = 1\n",
        "H2_atom_pair=(1, 0)\n",
        "H2_info_dict={'atoms':H2_atoms, 'coords':H2_coords, 'charge':H2_charge, 'multiplicity':H2_multiplicity, 'atom_pair':H2_atom_pair}\n",
        "\n",
        "H2_moleculeinfo = MoleculeInfo(H2_atoms, H2_coords, charge=H2_charge, multiplicity=H2_multiplicity)"
      ]
    },
    {
      "cell_type": "code",
      "execution_count": null,
      "metadata": {
        "id": "T-yNF3Ffggua"
      },
      "outputs": [],
      "source": [
        "H2_driver = PySCFDriver.from_molecule(H2_moleculeinfo, basis=\"sto3g\")"
      ]
    },
    {
      "cell_type": "code",
      "execution_count": null,
      "metadata": {
        "id": "LuBVRwpRfoqM"
      },
      "outputs": [],
      "source": [
        "H2_problem = H2_driver.run()"
      ]
    },
    {
      "cell_type": "code",
      "execution_count": null,
      "metadata": {
        "id": "Y5LqycfQj8cl"
      },
      "outputs": [],
      "source": [
        "H2_fermionic_hamiltonian = H2_problem.hamiltonian"
      ]
    },
    {
      "cell_type": "code",
      "execution_count": null,
      "metadata": {
        "id": "k8U-VwpFuQeY"
      },
      "outputs": [],
      "source": [
        "H2_second_q_op = H2_fermionic_hamiltonian.second_q_op()"
      ]
    },
    {
      "cell_type": "code",
      "execution_count": null,
      "metadata": {
        "id": "T7TaBVkbkaoq"
      },
      "outputs": [],
      "source": [
        "def get_particle_number(problem, show=True):\n",
        "  \n",
        "  # https://qiskit.org/documentation/nature/stubs/qiskit_nature.second_q.problems.ElectronicStructureProblem.num_spin_orbitals.html\n",
        "  num_spin_orbitals = problem.num_spin_orbitals\n",
        "  num_particles = problem.num_particles\n",
        "  \n",
        "  if show:\n",
        "    print(\"Number of particles: {}\".format(num_particles))\n",
        "    print(\"Number of spin orbitals: {}\".format(num_spin_orbitals))\n",
        "    \n",
        "  return num_particles, num_spin_orbitals"
      ]
    },
    {
      "cell_type": "code",
      "execution_count": null,
      "metadata": {
        "colab": {
          "base_uri": "https://localhost:8080/"
        },
        "id": "eZmUL_fNlCKW",
        "outputId": "ae730aa4-77a9-4d15-834b-157f81b518a8"
      },
      "outputs": [
        {
          "output_type": "stream",
          "name": "stdout",
          "text": [
            "Hydrogen molecule, basis: sto3g, Hartree-Fock calculation\n",
            "Number of particles: (1, 1)\n",
            "Number of spin orbitals: 4\n"
          ]
        }
      ],
      "source": [
        "print(\"Hydrogen molecule, basis: sto3g, Hartree-Fock calculation\")\n",
        "H2_num_particles, H2_num_spin_orbitals = get_particle_number(H2_problem)"
      ]
    },
    {
      "cell_type": "markdown",
      "metadata": {
        "id": "0rrskq3fLvxj"
      },
      "source": [
        "Figure 4.9 – Hydrogen molecule, Hartree-Fock calculation for the basis STO-3G, Particle Number"
      ]
    },
    {
      "cell_type": "code",
      "execution_count": null,
      "metadata": {
        "colab": {
          "base_uri": "https://localhost:8080/"
        },
        "id": "RxECnXqTEDvQ",
        "outputId": "220a76a7-212e-4a9d-8615-dc0f0d191c69"
      },
      "outputs": [
        {
          "output_type": "stream",
          "name": "stdout",
          "text": [
            "-1.116998996754004\n"
          ]
        }
      ],
      "source": [
        "H2_reference_energy = H2_problem.reference_energy\n",
        "print(H2_reference_energy)"
      ]
    },
    {
      "cell_type": "code",
      "execution_count": null,
      "metadata": {
        "colab": {
          "base_uri": "https://localhost:8080/"
        },
        "id": "n6lxmST7cLOD",
        "outputId": "26d8b8e1-4908-4e35-97e1-3c7b4ddf377c"
      },
      "outputs": [
        {
          "output_type": "stream",
          "name": "stdout",
          "text": [
            "Fermionic Operator\n",
            "number spin orbitals=4, number terms=36\n",
            "  -1.25633907300325 * ( +_0 -_0 )\n",
            "+ -0.47189600728114184 * ( +_1 -_1 )\n",
            "+ -1.25633907300325 * ( +_2 -_2 )\n",
            "+ -0.47189600728114184 * ( +_3 -_3 )\n",
            "+ 0.33785507740175813 * ( +_0 +_0 -_0 -_0 )\n",
            "+ 0.09046559989211568 * ( +_0 +_0 -_1 -_1 )\n",
            "+ 0.09046559989211564 * ( +_0 +_1 -_0 -_1 )\n",
            "+ 0.33229086512764827 * ( +_0 +_1 -_1 -_0 )\n",
            "+ 0.33785507740175813 * ( +_0 +_2 -_2 -_0 )\n",
            "+ 0.09046559989211568 * ( +_0 +_2 -_3 -_1 )\n",
            "+ 0.09046559989211564 * ( +_0 +_3 -_2 -_1 )\n",
            "+ 0.33229086512764827 * ( +_0 +_3 -_3 -_0 )\n",
            "+ 0.3322908651276482 * ( +_1 +_0 -_0 -_1 )\n",
            "+ 0.09046559989211574 * ( +_1 +_0 -_1 -_0 )\n",
            "+ 0.09046559989211565 * ( +_1 +_1 -_0 -_0 )\n",
            "+ 0.3492868613660089 * ( +_1 +_1 -_1 -_1 )\n",
            "+ 0.3322908651276482 * ( +_1 +_2 -_2 -_1 )\n",
            "+ 0.09046559989211574 * ( +_1 +_2 -_3 -_0 )\n",
            "+ 0.09046559989211565 * ( +_1 +_3 -_2 -_0 )\n",
            "+ 0.3492868613660089 * ( +_1 +_3 -_3 -_1 )\n",
            "...\n"
          ]
        }
      ],
      "source": [
        "# We print the first 20 terms of the fermionic Hamiltonian operator of the molecule\n",
        "# https://qiskit.org/documentation/nature/migration/00b_Electronic_structure_with_v0.5.html\n",
        "print(\"\\n\".join(str(H2_second_q_op).splitlines()[:22] + [\"...\"]))"
      ]
    },
    {
      "cell_type": "markdown",
      "metadata": {
        "id": "XO8XjnclvBX-"
      },
      "source": [
        "Figure 4.13 – Fermionic Hamiltonian operator of the hydrogen molecule"
      ]
    },
    {
      "cell_type": "code",
      "execution_count": null,
      "metadata": {
        "colab": {
          "base_uri": "https://localhost:8080/"
        },
        "id": "UuhUOBHSuw_I",
        "outputId": "a4f0a6a0-ae98-4abb-e0d5-1f4e2a408248"
      },
      "outputs": [
        {
          "output_type": "stream",
          "name": "stdout",
          "text": [
            "  (1, 1)\t(-0.47189600728114184+0j)\n",
            "  (2, 2)\t(-1.25633907300325+0j)\n",
            "  (3, 3)\t(-1.2445845498133268+0j)\n",
            "  (4, 4)\t(-0.47189600728114184+0j)\n",
            "  (5, 5)\t(-0.24521829183026594+0j)\n",
            "  (10, 5)\t(0.18093119978423136+0j)\n",
            "  (6, 6)\t(-1.0636533500290954+0j)\n",
            "  (9, 6)\t(0.1809311997842314+0j)\n",
            "  (7, 7)\t(-0.35332510410715445+0j)\n",
            "  (8, 8)\t(-1.25633907300325+0j)\n",
            "  (6, 9)\t(0.1809311997842314+0j)\n",
            "  (9, 9)\t(-1.0636533500290954+0j)\n",
            "  (5, 10)\t(0.1809311997842313+0j)\n",
            "  (10, 10)\t(-1.8369679912029837+0j)\n",
            "  (11, 11)\t(-1.1606317377577644+0j)\n",
            "  (12, 12)\t(-1.2445845498133268+0j)\n",
            "  (13, 13)\t(-0.3533251041071546+0j)\n",
            "  (14, 14)\t(-1.1606317377577637+0j)\n",
            "  (15, 15)\t(0.2142782384194734+0j)\n"
          ]
        },
        {
          "output_type": "stream",
          "name": "stderr",
          "text": [
            "<ipython-input-26-7778dcf0dbbd>:2: DeprecationWarning: The to_matrix method is deprecated as of version 0.6.0 and will be removed no sooner than 3 months after the release . This method has no direct replacement. Instead, use the `qiskit_nature.second_q.mappers.JordanWignerMapper` to create a qubit operator and subsequently use its `to_matrix()` method. Be advised, that the basis state ordering of that output will differ due to the bitstring endianness. For more information refer to https://github.com/Qiskit/qiskit-nature/issues/875..\n",
            "  print(H2_second_q_op.to_matrix())\n"
          ]
        }
      ],
      "source": [
        "# The to_matrix method is deprecated as of version 0.6.0 and will be removed no sooner than 3 months after the release\n",
        "print(H2_second_q_op.to_matrix())"
      ]
    },
    {
      "cell_type": "markdown",
      "metadata": {
        "id": "Lw3qe3OpSK80"
      },
      "source": [
        "## 4.6.2. Constructing a fermionic Hamiltonian operator of the lithium hydride molecule"
      ]
    },
    {
      "cell_type": "code",
      "execution_count": null,
      "metadata": {
        "id": "oDXsG7ac0F1J"
      },
      "outputs": [],
      "source": [
        "LiH_atoms = [\"Li\", \"H\"]\n",
        "LiH_coords = [(0.0, 0.0, 0.0), (0.0, 0.0, 1.5474)]\n",
        "LiH_charge = 0\n",
        "LiH_multiplicity = 1\n",
        "LiH_atom_pair=(1,0)\n",
        "LiH_info_dict={'atoms':LiH_atoms, 'coords':LiH_coords, 'charge':LiH_charge, 'multiplicity':LiH_multiplicity, 'atom_pair':LiH_atom_pair}\n",
        "\n",
        "LiH_moleculeinfo = MoleculeInfo(LiH_atoms, LiH_coords, charge=LiH_charge, multiplicity=LiH_multiplicity)"
      ]
    },
    {
      "cell_type": "code",
      "execution_count": null,
      "metadata": {
        "id": "8HpcPjmzV04e"
      },
      "outputs": [],
      "source": [
        "LiH_driver = PySCFDriver.from_molecule(LiH_moleculeinfo, basis=\"sto3g\")"
      ]
    },
    {
      "cell_type": "markdown",
      "metadata": {
        "id": "ev_MwJnbWFsJ"
      },
      "source": [
        "We define an electronic structure problem:"
      ]
    },
    {
      "cell_type": "code",
      "execution_count": null,
      "metadata": {
        "id": "2vfOkSzYVPxt"
      },
      "outputs": [],
      "source": [
        "LiH_problem = LiH_driver.run()"
      ]
    },
    {
      "cell_type": "code",
      "execution_count": null,
      "metadata": {
        "id": "DzmoZl0DEDvS"
      },
      "outputs": [],
      "source": [
        "#https://qiskit.org/documentation/nature/migration/00b_Electronic_structure_with_v0.5.html\n",
        "transformer = FreezeCoreTransformer(freeze_core=True, remove_orbitals=[4, 3])\n",
        "LiH_problem = transformer.transform(LiH_problem)"
      ]
    },
    {
      "cell_type": "code",
      "execution_count": null,
      "metadata": {
        "id": "EJWSvUh2EDvS"
      },
      "outputs": [],
      "source": [
        "LiH_fermionic_hamiltonian = LiH_problem.hamiltonian"
      ]
    },
    {
      "cell_type": "code",
      "execution_count": null,
      "metadata": {
        "id": "wumUN2WkA4X1"
      },
      "outputs": [],
      "source": [
        "LiH_second_q_op = LiH_fermionic_hamiltonian.second_q_op()"
      ]
    },
    {
      "cell_type": "code",
      "execution_count": null,
      "metadata": {
        "colab": {
          "base_uri": "https://localhost:8080/"
        },
        "id": "QQc-uDMHwZ8H",
        "outputId": "cd5b6e1c-87ad-471e-98a7-e58110cfb154"
      },
      "outputs": [
        {
          "output_type": "stream",
          "name": "stdout",
          "text": [
            "Lithium hydride molecule, basis: sto3g, Hartree-Fock calculation\n",
            "Parameters freeze_core=True, remove_orbitals=[4, 3]\n",
            "Number of particles: (1, 1)\n",
            "Number of spin orbitals: 6\n"
          ]
        }
      ],
      "source": [
        "print(\"Lithium hydride molecule, basis: sto3g, Hartree-Fock calculation\")\n",
        "print(\"Parameters freeze_core=True, remove_orbitals=[4, 3]\")\n",
        "LiH_particle_number = get_particle_number(LiH_problem)"
      ]
    },
    {
      "cell_type": "markdown",
      "metadata": {
        "id": "M2jf-uCib4P_"
      },
      "source": [
        "Figure 4.17 – Lithium hydride molecule, Hartree-Fock calculation for the basis STO-3G, Particle Number"
      ]
    },
    {
      "cell_type": "code",
      "execution_count": null,
      "metadata": {
        "colab": {
          "base_uri": "https://localhost:8080/"
        },
        "id": "d00asZLvKn3a",
        "outputId": "0348d44b-0bfe-42dd-f8b2-7ccaca425648"
      },
      "outputs": [
        {
          "output_type": "stream",
          "name": "stdout",
          "text": [
            "-7.863113882796406\n"
          ]
        }
      ],
      "source": [
        "LiH_reference_energy = LiH_problem.reference_energy\n",
        "print(LiH_reference_energy)"
      ]
    },
    {
      "cell_type": "code",
      "execution_count": null,
      "metadata": {
        "colab": {
          "base_uri": "https://localhost:8080/"
        },
        "id": "YYCGy2pSuQUo",
        "outputId": "72b5b698-4288-431e-8d38-eb2bd326a377"
      },
      "outputs": [
        {
          "output_type": "stream",
          "name": "stdout",
          "text": [
            "Fermionic Operator\n",
            "number spin orbitals=4, number terms=36\n",
            "  -1.25633907300325 * ( +_0 -_0 )\n",
            "+ -0.47189600728114184 * ( +_1 -_1 )\n",
            "+ -1.25633907300325 * ( +_2 -_2 )\n",
            "+ -0.47189600728114184 * ( +_3 -_3 )\n",
            "+ 0.33785507740175813 * ( +_0 +_0 -_0 -_0 )\n",
            "+ 0.09046559989211568 * ( +_0 +_0 -_1 -_1 )\n",
            "+ 0.09046559989211564 * ( +_0 +_1 -_0 -_1 )\n",
            "+ 0.33229086512764827 * ( +_0 +_1 -_1 -_0 )\n",
            "+ 0.33785507740175813 * ( +_0 +_2 -_2 -_0 )\n",
            "+ 0.09046559989211568 * ( +_0 +_2 -_3 -_1 )\n",
            "+ 0.09046559989211564 * ( +_0 +_3 -_2 -_1 )\n",
            "+ 0.33229086512764827 * ( +_0 +_3 -_3 -_0 )\n",
            "+ 0.3322908651276482 * ( +_1 +_0 -_0 -_1 )\n",
            "+ 0.09046559989211574 * ( +_1 +_0 -_1 -_0 )\n",
            "+ 0.09046559989211565 * ( +_1 +_1 -_0 -_0 )\n",
            "+ 0.3492868613660089 * ( +_1 +_1 -_1 -_1 )\n",
            "+ 0.3322908651276482 * ( +_1 +_2 -_2 -_1 )\n",
            "+ 0.09046559989211574 * ( +_1 +_2 -_3 -_0 )\n",
            "+ 0.09046559989211565 * ( +_1 +_3 -_2 -_0 )\n",
            "+ 0.3492868613660089 * ( +_1 +_3 -_3 -_1 )\n",
            "...\n"
          ]
        }
      ],
      "source": [
        "# We print the first 20 terms of the fermionic Hamiltonian operator of the molecule\n",
        "# https://qiskit.org/documentation/nature/migration/00b_Electronic_structure_with_v0.5.html\n",
        "print(\"\\n\".join(str(H2_second_q_op).splitlines()[:22] + [\"...\"]))"
      ]
    },
    {
      "cell_type": "markdown",
      "metadata": {
        "id": "EyXsyHbFuy8v"
      },
      "source": [
        "Figure 4.20 – First 20 terms of the fermionic Hamiltonian operator of the lithium hydride molecule"
      ]
    },
    {
      "cell_type": "code",
      "execution_count": null,
      "metadata": {
        "colab": {
          "base_uri": "https://localhost:8080/"
        },
        "id": "h5kodlC-8LhU",
        "outputId": "b6489003-cbfd-47a8-8b70-4f7f4d77b790"
      },
      "outputs": [
        {
          "output_type": "stream",
          "name": "stdout",
          "text": [
            "  (1, 1)\t(-0.22617114856207743+0j)\n",
            "  (2, 1)\t(0.06823802873506413+0j)\n",
            "  (4, 1)\t(-0.12958118796010698+0j)\n",
            "  (1, 2)\t(0.06823802873506404+0j)\n",
            "  (2, 2)\t(-0.35909729461555473+0j)\n",
            "  (4, 2)\t(0.047702127436324446+0j)\n",
            "  (3, 3)\t(-0.3698582654236072+0j)\n",
            "  (5, 3)\t(0.036410714362943464+0j)\n",
            "  (6, 3)\t(0.14941663381646947+0j)\n",
            "  (1, 4)\t(-0.1295811879601071+0j)\n",
            "  (2, 4)\t(0.0477021274363245+0j)\n",
            "  (4, 4)\t(-0.7806641137752539+0j)\n",
            "  (3, 5)\t(0.0364107143629436+0j)\n",
            "  (5, 5)\t(-0.6744095751420179+0j)\n",
            "  (6, 5)\t(0.05111733040971407+0j)\n",
            "  (3, 6)\t(0.14941663381646955+0j)\n",
            "  (5, 6)\t(0.05111733040971395+0j)\n",
            "  (6, 6)\t(-0.927164211154424+0j)\n",
            "  (7, 7)\t(-0.605499494767163+0j)\n",
            "  (8, 8)\t(-0.22617114856207743+0j)\n",
            "  (16, 8)\t(0.06823802873506413+0j)\n",
            "  (32, 8)\t(-0.12958118796010698+0j)\n",
            "  (9, 9)\t(0.003031109256420972+0j)\n",
            "  (10, 9)\t(0.024426932936965497+0j)\n",
            "  (12, 9)\t(0.007977803851770937+0j)\n",
            "  :\t:\n",
            "  (53, 54)\t(0.03601000179255122+0j)\n",
            "  (54, 54)\t(-0.5746431507664271+0j)\n",
            "  (31, 55)\t(-0.10677454486494328+0j)\n",
            "  (47, 55)\t(-0.007801094005547682+0j)\n",
            "  (55, 55)\t(0.4445921553775364+0j)\n",
            "  (56, 56)\t(-0.605499494767163+0j)\n",
            "  (57, 57)\t(0.3212733528080386+0j)\n",
            "  (58, 57)\t(0.009319604319802766+0j)\n",
            "  (60, 57)\t(0.1266099907213053+0j)\n",
            "  (57, 58)\t(0.009319604319802673+0j)\n",
            "  (58, 58)\t(-0.15927589099573458+0j)\n",
            "  (60, 58)\t(-0.0359375588120342+0j)\n",
            "  (59, 59)\t(0.9829071343334922+0j)\n",
            "  (61, 59)\t(-0.04722897188541521+0j)\n",
            "  (62, 59)\t(-0.10677454486494284+0j)\n",
            "  (57, 60)\t(0.12660999072130522+0j)\n",
            "  (58, 60)\t(-0.03593755881203416+0j)\n",
            "  (60, 60)\t(-0.21422864563027708+0j)\n",
            "  (59, 61)\t(-0.047228971885415055+0j)\n",
            "  (61, 61)\t(1.0449698891402381+0j)\n",
            "  (62, 61)\t(-0.007801094005547283+0j)\n",
            "  (59, 62)\t(-0.10677454486494274+0j)\n",
            "  (61, 62)\t(-0.007801094005547411+0j)\n",
            "  (62, 62)\t(0.44459215537753644+0j)\n",
            "  (63, 63)\t(1.9192008679020773+0j)\n"
          ]
        }
      ],
      "source": [
        "# The to_matrix method is deprecated as of version 0.6.0 and will be removed no sooner than 3 months after the release\n",
        "print(LiH_second_q_op.to_matrix())"
      ]
    },
    {
      "cell_type": "markdown",
      "metadata": {
        "id": "cB-eC4eKYFcv"
      },
      "source": [
        "Figure 4.21 – Matrix representation of the Fermionic Hamiltonian operator of the lithium hydride molecule in the Fock basis\n",
        "\n",
        "# 4.7. Fermion to qubit mappings"
      ]
    },
    {
      "cell_type": "markdown",
      "metadata": {
        "id": "bvCNLUHxg5Mq"
      },
      "source": [
        "## 4.7.1. Qubit creation and annihilation operators"
      ]
    },
    {
      "cell_type": "markdown",
      "metadata": {
        "id": "AdPIXHnjeOog"
      },
      "source": [
        "## 4.7.2. Jordan-Wigner transformation\n",
        "\n",
        "Figure 4.23 – Jordan-Wigner transformation"
      ]
    },
    {
      "cell_type": "code",
      "execution_count": null,
      "metadata": {
        "id": "ZA4dK9I3EDvU"
      },
      "outputs": [],
      "source": [
        "# https://qiskit.org/ecosystem/nature/migration/0.6_c_qubit_converter.html#paulisumop-vs-sparsepauliop\n",
        "settings.use_pauli_sum_op = False\n",
        "\n",
        "# https://qiskit.org/documentation/nature/locale/bn_BN/stubs/qiskit_nature.second_q.operators.FermionicOp.html\n",
        "# A FermionicOp is initialized with a dictionary, mapping terms to their respective coefficients\n",
        "\n",
        "# QubitConverter Migration\n",
        "# https://qiskit.org/ecosystem/nature/migration/0.6_c_qubit_converter.html\n",
        "def label_to_qubit(label, mapper):\n",
        "    f_op = FermionicOp(label)\n",
        "    qubit_op = mapper.map(f_op)\n",
        "    return qubit_op"
      ]
    },
    {
      "cell_type": "code",
      "execution_count": null,
      "metadata": {
        "colab": {
          "base_uri": "https://localhost:8080/"
        },
        "id": "LbmLpvZx18X1",
        "outputId": "be417705-696c-4c1a-8fbf-2ca3c540a8cd"
      },
      "outputs": [
        {
          "output_type": "stream",
          "name": "stdout",
          "text": [
            "{'+_0': 1.0}:\n",
            " SparsePauliOp(['X', 'Y'],\n",
            "              coeffs=[0.5+0.j , 0. -0.5j])\n",
            "\n",
            "{'+_1': 1.0}:\n",
            " SparsePauliOp(['XZ', 'YZ'],\n",
            "              coeffs=[0.5+0.j , 0. -0.5j])\n",
            "\n",
            "{'+_2': 1.0}:\n",
            " SparsePauliOp(['XZZ', 'YZZ'],\n",
            "              coeffs=[0.5+0.j , 0. -0.5j])\n",
            "\n",
            "{'+_3': 1.0}:\n",
            " SparsePauliOp(['XZZZ', 'YZZZ'],\n",
            "              coeffs=[0.5+0.j , 0. -0.5j])\n",
            "\n",
            "{'+_4': 1.0}:\n",
            " SparsePauliOp(['XZZZZ', 'YZZZZ'],\n",
            "              coeffs=[0.5+0.j , 0. -0.5j])\n",
            "\n"
          ]
        }
      ],
      "source": [
        "for k in ({\"+_0\":1.0}, {\"+_1\":1.0}, {\"+_2\":1.0}, {\"+_3\":1.0}, {\"+_4\":1.0}):\n",
        "  qubit_op = label_to_qubit(k, JordanWignerMapper())\n",
        "  print(\"{}:\\n {}\\n\".format(k, qubit_op))"
      ]
    },
    {
      "cell_type": "markdown",
      "metadata": {
        "id": "Di97v1-2m4Nh"
      },
      "source": [
        "Figure 4.24 – Jordan-Wigner transformation illustrated with \"+_0\", \"+_1\", \"+_2\", \"+_3\", \"+_4\"\n",
        "\n",
        "## 4.7.3. Parity transformation\n",
        "\n",
        "Figure 4.25 – Parity transformation"
      ]
    },
    {
      "cell_type": "code",
      "execution_count": null,
      "metadata": {
        "colab": {
          "base_uri": "https://localhost:8080/"
        },
        "id": "yoWuByO3DIlM",
        "outputId": "06ecfcec-3e1f-4e5b-da8b-ad729d57dd67"
      },
      "outputs": [
        {
          "output_type": "stream",
          "name": "stdout",
          "text": [
            "{'+_0': 1.0}:\n",
            " SparsePauliOp(['X', 'Y'],\n",
            "              coeffs=[0.5+0.j , 0. -0.5j])\n",
            "\n",
            "{'+_1': 1.0}:\n",
            " SparsePauliOp(['XZ', 'YI'],\n",
            "              coeffs=[0.5+0.j , 0. -0.5j])\n",
            "\n",
            "{'+_2': 1.0}:\n",
            " SparsePauliOp(['XZI', 'YII'],\n",
            "              coeffs=[0.5+0.j , 0. -0.5j])\n",
            "\n",
            "{'+_3': 1.0}:\n",
            " SparsePauliOp(['XZII', 'YIII'],\n",
            "              coeffs=[0.5+0.j , 0. -0.5j])\n",
            "\n",
            "{'+_4': 1.0}:\n",
            " SparsePauliOp(['XZIII', 'YIIII'],\n",
            "              coeffs=[0.5+0.j , 0. -0.5j])\n",
            "\n"
          ]
        }
      ],
      "source": [
        "for k in ({\"+_0\":1.0}, {\"+_1\":1.0}, {\"+_2\":1.0}, {\"+_3\":1.0}, {\"+_4\":1.0}):\n",
        "  qubit_op = label_to_qubit(k, ParityMapper())\n",
        "  print(\"{}:\\n {}\\n\".format(k, qubit_op))"
      ]
    },
    {
      "cell_type": "markdown",
      "metadata": {
        "id": "VdBTwgJqip_i"
      },
      "source": [
        "Figure 4.26 – Parity transformation illustrated with \"+_0\", \"+_1\", \"+_2\", \"+_3\", \"+_4\"\n",
        "\n",
        "## 4.7.4. Bravyi-Kitaev transformation"
      ]
    },
    {
      "cell_type": "code",
      "execution_count": null,
      "metadata": {
        "id": "wN6H1OUWB7Zw"
      },
      "outputs": [],
      "source": [
        "def BK(m):\n",
        "  I = [[1, 0], [0, 1]]\n",
        "  d = {}\n",
        "  d[0] = [1]\n",
        "  for k in range(0, m):\n",
        "    B = np.kron(I,d[k])\n",
        "    for l in range(2**k, 2**(k+1)):\n",
        "      B[0,l] = 1\n",
        "    d[k+1] = B\n",
        "  return d"
      ]
    },
    {
      "cell_type": "code",
      "execution_count": null,
      "metadata": {
        "colab": {
          "base_uri": "https://localhost:8080/",
          "height": 396
        },
        "id": "Wi0LFFWKZ9-J",
        "outputId": "22856019-7e9a-413b-9a12-34d782acc76d"
      },
      "outputs": [
        {
          "output_type": "display_data",
          "data": {
            "text/plain": [
              "<IPython.core.display.Latex object>"
            ],
            "text/latex": "$$\nB_{1} = \n\\begin{bmatrix}\n1  \\\\\n \\end{bmatrix}\n$$"
          },
          "metadata": {}
        },
        {
          "output_type": "stream",
          "name": "stdout",
          "text": [
            " \n"
          ]
        },
        {
          "output_type": "display_data",
          "data": {
            "text/plain": [
              "<IPython.core.display.Latex object>"
            ],
            "text/latex": "$$\nB_{2} = \n\\begin{bmatrix}\n1 & 1  \\\\\n 0 & 1  \\\\\n \\end{bmatrix}\n$$"
          },
          "metadata": {}
        },
        {
          "output_type": "stream",
          "name": "stdout",
          "text": [
            " \n"
          ]
        },
        {
          "output_type": "display_data",
          "data": {
            "text/plain": [
              "<IPython.core.display.Latex object>"
            ],
            "text/latex": "$$\nB_{4} = \n\\begin{bmatrix}\n1 & 1 & 1 & 1  \\\\\n 0 & 1 & 0 & 0  \\\\\n 0 & 0 & 1 & 1  \\\\\n 0 & 0 & 0 & 1  \\\\\n \\end{bmatrix}\n$$"
          },
          "metadata": {}
        },
        {
          "output_type": "stream",
          "name": "stdout",
          "text": [
            " \n"
          ]
        },
        {
          "output_type": "display_data",
          "data": {
            "text/plain": [
              "<IPython.core.display.Latex object>"
            ],
            "text/latex": "$$\nB_{8} = \n\\begin{bmatrix}\n1 & 1 & 1 & 1 & 1 & 1 & 1 & 1  \\\\\n 0 & 1 & 0 & 0 & 0 & 0 & 0 & 0  \\\\\n 0 & 0 & 1 & 1 & 0 & 0 & 0 & 0  \\\\\n 0 & 0 & 0 & 1 & 0 & 0 & 0 & 0  \\\\\n 0 & 0 & 0 & 0 & 1 & 1 & 1 & 1  \\\\\n 0 & 0 & 0 & 0 & 0 & 1 & 0 & 0  \\\\\n 0 & 0 & 0 & 0 & 0 & 0 & 1 & 1  \\\\\n 0 & 0 & 0 & 0 & 0 & 0 & 0 & 1  \\\\\n \\end{bmatrix}\n$$"
          },
          "metadata": {}
        },
        {
          "output_type": "stream",
          "name": "stdout",
          "text": [
            " \n"
          ]
        }
      ],
      "source": [
        "d = BK(3)\n",
        "for k, v in d.items():\n",
        "  s = \"B_{\"+str(2**k)+\"} = \"\n",
        "  display(array_to_latex(v, prefix=s, precision = 0))\n",
        "  print(\" \")"
      ]
    },
    {
      "cell_type": "markdown",
      "metadata": {
        "id": "Pt0QInTUGfRM"
      },
      "source": [
        "Figure 4.27 – BK matrices $B_1$, $B_2$, $B_4$ and $B_8$\n",
        "\n",
        "Figure 4.28 – BK transformation"
      ]
    },
    {
      "cell_type": "code",
      "execution_count": null,
      "metadata": {
        "colab": {
          "base_uri": "https://localhost:8080/"
        },
        "id": "SVqbCYNhGziz",
        "outputId": "223f5e25-1c7f-4c92-f69b-43d2dd233cae"
      },
      "outputs": [
        {
          "output_type": "stream",
          "name": "stdout",
          "text": [
            "{'+_0': 1.0}:\n",
            " SparsePauliOp(['X', 'Y'],\n",
            "              coeffs=[0.5+0.j , 0. -0.5j])\n",
            "\n",
            "{'+_1': 1.0}:\n",
            " SparsePauliOp(['XZ', 'YI'],\n",
            "              coeffs=[0.5+0.j , 0. -0.5j])\n",
            "\n",
            "{'+_2': 1.0}:\n",
            " SparsePauliOp(['XZI', 'YZI'],\n",
            "              coeffs=[0.5+0.j , 0. -0.5j])\n",
            "\n",
            "{'+_3': 1.0}:\n",
            " SparsePauliOp(['XZZI', 'YIII'],\n",
            "              coeffs=[0.5+0.j , 0. -0.5j])\n",
            "\n",
            "{'+_4': 1.0}:\n",
            " SparsePauliOp(['XZIII', 'YZIII'],\n",
            "              coeffs=[0.5+0.j , 0. -0.5j])\n",
            "\n"
          ]
        }
      ],
      "source": [
        "for k in ({\"+_0\":1.0}, {\"+_1\":1.0}, {\"+_2\":1.0}, {\"+_3\":1.0}, {\"+_4\":1.0}):\n",
        "  qubit_op = label_to_qubit(k, BravyiKitaevMapper())\n",
        "  print(\"{}:\\n {}\\n\".format(k, qubit_op))"
      ]
    },
    {
      "cell_type": "markdown",
      "metadata": {
        "id": "lp2-QxbQh8Tf"
      },
      "source": [
        "Figure 4.29 – Bravyi-Kitaev transformation illustrated with \"+_0\", \"+_1\", \"+_2\", \"+_3\", \"+_4\"\n",
        "\n",
        "# 4.8. Constructing a qubit Hamiltonian with Qiskit Nature"
      ]
    },
    {
      "cell_type": "code",
      "execution_count": null,
      "metadata": {
        "id": "mpCk6k6mexVL"
      },
      "outputs": [],
      "source": [
        "def fermion_to_qubit(problem, second_q_op, mapper_name, truncate=20, two_qubit_reduction=False, z2symmetry_reduction=None, show=True): \n",
        "# Electronic Structure Problems with v0.5\n",
        "# https://qiskit.org/documentation/nature/migration/00b_Electronic_structure_with_v0.5.html\n",
        "# https://qiskit.org/documentation/nature/stubs/qiskit_nature.second_q.mappers.QubitConverter.html#qubitconverter\n",
        "# https://qiskit.org/ecosystem/nature/migration/0.6_c_qubit_converter.html\n",
        "  if show:\n",
        "    print(\"Qubit Hamiltonian operator\")\n",
        "    print(\"{} transformation \". format(mapper_name))\n",
        "\n",
        "  match mapper_name:\n",
        "    case \"Jordan-Wigner\":\n",
        "      mapper = JordanWignerMapper()\n",
        "    case \"Parity\":\n",
        "      mapper = ParityMapper(num_particles=problem.num_particles)\n",
        "    case \"Bravyi-Kitaev\":\n",
        "      mapper = BravyiKitaevMapper()\n",
        "  \n",
        "  qubit_op = mapper.map(second_q_op)\n",
        "  \n",
        "  if z2symmetry_reduction != None:\n",
        "    tapered_mapper = problem.get_tapered_mapper(mapper)\n",
        "    qubit_op = tapered_mapper.map(second_q_op)\n",
        "    \n",
        "  n_items = len(qubit_op)\n",
        "  if show:\n",
        "    print(\"Number of items in the Pauli list:\", n_items)\n",
        "    if n_items <= truncate:\n",
        "      print(qubit_op)\n",
        "    else:\n",
        "      print(qubit_op[0:truncate])\n",
        "  return qubit_op, mapper"
      ]
    },
    {
      "cell_type": "markdown",
      "metadata": {
        "id": "dnu8trf2jXgm"
      },
      "source": [
        "## 4.8.1. Constructing a qubit Hamiltonian operator of the hydrogen molecule"
      ]
    },
    {
      "cell_type": "code",
      "execution_count": null,
      "metadata": {
        "colab": {
          "base_uri": "https://localhost:8080/"
        },
        "id": "m4itrsMdqemv",
        "outputId": "38e9439e-45cc-457d-813b-e69c049a389d"
      },
      "outputs": [
        {
          "output_type": "stream",
          "name": "stdout",
          "text": [
            "Hydrogen molecule\n",
            "Qubit Hamiltonian operator\n",
            "Jordan-Wigner transformation \n",
            "Number of items in the Pauli list: 15\n",
            "SparsePauliOp(['IIII', 'IIIZ', 'IIZI', 'IZII', 'ZIII', 'IIZZ', 'IZIZ', 'YYYY', 'XXYY', 'YYXX', 'XXXX', 'ZIIZ', 'IZZI', 'ZIZI', 'ZZII'],\n",
            "              coeffs=[-0.81054798+0.j,  0.17218393+0.j, -0.22575349+0.j,  0.17218393+0.j,\n",
            " -0.22575349+0.j,  0.12091263+0.j,  0.16892754+0.j,  0.0452328 +0.j,\n",
            "  0.0452328 +0.j,  0.0452328 +0.j,  0.0452328 +0.j,  0.16614543+0.j,\n",
            "  0.16614543+0.j,  0.17464343+0.j,  0.12091263+0.j])\n"
          ]
        }
      ],
      "source": [
        "print(\"Hydrogen molecule\")\n",
        "H2_qubit_op, qubit_converter = fermion_to_qubit(H2_problem, H2_second_q_op, \"Jordan-Wigner\", two_qubit_reduction=True)"
      ]
    },
    {
      "cell_type": "markdown",
      "metadata": {
        "id": "6sDkWL73icSc"
      },
      "source": [
        "Figure 4.30 – Qubit Hamiltonian operator of $H_2$ with the JW transformation"
      ]
    },
    {
      "cell_type": "code",
      "execution_count": null,
      "metadata": {
        "colab": {
          "base_uri": "https://localhost:8080/"
        },
        "id": "e2ZxA1QZpwV-",
        "outputId": "23ebd1f7-7b1d-4a7e-904e-f292153410f3"
      },
      "outputs": [
        {
          "output_type": "stream",
          "name": "stdout",
          "text": [
            "Hydrogen molecule\n",
            "Qubit Hamiltonian operator\n",
            "Parity transformation \n",
            "Number of items in the Pauli list: 5\n",
            "SparsePauliOp(['II', 'IZ', 'ZI', 'ZZ', 'XX'],\n",
            "              coeffs=[-1.05237325+0.j,  0.39793742+0.j, -0.39793742+0.j, -0.0112801 +0.j,\n",
            "  0.1809312 +0.j])\n"
          ]
        }
      ],
      "source": [
        "print(\"Hydrogen molecule\")\n",
        "H2_qubit_op, qubit_converter = fermion_to_qubit(H2_problem, H2_second_q_op, \"Parity\", two_qubit_reduction=True)"
      ]
    },
    {
      "cell_type": "markdown",
      "metadata": {
        "id": "WSpdrrkzitLF"
      },
      "source": [
        "Figure 4.31 – Qubit Hamiltonian operator of $H_2$ with parity transformation, two_qubit_reduction True"
      ]
    },
    {
      "cell_type": "code",
      "execution_count": null,
      "metadata": {
        "colab": {
          "base_uri": "https://localhost:8080/"
        },
        "id": "muJf5AK36Dyf",
        "outputId": "7bf8a97c-b746-408a-bc96-b48474c49b12"
      },
      "outputs": [
        {
          "output_type": "stream",
          "name": "stdout",
          "text": [
            "Hydrogen molecule\n",
            "Qubit Hamiltonian operator\n",
            "Bravyi-Kitaev transformation \n",
            "Number of items in the Pauli list: 15\n",
            "SparsePauliOp(['IIII', 'IIIZ', 'IIZZ', 'IZII', 'ZZZI', 'IIZI', 'IZIZ', 'ZXIX', 'IXZX', 'ZXZX', 'IXIX', 'ZZZZ', 'IZZZ', 'ZZIZ', 'ZIZI'],\n",
            "              coeffs=[-0.81054798+0.j,  0.17218393+0.j, -0.22575349+0.j,  0.17218393+0.j,\n",
            " -0.22575349+0.j,  0.12091263+0.j,  0.16892754+0.j,  0.0452328 +0.j,\n",
            " -0.0452328 +0.j, -0.0452328 +0.j,  0.0452328 +0.j,  0.16614543+0.j,\n",
            "  0.16614543+0.j,  0.17464343+0.j,  0.12091263+0.j])\n"
          ]
        }
      ],
      "source": [
        "print(\"Hydrogen molecule\")\n",
        "H2_qubit_op, qubit_converter = fermion_to_qubit(H2_problem, H2_second_q_op, \"Bravyi-Kitaev\", two_qubit_reduction=True)"
      ]
    },
    {
      "cell_type": "markdown",
      "metadata": {
        "id": "5XblKH7TjWEv"
      },
      "source": [
        "Figure 4.32 – Qubit Hamiltonian operator of $H_2$ with the Bravyi-Kitaev transformation\n",
        "\n",
        "## 4.8.2. Constructing a qubit Hamiltonian operator of the lithium hydride molecule"
      ]
    },
    {
      "cell_type": "code",
      "execution_count": null,
      "metadata": {
        "colab": {
          "base_uri": "https://localhost:8080/"
        },
        "id": "kbpd4b7q6X6X",
        "outputId": "5badf31f-50be-43fd-bdd1-755be1456dab"
      },
      "outputs": [
        {
          "output_type": "stream",
          "name": "stdout",
          "text": [
            "Lithium hydride molecule\n",
            "Using the ParityMapper with two_qubit_reduction=True to eliminate two qubits\n",
            "Setting z2symmetry_reduction=\"auto\"\n",
            "Qubit Hamiltonian operator\n",
            "Parity transformation \n",
            "Number of items in the Pauli list: 100\n",
            "SparsePauliOp(['IIII', 'IIIZ', 'IIZX', 'IIIX', 'IIXX', 'IIYY', 'IIZZ', 'IIXZ', 'IIXI', 'IIZI', 'IZII', 'ZXII', 'IXII', 'XXII', 'YYII', 'ZZII', 'XZII', 'XIII', 'ZIII', 'IZIZ'],\n",
            "              coeffs=[-0.20316606+0.j, -0.09275995+0.j, -0.00294114+0.j,  0.00294114+0.j,\n",
            " -0.0007428 +0.j,  0.0007428 +0.j, -0.21188984+0.j,  0.01938941+0.j,\n",
            "  0.01938941+0.j,  0.36525869+0.j,  0.09275995+0.j,  0.00294114+0.j,\n",
            "  0.00294114+0.j, -0.0007428 +0.j,  0.0007428 +0.j, -0.21188984+0.j,\n",
            " -0.01938941+0.j,  0.01938941+0.j, -0.36525869+0.j, -0.12274244+0.j])\n"
          ]
        }
      ],
      "source": [
        "print(\"Lithium hydride molecule\")\n",
        "print(\"Using the ParityMapper with two_qubit_reduction=True to eliminate two qubits\")\n",
        "print(\"Setting z2symmetry_reduction=\\\"auto\\\"\")\n",
        "LiH_qubit_op, qubit_converter = fermion_to_qubit(LiH_problem, LiH_second_q_op, \"Parity\", two_qubit_reduction=True, z2symmetry_reduction=\"auto\")"
      ]
    },
    {
      "cell_type": "markdown",
      "metadata": {
        "id": "LEMhBdT7FSQ1"
      },
      "source": [
        "Figure 4.33 – Qubit Hamiltonian operator of LiH with parity transformation, two_qubit_reduction True\n",
        "\n",
        "# Summary"
      ]
    },
    {
      "cell_type": "markdown",
      "metadata": {
        "id": "CTZXeX0q7YV2"
      },
      "source": [
        "# Questions\n",
        "\n",
        "1. Which of the following terms is neglected in the BO approximation?\n",
        "\n",
        "A.\tElectronic kinetic energy operator.\n",
        "\n",
        "B.\tNuclear kinetic energy operator.\n",
        "\n",
        "C.\tPotential energy between the electrons and nuclei. It is the sum of all electron-nucleus Coulomb interactions.\n",
        "\n",
        "D.\tPotential energy operator arising from electron-electron Coulomb repulsions."
      ]
    },
    {
      "cell_type": "code",
      "execution_count": null,
      "metadata": {
        "cellView": "form",
        "colab": {
          "base_uri": "https://localhost:8080/"
        },
        "id": "DtfjLkr-7wsF",
        "outputId": "6979de4c-48ed-4fde-f576-c1929cc8d61b"
      },
      "outputs": [
        {
          "output_type": "stream",
          "name": "stdout",
          "text": [
            "Incorrect, please try again\n"
          ]
        }
      ],
      "source": [
        "#@title Enter your answer A, B, C, D or E or ? for a solution, then execute cell.\n",
        "answer = \" \" #@param {type:\"string\"}\n",
        "solution = \"B\"\n",
        "if answer == solution:\n",
        "  print(\"Correct\")\n",
        "elif answer == '?':\n",
        "  print(solution)\n",
        "else:\n",
        "  print(\"Incorrect, please try again\")"
      ]
    },
    {
      "cell_type": "markdown",
      "metadata": {
        "id": "4CxW6o7R8sk5"
      },
      "source": [
        "2. The Slater determinant wave function is antisymmetric with respect to: \n",
        "\n",
        "A.\tthe exchange of two electrons (permutation of two rows) or, \n",
        "\n",
        "B.\twith respect to the exchange of two spin orbitals (permutation of two columns)\n",
        "\n",
        "C.\tOr both the above?\n"
      ]
    },
    {
      "cell_type": "code",
      "execution_count": null,
      "metadata": {
        "cellView": "form",
        "colab": {
          "base_uri": "https://localhost:8080/"
        },
        "id": "MEZy8MCz88kO",
        "outputId": "4b8cec33-0694-4388-f746-c65ad081220e"
      },
      "outputs": [
        {
          "output_type": "stream",
          "name": "stdout",
          "text": [
            "Incorrect, please try again\n"
          ]
        }
      ],
      "source": [
        "#@title Enter your answer A, B or C or ? for a solution, then execute cell.\n",
        "answer = \"\" #@param {type:\"string\"}\n",
        "solution = \"C\"\n",
        "if answer == solution:\n",
        "  print(\"Correct\")\n",
        "elif answer == '?':\n",
        "  print(solution)\n",
        "else:\n",
        "  print(\"Incorrect, please try again\")"
      ]
    },
    {
      "cell_type": "markdown",
      "metadata": {
        "id": "Zuh8pwSV9Yvc"
      },
      "source": [
        "3. Name three fermion to qubit transformations currently supported by Qiskit Nature."
      ]
    },
    {
      "cell_type": "code",
      "execution_count": null,
      "metadata": {
        "cellView": "form",
        "colab": {
          "base_uri": "https://localhost:8080/"
        },
        "id": "UAC5uySv9f9L",
        "outputId": "df93cf6c-8fde-41c9-fbcf-82ed24bf837a"
      },
      "outputs": [
        {
          "output_type": "stream",
          "name": "stdout",
          "text": [
            "Incorrect, please try again\n"
          ]
        }
      ],
      "source": [
        "#@title Enter your answer as one or more words separated by ',' or ? for a solution, then execute cell.\n",
        "answer = \"\" #@param {type:\"string\"}\n",
        "solution = \"Jordan-Wigner, Parity, Bravyi-Kitaev\"\n",
        "if answer == solution:\n",
        "  print(\"Correct\")\n",
        "elif answer == '?':\n",
        "  print(solution)\n",
        "else:\n",
        "  print(\"Incorrect, please try again\")"
      ]
    },
    {
      "cell_type": "markdown",
      "metadata": {
        "id": "XlqcEsjy-DWE"
      },
      "source": [
        "4. Name two fermion to qubit transformations that simulates a system of electrons with the same number of qubits as electrons."
      ]
    },
    {
      "cell_type": "code",
      "execution_count": null,
      "metadata": {
        "cellView": "form",
        "colab": {
          "base_uri": "https://localhost:8080/"
        },
        "id": "B3ED_Rcr-NdW",
        "outputId": "0001afb5-c427-4f42-e3b3-53cd1d108660"
      },
      "outputs": [
        {
          "output_type": "stream",
          "name": "stdout",
          "text": [
            "Incorrect, please try again\n"
          ]
        }
      ],
      "source": [
        "#@title Enter your answer as one or more words separated by ',' or ? for a solution, then execute cell.\n",
        "answer = \"\" #@param {type:\"string\"}\n",
        "solution = \"Jordan-Wigner, Parity\"\n",
        "if answer == solution:\n",
        "  print(\"Correct\")\n",
        "elif answer == '?':\n",
        "  print(solution)\n",
        "else:\n",
        "  print(\"Incorrect, please try again\")"
      ]
    },
    {
      "cell_type": "markdown",
      "metadata": {
        "id": "evV1mRFp-VbD"
      },
      "source": [
        "5.\tFor which transformation does the resulting Hamiltonian commute with the number spin up and number spin down operators which can be used to taper off two qubits?"
      ]
    },
    {
      "cell_type": "code",
      "execution_count": null,
      "metadata": {
        "cellView": "form",
        "colab": {
          "base_uri": "https://localhost:8080/"
        },
        "id": "iUUXDtOc-bwr",
        "outputId": "023f9e1c-e6b7-4589-a219-773a633585af"
      },
      "outputs": [
        {
          "output_type": "stream",
          "name": "stdout",
          "text": [
            "Incorrect, please try again\n"
          ]
        }
      ],
      "source": [
        "#@title Enter your answer as one or more words separated by ',' or ? for a solution, then execute cell.\n",
        "answer = \"\" #@param {type:\"string\"}\n",
        "solution = \"Jordan-Wigner\"\n",
        "if answer == solution:\n",
        "  print(\"Correct\")\n",
        "elif answer == '?':\n",
        "  print(solution)\n",
        "else:\n",
        "  print(\"Incorrect, please try again\")"
      ]
    },
    {
      "cell_type": "code",
      "execution_count": null,
      "metadata": {
        "colab": {
          "base_uri": "https://localhost:8080/",
          "height": 355
        },
        "id": "RWDA86DIl79f",
        "outputId": "6bf91a6f-59a1-4ab0-e87b-d972ec1e2018"
      },
      "outputs": [
        {
          "output_type": "display_data",
          "data": {
            "text/plain": [
              "<IPython.core.display.HTML object>"
            ],
            "text/html": [
              "<h3>Version Information</h3><table><tr><th>Qiskit Software</th><th>Version</th></tr><tr><td><code>qiskit-terra</code></td><td>0.24.0</td></tr><tr><td><code>qiskit-aer</code></td><td>0.12.0</td></tr><tr><td><code>qiskit-ibmq-provider</code></td><td>0.20.2</td></tr><tr><td><code>qiskit</code></td><td>0.43.0</td></tr><tr><td><code>qiskit-nature</code></td><td>0.6.1</td></tr><tr><th>System information</th></tr><tr><td>Python version</td><td>3.10.11</td></tr><tr><td>Python compiler</td><td>GCC 9.4.0</td></tr><tr><td>Python build</td><td>main, Apr  5 2023 14:15:10</td></tr><tr><td>OS</td><td>Linux</td></tr><tr><td>CPUs</td><td>1</td></tr><tr><td>Memory (Gb)</td><td>12.678398132324219</td></tr><tr><td colspan='2'>Wed May 31 17:43:57 2023 UTC</td></tr></table>"
            ]
          },
          "metadata": {}
        }
      ],
      "source": [
        "# Display Qiskit Software and System information\n",
        "import qiskit.tools.jupyter\n",
        "%qiskit_version_table"
      ]
    }
  ],
  "metadata": {
    "colab": {
      "provenance": []
    },
    "kernelspec": {
      "display_name": "Python 3",
      "language": "python",
      "name": "python3"
    },
    "language_info": {
      "codemirror_mode": {
        "name": "ipython",
        "version": 3
      },
      "file_extension": ".py",
      "mimetype": "text/x-python",
      "name": "python",
      "nbconvert_exporter": "python",
      "pygments_lexer": "ipython3",
      "version": "3.8.12"
    }
  },
  "nbformat": 4,
  "nbformat_minor": 0
}