{
  "nbformat": 4,
  "nbformat_minor": 0,
  "metadata": {
    "colab": {
      "name": "Chapter_02_Postulates_of_quantum_mechanics.ipynb",
      "provenance": [],
      "collapsed_sections": []
    },
    "kernelspec": {
      "name": "python3",
      "display_name": "Python 3"
    },
    "language_info": {
      "name": "python"
    }
  },
  "cells": [
    {
      "cell_type": "markdown",
      "source": [
        "# MIT License\n",
        "\n",
        "Copyright (c) 2022 Packt\n",
        "\n",
        "Permission is hereby granted, free of charge, to any person obtaining a copy\n",
        "of this software and associated documentation files (the \"Software\"), to deal\n",
        "in the Software without restriction, including without limitation the rights\n",
        "to use, copy, modify, merge, publish, distribute, sublicense, and/or sell\n",
        "copies of the Software, and to permit persons to whom the Software is\n",
        "furnished to do so, subject to the following conditions:\n",
        "\n",
        "The above copyright notice and this permission notice shall be included in all\n",
        "copies or substantial portions of the Software.\n",
        "\n",
        "THE SOFTWARE IS PROVIDED \"AS IS\", WITHOUT WARRANTY OF ANY KIND, EXPRESS OR\n",
        "IMPLIED, INCLUDING BUT NOT LIMITED TO THE WARRANTIES OF MERCHANTABILITY,\n",
        "FITNESS FOR A PARTICULAR PURPOSE AND NONINFRINGEMENT. IN NO EVENT SHALL THE\n",
        "AUTHORS OR COPYRIGHT HOLDERS BE LIABLE FOR ANY CLAIM, DAMAGES OR OTHER\n",
        "LIABILITY, WHETHER IN AN ACTION OF CONTRACT, TORT OR OTHERWISE, ARISING FROM,\n",
        "OUT OF OR IN CONNECTION WITH THE SOFTWARE OR THE USE OR OTHER DEALINGS IN THE\n",
        "SOFTWARE."
      ],
      "metadata": {
        "id": "E8PrlZV--dic"
      }
    },
    {
      "cell_type": "markdown",
      "metadata": {
        "id": "mJ3A9PJjlHYv"
      },
      "source": [
        "#2. Postulates of quantum mechanics"
      ]
    },
    {
      "cell_type": "markdown",
      "metadata": {
        "id": "5HvYbQqui8SU"
      },
      "source": [
        "# Technical requirements\n",
        "A companion Jupyter notebook for this chapter can be downloaded from GitHub at https://github.com/PacktPublishing/Quantum-Chemistry-and-Computing-for-the-Curious, which has been tested in the Google Colab environment, which is free and runs entirely in the cloud, and in the IBM Quantum Lab environment. Please refer to Appendix B – Leveraging Jupyter Notebooks in the Cloud, for more information. The companion Jupyter notebook automatically installs the following list of libraries:\n",
        "- NumPy (Numerical Python) [NumPy], an open-source Python library that is used in almost every field of science and engineering,\n",
        "- SymPy, [SymPy] a Python library for symbolic mathematics.\n",
        "- Qiskit [Qiskit], an open-source SDK for working with quantum computers at the level of pulses, circuits, and application modules.\n",
        "- Qiskit visualization support, to enable use of visualization functionality and Jupyter notebooks.\n",
        "\n",
        "Install NumPy using the following command:"
      ]
    },
    {
      "cell_type": "code",
      "metadata": {
        "id": "-EsyeSvlEdVV"
      },
      "source": [
        "# pip install numpy"
      ],
      "execution_count": null,
      "outputs": []
    },
    {
      "cell_type": "markdown",
      "metadata": {
        "id": "7gOHclfOcwdg"
      },
      "source": [
        "Install SymPy using the following command:"
      ]
    },
    {
      "cell_type": "code",
      "metadata": {
        "colab": {
          "base_uri": "https://localhost:8080/"
        },
        "id": "uQpgFCuBjBgK",
        "outputId": "37b7018f-ce0a-43ca-ad11-920722e6ae56"
      },
      "source": [
        "pip install sympy"
      ],
      "execution_count": null,
      "outputs": [
        {
          "output_type": "stream",
          "name": "stdout",
          "text": [
            "Requirement already satisfied: sympy in /usr/local/lib/python3.7/dist-packages (1.7.1)\n",
            "Requirement already satisfied: mpmath>=0.19 in /usr/local/lib/python3.7/dist-packages (from sympy) (1.2.1)\n"
          ]
        }
      ]
    },
    {
      "cell_type": "markdown",
      "metadata": {
        "id": "g3AYa5BNnw-V"
      },
      "source": [
        "Install Qiskit using the following command:"
      ]
    },
    {
      "cell_type": "code",
      "metadata": {
        "id": "Xe_3yoMNnsrL",
        "colab": {
          "base_uri": "https://localhost:8080/"
        },
        "outputId": "e3104382-3616-4bec-8035-e05f0ca4edf7"
      },
      "source": [
        "pip install qiskit"
      ],
      "execution_count": null,
      "outputs": [
        {
          "output_type": "stream",
          "name": "stdout",
          "text": [
            "Collecting qiskit\n",
            "  Downloading qiskit-0.34.2.tar.gz (13 kB)\n",
            "Collecting qiskit-terra==0.19.2\n",
            "  Downloading qiskit_terra-0.19.2-cp37-cp37m-manylinux_2_12_x86_64.manylinux2010_x86_64.whl (6.5 MB)\n",
            "\u001b[K     |████████████████████████████████| 6.5 MB 4.0 MB/s \n",
            "\u001b[?25hCollecting qiskit-aer==0.10.3\n",
            "  Downloading qiskit_aer-0.10.3-cp37-cp37m-manylinux_2_12_x86_64.manylinux2010_x86_64.whl (18.0 MB)\n",
            "\u001b[K     |████████████████████████████████| 18.0 MB 102 kB/s \n",
            "\u001b[?25hCollecting qiskit-ibmq-provider==0.18.3\n",
            "  Downloading qiskit_ibmq_provider-0.18.3-py3-none-any.whl (238 kB)\n",
            "\u001b[K     |████████████████████████████████| 238 kB 49.8 MB/s \n",
            "\u001b[?25hCollecting qiskit-ignis==0.7.0\n",
            "  Downloading qiskit_ignis-0.7.0-py3-none-any.whl (200 kB)\n",
            "\u001b[K     |████████████████████████████████| 200 kB 26.6 MB/s \n",
            "\u001b[?25hRequirement already satisfied: numpy>=1.16.3 in /usr/local/lib/python3.7/dist-packages (from qiskit-aer==0.10.3->qiskit) (1.21.5)\n",
            "Requirement already satisfied: scipy>=1.0 in /usr/local/lib/python3.7/dist-packages (from qiskit-aer==0.10.3->qiskit) (1.4.1)\n",
            "Collecting requests-ntlm>=1.1.0\n",
            "  Downloading requests_ntlm-1.1.0-py2.py3-none-any.whl (5.7 kB)\n",
            "Requirement already satisfied: python-dateutil>=2.8.0 in /usr/local/lib/python3.7/dist-packages (from qiskit-ibmq-provider==0.18.3->qiskit) (2.8.2)\n",
            "Requirement already satisfied: urllib3>=1.21.1 in /usr/local/lib/python3.7/dist-packages (from qiskit-ibmq-provider==0.18.3->qiskit) (1.24.3)\n",
            "Collecting websocket-client>=1.0.1\n",
            "  Downloading websocket_client-1.3.1-py3-none-any.whl (54 kB)\n",
            "\u001b[K     |████████████████████████████████| 54 kB 2.2 MB/s \n",
            "\u001b[?25hRequirement already satisfied: requests>=2.19 in /usr/local/lib/python3.7/dist-packages (from qiskit-ibmq-provider==0.18.3->qiskit) (2.23.0)\n",
            "Requirement already satisfied: setuptools>=40.1.0 in /usr/local/lib/python3.7/dist-packages (from qiskit-ignis==0.7.0->qiskit) (57.4.0)\n",
            "Collecting retworkx>=0.8.0\n",
            "  Downloading retworkx-0.11.0-cp37-cp37m-manylinux_2_5_x86_64.manylinux1_x86_64.manylinux_2_12_x86_64.manylinux2010_x86_64.whl (1.6 MB)\n",
            "\u001b[K     |████████████████████████████████| 1.6 MB 51.3 MB/s \n",
            "\u001b[?25hCollecting symengine>=0.8\n",
            "  Downloading symengine-0.9.2-cp37-cp37m-manylinux2010_x86_64.whl (37.5 MB)\n",
            "\u001b[K     |████████████████████████████████| 37.5 MB 1.6 MB/s \n",
            "\u001b[?25hCollecting tweedledum<2.0,>=1.1\n",
            "  Downloading tweedledum-1.1.1-cp37-cp37m-manylinux_2_12_x86_64.manylinux2010_x86_64.whl (943 kB)\n",
            "\u001b[K     |████████████████████████████████| 943 kB 49.3 MB/s \n",
            "\u001b[?25hRequirement already satisfied: sympy>=1.3 in /usr/local/lib/python3.7/dist-packages (from qiskit-terra==0.19.2->qiskit) (1.7.1)\n",
            "Requirement already satisfied: dill>=0.3 in /usr/local/lib/python3.7/dist-packages (from qiskit-terra==0.19.2->qiskit) (0.3.4)\n",
            "Requirement already satisfied: psutil>=5 in /usr/local/lib/python3.7/dist-packages (from qiskit-terra==0.19.2->qiskit) (5.4.8)\n",
            "Collecting scipy>=1.0\n",
            "  Downloading scipy-1.7.3-cp37-cp37m-manylinux_2_12_x86_64.manylinux2010_x86_64.whl (38.1 MB)\n",
            "\u001b[K     |████████████████████████████████| 38.1 MB 9.0 MB/s \n",
            "\u001b[?25hCollecting stevedore>=3.0.0\n",
            "  Downloading stevedore-3.5.0-py3-none-any.whl (49 kB)\n",
            "\u001b[K     |████████████████████████████████| 49 kB 3.4 MB/s \n",
            "\u001b[?25hCollecting ply>=3.10\n",
            "  Downloading ply-3.11-py2.py3-none-any.whl (49 kB)\n",
            "\u001b[K     |████████████████████████████████| 49 kB 4.1 MB/s \n",
            "\u001b[?25hCollecting python-constraint>=1.4\n",
            "  Downloading python-constraint-1.4.0.tar.bz2 (18 kB)\n",
            "Requirement already satisfied: six>=1.5 in /usr/local/lib/python3.7/dist-packages (from python-dateutil>=2.8.0->qiskit-ibmq-provider==0.18.3->qiskit) (1.15.0)\n",
            "Requirement already satisfied: certifi>=2017.4.17 in /usr/local/lib/python3.7/dist-packages (from requests>=2.19->qiskit-ibmq-provider==0.18.3->qiskit) (2021.10.8)\n",
            "Requirement already satisfied: chardet<4,>=3.0.2 in /usr/local/lib/python3.7/dist-packages (from requests>=2.19->qiskit-ibmq-provider==0.18.3->qiskit) (3.0.4)\n",
            "Requirement already satisfied: idna<3,>=2.5 in /usr/local/lib/python3.7/dist-packages (from requests>=2.19->qiskit-ibmq-provider==0.18.3->qiskit) (2.10)\n",
            "Collecting ntlm-auth>=1.0.2\n",
            "  Downloading ntlm_auth-1.5.0-py2.py3-none-any.whl (29 kB)\n",
            "Collecting cryptography>=1.3\n",
            "  Downloading cryptography-36.0.1-cp36-abi3-manylinux_2_24_x86_64.whl (3.6 MB)\n",
            "\u001b[K     |████████████████████████████████| 3.6 MB 36.8 MB/s \n",
            "\u001b[?25hRequirement already satisfied: cffi>=1.12 in /usr/local/lib/python3.7/dist-packages (from cryptography>=1.3->requests-ntlm>=1.1.0->qiskit-ibmq-provider==0.18.3->qiskit) (1.15.0)\n",
            "Requirement already satisfied: pycparser in /usr/local/lib/python3.7/dist-packages (from cffi>=1.12->cryptography>=1.3->requests-ntlm>=1.1.0->qiskit-ibmq-provider==0.18.3->qiskit) (2.21)\n",
            "Collecting pbr!=2.1.0,>=2.0.0\n",
            "  Downloading pbr-5.8.1-py2.py3-none-any.whl (113 kB)\n",
            "\u001b[K     |████████████████████████████████| 113 kB 48.1 MB/s \n",
            "\u001b[?25hRequirement already satisfied: importlib-metadata>=1.7.0 in /usr/local/lib/python3.7/dist-packages (from stevedore>=3.0.0->qiskit-terra==0.19.2->qiskit) (4.11.2)\n",
            "Requirement already satisfied: typing-extensions>=3.6.4 in /usr/local/lib/python3.7/dist-packages (from importlib-metadata>=1.7.0->stevedore>=3.0.0->qiskit-terra==0.19.2->qiskit) (3.10.0.2)\n",
            "Requirement already satisfied: zipp>=0.5 in /usr/local/lib/python3.7/dist-packages (from importlib-metadata>=1.7.0->stevedore>=3.0.0->qiskit-terra==0.19.2->qiskit) (3.7.0)\n",
            "Requirement already satisfied: mpmath>=0.19 in /usr/local/lib/python3.7/dist-packages (from sympy>=1.3->qiskit-terra==0.19.2->qiskit) (1.2.1)\n",
            "Building wheels for collected packages: qiskit, python-constraint\n",
            "  Building wheel for qiskit (setup.py) ... \u001b[?25l\u001b[?25hdone\n",
            "  Created wheel for qiskit: filename=qiskit-0.34.2-py3-none-any.whl size=11805 sha256=03488dc201f2520389f34f304e169da3e893fa2eb83f7ea1f88152a339feb819\n",
            "  Stored in directory: /root/.cache/pip/wheels/62/77/65/cda6eedfdd2a525bd3f479a4386930ae3088a1eb01f8c944ed\n",
            "  Building wheel for python-constraint (setup.py) ... \u001b[?25l\u001b[?25hdone\n",
            "  Created wheel for python-constraint: filename=python_constraint-1.4.0-py2.py3-none-any.whl size=24081 sha256=7062d6bed6ce78688709a07a9aa0e6d508f8b4c63072c8f4df7eebdfe60ba6d9\n",
            "  Stored in directory: /root/.cache/pip/wheels/07/27/db/1222c80eb1e431f3d2199c12569cb1cac60f562a451fe30479\n",
            "Successfully built qiskit python-constraint\n",
            "Installing collected packages: pbr, tweedledum, symengine, stevedore, scipy, retworkx, python-constraint, ply, ntlm-auth, cryptography, websocket-client, requests-ntlm, qiskit-terra, qiskit-ignis, qiskit-ibmq-provider, qiskit-aer, qiskit\n",
            "  Attempting uninstall: scipy\n",
            "    Found existing installation: scipy 1.4.1\n",
            "    Uninstalling scipy-1.4.1:\n",
            "      Successfully uninstalled scipy-1.4.1\n",
            "\u001b[31mERROR: pip's dependency resolver does not currently take into account all the packages that are installed. This behaviour is the source of the following dependency conflicts.\n",
            "albumentations 0.1.12 requires imgaug<0.2.7,>=0.2.5, but you have imgaug 0.2.9 which is incompatible.\u001b[0m\n",
            "Successfully installed cryptography-36.0.1 ntlm-auth-1.5.0 pbr-5.8.1 ply-3.11 python-constraint-1.4.0 qiskit-0.34.2 qiskit-aer-0.10.3 qiskit-ibmq-provider-0.18.3 qiskit-ignis-0.7.0 qiskit-terra-0.19.2 requests-ntlm-1.1.0 retworkx-0.11.0 scipy-1.7.3 stevedore-3.5.0 symengine-0.9.2 tweedledum-1.1.1 websocket-client-1.3.1\n"
          ]
        }
      ]
    },
    {
      "cell_type": "markdown",
      "metadata": {
        "id": "pQm-SBC-nzqz"
      },
      "source": [
        "Install Qiskit visualization support using the following command:"
      ]
    },
    {
      "cell_type": "code",
      "metadata": {
        "colab": {
          "base_uri": "https://localhost:8080/"
        },
        "id": "dPnItk6K6fCb",
        "outputId": "d52ed9c4-1a0d-48c1-e2ae-fb62e2a3f3f0"
      },
      "source": [
        "pip install 'qiskit[visualization]'"
      ],
      "execution_count": null,
      "outputs": [
        {
          "output_type": "stream",
          "name": "stdout",
          "text": [
            "Requirement already satisfied: qiskit[visualization] in /usr/local/lib/python3.7/dist-packages (0.34.2)\n",
            "Requirement already satisfied: qiskit-ignis==0.7.0 in /usr/local/lib/python3.7/dist-packages (from qiskit[visualization]) (0.7.0)\n",
            "Requirement already satisfied: qiskit-aer==0.10.3 in /usr/local/lib/python3.7/dist-packages (from qiskit[visualization]) (0.10.3)\n",
            "Requirement already satisfied: qiskit-ibmq-provider==0.18.3 in /usr/local/lib/python3.7/dist-packages (from qiskit[visualization]) (0.18.3)\n",
            "Requirement already satisfied: qiskit-terra==0.19.2 in /usr/local/lib/python3.7/dist-packages (from qiskit[visualization]) (0.19.2)\n",
            "Requirement already satisfied: ipywidgets>=7.3.0 in /usr/local/lib/python3.7/dist-packages (from qiskit[visualization]) (7.6.5)\n",
            "Requirement already satisfied: pydot in /usr/local/lib/python3.7/dist-packages (from qiskit[visualization]) (1.3.0)\n",
            "Requirement already satisfied: pillow>=4.2.1 in /usr/local/lib/python3.7/dist-packages (from qiskit[visualization]) (7.1.2)\n",
            "Requirement already satisfied: pygments>=2.4 in /usr/local/lib/python3.7/dist-packages (from qiskit[visualization]) (2.6.1)\n",
            "Requirement already satisfied: matplotlib>=2.1 in /usr/local/lib/python3.7/dist-packages (from qiskit[visualization]) (3.2.2)\n",
            "Collecting pylatexenc>=1.4\n",
            "  Downloading pylatexenc-2.10.tar.gz (162 kB)\n",
            "\u001b[K     |████████████████████████████████| 162 kB 4.4 MB/s \n",
            "\u001b[?25hRequirement already satisfied: seaborn>=0.9.0 in /usr/local/lib/python3.7/dist-packages (from qiskit[visualization]) (0.11.2)\n",
            "Requirement already satisfied: numpy>=1.16.3 in /usr/local/lib/python3.7/dist-packages (from qiskit-aer==0.10.3->qiskit[visualization]) (1.21.5)\n",
            "Requirement already satisfied: scipy>=1.0 in /usr/local/lib/python3.7/dist-packages (from qiskit-aer==0.10.3->qiskit[visualization]) (1.7.3)\n",
            "Requirement already satisfied: websocket-client>=1.0.1 in /usr/local/lib/python3.7/dist-packages (from qiskit-ibmq-provider==0.18.3->qiskit[visualization]) (1.3.1)\n",
            "Requirement already satisfied: requests>=2.19 in /usr/local/lib/python3.7/dist-packages (from qiskit-ibmq-provider==0.18.3->qiskit[visualization]) (2.23.0)\n",
            "Requirement already satisfied: python-dateutil>=2.8.0 in /usr/local/lib/python3.7/dist-packages (from qiskit-ibmq-provider==0.18.3->qiskit[visualization]) (2.8.2)\n",
            "Requirement already satisfied: requests-ntlm>=1.1.0 in /usr/local/lib/python3.7/dist-packages (from qiskit-ibmq-provider==0.18.3->qiskit[visualization]) (1.1.0)\n",
            "Requirement already satisfied: urllib3>=1.21.1 in /usr/local/lib/python3.7/dist-packages (from qiskit-ibmq-provider==0.18.3->qiskit[visualization]) (1.24.3)\n",
            "Requirement already satisfied: setuptools>=40.1.0 in /usr/local/lib/python3.7/dist-packages (from qiskit-ignis==0.7.0->qiskit[visualization]) (57.4.0)\n",
            "Requirement already satisfied: retworkx>=0.8.0 in /usr/local/lib/python3.7/dist-packages (from qiskit-ignis==0.7.0->qiskit[visualization]) (0.11.0)\n",
            "Requirement already satisfied: dill>=0.3 in /usr/local/lib/python3.7/dist-packages (from qiskit-terra==0.19.2->qiskit[visualization]) (0.3.4)\n",
            "Requirement already satisfied: sympy>=1.3 in /usr/local/lib/python3.7/dist-packages (from qiskit-terra==0.19.2->qiskit[visualization]) (1.7.1)\n",
            "Requirement already satisfied: ply>=3.10 in /usr/local/lib/python3.7/dist-packages (from qiskit-terra==0.19.2->qiskit[visualization]) (3.11)\n",
            "Requirement already satisfied: python-constraint>=1.4 in /usr/local/lib/python3.7/dist-packages (from qiskit-terra==0.19.2->qiskit[visualization]) (1.4.0)\n",
            "Requirement already satisfied: psutil>=5 in /usr/local/lib/python3.7/dist-packages (from qiskit-terra==0.19.2->qiskit[visualization]) (5.4.8)\n",
            "Requirement already satisfied: symengine>=0.8 in /usr/local/lib/python3.7/dist-packages (from qiskit-terra==0.19.2->qiskit[visualization]) (0.9.2)\n",
            "Requirement already satisfied: stevedore>=3.0.0 in /usr/local/lib/python3.7/dist-packages (from qiskit-terra==0.19.2->qiskit[visualization]) (3.5.0)\n",
            "Requirement already satisfied: tweedledum<2.0,>=1.1 in /usr/local/lib/python3.7/dist-packages (from qiskit-terra==0.19.2->qiskit[visualization]) (1.1.1)\n",
            "Requirement already satisfied: jupyterlab-widgets>=1.0.0 in /usr/local/lib/python3.7/dist-packages (from ipywidgets>=7.3.0->qiskit[visualization]) (1.0.2)\n",
            "Requirement already satisfied: widgetsnbextension~=3.5.0 in /usr/local/lib/python3.7/dist-packages (from ipywidgets>=7.3.0->qiskit[visualization]) (3.5.2)\n",
            "Requirement already satisfied: nbformat>=4.2.0 in /usr/local/lib/python3.7/dist-packages (from ipywidgets>=7.3.0->qiskit[visualization]) (5.1.3)\n",
            "Requirement already satisfied: traitlets>=4.3.1 in /usr/local/lib/python3.7/dist-packages (from ipywidgets>=7.3.0->qiskit[visualization]) (5.1.1)\n",
            "Requirement already satisfied: ipykernel>=4.5.1 in /usr/local/lib/python3.7/dist-packages (from ipywidgets>=7.3.0->qiskit[visualization]) (4.10.1)\n",
            "Requirement already satisfied: ipython>=4.0.0 in /usr/local/lib/python3.7/dist-packages (from ipywidgets>=7.3.0->qiskit[visualization]) (5.5.0)\n",
            "Requirement already satisfied: ipython-genutils~=0.2.0 in /usr/local/lib/python3.7/dist-packages (from ipywidgets>=7.3.0->qiskit[visualization]) (0.2.0)\n",
            "Requirement already satisfied: jupyter-client in /usr/local/lib/python3.7/dist-packages (from ipykernel>=4.5.1->ipywidgets>=7.3.0->qiskit[visualization]) (5.3.5)\n",
            "Requirement already satisfied: tornado>=4.0 in /usr/local/lib/python3.7/dist-packages (from ipykernel>=4.5.1->ipywidgets>=7.3.0->qiskit[visualization]) (5.1.1)\n",
            "Requirement already satisfied: decorator in /usr/local/lib/python3.7/dist-packages (from ipython>=4.0.0->ipywidgets>=7.3.0->qiskit[visualization]) (4.4.2)\n",
            "Requirement already satisfied: prompt-toolkit<2.0.0,>=1.0.4 in /usr/local/lib/python3.7/dist-packages (from ipython>=4.0.0->ipywidgets>=7.3.0->qiskit[visualization]) (1.0.18)\n",
            "Requirement already satisfied: pickleshare in /usr/local/lib/python3.7/dist-packages (from ipython>=4.0.0->ipywidgets>=7.3.0->qiskit[visualization]) (0.7.5)\n",
            "Requirement already satisfied: pexpect in /usr/local/lib/python3.7/dist-packages (from ipython>=4.0.0->ipywidgets>=7.3.0->qiskit[visualization]) (4.8.0)\n",
            "Requirement already satisfied: simplegeneric>0.8 in /usr/local/lib/python3.7/dist-packages (from ipython>=4.0.0->ipywidgets>=7.3.0->qiskit[visualization]) (0.8.1)\n",
            "Requirement already satisfied: cycler>=0.10 in /usr/local/lib/python3.7/dist-packages (from matplotlib>=2.1->qiskit[visualization]) (0.11.0)\n",
            "Requirement already satisfied: kiwisolver>=1.0.1 in /usr/local/lib/python3.7/dist-packages (from matplotlib>=2.1->qiskit[visualization]) (1.3.2)\n",
            "Requirement already satisfied: pyparsing!=2.0.4,!=2.1.2,!=2.1.6,>=2.0.1 in /usr/local/lib/python3.7/dist-packages (from matplotlib>=2.1->qiskit[visualization]) (3.0.7)\n",
            "Requirement already satisfied: jupyter-core in /usr/local/lib/python3.7/dist-packages (from nbformat>=4.2.0->ipywidgets>=7.3.0->qiskit[visualization]) (4.9.2)\n",
            "Requirement already satisfied: jsonschema!=2.5.0,>=2.4 in /usr/local/lib/python3.7/dist-packages (from nbformat>=4.2.0->ipywidgets>=7.3.0->qiskit[visualization]) (4.3.3)\n",
            "Requirement already satisfied: importlib-resources>=1.4.0 in /usr/local/lib/python3.7/dist-packages (from jsonschema!=2.5.0,>=2.4->nbformat>=4.2.0->ipywidgets>=7.3.0->qiskit[visualization]) (5.4.0)\n",
            "Requirement already satisfied: pyrsistent!=0.17.0,!=0.17.1,!=0.17.2,>=0.14.0 in /usr/local/lib/python3.7/dist-packages (from jsonschema!=2.5.0,>=2.4->nbformat>=4.2.0->ipywidgets>=7.3.0->qiskit[visualization]) (0.18.1)\n",
            "Requirement already satisfied: typing-extensions in /usr/local/lib/python3.7/dist-packages (from jsonschema!=2.5.0,>=2.4->nbformat>=4.2.0->ipywidgets>=7.3.0->qiskit[visualization]) (3.10.0.2)\n",
            "Requirement already satisfied: importlib-metadata in /usr/local/lib/python3.7/dist-packages (from jsonschema!=2.5.0,>=2.4->nbformat>=4.2.0->ipywidgets>=7.3.0->qiskit[visualization]) (4.11.2)\n",
            "Requirement already satisfied: attrs>=17.4.0 in /usr/local/lib/python3.7/dist-packages (from jsonschema!=2.5.0,>=2.4->nbformat>=4.2.0->ipywidgets>=7.3.0->qiskit[visualization]) (21.4.0)\n",
            "Requirement already satisfied: zipp>=3.1.0 in /usr/local/lib/python3.7/dist-packages (from importlib-resources>=1.4.0->jsonschema!=2.5.0,>=2.4->nbformat>=4.2.0->ipywidgets>=7.3.0->qiskit[visualization]) (3.7.0)\n",
            "Requirement already satisfied: six>=1.9.0 in /usr/local/lib/python3.7/dist-packages (from prompt-toolkit<2.0.0,>=1.0.4->ipython>=4.0.0->ipywidgets>=7.3.0->qiskit[visualization]) (1.15.0)\n",
            "Requirement already satisfied: wcwidth in /usr/local/lib/python3.7/dist-packages (from prompt-toolkit<2.0.0,>=1.0.4->ipython>=4.0.0->ipywidgets>=7.3.0->qiskit[visualization]) (0.2.5)\n",
            "Requirement already satisfied: certifi>=2017.4.17 in /usr/local/lib/python3.7/dist-packages (from requests>=2.19->qiskit-ibmq-provider==0.18.3->qiskit[visualization]) (2021.10.8)\n",
            "Requirement already satisfied: idna<3,>=2.5 in /usr/local/lib/python3.7/dist-packages (from requests>=2.19->qiskit-ibmq-provider==0.18.3->qiskit[visualization]) (2.10)\n",
            "Requirement already satisfied: chardet<4,>=3.0.2 in /usr/local/lib/python3.7/dist-packages (from requests>=2.19->qiskit-ibmq-provider==0.18.3->qiskit[visualization]) (3.0.4)\n",
            "Requirement already satisfied: ntlm-auth>=1.0.2 in /usr/local/lib/python3.7/dist-packages (from requests-ntlm>=1.1.0->qiskit-ibmq-provider==0.18.3->qiskit[visualization]) (1.5.0)\n",
            "Requirement already satisfied: cryptography>=1.3 in /usr/local/lib/python3.7/dist-packages (from requests-ntlm>=1.1.0->qiskit-ibmq-provider==0.18.3->qiskit[visualization]) (36.0.1)\n",
            "Requirement already satisfied: cffi>=1.12 in /usr/local/lib/python3.7/dist-packages (from cryptography>=1.3->requests-ntlm>=1.1.0->qiskit-ibmq-provider==0.18.3->qiskit[visualization]) (1.15.0)\n",
            "Requirement already satisfied: pycparser in /usr/local/lib/python3.7/dist-packages (from cffi>=1.12->cryptography>=1.3->requests-ntlm>=1.1.0->qiskit-ibmq-provider==0.18.3->qiskit[visualization]) (2.21)\n",
            "Requirement already satisfied: pandas>=0.23 in /usr/local/lib/python3.7/dist-packages (from seaborn>=0.9.0->qiskit[visualization]) (1.3.5)\n",
            "Requirement already satisfied: pytz>=2017.3 in /usr/local/lib/python3.7/dist-packages (from pandas>=0.23->seaborn>=0.9.0->qiskit[visualization]) (2018.9)\n",
            "Requirement already satisfied: pbr!=2.1.0,>=2.0.0 in /usr/local/lib/python3.7/dist-packages (from stevedore>=3.0.0->qiskit-terra==0.19.2->qiskit[visualization]) (5.8.1)\n",
            "Requirement already satisfied: mpmath>=0.19 in /usr/local/lib/python3.7/dist-packages (from sympy>=1.3->qiskit-terra==0.19.2->qiskit[visualization]) (1.2.1)\n",
            "Requirement already satisfied: notebook>=4.4.1 in /usr/local/lib/python3.7/dist-packages (from widgetsnbextension~=3.5.0->ipywidgets>=7.3.0->qiskit[visualization]) (5.3.1)\n",
            "Requirement already satisfied: Send2Trash in /usr/local/lib/python3.7/dist-packages (from notebook>=4.4.1->widgetsnbextension~=3.5.0->ipywidgets>=7.3.0->qiskit[visualization]) (1.8.0)\n",
            "Requirement already satisfied: jinja2 in /usr/local/lib/python3.7/dist-packages (from notebook>=4.4.1->widgetsnbextension~=3.5.0->ipywidgets>=7.3.0->qiskit[visualization]) (2.11.3)\n",
            "Requirement already satisfied: nbconvert in /usr/local/lib/python3.7/dist-packages (from notebook>=4.4.1->widgetsnbextension~=3.5.0->ipywidgets>=7.3.0->qiskit[visualization]) (5.6.1)\n",
            "Requirement already satisfied: terminado>=0.8.1 in /usr/local/lib/python3.7/dist-packages (from notebook>=4.4.1->widgetsnbextension~=3.5.0->ipywidgets>=7.3.0->qiskit[visualization]) (0.13.1)\n",
            "Requirement already satisfied: pyzmq>=13 in /usr/local/lib/python3.7/dist-packages (from jupyter-client->ipykernel>=4.5.1->ipywidgets>=7.3.0->qiskit[visualization]) (22.3.0)\n",
            "Requirement already satisfied: ptyprocess in /usr/local/lib/python3.7/dist-packages (from terminado>=0.8.1->notebook>=4.4.1->widgetsnbextension~=3.5.0->ipywidgets>=7.3.0->qiskit[visualization]) (0.7.0)\n",
            "Requirement already satisfied: MarkupSafe>=0.23 in /usr/local/lib/python3.7/dist-packages (from jinja2->notebook>=4.4.1->widgetsnbextension~=3.5.0->ipywidgets>=7.3.0->qiskit[visualization]) (2.0.1)\n",
            "Requirement already satisfied: entrypoints>=0.2.2 in /usr/local/lib/python3.7/dist-packages (from nbconvert->notebook>=4.4.1->widgetsnbextension~=3.5.0->ipywidgets>=7.3.0->qiskit[visualization]) (0.4)\n",
            "Requirement already satisfied: bleach in /usr/local/lib/python3.7/dist-packages (from nbconvert->notebook>=4.4.1->widgetsnbextension~=3.5.0->ipywidgets>=7.3.0->qiskit[visualization]) (4.1.0)\n",
            "Requirement already satisfied: mistune<2,>=0.8.1 in /usr/local/lib/python3.7/dist-packages (from nbconvert->notebook>=4.4.1->widgetsnbextension~=3.5.0->ipywidgets>=7.3.0->qiskit[visualization]) (0.8.4)\n",
            "Requirement already satisfied: defusedxml in /usr/local/lib/python3.7/dist-packages (from nbconvert->notebook>=4.4.1->widgetsnbextension~=3.5.0->ipywidgets>=7.3.0->qiskit[visualization]) (0.7.1)\n",
            "Requirement already satisfied: pandocfilters>=1.4.1 in /usr/local/lib/python3.7/dist-packages (from nbconvert->notebook>=4.4.1->widgetsnbextension~=3.5.0->ipywidgets>=7.3.0->qiskit[visualization]) (1.5.0)\n",
            "Requirement already satisfied: testpath in /usr/local/lib/python3.7/dist-packages (from nbconvert->notebook>=4.4.1->widgetsnbextension~=3.5.0->ipywidgets>=7.3.0->qiskit[visualization]) (0.6.0)\n",
            "Requirement already satisfied: webencodings in /usr/local/lib/python3.7/dist-packages (from bleach->nbconvert->notebook>=4.4.1->widgetsnbextension~=3.5.0->ipywidgets>=7.3.0->qiskit[visualization]) (0.5.1)\n",
            "Requirement already satisfied: packaging in /usr/local/lib/python3.7/dist-packages (from bleach->nbconvert->notebook>=4.4.1->widgetsnbextension~=3.5.0->ipywidgets>=7.3.0->qiskit[visualization]) (21.3)\n",
            "Building wheels for collected packages: pylatexenc\n",
            "  Building wheel for pylatexenc (setup.py) ... \u001b[?25l\u001b[?25hdone\n",
            "  Created wheel for pylatexenc: filename=pylatexenc-2.10-py3-none-any.whl size=136835 sha256=1b7b18e559f03a84743ff89f77026f9e7207ea07342372e26778989ade1d55fa\n",
            "  Stored in directory: /root/.cache/pip/wheels/f1/8a/f5/33ee79d4473eb201b519fa40f989b842e373237395a3421f52\n",
            "Successfully built pylatexenc\n",
            "Installing collected packages: pylatexenc\n",
            "Successfully installed pylatexenc-2.10\n"
          ]
        }
      ]
    },
    {
      "cell_type": "code",
      "metadata": {
        "id": "-Z7QEpO66-wn"
      },
      "source": [
        "from qiskit.visualization import array_to_latex"
      ],
      "execution_count": null,
      "outputs": []
    },
    {
      "cell_type": "markdown",
      "source": [
        "Import math libraries using the following commands:"
      ],
      "metadata": {
        "id": "ysv7sXQK96x4"
      }
    },
    {
      "cell_type": "code",
      "metadata": {
        "id": "Pbe8cRgKI4g0"
      },
      "source": [
        "import cmath\n",
        "import math"
      ],
      "execution_count": null,
      "outputs": []
    },
    {
      "cell_type": "markdown",
      "metadata": {
        "id": "btnMV9Cz8zwe"
      },
      "source": [
        "# 2.1. Postulate 1 - Wave functions"
      ]
    },
    {
      "cell_type": "markdown",
      "metadata": {
        "id": "3IIxs6s7tzvf"
      },
      "source": [
        "## 2.1.1. Spherical harmonic functions"
      ]
    },
    {
      "cell_type": "markdown",
      "metadata": {
        "id": "XSpK1o-0tzz-"
      },
      "source": [
        "### Importing NumPy, SciPy and Matplotlib Python modules\n",
        "\n"
      ]
    },
    {
      "cell_type": "code",
      "metadata": {
        "id": "H2ANINZ5udCE"
      },
      "source": [
        "import numpy as np\n",
        "import matplotlib.pyplot as plt\n",
        "import matplotlib.gridspec as gridspec\n",
        "from scipy.special import sph_harm"
      ],
      "execution_count": null,
      "outputs": []
    },
    {
      "cell_type": "markdown",
      "metadata": {
        "id": "SvJEE_n7ulHS"
      },
      "source": [
        "### Setting-up grids of polar (theta - $\\theta$) and azimuthal (phi - $\\phi$)"
      ]
    },
    {
      "cell_type": "code",
      "metadata": {
        "id": "98DK84SLugZ9"
      },
      "source": [
        "def setup_grid(num=100):\n",
        "  theta = np.linspace(0, np.pi, num)\n",
        "  phi = np.linspace(0, 2*np.pi, num)\n",
        "  # Create a 2D NumPy meshgrid from two 1D arrays of theta, phi coordinates\n",
        "  theta, phi = np.meshgrid(theta, phi)\n",
        "  # Compute cartesian coordinates with radius r = 1\n",
        "  xyz = np.array([np.sin(theta) * np.sin(phi),\n",
        "                np.sin(theta) * np.cos(phi),\n",
        "                np.cos(theta)])\n",
        "  return (theta, phi, xyz)"
      ],
      "execution_count": null,
      "outputs": []
    },
    {
      "cell_type": "code",
      "metadata": {
        "colab": {
          "base_uri": "https://localhost:8080/"
        },
        "id": "4JrNxQsT6S_6",
        "outputId": "c3c68660-abb2-42ab-dfa6-cfbdecd55d6d"
      },
      "source": [
        "(theta, phi, xyz) = setup_grid()\n",
        "print(\"Shape of meshgrid arrays, theta: {}, phi: {}, xyz: {}\".format(theta.shape, phi.shape, xyz.shape))"
      ],
      "execution_count": null,
      "outputs": [
        {
          "output_type": "stream",
          "name": "stdout",
          "text": [
            "Shape of meshgrid arrays, theta: (100, 100), phi: (100, 100), xyz: (3, 100, 100)\n"
          ]
        }
      ]
    },
    {
      "cell_type": "markdown",
      "metadata": {
        "id": "1HWRaJviu0v5"
      },
      "source": [
        "### Coloring the plotted surface of the real functions of the spherical harmonic function (Y)\n"
      ]
    },
    {
      "cell_type": "code",
      "metadata": {
        "id": "FQQIiC_lyEcx"
      },
      "source": [
        "def colour_plot(ax, Y, Yx, Yy, Yz, cmap):\n",
        "  # Colour the plotted surface according to the sign of Y.real\n",
        "  # https://matplotlib.org/stable/gallery/mplot3d/surface3d.html?highlight=surface%20plots\n",
        "  # https://matplotlib.org/stable/tutorials/colors/colormaps.html\n",
        "  cmap = plt.cm.ScalarMappable(cmap=plt.get_cmap(cmap))\n",
        "  cmap.set_clim(-0.5, 0.5)\n",
        "  ax.plot_surface(Yx, Yy, Yz,\n",
        "                  facecolors=cmap.to_rgba(Y.real),\n",
        "                  rstride=2, cstride=2)\n",
        "  return"
      ],
      "execution_count": null,
      "outputs": []
    },
    {
      "cell_type": "markdown",
      "metadata": {
        "id": "bTskRZgSu5zf"
      },
      "source": [
        "### Drawing a set of $x$, $y$, $z$ axes for reference"
      ]
    },
    {
      "cell_type": "code",
      "metadata": {
        "id": "h69FC8zMu9RP"
      },
      "source": [
        "def draw_axes(ax, ax_lim, title):\n",
        "  ax.plot([-ax_lim, ax_lim], [0,0], [0,0], c='0.5', lw=1, zorder=10)\n",
        "  ax.plot([0,0], [-ax_lim, ax_lim], [0,0], c='0.5', lw=1, zorder=10)\n",
        "  ax.plot([0,0], [0,0], [-ax_lim, ax_lim], c='0.5', lw=1, zorder=10)\n",
        "\n",
        "  # Set the limits, set the title and then turn off the axes frame\n",
        "  ax.set_title(title)\n",
        "  ax.set_xlim(-ax_lim, ax_lim)\n",
        "  ax.set_ylim(-ax_lim, ax_lim)\n",
        "  ax.set_zlim(-ax_lim, ax_lim)\n",
        "  ax.axis('off')\n",
        "  return"
      ],
      "execution_count": null,
      "outputs": []
    },
    {
      "cell_type": "markdown",
      "metadata": {
        "id": "xATS_sSMd7Xj"
      },
      "source": [
        "### Defining a function which computes the real form of the spherical harmonic Y"
      ]
    },
    {
      "cell_type": "code",
      "metadata": {
        "id": "aM1Xsdv5TpAw"
      },
      "source": [
        "def comb_Y(l, m, theta, phi):\n",
        "  Y = sph_harm(abs(m), l, phi, theta)\n",
        "  if m < 0:\n",
        "    Y = np.sqrt(2) * (-1)**m * Y.imag\n",
        "  elif m > 0:\n",
        "    Y = np.sqrt(2) * (-1)**m * Y.real\n",
        "  return Y"
      ],
      "execution_count": null,
      "outputs": []
    },
    {
      "cell_type": "markdown",
      "metadata": {
        "id": "mqBVb_J6tcdE"
      },
      "source": [
        "### Defining a function that displays the spatial wave functions for a range of values of the angular momentum quantum number and the magnetic quantum number"
      ]
    },
    {
      "cell_type": "code",
      "metadata": {
        "id": "AKL_Kb97sETy"
      },
      "source": [
        "def plot_orbitals(k, cmap = 'autumn'):\n",
        "  for l in range(0, k+1):\n",
        "    for m in range(-l, l+1):\n",
        "      fig = plt.figure(figsize=plt.figaspect(1.))\n",
        "      (theta, phi, xyz) = setup_grid()\n",
        "      ax = fig.add_subplot(projection='3d')\n",
        "      Y = comb_Y(l, m, theta, phi)\n",
        "      title = r'$l={{{}}}, m={{{}}}$'.format(l, m)\n",
        "      Yx, Yy, Yz = np.abs(Y) * xyz\n",
        "      colour_plot(ax, Y, Yx, Yy, Yz, cmap)\n",
        "      draw_axes(ax, 0.5, title)\n",
        "      fig_name = 'Hydrogen_l'+str(l)+'_m'+str(m)\n",
        "      plt.savefig(fig_name)\n",
        "      plt.show()\n",
        "  return"
      ],
      "execution_count": null,
      "outputs": []
    },
    {
      "cell_type": "markdown",
      "metadata": {
        "id": "P1bXXcm2Kbub"
      },
      "source": [
        "## Spatial wave functions of the hydrogen atom\n",
        "The result is shown in Figure 2.4."
      ]
    },
    {
      "cell_type": "code",
      "metadata": {
        "colab": {
          "base_uri": "https://localhost:8080/",
          "height": 1000
        },
        "id": "xJCeoXK4sU9z",
        "outputId": "687dd7c3-fee6-4fdc-dda7-b12719cf8efc"
      },
      "source": [
        "plot_orbitals(2)"
      ],
      "execution_count": null,
      "outputs": [
        {
          "output_type": "display_data",
          "data": {
            "image/png": "[encoded data removed]",
            "text/plain": [
              "<Figure size 288x288 with 1 Axes>"
            ]
          },
          "metadata": {
            "needs_background": "light"
          }
        },
        {
          "output_type": "display_data",
          "data": {
            "image/png": "[encoded data removed]",
            "text/plain": [
              "<Figure size 288x288 with 1 Axes>"
            ]
          },
          "metadata": {
            "needs_background": "light"
          }
        },
        {
          "output_type": "display_data",
          "data": {
            "image/png": "[encoded data removed]",
            "text/plain": [
              "<Figure size 288x288 with 1 Axes>"
            ]
          },
          "metadata": {
            "needs_background": "light"
          }
        },
        {
          "output_type": "display_data",
          "data": {
            "image/png": "[encoded data removed]",
            "text/plain": [
              "<Figure size 288x288 with 1 Axes>"
            ]
          },
          "metadata": {
            "needs_background": "light"
          }
        },
        {
          "output_type": "display_data",
          "data": {
            "image/png": "[encoded data removed]",
            "text/plain": [
              "<Figure size 288x288 with 1 Axes>"
            ]
          },
          "metadata": {
            "needs_background": "light"
          }
        },
        {
          "output_type": "display_data",
          "data": {
            "image/png": "[encoded data removed]",
            "text/plain": [
              "<Figure size 288x288 with 1 Axes>"
            ]
          },
          "metadata": {
            "needs_background": "light"
          }
        },
        {
          "output_type": "display_data",
          "data": {
            "image/png": "[encoded data removed]",
            "text/plain": [
              "<Figure size 288x288 with 1 Axes>"
            ]
          },
          "metadata": {
            "needs_background": "light"
          }
        },
        {
          "output_type": "display_data",
          "data": {
            "image/png": "[encoded data removed]",
            "text/plain": [
              "<Figure size 288x288 with 1 Axes>"
            ]
          },
          "metadata": {
            "needs_background": "light"
          }
        },
        {
          "output_type": "display_data",
          "data": {
            "image/png": "[encoded data removed]",
            "text/plain": [
              "<Figure size 288x288 with 1 Axes>"
            ]
          },
          "metadata": {
            "needs_background": "light"
          }
        }
      ]
    },
    {
      "cell_type": "markdown",
      "metadata": {
        "id": "miM3WShJ1iLI"
      },
      "source": [
        "## 2.1.2. Addition of momenta using Clebsch-Gordan coefficients"
      ]
    },
    {
      "cell_type": "code",
      "metadata": {
        "id": "L8jS6aTX1iLJ"
      },
      "source": [
        "import sympy\n",
        "from sympy import S\n",
        "from sympy.physics.quantum.cg import CG, cg_simp"
      ],
      "execution_count": null,
      "outputs": []
    },
    {
      "cell_type": "markdown",
      "metadata": {
        "id": "PuzGY8AQ1iLJ"
      },
      "source": [
        "### Defining a Clebsch-Gordan coefficient and evaluating its value\n",
        "\n",
        "#### Fermionic spin pairing to the symmetric state $|s_{1,2}=1, m_{s_{1,2}}:"
      ]
    },
    {
      "cell_type": "code",
      "metadata": {
        "colab": {
          "base_uri": "https://localhost:8080/",
          "height": 56
        },
        "id": "siRGgquAinj5",
        "outputId": "37b97514-f6e9-43c0-a0c1-b8286514677f"
      },
      "source": [
        "CG(S(1)/2, S(1)/2, S(1)/2, -S(1)/2, 1, 0).doit()"
      ],
      "execution_count": null,
      "outputs": [
        {
          "output_type": "execute_result",
          "data": {
            "text/latex": "$\\displaystyle \\frac{\\sqrt{2}}{2}$",
            "text/plain": [
              "sqrt(2)/2"
            ]
          },
          "metadata": {},
          "execution_count": 16
        }
      ]
    },
    {
      "cell_type": "code",
      "metadata": {
        "colab": {
          "base_uri": "https://localhost:8080/",
          "height": 56
        },
        "id": "jL-eyoFqjRmH",
        "outputId": "be7c08df-c3f7-49fe-8a63-4988ef32a045"
      },
      "source": [
        "CG(S(1)/2, -S(1)/2, S(1)/2, S(1)/2, 1, 0).doit()"
      ],
      "execution_count": null,
      "outputs": [
        {
          "output_type": "execute_result",
          "data": {
            "text/latex": "$\\displaystyle \\frac{\\sqrt{2}}{2}$",
            "text/plain": [
              "sqrt(2)/2"
            ]
          },
          "metadata": {},
          "execution_count": 17
        }
      ]
    },
    {
      "cell_type": "markdown",
      "metadata": {
        "id": "eJZiNwgsattb"
      },
      "source": [
        "Figure 2.5 – Defining a Clebsch-Gordan coefficient and evaluating its value"
      ]
    },
    {
      "cell_type": "markdown",
      "metadata": {
        "id": "QystJJ0Ha7Td"
      },
      "source": [
        "#### Fermionic spin pairing to antisymmetric state $(s_{1,2}=0,m_{s_{1,2}}=0)$\n"
      ]
    },
    {
      "cell_type": "code",
      "metadata": {
        "colab": {
          "base_uri": "https://localhost:8080/",
          "height": 56
        },
        "id": "vRGZIQpvkqi_",
        "outputId": "add7a7b2-292b-4cd7-862f-c38546578f68"
      },
      "source": [
        "CG(S(1)/2, S(1)/2, S(1)/2, -S(1)/2, 0, 0).doit()"
      ],
      "execution_count": null,
      "outputs": [
        {
          "output_type": "execute_result",
          "data": {
            "text/latex": "$\\displaystyle \\frac{\\sqrt{2}}{2}$",
            "text/plain": [
              "sqrt(2)/2"
            ]
          },
          "metadata": {},
          "execution_count": 18
        }
      ]
    },
    {
      "cell_type": "code",
      "metadata": {
        "colab": {
          "base_uri": "https://localhost:8080/",
          "height": 56
        },
        "id": "oSmkuCbUksg7",
        "outputId": "34f66d0e-824b-4f3c-ebc4-e3ec204b2398"
      },
      "source": [
        "CG(S(1)/2, -S(1)/2, S(1)/2, S(1)/2, 0, 0).doit()"
      ],
      "execution_count": null,
      "outputs": [
        {
          "output_type": "execute_result",
          "data": {
            "text/latex": "$\\displaystyle - \\frac{\\sqrt{2}}{2}$",
            "text/plain": [
              "-sqrt(2)/2"
            ]
          },
          "metadata": {},
          "execution_count": 19
        }
      ]
    },
    {
      "cell_type": "markdown",
      "metadata": {
        "id": "FUuRUXPpd728"
      },
      "source": [
        "Figure 2.6 – Defining a Clebsch-Gordan coefficient and evaluating its value\n",
        "\n",
        "\n"
      ]
    },
    {
      "cell_type": "markdown",
      "metadata": {
        "id": "uuz_NWase1Jx"
      },
      "source": [
        "#### Coupling spin and angular momentum"
      ]
    },
    {
      "cell_type": "code",
      "metadata": {
        "colab": {
          "base_uri": "https://localhost:8080/",
          "height": 56
        },
        "id": "pyfQtGy5k9yv",
        "outputId": "0bdc1fc0-25a7-4e1c-fc72-928e0f43889b"
      },
      "source": [
        "CG(1, 0, S(1)/2, S(1)/2, S(1)/2, S(1)/2).doit()"
      ],
      "execution_count": null,
      "outputs": [
        {
          "output_type": "execute_result",
          "data": {
            "text/latex": "$\\displaystyle - \\frac{\\sqrt{3}}{3}$",
            "text/plain": [
              "-sqrt(3)/3"
            ]
          },
          "metadata": {},
          "execution_count": 20
        }
      ]
    },
    {
      "cell_type": "code",
      "metadata": {
        "colab": {
          "base_uri": "https://localhost:8080/",
          "height": 56
        },
        "id": "1Tq-sPstk-WZ",
        "outputId": "ce316ffc-3574-46b0-e394-50426ad161be"
      },
      "source": [
        "CG(1, 1, S(1)/2, -S(1)/2, S(1)/2, S(1)/2).doit()"
      ],
      "execution_count": null,
      "outputs": [
        {
          "output_type": "execute_result",
          "data": {
            "text/latex": "$\\displaystyle \\frac{\\sqrt{6}}{3}$",
            "text/plain": [
              "sqrt(6)/3"
            ]
          },
          "metadata": {},
          "execution_count": 21
        }
      ]
    },
    {
      "cell_type": "code",
      "metadata": {
        "colab": {
          "base_uri": "https://localhost:8080/",
          "height": 37
        },
        "id": "5jksjJQOlVWu",
        "outputId": "4b5400f2-f8b4-4a3f-f9ec-470bf41f5c8a"
      },
      "source": [
        "CG(1, -1, S(1)/2, S(1)/2, S(1)/2, S(1)/2).doit()"
      ],
      "execution_count": null,
      "outputs": [
        {
          "output_type": "execute_result",
          "data": {
            "text/latex": "$\\displaystyle 0$",
            "text/plain": [
              "0"
            ]
          },
          "metadata": {},
          "execution_count": 22
        }
      ]
    },
    {
      "cell_type": "markdown",
      "metadata": {
        "id": "JGvCZTJ9fgSZ"
      },
      "source": [
        "Figure 2.7 – Defining a Clebsch-Gordan coefficient and evaluating its value"
      ]
    },
    {
      "cell_type": "markdown",
      "metadata": {
        "id": "JKE7_vQx1lKz"
      },
      "source": [
        "### Spatial wave functions of different states of the nitrogen atom with 3 $p$ electrons"
      ]
    },
    {
      "cell_type": "markdown",
      "metadata": {
        "id": "KqyTzm3YArbO"
      },
      "source": [
        "#### Spatial wave function of the ground state of the nitrogen atom with 3 $p$ electrons in $L=0, M=0$"
      ]
    },
    {
      "cell_type": "markdown",
      "metadata": {
        "id": "Srd4wHZsfseX"
      },
      "source": [
        "#### Setting-up a dictionary of six configuration tuples"
      ]
    },
    {
      "cell_type": "code",
      "metadata": {
        "id": "AwY2Va4in0Be"
      },
      "source": [
        "T00 = {0: (1,-1, 1,0,  1,-1, 1,1,  0,0), \n",
        "       1: (1,-1, 1,1,  1,0,  1,0,  0,0),\n",
        "       2: (1,0,  1,-1, 1,-1, 1,1,  0,0),\n",
        "       3: (1,0,  1,1,  1,1,  1,-1, 0,0),\n",
        "       4: (1,1,  1,-1, 1,0,  1,0,  0,0),\n",
        "       5: (1,1,  1,0,  1,1,  1,-1, 0,0)}"
      ],
      "execution_count": null,
      "outputs": []
    },
    {
      "cell_type": "markdown",
      "metadata": {
        "id": "UWVs2zmSgsu1"
      },
      "source": [
        "#### Defining a function which computes a product of Clebsch-Gordan coefficients\n"
      ]
    },
    {
      "cell_type": "code",
      "metadata": {
        "id": "f-IrAoeUh4fr"
      },
      "source": [
        "def comp_CG(T, k, display = None):\n",
        "  CGk = CG(*T[k][0:6]) * CG(*T[k][4:10])\n",
        "  if display:\n",
        "    print('CG(', *T[k][0:6], ') = ', CG(*T[k][0:6]).doit())\n",
        "    print('CG(', *T[k][4:10], ') = ', CG(*T[k][4:10]).doit())\n",
        "    print(\"CG{} =\".format(k), 'CG(', *T[k][0:6], ') * CG(', *T[k][4:10], ') = ', CGk.doit())\n",
        "  return CGk"
      ],
      "execution_count": null,
      "outputs": []
    },
    {
      "cell_type": "code",
      "metadata": {
        "colab": {
          "base_uri": "https://localhost:8080/"
        },
        "id": "EA87gRb-iAkn",
        "outputId": "53c886ff-42ce-43d1-d5a4-08adbb90b6df"
      },
      "source": [
        "CG0 = comp_CG(T00, 0, display=True)"
      ],
      "execution_count": null,
      "outputs": [
        {
          "output_type": "stream",
          "name": "stdout",
          "text": [
            "CG( 1 -1 1 0 1 -1 ) =  -sqrt(2)/2\n",
            "CG( 1 -1 1 1 0 0 ) =  sqrt(3)/3\n",
            "CG0 = CG( 1 -1 1 0 1 -1 ) * CG( 1 -1 1 1 0 0 ) =  -sqrt(6)/6\n"
          ]
        }
      ]
    },
    {
      "cell_type": "markdown",
      "metadata": {
        "id": "73dEg5ZEg88Q"
      },
      "source": [
        "#### Computing and printing the Clebsch-Gordan coefficients"
      ]
    },
    {
      "cell_type": "code",
      "metadata": {
        "colab": {
          "base_uri": "https://localhost:8080/"
        },
        "id": "N98BXPVVMsUL",
        "outputId": "18887a09-efab-487f-b889-3c75a821bdd6"
      },
      "source": [
        "for k in range(0, len(T00)):\n",
        "  s = 'CG' + str(k) +' = comp_CG(T00, ' + str(k) + ')'\n",
        "  exec(s)\n",
        "\n",
        "s00 = [\"CG0: {}, CG1: {}, CG2: {}, CG3: {}, CG4: {}, CG5: {}\".\n",
        "     format(CG0.doit(), CG1.doit(), CG2.doit(), CG3.doit(), CG4.doit(), CG5.doit())]\n",
        "\n",
        "print(s00)"
      ],
      "execution_count": null,
      "outputs": [
        {
          "output_type": "stream",
          "name": "stdout",
          "text": [
            "['CG0: -sqrt(6)/6, CG1: sqrt(6)/6, CG2: sqrt(6)/6, CG3: -sqrt(6)/6, CG4: -sqrt(6)/6, CG5: sqrt(6)/6']\n"
          ]
        }
      ]
    },
    {
      "cell_type": "markdown",
      "metadata": {
        "id": "_BuuO8EvKv6Q"
      },
      "source": [
        "#### Defining a set of spatial wave functions"
      ]
    },
    {
      "cell_type": "code",
      "metadata": {
        "id": "GtZkbe9GZiYg"
      },
      "source": [
        "def Y_phase(theta, phi):\n",
        "\n",
        "  Y10a = comb_Y(1, 0, theta, phi)\n",
        "  Y11a = comb_Y(1, 1, theta, phi)\n",
        "  Y1m1a = comb_Y(1, -1, theta, phi)\n",
        "\n",
        "  Y10b = comb_Y(1, 0, theta, phi+1*np.pi/3)\n",
        "  Y11b = comb_Y(1, 1, theta, phi+1*np.pi/3)\n",
        "  Y1m1b = comb_Y(1, -1, theta, phi+1*np.pi/3)\n",
        "\n",
        "  Y10c = comb_Y(1, 0, theta, phi+2*np.pi/3)\n",
        "  Y11c = comb_Y(1, 1, theta, phi+2*np.pi/3)\n",
        "  Y1m1c = comb_Y(1, -1, theta, phi+2*np.pi/3)\n",
        "\n",
        "  return(Y10a, Y11a, Y1m1a, Y10b, Y11b, Y1m1b, Y10c, Y11c, Y1m1c)"
      ],
      "execution_count": null,
      "outputs": []
    },
    {
      "cell_type": "markdown",
      "metadata": {
        "id": "rBYsO-O_e3j2"
      },
      "source": [
        "#### Computing the wave function of the ground state of the nitrogen atom with 3 $p$ electrons $(L=0, M=0)$"
      ]
    },
    {
      "cell_type": "code",
      "metadata": {
        "id": "wely4h0aZpN4"
      },
      "source": [
        "def compute_00_Y(ax_lim, cmap, title,  fig_name):\n",
        "  fig = plt.figure(figsize=plt.figaspect(1.))\n",
        "  (theta, phi, xyz) = setup_grid()\n",
        "  ax = fig.add_subplot(projection='3d')\n",
        "\n",
        "  (Y10a, Y11a, Y1m1a, Y10b, Y11b, Y1m1b, Y10c, Y11c, Y1m1c) = Y_phase(theta, phi)\n",
        "\n",
        "  Y_00 = float(CG0.doit()) * Y1m1a * Y10b * Y11c\n",
        "  Y_01 = float(CG1.doit()) * Y1m1a * Y11b * Y10c\n",
        "  Y_02 = float(CG2.doit()) * Y10a * Y1m1b * Y11c\n",
        "  Y_03 = float(CG3.doit()) * Y10a * Y11b * Y1m1c\n",
        "  Y_04 = float(CG4.doit()) * Y11a * Y1m1b * Y10c\n",
        "  Y_05 = float(CG5.doit()) * Y11a * Y10b * Y1m1c\n",
        "\n",
        "  Y = Y_00 + Y_01 + Y_02 + Y_03 + Y_04 + Y_05\n",
        "  \n",
        "  Yx, Yy, Yz = np.abs(Y) * xyz\n",
        "  colour_plot(ax, Y, Yx, Yy, Yz, cmap)\n",
        "  draw_axes(ax, ax_lim, title)\n",
        "  plt.savefig(fig_name)\n",
        "  plt.show()\n",
        "\n",
        "  return"
      ],
      "execution_count": null,
      "outputs": []
    },
    {
      "cell_type": "markdown",
      "metadata": {
        "id": "Rr2Yl9C2-2mk"
      },
      "source": [
        "#### Displaying the wave function of the ground state of Nitrogen with 3 $p$ electrons $(L=0, M=0)$"
      ]
    },
    {
      "cell_type": "code",
      "metadata": {
        "colab": {
          "base_uri": "https://localhost:8080/",
          "height": 248
        },
        "id": "iH3ZLlm2Dufd",
        "outputId": "711c1108-7486-40de-bee5-e62ddf0b55c0"
      },
      "source": [
        "title = '$L=0,\\ M=0$'\n",
        "fig_name ='Nitrogen_3p_L0_M0.png'\n",
        "compute_00_Y(0.01, 'autumn', title, fig_name)"
      ],
      "execution_count": null,
      "outputs": [
        {
          "output_type": "display_data",
          "data": {
            "image/png": "[encoded data removed]",
            "text/plain": [
              "<Figure size 288x288 with 1 Axes>"
            ]
          },
          "metadata": {
            "needs_background": "light"
          }
        }
      ]
    },
    {
      "cell_type": "markdown",
      "metadata": {
        "id": "5CbzZIRbzOU0"
      },
      "source": [
        "#### Spatial wave function of the excited state of the nitrogen atom with 3 $p$ electrons $(L=1, M=0)$"
      ]
    },
    {
      "cell_type": "markdown",
      "metadata": {
        "id": "BBmgQdWlyqY-"
      },
      "source": [
        "### Setting-up a dictionary of configuration arrays"
      ]
    },
    {
      "cell_type": "markdown",
      "metadata": {
        "id": "r3Q65tvMzOU6"
      },
      "source": [
        "#### Defining a function which computes the Clebsch-Gordan coefficients"
      ]
    },
    {
      "cell_type": "code",
      "metadata": {
        "id": "zJpU6bFoiXzN"
      },
      "source": [
        "T10 = {0: (1,1,  1,0,   2,1,  1,-1, 1,0),\n",
        "       1: (1,0,  1,1,   2,1,  1,-1, 1,0),\n",
        "       2: (1,1,  1,-1,  2,0,  1,0,  1,0),\n",
        "       3: (1,-1, 1,1,   2,0,  1,0,  1,0),\n",
        "       4: (1,1,  1,0,   1,1,  1,-1, 1,0),\n",
        "       5: (1,0,  1,1,   1,1,  1,-1, 1,0),\n",
        "       6: (1,-1, 1,0,   2,-1, 1,1,  1,0),\n",
        "       7: (1,0,  1,-1,  2,-1, 1,1,  1,0),\n",
        "       8: (1,-1, 1,0,   1,-1, 1,1,  1,0),\n",
        "       9: (1,0,  1,-1,  1,-1, 1,1,  1,0),\n",
        "       10:(1,1,  1,-1,  0,0,  1,0,  1,0)}"
      ],
      "execution_count": null,
      "outputs": []
    },
    {
      "cell_type": "markdown",
      "metadata": {
        "id": "ZopngohEzOU6"
      },
      "source": [
        "#### Computing and printing the Clebsch-Gordan coefficients"
      ]
    },
    {
      "cell_type": "code",
      "metadata": {
        "colab": {
          "base_uri": "https://localhost:8080/"
        },
        "id": "D2ba9Hc8zOU7",
        "outputId": "f1e6833f-5332-4e0a-aad0-191b114b15bd"
      },
      "source": [
        "for k in range(0, len(T10)):\n",
        "  s = 'CG' + str(k) +' = comp_CG(T10, ' + str(k) + ')'\n",
        "  exec(s)\n",
        "\n",
        "s10a = [\"CG0: {}, CG1: {}, CG2: {}, CG3: {}, CG4: {}\".\n",
        "     format(CG0.doit(), CG1.doit(), CG2.doit(), CG3.doit(), CG4.doit())]\n",
        "print(s10a)\n",
        "\n",
        "s10b = [\"CG5: {}, CG6: {}, CG7: {}, CG8: {}, CG9: {}, CG10: {}\".\n",
        "     format(CG5.doit(), CG6.doit(), CG7.doit(), CG8.doit(), CG9.doit(), CG10.doit())]\n",
        "print(s10b)"
      ],
      "execution_count": null,
      "outputs": [
        {
          "output_type": "stream",
          "name": "stdout",
          "text": [
            "['CG0: sqrt(15)/10, CG1: sqrt(15)/10, CG2: -sqrt(15)/15, CG3: -sqrt(15)/15, CG4: 1/2']\n",
            "['CG5: -1/2, CG6: sqrt(15)/10, CG7: sqrt(15)/10, CG8: 1/2, CG9: -1/2, CG10: sqrt(3)/3']\n"
          ]
        }
      ]
    },
    {
      "cell_type": "markdown",
      "metadata": {
        "id": "_LArygmEzOU7"
      },
      "source": [
        "#### Computing the wave function of the excited state of the nitrogen atom with 3 $p$ electrons $(L=1, M=0)$"
      ]
    },
    {
      "cell_type": "code",
      "metadata": {
        "id": "9aeJnzscddxv"
      },
      "source": [
        "def compute_10_Y(ax_lim, cmap, title, fig_name):\n",
        "  fig = plt.figure(figsize=plt.figaspect(1.))\n",
        "  (theta, phi, xyz) = setup_grid()\n",
        "  ax = fig.add_subplot(projection='3d')\n",
        "\n",
        "  (Y10a, Y11a, Y1m1a, Y10b, Y11b, Y1m1b, Y10c, Y11c, Y1m1c) = Y_phase(theta, phi)\n",
        "\n",
        "  Y_00 = float(CG0.doit()) * Y11a * Y10b * Y1m1c\n",
        "  Y_01 = float(CG1.doit()) * Y10a * Y11b * Y1m1c\n",
        "  Y_02 = float(CG2.doit()) * Y11a * Y1m1b * Y10c\n",
        "  Y_03 = float(CG3.doit()) * Y1m1a * Y11b * Y10c\n",
        "  Y_04 = float(CG4.doit()) * Y11a * Y10b * Y1m1c\n",
        "  Y_05 = float(CG5.doit()) * Y10a * Y11b * Y1m1c\n",
        "  Y_06 = float(CG6.doit()) * Y1m1a * Y10b * Y11c\n",
        "  Y_07 = float(CG7.doit()) * Y10a * Y1m1b * Y11c\n",
        "  Y_08 = float(CG8.doit()) * Y1m1a * Y10b * Y11c\n",
        "  Y_09 = float(CG9.doit()) * Y10a * Y1m1b * Y11c\n",
        "  Y_10 = float(CG10.doit()) * Y11a * Y1m1b * Y10c\n",
        "\n",
        "  Y = Y_00 + Y_01 + Y_02 + Y_03 + Y_04 + Y_05 + Y_06 + Y_07 + Y_08 + Y_09 + Y_10\n",
        "  \n",
        "  Yx, Yy, Yz = np.abs(Y) * xyz\n",
        "  colour_plot(ax, Y, Yx, Yy, Yz, cmap)\n",
        "  draw_axes(ax, ax_lim, title)\n",
        "  plt.savefig(fig_name)\n",
        "  plt.show()\n",
        "\n",
        "  return"
      ],
      "execution_count": null,
      "outputs": []
    },
    {
      "cell_type": "markdown",
      "metadata": {
        "id": "1rw7H4QszOU7"
      },
      "source": [
        "#### Displaying the wave function of the excited state of the nitrogen atom with 3 $p$ electrons $(L=1, M=0)$\n",
        "\n"
      ]
    },
    {
      "cell_type": "code",
      "metadata": {
        "colab": {
          "base_uri": "https://localhost:8080/",
          "height": 248
        },
        "id": "jWbVNkEOzOU7",
        "outputId": "74d4a84f-5e7b-42e1-e638-22f359e07590"
      },
      "source": [
        "title = '$L=1,\\ M=0$'\n",
        "fig_name ='Nitrogen_3p_L1_M0.png'\n",
        "compute_10_Y(0.030, 'autumn', title, fig_name)"
      ],
      "execution_count": null,
      "outputs": [
        {
          "output_type": "display_data",
          "data": {
            "image/png": "[encoded data removed]",
            "text/plain": [
              "<Figure size 288x288 with 1 Axes>"
            ]
          },
          "metadata": {
            "needs_background": "light"
          }
        }
      ]
    },
    {
      "cell_type": "markdown",
      "metadata": {
        "id": "Z9DHipOg3Aw2"
      },
      "source": [
        "#### Spatial wave function of the excited state of the nitrogen atom with 3 $p$ electrons $(L=2, M=0)$"
      ]
    },
    {
      "cell_type": "markdown",
      "metadata": {
        "id": "RFwNZ0uQyoQg"
      },
      "source": [
        "#### Setting-up a dictionary of configuration arrays"
      ]
    },
    {
      "cell_type": "code",
      "metadata": {
        "id": "ZWAUAuF4ntCl"
      },
      "source": [
        "T20 = {0: (1,1,  1,0,   2,1,  1,-1, 2,0),\n",
        "       1: (1,0,  1,1,   2,1,  1,-1, 2,0),\n",
        "       2: (1,0,  1,-1,  2,-1, 1,1,  2,0),\n",
        "       3: (1,-1, 1,0,   2,-1, 1,1,  2,0),\n",
        "       4: (1,0,  1,1,   1,1,  1,-1, 2,0),\n",
        "       5: (1,1,  1,0,   1,1,  1,-1, 2,0),\n",
        "       6: (1,-1, 1,0,   1,-1, 1,1,  2,0),\n",
        "       7: (1,0,  1,-1,  1,-1, 1,1,  2,0),\n",
        "       8: (1,1,  1,-1,  1,0,  1,0,  2,0),\n",
        "       9: (1,-1, 1,1,   1,0,  1,0,  2,0)}"
      ],
      "execution_count": null,
      "outputs": []
    },
    {
      "cell_type": "markdown",
      "metadata": {
        "id": "FR2xSaq63Aw_"
      },
      "source": [
        "#### Computing and printing the Clebsch-Gordan coefficients"
      ]
    },
    {
      "cell_type": "code",
      "metadata": {
        "colab": {
          "base_uri": "https://localhost:8080/"
        },
        "id": "gWsXjxBb3Aw_",
        "outputId": "a28c009f-ad24-4eec-a333-35fa0aa4980a"
      },
      "source": [
        "for k in range(0, len(T20)):\n",
        "  s = 'CG' + str(k) +' = comp_CG(T20, ' + str(k) + ')'\n",
        "  exec(s)\n",
        "\n",
        "s20 = [\"CG0: {}, CG1: {}, CG2: {}, CG3: {}, CG4: {}, CG5: {}, CG6: {}, CG7: {}, CG8: {}, CG9: {}\".\n",
        "     format(CG0.doit(), CG1.doit(), CG2.doit(), CG3.doit(), CG4.doit(), CG5.doit(), CG6.doit(), CG7.doit(), CG8.doit(), CG9.doit())]\n",
        "print(s20)"
      ],
      "execution_count": null,
      "outputs": [
        {
          "output_type": "stream",
          "name": "stdout",
          "text": [
            "['CG0: 1/2, CG1: 1/2, CG2: -1/2, CG3: -1/2, CG4: -sqrt(3)/6, CG5: sqrt(3)/6, CG6: -sqrt(3)/6, CG7: sqrt(3)/6, CG8: sqrt(3)/3, CG9: -sqrt(3)/3']\n"
          ]
        }
      ]
    },
    {
      "cell_type": "markdown",
      "metadata": {
        "id": "Z7cnkbQI3Aw_"
      },
      "source": [
        "#### Computing the wave function of the excited state of nitrogen with 3 $p$ electrons $(L=2, M=0)$"
      ]
    },
    {
      "cell_type": "code",
      "metadata": {
        "id": "tDHYIdSA3AxA"
      },
      "source": [
        "def compute_20_Y(ax_lim, cmap, title, fig_name):\n",
        "  fig = plt.figure(figsize=plt.figaspect(1.))\n",
        "  (theta, phi, xyz) = setup_grid()\n",
        "  ax = fig.add_subplot(projection='3d')\n",
        "\n",
        "  (Y10a, Y11a, Y1m1a, Y10b, Y11b, Y1m1b, Y10c, Y11c, Y1m1c) = Y_phase(theta, phi)\n",
        "\n",
        "  Y_00 = float(CG0.doit()) * Y11a * Y10b * Y1m1c\n",
        "  Y_01 = float(CG1.doit()) * Y10a * Y11b * Y1m1c\n",
        "  Y_02 = float(CG2.doit()) * Y10a * Y1m1b * Y11c\n",
        "  Y_03 = float(CG3.doit()) * Y1m1a * Y10b * Y11c\n",
        "  Y_04 = float(CG4.doit()) * Y10a * Y11b * Y1m1c\n",
        "  Y_05 = float(CG5.doit()) * Y11a * Y10b * Y1m1c\n",
        "  Y_06 = float(CG6.doit()) * Y1m1a * Y10b * Y11c\n",
        "  Y_07 = float(CG7.doit()) * Y10a * Y1m1b * Y11c\n",
        "  Y_08 = float(CG8.doit()) * Y11a * Y1m1b * Y10c\n",
        "  Y_09 = float(CG9.doit()) * Y1m1a * Y11b * Y10c\n",
        "\n",
        "  Y = Y_00 + Y_01 + Y_02 + Y_03 + Y_04 + Y_05 + Y_06 + Y_07 + Y_08 + Y_09\n",
        "  \n",
        "  Yx, Yy, Yz = np.abs(Y) * xyz\n",
        "  colour_plot(ax, Y, Yx, Yy, Yz, cmap)\n",
        "  draw_axes(ax, ax_lim, title)\n",
        "  plt.savefig(fig_name)\n",
        "  plt.show()\n",
        "  \n",
        "  return"
      ],
      "execution_count": null,
      "outputs": []
    },
    {
      "cell_type": "markdown",
      "metadata": {
        "id": "tPREqyeM3AxA"
      },
      "source": [
        "#### Displaying the wave function of the excited state of the nitrogen atom with 3 $p$ electrons $(L=2, M=0)$\n",
        "\n"
      ]
    },
    {
      "cell_type": "code",
      "metadata": {
        "colab": {
          "base_uri": "https://localhost:8080/",
          "height": 248
        },
        "id": "RhY5F4pW3AxA",
        "outputId": "c2d784d4-4e35-4a8e-a8d8-951ac98979cf"
      },
      "source": [
        "title = '$L=2,\\ M=0$'\n",
        "fig_name ='Nitrogen_3p_L2_M0.png'\n",
        "compute_20_Y(0.04, 'autumn', title, fig_name)"
      ],
      "execution_count": null,
      "outputs": [
        {
          "output_type": "display_data",
          "data": {
            "image/png": "[encoded data removed]",
            "text/plain": [
              "<Figure size 288x288 with 1 Axes>"
            ]
          },
          "metadata": {
            "needs_background": "light"
          }
        }
      ]
    },
    {
      "cell_type": "markdown",
      "metadata": {
        "id": "uHrz3P8i4e4j"
      },
      "source": [
        "#### Spatial wave function of the excited state of the nitrogen atom with 3 $p$ electrons $(L=3, M=0)$"
      ]
    },
    {
      "cell_type": "markdown",
      "metadata": {
        "id": "mHx39RiIyksC"
      },
      "source": [
        "#### Setting-up a dictionary of configuration arrays"
      ]
    },
    {
      "cell_type": "code",
      "metadata": {
        "id": "Y672bRTYcrVs"
      },
      "source": [
        "T30 = {0: (1,1,  1,-1, 2,0,  1,0,  3,0),\n",
        "       1: (1,0,  1,-1, 2,-1, 1,1,  3,0),\n",
        "       2: (1,0,  1,1,  2,1,  1,-1, 3,0),\n",
        "       3: (1,-1, 1,1,  2,0,  1,0,  3,0),\n",
        "       4: (1,-1, 1,0,  2,-1, 1,1,  3,0),\n",
        "       5: (1,1,  1,0,  2,1,  1,-1, 3,0)}"
      ],
      "execution_count": null,
      "outputs": []
    },
    {
      "cell_type": "markdown",
      "metadata": {
        "id": "sOhAihzdg3Fa"
      },
      "source": [
        "### Computing and printing the Clebsch-Gordan coefficients"
      ]
    },
    {
      "cell_type": "code",
      "metadata": {
        "colab": {
          "base_uri": "https://localhost:8080/"
        },
        "id": "uLAZez_WeqRv",
        "outputId": "e97d5488-406f-4f71-d413-8abcb5f4f094"
      },
      "source": [
        "for k in range(0, len(T30)):\n",
        "  s = 'CG' + str(k) +' = comp_CG(T30, ' + str(k) + ')'\n",
        "  exec(s)\n",
        "\n",
        "s30 = [\"CG0: {}, CG1: {}, CG2: {}, CG3: {}, CG4: {}, CG5: {}\".\n",
        "     format(CG0.doit(), CG1.doit(), CG2.doit(), CG3.doit(), CG4.doit(), CG5.doit())]\n",
        "print(s30)"
      ],
      "execution_count": null,
      "outputs": [
        {
          "output_type": "stream",
          "name": "stdout",
          "text": [
            "['CG0: sqrt(10)/10, CG1: sqrt(10)/10, CG2: sqrt(10)/10, CG3: sqrt(10)/10, CG4: sqrt(10)/10, CG5: sqrt(10)/10']\n"
          ]
        }
      ]
    },
    {
      "cell_type": "markdown",
      "metadata": {
        "id": "zX7lYt0PNsqD"
      },
      "source": [
        "#### Computing the wave function of the excited state of the nitrogen atom with 3 $p$ electrons $(L=3, M=0)$"
      ]
    },
    {
      "cell_type": "code",
      "metadata": {
        "id": "g6QcRL9LrB6p"
      },
      "source": [
        "def compute_30_Y(ax_lim, cmap, title, fig_name):\n",
        "  fig = plt.figure(figsize=plt.figaspect(1.))\n",
        "  (theta, phi, xyz) = setup_grid()\n",
        "  ax = fig.add_subplot(projection='3d')\n",
        "\n",
        "  (Y10a, Y11a, Y1m1a, Y10b, Y11b, Y1m1b, Y10c, Y11c, Y1m1c) = Y_phase(theta, phi)\n",
        "\n",
        "  Y_00 = float(CG0.doit()) * Y11a * Y1m1b * Y10c\n",
        "  Y_01 = float(CG1.doit()) * Y10a * Y1m1b * Y11c\n",
        "  Y_02 = float(CG2.doit()) * Y10a * Y11b * Y1m1c\n",
        "  Y_03 = float(CG3.doit()) * Y1m1a * Y11b * Y10c\n",
        "  Y_04 = float(CG4.doit()) * Y1m1a * Y10b * Y11c\n",
        "  Y_05 = float(CG5.doit()) * Y11a * Y10b * Y1m1c\n",
        "\n",
        "  Y = Y_00 + Y_01 + Y_02 + Y_03 + Y_04 + Y_05\n",
        "  \n",
        "  Yx, Yy, Yz = np.abs(Y) * xyz\n",
        "  colour_plot(ax, Y, Yx, Yy, Yz, cmap)\n",
        "  draw_axes(ax, ax_lim, title)\n",
        "  plt.savefig(fig_name)\n",
        "  plt.show()\n",
        "  \n",
        "  return"
      ],
      "execution_count": null,
      "outputs": []
    },
    {
      "cell_type": "markdown",
      "metadata": {
        "id": "71Wm2FQ44e4k"
      },
      "source": [
        "#### Displaying the wave function of the excited state of the nitrogen atom with 3 $p$ electrons $(L=3, M=0)$\n",
        "\n"
      ]
    },
    {
      "cell_type": "code",
      "metadata": {
        "colab": {
          "base_uri": "https://localhost:8080/",
          "height": 248
        },
        "id": "k0kPJooSBcAL",
        "outputId": "0cc0adf2-2bcf-4142-8550-4daef33f3444"
      },
      "source": [
        "title = '$L=3,\\ M=0$'\n",
        "fig_name ='Nitrogen_3p_L3_M0.png'\n",
        "compute_30_Y(0.02, 'autumn', title, fig_name)"
      ],
      "execution_count": null,
      "outputs": [
        {
          "output_type": "display_data",
          "data": {
            "image/png": "[encoded data removed]",
            "text/plain": [
              "<Figure size 288x288 with 1 Axes>"
            ]
          },
          "metadata": {
            "needs_background": "light"
          }
        }
      ]
    },
    {
      "cell_type": "markdown",
      "metadata": {
        "id": "HYj3Vn0eA3Wh"
      },
      "source": [
        "#### Spatial wave function of the excited state of the nitrogen atom with 3 $p$ electrons $(L=1, M=1)$\n"
      ]
    },
    {
      "cell_type": "markdown",
      "metadata": {
        "id": "EuAcsQQNA3Wh"
      },
      "source": [
        "#### Setting-up a dictionary of configuration arrays"
      ]
    },
    {
      "cell_type": "code",
      "metadata": {
        "id": "QQ54rCQAA3Wh"
      },
      "source": [
        "T11 = {0: (1,1,  1,1,   2,2,  1,-1, 1,1),\n",
        "       1: (1,1,  1,0,   2,1,  1,0,  1,1),\n",
        "       2: (1,0,  1,0,   2,0,  1,1,  1,1),\n",
        "       3: (1,1,  1,-1,  2,0,  1,1,  1,1),\n",
        "       4: (1,-1, 1,1,   2,0,  1,1,  1,1),\n",
        "       5: (1,0,  1,1,   2,1,  1,0,  1,1),\n",
        "       6: (1,0,  1,1,   1,1,  1,0,  1,1),\n",
        "       7: (1,1,  1,0,   1,1,  1,0,  1,1)}"
      ],
      "execution_count": null,
      "outputs": []
    },
    {
      "cell_type": "markdown",
      "metadata": {
        "id": "NJ4Rew1mA3Wh"
      },
      "source": [
        "#### Computing and printing the Clebsch-Gordan coefficients"
      ]
    },
    {
      "cell_type": "code",
      "metadata": {
        "colab": {
          "base_uri": "https://localhost:8080/"
        },
        "id": "9ebFuxBFA3Wi",
        "outputId": "61152e56-ea69-48cc-cd9f-a940cafc2fb3"
      },
      "source": [
        "for k in range(0, len(T11)):\n",
        "  s = 'CG' + str(k) +' = comp_CG(T11, ' + str(k) + ')'\n",
        "  exec(s)\n",
        "\n",
        "s11 = [\"CG0: {}, CG1: {}, CG2: {}, CG3: {}, CG4: {}, CG5: {}, CG6: {}, CG7: {}\".\n",
        "     format(CG0.doit(), CG1.doit(), CG2.doit(), CG3.doit(), CG4.doit(), CG5.doit(), CG6.doit(), CG7.doit())]\n",
        "print(s11)"
      ],
      "execution_count": null,
      "outputs": [
        {
          "output_type": "stream",
          "name": "stdout",
          "text": [
            "['CG0: sqrt(15)/5, CG1: -sqrt(15)/10, CG2: sqrt(15)/15, CG3: sqrt(15)/30, CG4: sqrt(15)/30, CG5: -sqrt(15)/10, CG6: -1/2, CG7: 1/2']\n"
          ]
        }
      ]
    },
    {
      "cell_type": "markdown",
      "metadata": {
        "id": "FhQsZw2bA3Wi"
      },
      "source": [
        "#### Computing the wave function of the excited state of the nitrogen atom with 3 $p$ electrons $(L=1, M=1)$"
      ]
    },
    {
      "cell_type": "code",
      "metadata": {
        "id": "MNWonm9pA3Wi"
      },
      "source": [
        "def compute_11_Y(ax_lim, cmap, title, fig_name):\n",
        "  fig = plt.figure(figsize=plt.figaspect(1.))\n",
        "  (theta, phi, xyz) = setup_grid()\n",
        "  ax = fig.add_subplot(projection='3d')\n",
        "\n",
        "  (Y10a, Y11a, Y1m1a, Y10b, Y11b, Y1m1b, Y10c, Y11c, Y1m1c) = Y_phase(theta, phi)\n",
        "\n",
        "  Y_00 = float(CG0.doit()) * Y11a * Y11b * Y11c\n",
        "  Y_01 = float(CG1.doit()) * Y10a * Y10b * Y11c\n",
        "  Y_02 = float(CG2.doit()) * Y11a * Y10b * Y10c\n",
        "  Y_03 = float(CG3.doit()) * Y11a * Y1m1b * Y11c\n",
        "  Y_04 = float(CG4.doit()) * Y1m1a * Y11b * Y11c\n",
        "  Y_05 = float(CG5.doit()) * Y10a * Y11b * Y10c\n",
        "  Y_06 = float(CG6.doit()) * Y10a * Y11b * Y10c\n",
        "  Y_07 = float(CG7.doit()) * Y11a * Y10b * Y10c\n",
        "\n",
        "  Y = Y_00 + Y_01 + Y_02 + Y_03 + Y_04 + Y_05 + Y_06 + Y_07\n",
        "  \n",
        "  Yx, Yy, Yz = np.abs(Y) * xyz\n",
        "  colour_plot(ax, Y, Yx, Yy, Yz, cmap)\n",
        "  draw_axes(ax, ax_lim, title)\n",
        "  plt.savefig(fig_name)\n",
        "  plt.show()\n",
        "  \n",
        "  return"
      ],
      "execution_count": null,
      "outputs": []
    },
    {
      "cell_type": "markdown",
      "metadata": {
        "id": "6RqQzoTiA3Wi"
      },
      "source": [
        "#### Displaying the wave function of the excited state of the nitrogen atom with 3 $p$ electrons $(L=1, M=1)$\n",
        "\n"
      ]
    },
    {
      "cell_type": "code",
      "metadata": {
        "colab": {
          "base_uri": "https://localhost:8080/",
          "height": 248
        },
        "id": "-F9nosACA3Wi",
        "outputId": "81fcee0a-728a-4ec7-c680-4f555d2de1bd"
      },
      "source": [
        "title = '$L=1,\\ M=1$'\n",
        "fig_name ='Nitrogen_3p_L1_M1.png'\n",
        "compute_11_Y(0.035, 'autumn', title, fig_name)"
      ],
      "execution_count": null,
      "outputs": [
        {
          "output_type": "display_data",
          "data": {
            "image/png": "[encoded data removed]",
            "text/plain": [
              "<Figure size 288x288 with 1 Axes>"
            ]
          },
          "metadata": {
            "needs_background": "light"
          }
        }
      ]
    },
    {
      "cell_type": "markdown",
      "metadata": {
        "id": "zVCJuqpoeQyp"
      },
      "source": [
        "#### Spatial wave function of the excited state of nitrogen with 3 $p$ electrons $(L=2, M=1)$"
      ]
    },
    {
      "cell_type": "markdown",
      "metadata": {
        "id": "Xrp-GsbaeQyv"
      },
      "source": [
        "#### Setting-up a dictionary of configuration arrays"
      ]
    },
    {
      "cell_type": "code",
      "metadata": {
        "id": "bUMfPZqUefzF"
      },
      "source": [
        "T21 = {0: (1,1,  1,-1,  1,0,  1,1,  2,1),\n",
        "       1: (1,-1, 1,1,   1,0,  1,1,  2,1),\n",
        "       2: (1,1,  1,0,   1,1,  1,0,  2,1),\n",
        "       3: (1,0,  1,1,   1,1,  1,0,  2,1),\n",
        "       4: (1,1,  1,1,   2,2,  1,-1, 2,1),\n",
        "       5: (1,1,  1,-1,  2,0,  1,1,  2,1),\n",
        "       6: (1,-1, 1,1,   2,0,  1,1,  2,1),\n",
        "       7: (1,1,  1,0,   2,1,  1,0,  2,1),\n",
        "       8: (1,0,  1,1,   2,1,  1,0,  2,1)}"
      ],
      "execution_count": null,
      "outputs": []
    },
    {
      "cell_type": "markdown",
      "metadata": {
        "id": "abh5hTmjeQyv"
      },
      "source": [
        "###\" Computing and printing the Clebsch-Gordan coefficients"
      ]
    },
    {
      "cell_type": "code",
      "metadata": {
        "colab": {
          "base_uri": "https://localhost:8080/"
        },
        "id": "MmDyXc_geQyv",
        "outputId": "08c38665-019b-4e54-e8d4-426883350848"
      },
      "source": [
        "for k in range(0, len(T21)):\n",
        "  s = 'CG' + str(k) +' = comp_CG(T21, ' + str(k) + ')'\n",
        "  exec(s)\n",
        "\n",
        "s21 = [\"CG0: {}, CG1: {}, CG2: {}, CG3: {}, CG4: {}, CG5: {}, CG6: {}, CG7: {}, CG8: {}\".\n",
        "     format(CG0.doit(), CG1.doit(), CG2.doit(), CG3.doit(), CG4.doit(), CG5.doit(), CG6.doit(), CG7.doit(), CG8.doit())]\n",
        "print(s21)"
      ],
      "execution_count": null,
      "outputs": [
        {
          "output_type": "stream",
          "name": "stdout",
          "text": [
            "['CG0: 1/2, CG1: -1/2, CG2: 1/2, CG3: -1/2, CG4: sqrt(3)/3, CG5: -sqrt(3)/6, CG6: -sqrt(3)/6, CG7: sqrt(3)/6, CG8: sqrt(3)/6']\n"
          ]
        }
      ]
    },
    {
      "cell_type": "markdown",
      "metadata": {
        "id": "4imt3-bDf866"
      },
      "source": [
        "#### Computing the wave function of the excited state of the nitrogen atom with 3 $p$ electrons $(L=2, M=1)$"
      ]
    },
    {
      "cell_type": "code",
      "metadata": {
        "id": "IsLUQrEKfsGD"
      },
      "source": [
        "def compute_21_Y(ax_lim, cmap, title, fig_name):\n",
        "  fig = plt.figure(figsize=plt.figaspect(1.))\n",
        "  (theta, phi, xyz) = setup_grid()\n",
        "  ax = fig.add_subplot(projection='3d')\n",
        "\n",
        "  (Y10a, Y11a, Y1m1a, Y10b, Y11b, Y1m1b, Y10c, Y11c, Y1m1c) = Y_phase(theta, phi)\n",
        "\n",
        "  Y_00 = float(CG0.doit()) * Y11a * Y1m1b * Y11c\n",
        "  Y_01 = float(CG1.doit()) * Y1m1a * Y11b * Y11c\n",
        "  Y_02 = float(CG2.doit()) * Y11a * Y10b * Y10c\n",
        "  Y_03 = float(CG3.doit()) * Y10a * Y11b * Y10c\n",
        "  Y_04 = float(CG4.doit()) * Y11a * Y11b * Y1m1c\n",
        "  Y_05 = float(CG5.doit()) * Y11a * Y1m1b * Y11c\n",
        "  Y_06 = float(CG6.doit()) * Y1m1a * Y11b * Y11c\n",
        "  Y_07 = float(CG7.doit()) * Y11a * Y10b * Y10c\n",
        "  Y_08 = float(CG8.doit()) * Y10a * Y11b * Y10c\n",
        "\n",
        "  Y = Y_00 + Y_01 + Y_02 + Y_03 + Y_04 + Y_05 + Y_06 + Y_07 + Y_08\n",
        "  \n",
        "  Yx, Yy, Yz = np.abs(Y) * xyz\n",
        "  colour_plot(ax, Y, Yx, Yy, Yz, cmap)\n",
        "  draw_axes(ax, ax_lim, title)\n",
        "  plt.savefig(fig_name)\n",
        "  plt.show()\n",
        "  \n",
        "  return"
      ],
      "execution_count": null,
      "outputs": []
    },
    {
      "cell_type": "markdown",
      "metadata": {
        "id": "T7Kv_Te-eQyw"
      },
      "source": [
        "#### Displaying the wave function of the excited state of the nitrogen atom with 3 $p$ electrons $(L=2, M=1)$\n",
        "\n"
      ]
    },
    {
      "cell_type": "code",
      "metadata": {
        "colab": {
          "base_uri": "https://localhost:8080/",
          "height": 265
        },
        "id": "SEYGIXoCeQyw",
        "outputId": "fee089cb-a436-49d0-8bfd-808dfe0b9c34"
      },
      "source": [
        "print(\"We assume that at least one electron has been excited to a different energy level.\")\n",
        "title = '$L=2,\\ M=1$'\n",
        "fig_name ='Nitrogen_3p_L2_M1.png'\n",
        "compute_21_Y(0.035, 'autumn', title, fig_name)"
      ],
      "execution_count": null,
      "outputs": [
        {
          "output_type": "stream",
          "name": "stdout",
          "text": [
            "We assume that at least one electron has been excited to a different energy level.\n"
          ]
        },
        {
          "output_type": "display_data",
          "data": {
            "image/png": "[encoded data removed]",
            "text/plain": [
              "<Figure size 288x288 with 1 Axes>"
            ]
          },
          "metadata": {
            "needs_background": "light"
          }
        }
      ]
    },
    {
      "cell_type": "markdown",
      "metadata": {
        "id": "22zXc6WKvcx3"
      },
      "source": [
        "## Spatial wave function of the excited state of the nitrogen atom with 3 $p$ electrons $(L=3, M=1)$"
      ]
    },
    {
      "cell_type": "markdown",
      "metadata": {
        "id": "MbejOaFKGBXl"
      },
      "source": [
        "#### Setting-up a dictionary of configuration arrays"
      ]
    },
    {
      "cell_type": "code",
      "metadata": {
        "id": "g5cxq3oWvcx-"
      },
      "source": [
        "T31 = {0: (1,1,  1,0,   2,1,  1,0,  3,1),\n",
        "       1: (1,0,  1,1,   2,1,  1,0,  3,1),\n",
        "       2: (1,1,  1,-1,  2,0,  1,1,  3,1),\n",
        "       3: (1,-1, 1,1,   2,0,  1,1,  3,1),\n",
        "       4: (1,1,  1,1,   2,2,  1,-1, 3,1)}"
      ],
      "execution_count": null,
      "outputs": []
    },
    {
      "cell_type": "markdown",
      "metadata": {
        "id": "uZVxxCRsvcx-"
      },
      "source": [
        "#### Computing and printing the Clebsch-Gordan coefficients"
      ]
    },
    {
      "cell_type": "code",
      "metadata": {
        "colab": {
          "base_uri": "https://localhost:8080/"
        },
        "id": "TYuV5hNQvcx_",
        "outputId": "94898637-299e-44c0-dfb9-6fefcdaac687"
      },
      "source": [
        "for k in range(0, len(T31)):\n",
        "  s = 'CG' + str(k) +' = comp_CG(T31, ' + str(k) + ')'\n",
        "  exec(s)\n",
        "\n",
        "s31 = [\"CG0: {}, CG1: {}, CG2: {}, CG3: {}, CG4: {}\".\n",
        "     format(CG0.doit(), CG1.doit(), CG2.doit(), CG3.doit(), CG4.doit())]\n",
        "print(s31)"
      ],
      "execution_count": null,
      "outputs": [
        {
          "output_type": "stream",
          "name": "stdout",
          "text": [
            "['CG0: 2*sqrt(15)/15, CG1: 2*sqrt(15)/15, CG2: sqrt(15)/15, CG3: sqrt(15)/15, CG4: sqrt(15)/15']\n"
          ]
        }
      ]
    },
    {
      "cell_type": "markdown",
      "metadata": {
        "id": "ffld2Z47vcx_"
      },
      "source": [
        "#### Defining a function which computes the wave function of states of the nitrogen with 3 $p$ electrons"
      ]
    },
    {
      "cell_type": "code",
      "metadata": {
        "id": "a_7JF0VRRIbW"
      },
      "source": [
        "def compute_31_Y(ax_lim, cmap, title, fig_name):\n",
        "  fig = plt.figure(figsize=plt.figaspect(1.))\n",
        "  (theta, phi, xyz) = setup_grid()\n",
        "  ax = fig.add_subplot(projection='3d')\n",
        "\n",
        "  (Y10a, Y11a, Y1m1a, Y10b, Y11b, Y1m1b, Y10c, Y11c, Y1m1c) = Y_phase(theta, phi)\n",
        "\n",
        "  Y_00 = float(CG0.doit()) * Y11a * Y10b * Y10c\n",
        "  Y_01 = float(CG1.doit()) * Y10a * Y11b * Y10c\n",
        "  Y_02 = float(CG2.doit()) * Y11a * Y1m1b * Y11c\n",
        "  Y_03 = float(CG3.doit()) * Y1m1a * Y11b * Y11c\n",
        "  Y_04 = float(CG4.doit()) * Y11a * Y11b * Y1m1c\n",
        "\n",
        "  Y = Y_00 + Y_01 + Y_02 + Y_03 + Y_04\n",
        "  \n",
        "  Yx, Yy, Yz = np.abs(Y) * xyz\n",
        "  colour_plot(ax, Y, Yx, Yy, Yz, cmap)\n",
        "  draw_axes(ax, ax_lim, title)\n",
        "  plt.savefig(fig_name)\n",
        "  plt.show()\n",
        "  \n",
        "  return"
      ],
      "execution_count": null,
      "outputs": []
    },
    {
      "cell_type": "markdown",
      "metadata": {
        "id": "Xz-JI-Nfvcx_"
      },
      "source": [
        "#### Displaying the wave function of the excited state of the nitrogen atom with 3 $p$ electrons $(L=3, M=1)$\n",
        "\n"
      ]
    },
    {
      "cell_type": "code",
      "metadata": {
        "colab": {
          "base_uri": "https://localhost:8080/",
          "height": 248
        },
        "id": "Qr8Ixdpuvcx_",
        "outputId": "7b60639f-ebbc-4319-86a3-cfb20a077c80"
      },
      "source": [
        "title = '$L=3,\\ M=1$'\n",
        "fig_name ='Nitrogen_3p_L3_M1.png'\n",
        "compute_31_Y(0.03, 'autumn', title, fig_name)"
      ],
      "execution_count": null,
      "outputs": [
        {
          "output_type": "display_data",
          "data": {
            "image/png": "[encoded data removed]",
            "text/plain": [
              "<Figure size 288x288 with 1 Axes>"
            ]
          },
          "metadata": {
            "needs_background": "light"
          }
        }
      ]
    },
    {
      "cell_type": "markdown",
      "metadata": {
        "id": "6psS7OXWnNLA"
      },
      "source": [
        "#### Spatial wave function of the excited state of the nitrogen atom with 3 $p$ electrons $(L=2, M=2)$"
      ]
    },
    {
      "cell_type": "markdown",
      "metadata": {
        "id": "nI-jccd5GGHH"
      },
      "source": [
        "#### Setting-up a dictionary of configuration arrays"
      ]
    },
    {
      "cell_type": "code",
      "metadata": {
        "id": "5BjTxQnOnNLL"
      },
      "source": [
        "T22 = {0: (1,1,  1,1,   2,2,  1,0,  2,2),\n",
        "       1: (1,1,  1,0,   1,1,  1,1,  2,2),\n",
        "       2: (1,0,  1,1,   1,1,  1,1,  2,2),\n",
        "       3: (1,1,  1,0,   2,1,  1,1,  2,2),\n",
        "       4: (1,0,  1,1,   2,1,  1,1,  2,2)}"
      ],
      "execution_count": null,
      "outputs": []
    },
    {
      "cell_type": "markdown",
      "metadata": {
        "id": "XWTHF0JInNLL"
      },
      "source": [
        "#### Computing and printing the Clebsch-Gordan coefficients"
      ]
    },
    {
      "cell_type": "code",
      "metadata": {
        "colab": {
          "base_uri": "https://localhost:8080/"
        },
        "id": "g7d6yPU6nNLM",
        "outputId": "0ef43daf-49b6-485f-970c-4212f9ac06ce"
      },
      "source": [
        "for k in range(0, len(T22)):\n",
        "  s = 'CG' + str(k) +' = comp_CG(T22, ' + str(k) + ')'\n",
        "  exec(s)\n",
        "\n",
        "s22 = [\"CG0: {}, CG1: {}, CG2: {}, CG3: {}, CG4: {}\".\n",
        "     format(CG0.doit(), CG1.doit(), CG2.doit(), CG3.doit(), CG4.doit())]\n",
        "print(s22)"
      ],
      "execution_count": null,
      "outputs": [
        {
          "output_type": "stream",
          "name": "stdout",
          "text": [
            "['CG0: sqrt(6)/3, CG1: sqrt(2)/2, CG2: -sqrt(2)/2, CG3: -sqrt(6)/6, CG4: -sqrt(6)/6']\n"
          ]
        }
      ]
    },
    {
      "cell_type": "markdown",
      "metadata": {
        "id": "j93nfcPsnNLM"
      },
      "source": [
        "#### Defining a function which computes the wave function of states of the nitrogen atom with 3 $p$ electrons"
      ]
    },
    {
      "cell_type": "code",
      "metadata": {
        "id": "kZm9PFzTnNLM"
      },
      "source": [
        "def compute_22_Y(ax_lim, cmap, title, fig_name):\n",
        "  fig = plt.figure(figsize=plt.figaspect(1.))\n",
        "  (theta, phi, xyz) = setup_grid()\n",
        "  ax = fig.add_subplot(projection='3d')\n",
        "\n",
        "  (Y10a, Y11a, Y1m1a, Y10b, Y11b, Y1m1b, Y10c, Y11c, Y1m1c) = Y_phase(theta, phi)\n",
        "\n",
        "  Y_00 = float(CG0.doit()) * Y11a * Y11b * Y10c\n",
        "  Y_01 = float(CG1.doit()) * Y11a * Y10b * Y11c\n",
        "  Y_02 = float(CG2.doit()) * Y10a * Y11b * Y11c\n",
        "  Y_03 = float(CG3.doit()) * Y11a * Y10b * Y11c\n",
        "  Y_04 = float(CG4.doit()) * Y10a * Y11b * Y11c\n",
        "\n",
        "  Y = Y_00 + Y_01 + Y_02 + Y_03 + Y_04\n",
        "  \n",
        "  Yx, Yy, Yz = np.abs(Y) * xyz\n",
        "  colour_plot(ax, Y, Yx, Yy, Yz, cmap)\n",
        "  draw_axes(ax, ax_lim, title)\n",
        "  plt.savefig(fig_name)\n",
        "  plt.show()\n",
        "  \n",
        "  return"
      ],
      "execution_count": null,
      "outputs": []
    },
    {
      "cell_type": "markdown",
      "metadata": {
        "id": "XfrrT7NtnNLM"
      },
      "source": [
        "#### Displaying the wave function of the excited state of the nitrogen atom with 3 $p$ electrons $(L=2, M=2)$\n",
        "\n"
      ]
    },
    {
      "cell_type": "code",
      "metadata": {
        "colab": {
          "base_uri": "https://localhost:8080/",
          "height": 248
        },
        "id": "10Ut6gpLnNLN",
        "outputId": "6475fbcb-1e9c-4256-db0c-948dd0cf62e4"
      },
      "source": [
        "title = '$L=2,\\ M=2$'\n",
        "fig_name ='Nitrogen_3p_L2_M2.png'\n",
        "compute_22_Y(0.025, 'autumn', title, fig_name)"
      ],
      "execution_count": null,
      "outputs": [
        {
          "output_type": "display_data",
          "data": {
            "image/png": "[encoded data removed]",
            "text/plain": [
              "<Figure size 288x288 with 1 Axes>"
            ]
          },
          "metadata": {
            "needs_background": "light"
          }
        }
      ]
    },
    {
      "cell_type": "markdown",
      "metadata": {
        "id": "LiOgSLu4xegn"
      },
      "source": [
        "#### Spatial wave function of the excited state of nitrogen with 3 $p$ electrons $(L=3, M=2)$"
      ]
    },
    {
      "cell_type": "markdown",
      "metadata": {
        "id": "rkJzZpEFGJMq"
      },
      "source": [
        "#### Setting-up a dictionary of configuration arrays"
      ]
    },
    {
      "cell_type": "code",
      "metadata": {
        "id": "JkBOU-Orxegv"
      },
      "source": [
        "T32 = {0: (1,1,  1,0,   2,1,  1,1,  3,2),\n",
        "       1: (1,0,  1,1,   2,1,  1,1,  3,2),\n",
        "       2: (1,1,  1,1,   2,2,  1,0,  3,2)}"
      ],
      "execution_count": null,
      "outputs": []
    },
    {
      "cell_type": "markdown",
      "metadata": {
        "id": "zLcfdfSwxegw"
      },
      "source": [
        "#### Computing and printing the Clebsch-Gordan coefficients"
      ]
    },
    {
      "cell_type": "code",
      "metadata": {
        "colab": {
          "base_uri": "https://localhost:8080/"
        },
        "id": "UvVpjJI6xegw",
        "outputId": "1b6cd23d-2252-41f9-8caf-5bec14956823"
      },
      "source": [
        "for k in range(0, len(T32)):\n",
        "  s = 'CG' + str(k) +' = comp_CG(T32, ' + str(k) + ')'\n",
        "  exec(s)\n",
        "\n",
        "s32 = [\"CG0: {}, CG1: {}, CG2: {}\".\n",
        "     format(CG0.doit(), CG1.doit(), CG2.doit())]\n",
        "print(s32)"
      ],
      "execution_count": null,
      "outputs": [
        {
          "output_type": "stream",
          "name": "stdout",
          "text": [
            "['CG0: sqrt(3)/3, CG1: sqrt(3)/3, CG2: sqrt(3)/3']\n"
          ]
        }
      ]
    },
    {
      "cell_type": "markdown",
      "metadata": {
        "id": "uBLm1zu1xegw"
      },
      "source": [
        "#### Defining a function which computes the wave function of states of the nitrogen atom with 3 $p$ electrons"
      ]
    },
    {
      "cell_type": "code",
      "metadata": {
        "id": "DR_CflwQxegx"
      },
      "source": [
        "def compute_32_Y(ax_lim, cmap, title, fig_name):\n",
        "  fig = plt.figure(figsize=plt.figaspect(1.))\n",
        "  (theta, phi, xyz) = setup_grid()\n",
        "  ax = fig.add_subplot(projection='3d')\n",
        "\n",
        "  (Y10a, Y11a, Y1m1a, Y10b, Y11b, Y1m1b, Y10c, Y11c, Y1m1c) = Y_phase(theta, phi)\n",
        "\n",
        "  Y_00 = float(CG0.doit()) * Y11a * Y10b * Y11c\n",
        "  Y_01 = float(CG1.doit()) * Y10a * Y11b * Y11c\n",
        "  Y_02 = float(CG2.doit()) * Y11a * Y11b * Y10c\n",
        "\n",
        "  Y = Y_00 + Y_01 + Y_02\n",
        "  \n",
        "  Yx, Yy, Yz = np.abs(Y) * xyz\n",
        "  colour_plot(ax, Y, Yx, Yy, Yz, cmap)\n",
        "  draw_axes(ax, ax_lim, title)\n",
        "  plt.savefig(fig_name)\n",
        "  plt.show()\n",
        "  \n",
        "  return"
      ],
      "execution_count": null,
      "outputs": []
    },
    {
      "cell_type": "markdown",
      "metadata": {
        "id": "PsqMGtsjxegx"
      },
      "source": [
        "#### Displaying the wave function of the excited state of the nitrogen atom with 3 $p$ electrons $(L=3, M=2)$\n",
        "\n"
      ]
    },
    {
      "cell_type": "code",
      "metadata": {
        "colab": {
          "base_uri": "https://localhost:8080/",
          "height": 248
        },
        "id": "WdPgKfUGxegx",
        "outputId": "953ce6f7-e335-41ec-ed28-055db6c5ff29"
      },
      "source": [
        "title = '$L=3,\\ M=2$'\n",
        "fig_name ='Nitrogen_3p_L3_M2.png'\n",
        "compute_32_Y(0.02, 'autumn', title, fig_name)"
      ],
      "execution_count": null,
      "outputs": [
        {
          "output_type": "display_data",
          "data": {
            "image/png": "[encoded data removed]",
            "text/plain": [
              "<Figure size 288x288 with 1 Axes>"
            ]
          },
          "metadata": {
            "needs_background": "light"
          }
        }
      ]
    },
    {
      "cell_type": "markdown",
      "metadata": {
        "id": "u-QSEC8EsEMb"
      },
      "source": [
        "#### Displaying the spatial wave function of the excited state of the nitrogen atom with 3 $p$ electrons $(L=3, M=3)$"
      ]
    },
    {
      "cell_type": "markdown",
      "metadata": {
        "id": "4SkHYK8pGMuD"
      },
      "source": [
        "#### Setting-up a dictionary of configuration arrays"
      ]
    },
    {
      "cell_type": "code",
      "metadata": {
        "id": "MaeiLU7HsEMl"
      },
      "source": [
        "T33 = {0: (1,1,  1,1,   2,2,  1,1,  3,3)}"
      ],
      "execution_count": null,
      "outputs": []
    },
    {
      "cell_type": "markdown",
      "metadata": {
        "id": "_oJj6sh0sEMl"
      },
      "source": [
        "#### Computing and printing the Clebsch-Gordan coefficients"
      ]
    },
    {
      "cell_type": "code",
      "metadata": {
        "colab": {
          "base_uri": "https://localhost:8080/"
        },
        "id": "NFRqdA7ksEMl",
        "outputId": "32f1e37f-2224-4825-d6fd-d85b6cac49b8"
      },
      "source": [
        "CG0 = comp_CG(T33, 0)\n",
        "\n",
        "s33 = [\"CG0: {}\".format(CG0.doit())]\n",
        "print(s33)"
      ],
      "execution_count": null,
      "outputs": [
        {
          "output_type": "stream",
          "name": "stdout",
          "text": [
            "['CG0: 1']\n"
          ]
        }
      ]
    },
    {
      "cell_type": "markdown",
      "metadata": {
        "id": "nLj-raZ0sEMm"
      },
      "source": [
        "#### Defining a function which computes the wave function of states of the nitrogen atom with 3 $p$ electrons"
      ]
    },
    {
      "cell_type": "code",
      "metadata": {
        "id": "bAczpCHBsEMm"
      },
      "source": [
        "def compute_33_Y(ax_lim, cmap, title, fig_name):\n",
        "  fig = plt.figure(figsize=plt.figaspect(1.))\n",
        "  (theta, phi, xyz) = setup_grid()\n",
        "  ax = fig.add_subplot(projection='3d')\n",
        "\n",
        "  (Y10a, Y11a, Y1m1a, Y10b, Y11b, Y1m1b, Y10c, Y11c, Y1m1c) = Y_phase(theta, phi)\n",
        "\n",
        "  Y_00 = float(CG0.doit()) * Y11a * Y11b * Y11c\n",
        "\n",
        "  Y = Y_00\n",
        "  \n",
        "  Yx, Yy, Yz = np.abs(Y) * xyz\n",
        "  colour_plot(ax, Y, Yx, Yy, Yz, cmap)\n",
        "  draw_axes(ax, ax_lim, title)\n",
        "  plt.savefig(fig_name)\n",
        "  plt.show()\n",
        "  \n",
        "  return"
      ],
      "execution_count": null,
      "outputs": []
    },
    {
      "cell_type": "markdown",
      "metadata": {
        "id": "20p-_uS8sEMm"
      },
      "source": [
        "#### Displaying the wave function of the excited state of the nitrogen atom with 3 $p$ electrons $(L=3, M=3)$\n",
        "\n"
      ]
    },
    {
      "cell_type": "code",
      "metadata": {
        "colab": {
          "base_uri": "https://localhost:8080/",
          "height": 248
        },
        "id": "nofoKfWqsEMm",
        "outputId": "2ceea3cc-63af-40fa-ab0f-4f4187e24f35"
      },
      "source": [
        "title = '$L=3,\\ M=3$'\n",
        "fig_name ='Nitrogen_3p_L3_M3.png'\n",
        "compute_33_Y(0.02, 'autumn', title, fig_name)"
      ],
      "execution_count": null,
      "outputs": [
        {
          "output_type": "display_data",
          "data": {
            "image/png": "[encoded data removed]",
            "text/plain": [
              "<Figure size 288x288 with 1 Axes>"
            ]
          },
          "metadata": {
            "needs_background": "light"
          }
        }
      ]
    },
    {
      "cell_type": "markdown",
      "metadata": {
        "id": "U5aczIrk0qkX"
      },
      "source": [
        "## 2.1.3. General formulation of the Pauli exclusion principle"
      ]
    },
    {
      "cell_type": "code",
      "metadata": {
        "id": "ohzhk1kRIxDI"
      },
      "source": [
        "def frame(mu):\n",
        "  a = 0\n",
        "  b = 0\n",
        "  f = {}\n",
        "  for k, v in mu.items():\n",
        "    for c in range(v):\n",
        "      f[a] = list(range(b+1, b+k+1))\n",
        "      a += 1\n",
        "      b += k\n",
        "  return f"
      ],
      "execution_count": null,
      "outputs": []
    },
    {
      "cell_type": "code",
      "metadata": {
        "colab": {
          "base_uri": "https://localhost:8080/"
        },
        "id": "BEioNMIvWqMl",
        "outputId": "ed9c92b0-a1b2-46a1-8c92-cda1f01d28dd"
      },
      "source": [
        "print(\"F_21_10 =\", frame({2: 1, 1:0}))"
      ],
      "execution_count": null,
      "outputs": [
        {
          "output_type": "stream",
          "name": "stdout",
          "text": [
            "F_21_10 = {0: [1, 2]}\n"
          ]
        }
      ]
    },
    {
      "cell_type": "code",
      "metadata": {
        "colab": {
          "base_uri": "https://localhost:8080/"
        },
        "id": "UX2kylOS9AmX",
        "outputId": "7e303b60-f582-47c2-fc7d-f9343d48022e"
      },
      "source": [
        "print(\"F_21_11 =\", frame({2: 1, 1:1}))"
      ],
      "execution_count": null,
      "outputs": [
        {
          "output_type": "stream",
          "name": "stdout",
          "text": [
            "F_21_11 = {0: [1, 2], 1: [3]}\n"
          ]
        }
      ]
    },
    {
      "cell_type": "markdown",
      "metadata": {
        "id": "6MXrLUnDbvnh"
      },
      "source": [
        "# 2.2. Postulate 2 – Probability amplitude\n"
      ]
    },
    {
      "cell_type": "markdown",
      "metadata": {
        "id": "HS5gvuVaQ8J9"
      },
      "source": [
        "## 2.2.1. Computing the radial wavefunctions"
      ]
    },
    {
      "cell_type": "code",
      "metadata": {
        "id": "SFf_pClDCZVE"
      },
      "source": [
        "a0 = 5.29177210903e-11"
      ],
      "execution_count": null,
      "outputs": []
    },
    {
      "cell_type": "code",
      "metadata": {
        "id": "TSxQWNhZQ7kS"
      },
      "source": [
        "def comp_ak(n):\n",
        "  n = max(n,1)\n",
        "  # Create a dictionary with integer keys, starting with a0\n",
        "  dict = {0: a0}\n",
        "  for l in range (n-1):\n",
        "    for k in range(n-l-1):\n",
        "      ak = dict.get(k)\n",
        "      #display(\"l: {}, k: {}, ak: {}\".format(l, k, ak))\n",
        "      dict[k+1] = ak*(k+l+1-n)/((k+1)*(k+2*l+2))\n",
        "  return dict"
      ],
      "execution_count": null,
      "outputs": []
    },
    {
      "cell_type": "code",
      "metadata": {
        "colab": {
          "base_uri": "https://localhost:8080/"
        },
        "id": "4uE_fCmP75BS",
        "outputId": "4c898a28-383e-47fc-ee0d-98e0412a790e"
      },
      "source": [
        "d = comp_ak(10)\n",
        "for k, v in d.items():\n",
        "  print(\"{}, {}\".format(k,v))"
      ],
      "execution_count": null,
      "outputs": [
        {
          "output_type": "stream",
          "name": "stdout",
          "text": [
            "0, 5.29177210903e-11\n",
            "1, -2.9398733939055554e-12\n",
            "2, 1.9455044518492647e-13\n",
            "3, -1.5749321753065475e-14\n",
            "4, 1.615315051596459e-15\n",
            "5, -2.2027023430860805e-16\n",
            "6, 4.2830323337784895e-17\n",
            "7, -1.3257004842647707e-17\n",
            "8, 7.954202905588625e-18\n",
            "9, -1.458270532691248e-17\n"
          ]
        }
      ]
    },
    {
      "cell_type": "code",
      "metadata": {
        "id": "UYe8Xt4dFW0s"
      },
      "source": [
        "from sympy.physics.hydrogen import R_nl\n",
        "from sympy.abc import r, Z"
      ],
      "execution_count": null,
      "outputs": []
    },
    {
      "cell_type": "code",
      "metadata": {
        "colab": {
          "base_uri": "https://localhost:8080/",
          "height": 40
        },
        "id": "Macsz0FGFUsa",
        "outputId": "c4722e94-d112-46a0-fce7-09eb5c7de327"
      },
      "source": [
        "R_nl(1, 0, r, Z)"
      ],
      "execution_count": null,
      "outputs": [
        {
          "output_type": "execute_result",
          "data": {
            "text/latex": "$\\displaystyle 2 \\sqrt{Z^{3}} e^{- Z r}$",
            "text/plain": [
              "2*sqrt(Z**3)*exp(-Z*r)"
            ]
          },
          "metadata": {},
          "execution_count": 73
        }
      ]
    },
    {
      "cell_type": "code",
      "metadata": {
        "colab": {
          "base_uri": "https://localhost:8080/",
          "height": 57
        },
        "id": "kg9sTUd_Fmku",
        "outputId": "c7a5a219-5342-4d69-9306-e988d7116744"
      },
      "source": [
        "R_nl(2, 0, r, Z)"
      ],
      "execution_count": null,
      "outputs": [
        {
          "output_type": "execute_result",
          "data": {
            "text/latex": "$\\displaystyle \\frac{\\sqrt{2} \\left(- Z r + 2\\right) \\sqrt{Z^{3}} e^{- \\frac{Z r}{2}}}{4}$",
            "text/plain": [
              "sqrt(2)*(-Z*r + 2)*sqrt(Z**3)*exp(-Z*r/2)/4"
            ]
          },
          "metadata": {},
          "execution_count": 74
        }
      ]
    },
    {
      "cell_type": "code",
      "metadata": {
        "colab": {
          "base_uri": "https://localhost:8080/",
          "height": 57
        },
        "id": "VcekeoePGicn",
        "outputId": "52513a70-7ad9-4a8a-d989-379614c6adca"
      },
      "source": [
        "R_nl(2, 1, r, Z)"
      ],
      "execution_count": null,
      "outputs": [
        {
          "output_type": "execute_result",
          "data": {
            "text/latex": "$\\displaystyle \\frac{\\sqrt{6} Z r \\sqrt{Z^{3}} e^{- \\frac{Z r}{2}}}{12}$",
            "text/plain": [
              "sqrt(6)*Z*r*sqrt(Z**3)*exp(-Z*r/2)/12"
            ]
          },
          "metadata": {},
          "execution_count": 75
        }
      ]
    },
    {
      "cell_type": "markdown",
      "metadata": {
        "id": "kNnb8f58Vutw"
      },
      "source": [
        "## 2.2.2. Probability amplitude for a hydrogen anion $(H^-)$"
      ]
    },
    {
      "cell_type": "code",
      "metadata": {
        "colab": {
          "base_uri": "https://localhost:8080/",
          "height": 51
        },
        "id": "iIXDBFLAVmPe",
        "outputId": "e0bfbbd8-a130-4022-a84f-6a8af1b2e33c"
      },
      "source": [
        "from sympy import symbols, integrate, exp, oo\n",
        "x = symbols('x')\n",
        "integrate(x**2 *exp(-2*x),(x,0,oo))"
      ],
      "execution_count": null,
      "outputs": [
        {
          "output_type": "execute_result",
          "data": {
            "text/latex": "$\\displaystyle \\frac{1}{4}$",
            "text/plain": [
              "1/4"
            ]
          },
          "metadata": {},
          "execution_count": 76
        }
      ]
    },
    {
      "cell_type": "code",
      "source": [
        "from sympy import symbols, sin, pi\n",
        "x = symbols('x')\n",
        "integrate(sin(x),(x,0,pi))"
      ],
      "metadata": {
        "colab": {
          "base_uri": "https://localhost:8080/",
          "height": 37
        },
        "id": "fZ7SuXfv16xN",
        "outputId": "cfad687b-db7c-4a24-a382-00148638479e"
      },
      "execution_count": null,
      "outputs": [
        {
          "output_type": "execute_result",
          "data": {
            "text/latex": "$\\displaystyle 2$",
            "text/plain": [
              "2"
            ]
          },
          "metadata": {},
          "execution_count": 90
        }
      ]
    },
    {
      "cell_type": "code",
      "metadata": {
        "colab": {
          "base_uri": "https://localhost:8080/",
          "height": 38
        },
        "id": "W7yXSmjTXnqr",
        "outputId": "78a836db-2578-448c-e5bb-08b40efa174e"
      },
      "source": [
        "integrate(1,(x,0,2*pi))"
      ],
      "execution_count": null,
      "outputs": [
        {
          "output_type": "execute_result",
          "data": {
            "text/latex": "$\\displaystyle 2 \\pi$",
            "text/plain": [
              "2*pi"
            ]
          },
          "metadata": {},
          "execution_count": 91
        }
      ]
    },
    {
      "cell_type": "markdown",
      "metadata": {
        "id": "puBiJfXmNHou"
      },
      "source": [
        "# 2.3. Postulate 3 – Measurable quantities and operators"
      ]
    },
    {
      "cell_type": "markdown",
      "metadata": {
        "id": "sHO2R73hc0cH"
      },
      "source": [
        "## 2.3.1. Hermitian operator\n",
        "\n",
        "## 2.3.2. Unitary operator\n",
        "\n",
        "## 2.3.3. Density matrix and mixed quantum states\n",
        "\n",
        "## 2.3.4. Position operation\n",
        "\n",
        "## 2.3.5. Momentum operation"
      ]
    },
    {
      "cell_type": "code",
      "metadata": {
        "colab": {
          "base_uri": "https://localhost:8080/",
          "height": 37
        },
        "id": "HMu15mu8kNEW",
        "outputId": "4ba7cb03-0edb-465e-8c6a-c546c01314d8"
      },
      "source": [
        "from sympy import symbols, sin, cos\n",
        "x = symbols('x')\n",
        "integrate(cos(x)*sin(x),(x,0,pi))"
      ],
      "execution_count": null,
      "outputs": [
        {
          "output_type": "execute_result",
          "data": {
            "text/latex": "$\\displaystyle 0$",
            "text/plain": [
              "0"
            ]
          },
          "metadata": {},
          "execution_count": 79
        }
      ]
    },
    {
      "cell_type": "markdown",
      "metadata": {
        "id": "dXnjCPsPj9Iq"
      },
      "source": [
        "## 2.3.6. Kinetic Energy operation"
      ]
    },
    {
      "cell_type": "markdown",
      "metadata": {
        "id": "-W-xuFR3lT_O"
      },
      "source": [
        "## 2.3.7. Potential Energy operation "
      ]
    },
    {
      "cell_type": "code",
      "metadata": {
        "colab": {
          "base_uri": "https://localhost:8080/",
          "height": 51
        },
        "id": "oJFOeCcmHX8k",
        "outputId": "3ded6579-c835-4801-bd16-647cdba2b51c"
      },
      "source": [
        "from sympy import symbols, integrate, exp, DiracDelta, oo\n",
        "x, y = symbols('x y')\n",
        "integrate(x**2 * exp(-2*x) * integrate(y**2 * exp(-2*y)*DiracDelta(x - y),(y,0,oo)),(x,0,oo))"
      ],
      "execution_count": null,
      "outputs": [
        {
          "output_type": "execute_result",
          "data": {
            "text/latex": "$\\displaystyle \\frac{3}{128}$",
            "text/plain": [
              "3/128"
            ]
          },
          "metadata": {},
          "execution_count": 80
        }
      ]
    },
    {
      "cell_type": "code",
      "metadata": {
        "colab": {
          "base_uri": "https://localhost:8080/",
          "height": 51
        },
        "id": "mkdaDfTK1O_K",
        "outputId": "7513575b-e6db-4989-9c55-cecceb9336c8"
      },
      "source": [
        "from sympy import symbols, integrate, exp, DiracDelta, oo\n",
        "x, y = symbols('x y')\n",
        "integrate(x**2 * exp(-2*x) * integrate(DiracDelta(x - y),(y,0,oo)),(x,0,oo))"
      ],
      "execution_count": null,
      "outputs": [
        {
          "output_type": "execute_result",
          "data": {
            "text/latex": "$\\displaystyle \\frac{1}{4}$",
            "text/plain": [
              "1/4"
            ]
          },
          "metadata": {},
          "execution_count": 81
        }
      ]
    },
    {
      "cell_type": "markdown",
      "metadata": {
        "id": "qLL6l6mU0my9"
      },
      "source": [
        "## 2.3.8. Total Energy operation"
      ]
    },
    {
      "cell_type": "markdown",
      "metadata": {
        "id": "vHV4NDfnamjJ"
      },
      "source": [
        "# 2.4. Postulate 4 – Time independent stationary states"
      ]
    },
    {
      "cell_type": "markdown",
      "metadata": {
        "id": "7aCWXSYTdxeI"
      },
      "source": [
        "# 2.5. Postulate 5 – Time evolution dynamics\n",
        "## Schrödinger’s equation\n"
      ]
    }
  ]
}